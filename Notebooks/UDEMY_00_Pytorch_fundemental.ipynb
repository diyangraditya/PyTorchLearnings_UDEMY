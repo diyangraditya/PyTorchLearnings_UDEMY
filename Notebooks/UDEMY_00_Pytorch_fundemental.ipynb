{
 "nbformat": 4,
 "nbformat_minor": 0,
 "metadata": {
  "colab": {
   "provenance": [],
   "gpuType": "T4"
  },
  "kernelspec": {
   "name": "python3",
   "display_name": "Python 3 (ipykernel)",
   "language": "python"
  },
  "language_info": {
   "name": "python"
  },
  "accelerator": "GPU"
 },
 "cells": [
  {
   "cell_type": "code",
   "metadata": {
    "id": "2gM6HLb0MyVk",
    "ExecuteTime": {
     "end_time": "2024-10-16T14:27:37.403980Z",
     "start_time": "2024-10-16T14:27:35.675938Z"
    }
   },
   "source": [
    "import pandas as pd\n",
    "import numpy as np\n"
   ],
   "outputs": [],
   "execution_count": 1
  },
  {
   "cell_type": "code",
   "source": [
    "!nvidia-smi"
   ],
   "metadata": {
    "colab": {
     "base_uri": "https://localhost:8080/"
    },
    "id": "mWSNZF5-NyBq",
    "outputId": "1798ebbc-0156-4ded-cc0b-fca1c1d3ed59",
    "ExecuteTime": {
     "end_time": "2024-10-16T14:27:44.201681Z",
     "start_time": "2024-10-16T14:27:44.065908Z"
    }
   },
   "outputs": [
    {
     "name": "stdout",
     "output_type": "stream",
     "text": [
      "Wed Oct 16 21:27:44 2024       \n",
      "+-----------------------------------------------------------------------------------------+\n",
      "| NVIDIA-SMI 560.94                 Driver Version: 560.94         CUDA Version: 12.6     |\n",
      "|-----------------------------------------+------------------------+----------------------+\n",
      "| GPU  Name                  Driver-Model | Bus-Id          Disp.A | Volatile Uncorr. ECC |\n",
      "| Fan  Temp   Perf          Pwr:Usage/Cap |           Memory-Usage | GPU-Util  Compute M. |\n",
      "|                                         |                        |               MIG M. |\n",
      "|=========================================+========================+======================|\n",
      "|   0  NVIDIA GeForce RTX 3050 ...  WDDM  |   00000000:01:00.0 Off |                  N/A |\n",
      "| N/A   51C    P8              8W /   40W |      12MiB /   4096MiB |      0%      Default |\n",
      "|                                         |                        |                  N/A |\n",
      "+-----------------------------------------+------------------------+----------------------+\n",
      "                                                                                         \n",
      "+-----------------------------------------------------------------------------------------+\n",
      "| Processes:                                                                              |\n",
      "|  GPU   GI   CI        PID   Type   Process name                              GPU Memory |\n",
      "|        ID   ID                                                               Usage      |\n",
      "|=========================================================================================|\n",
      "|    0   N/A  N/A     13032    C+G   ...aSpell 2024.1.1\\bin\\dataspell64.exe      N/A      |\n",
      "+-----------------------------------------------------------------------------------------+\n"
     ]
    }
   ],
   "execution_count": 3
  },
  {
   "cell_type": "code",
   "source": [
    "import torch\n",
    "print(torch.__version__)"
   ],
   "metadata": {
    "colab": {
     "base_uri": "https://localhost:8080/"
    },
    "id": "3znAqNsbWvds",
    "outputId": "409f8375-e380-471c-d6ee-1f52ef54691c",
    "ExecuteTime": {
     "end_time": "2024-10-16T14:27:42.279116Z",
     "start_time": "2024-10-16T14:27:37.405042Z"
    }
   },
   "outputs": [
    {
     "name": "stdout",
     "output_type": "stream",
     "text": [
      "2.4.1+cu124\n"
     ]
    }
   ],
   "execution_count": 2
  },
  {
   "cell_type": "markdown",
   "source": [
    "## Types of tensor"
   ],
   "metadata": {
    "id": "3H6iCZtqQTBx"
   }
  },
  {
   "cell_type": "code",
   "source": [
    "# 1) scalar\n",
    "scalar = torch.tensor(7)\n",
    "scalar"
   ],
   "metadata": {
    "colab": {
     "base_uri": "https://localhost:8080/"
    },
    "id": "rGh00Wb4PzIP",
    "outputId": "29400136-2dc6-49b1-b977-7d0c069cd9c9"
   },
   "execution_count": null,
   "outputs": [
    {
     "output_type": "execute_result",
     "data": {
      "text/plain": [
       "tensor(7)"
      ]
     },
     "metadata": {},
     "execution_count": 4
    }
   ]
  },
  {
   "cell_type": "code",
   "source": [
    "# find out the dimension\n",
    "scalar.ndim"
   ],
   "metadata": {
    "colab": {
     "base_uri": "https://localhost:8080/"
    },
    "id": "LzF-YgBdP3dk",
    "outputId": "8f5481f8-bf99-46cc-d0b1-c6a7cfbeb6e0"
   },
   "execution_count": null,
   "outputs": [
    {
     "output_type": "execute_result",
     "data": {
      "text/plain": [
       "0"
      ]
     },
     "metadata": {},
     "execution_count": 5
    }
   ]
  },
  {
   "cell_type": "code",
   "source": [
    "# get tensor back as python int\n",
    "scalar.item()"
   ],
   "metadata": {
    "colab": {
     "base_uri": "https://localhost:8080/"
    },
    "id": "beH-Glz7P_Zj",
    "outputId": "0be55dcd-82a6-434f-ea1c-8756c46a1674"
   },
   "execution_count": null,
   "outputs": [
    {
     "output_type": "execute_result",
     "data": {
      "text/plain": [
       "7"
      ]
     },
     "metadata": {},
     "execution_count": 6
    }
   ]
  },
  {
   "cell_type": "code",
   "source": [
    "# 2) vector\n",
    "vector = torch.tensor([7, 7])\n",
    "vector"
   ],
   "metadata": {
    "colab": {
     "base_uri": "https://localhost:8080/"
    },
    "id": "1YWsy5axQJME",
    "outputId": "07d925ce-d06c-48a3-fd08-eea28029b45e"
   },
   "execution_count": null,
   "outputs": [
    {
     "output_type": "execute_result",
     "data": {
      "text/plain": [
       "tensor([7, 7])"
      ]
     },
     "metadata": {},
     "execution_count": 7
    }
   ]
  },
  {
   "cell_type": "code",
   "source": [
    "vector.ndim"
   ],
   "metadata": {
    "colab": {
     "base_uri": "https://localhost:8080/"
    },
    "id": "4fj3MvjOU9ZB",
    "outputId": "8f0a72d1-1dc4-4e42-e939-00178ecc0685"
   },
   "execution_count": null,
   "outputs": [
    {
     "output_type": "execute_result",
     "data": {
      "text/plain": [
       "1"
      ]
     },
     "metadata": {},
     "execution_count": 8
    }
   ]
  },
  {
   "cell_type": "code",
   "source": [
    "vector.shape"
   ],
   "metadata": {
    "colab": {
     "base_uri": "https://localhost:8080/"
    },
    "id": "m2m6KrwyVKEh",
    "outputId": "c7ebc907-7c56-48e2-f815-15801059b39e"
   },
   "execution_count": null,
   "outputs": [
    {
     "output_type": "execute_result",
     "data": {
      "text/plain": [
       "torch.Size([2])"
      ]
     },
     "metadata": {},
     "execution_count": 9
    }
   ]
  },
  {
   "cell_type": "code",
   "source": [
    "# MATRIX\n",
    "MATRIX = torch.tensor([[7, 8], [9, 6]])\n",
    "MATRIX"
   ],
   "metadata": {
    "colab": {
     "base_uri": "https://localhost:8080/"
    },
    "id": "kjjtgAEgVMjQ",
    "outputId": "f49fc2be-3898-4342-9f01-782fa20de81a"
   },
   "execution_count": null,
   "outputs": [
    {
     "output_type": "execute_result",
     "data": {
      "text/plain": [
       "tensor([[7, 8],\n",
       "        [9, 6]])"
      ]
     },
     "metadata": {},
     "execution_count": 10
    }
   ]
  },
  {
   "cell_type": "code",
   "source": [
    "MATRIX.ndim"
   ],
   "metadata": {
    "colab": {
     "base_uri": "https://localhost:8080/"
    },
    "id": "qxHArRWlVUn_",
    "outputId": "9528b636-d721-4b00-c906-37f32f634b7a"
   },
   "execution_count": null,
   "outputs": [
    {
     "output_type": "execute_result",
     "data": {
      "text/plain": [
       "2"
      ]
     },
     "metadata": {},
     "execution_count": 11
    }
   ]
  },
  {
   "cell_type": "code",
   "source": [
    "MATRIX[1]"
   ],
   "metadata": {
    "colab": {
     "base_uri": "https://localhost:8080/"
    },
    "id": "sAzVfHl-VYno",
    "outputId": "75cdce96-dfa9-4294-f4a1-6b9f33d79847"
   },
   "execution_count": null,
   "outputs": [
    {
     "output_type": "execute_result",
     "data": {
      "text/plain": [
       "tensor([9, 6])"
      ]
     },
     "metadata": {},
     "execution_count": 12
    }
   ]
  },
  {
   "cell_type": "code",
   "source": [
    "MATRIX.shape"
   ],
   "metadata": {
    "colab": {
     "base_uri": "https://localhost:8080/"
    },
    "id": "wsuS_luOVWiz",
    "outputId": "caf58991-c02b-4cd8-f59e-390abcc2ff81"
   },
   "execution_count": null,
   "outputs": [
    {
     "output_type": "execute_result",
     "data": {
      "text/plain": [
       "torch.Size([2, 2])"
      ]
     },
     "metadata": {},
     "execution_count": 13
    }
   ]
  },
  {
   "cell_type": "code",
   "source": [
    "# TENSOR\n",
    "TENSOR = torch.tensor([[[30, 222, 3020, 7], [47778, 53333, 6010101, 0], [700000000, 22222222228, 1212121229, 4]]])\n",
    "TENSOR"
   ],
   "metadata": {
    "colab": {
     "base_uri": "https://localhost:8080/"
    },
    "id": "qr5WRmIQVb5T",
    "outputId": "4fc93af7-f8a1-437c-8b7f-40ca6c2f410e"
   },
   "execution_count": null,
   "outputs": [
    {
     "output_type": "execute_result",
     "data": {
      "text/plain": [
       "tensor([[[         30,         222,        3020,           7],\n",
       "         [      47778,       53333,     6010101,           0],\n",
       "         [  700000000, 22222222228,  1212121229,           4]]])"
      ]
     },
     "metadata": {},
     "execution_count": 14
    }
   ]
  },
  {
   "cell_type": "code",
   "source": [
    "TENSOR.ndim"
   ],
   "metadata": {
    "colab": {
     "base_uri": "https://localhost:8080/"
    },
    "id": "eJudXFptVvcx",
    "outputId": "59519dd7-394c-42cf-bba3-1081416a23b2"
   },
   "execution_count": null,
   "outputs": [
    {
     "output_type": "execute_result",
     "data": {
      "text/plain": [
       "3"
      ]
     },
     "metadata": {},
     "execution_count": 15
    }
   ]
  },
  {
   "cell_type": "code",
   "source": [
    "TENSOR.shape"
   ],
   "metadata": {
    "colab": {
     "base_uri": "https://localhost:8080/"
    },
    "id": "L9oHtyViV2ec",
    "outputId": "60497cca-f0ca-48d6-c447-b559d5bcccfe"
   },
   "execution_count": null,
   "outputs": [
    {
     "output_type": "execute_result",
     "data": {
      "text/plain": [
       "torch.Size([1, 3, 4])"
      ]
     },
     "metadata": {},
     "execution_count": 16
    }
   ]
  },
  {
   "cell_type": "markdown",
   "source": [
    "### Random tensors\n",
    "\n",
    "Why random tensors\n",
    "\n",
    "Random tensors are important because the way many neural networks learn is that they start with tensors full of random numbers and then adjust those random numbers to better represent the data\n",
    "\n",
    "`Start with random numbers -> look at data -> update random numbers -> look at data -> update random numbers`"
   ],
   "metadata": {
    "id": "xv1WcnAifS3q"
   }
  },
  {
   "cell_type": "code",
   "source": [
    "# create of random tensor of size (3, 4)\n",
    "random_tensor = torch.rand(3, 4)\n",
    "random_tensor\n"
   ],
   "metadata": {
    "colab": {
     "base_uri": "https://localhost:8080/"
    },
    "id": "5UuNMltBfdHw",
    "outputId": "d8602ab3-ebfb-4477-a24c-17e9e4d4a399"
   },
   "execution_count": null,
   "outputs": [
    {
     "output_type": "execute_result",
     "data": {
      "text/plain": [
       "tensor([[0.7216, 0.5188, 0.7951, 0.6610],\n",
       "        [0.1248, 0.5590, 0.1652, 0.3410],\n",
       "        [0.9834, 0.8095, 0.0741, 0.6101]])"
      ]
     },
     "metadata": {},
     "execution_count": 17
    }
   ]
  },
  {
   "cell_type": "code",
   "source": [
    "random_tensor.ndim"
   ],
   "metadata": {
    "colab": {
     "base_uri": "https://localhost:8080/"
    },
    "id": "utjXf8mwgaPb",
    "outputId": "f8f42f0f-261c-47e6-a02e-2c8644e7bfed"
   },
   "execution_count": null,
   "outputs": [
    {
     "output_type": "execute_result",
     "data": {
      "text/plain": [
       "2"
      ]
     },
     "metadata": {},
     "execution_count": 18
    }
   ]
  },
  {
   "cell_type": "code",
   "source": [
    "# create a random tensor with similar shape to an image tensor\n",
    "rand_image_size_tensor = torch.rand(size=(3, 224, 224)) #height, width, colour channel\n",
    "rand_image_size_tensor.shape, rand_image_size_tensor.ndim"
   ],
   "metadata": {
    "colab": {
     "base_uri": "https://localhost:8080/"
    },
    "id": "NKG1mplVgaJG",
    "outputId": "ea65830f-721d-4b54-e2c1-536acdb96014"
   },
   "execution_count": null,
   "outputs": [
    {
     "output_type": "execute_result",
     "data": {
      "text/plain": [
       "(torch.Size([3, 224, 224]), 3)"
      ]
     },
     "metadata": {},
     "execution_count": 19
    }
   ]
  },
  {
   "cell_type": "code",
   "source": [
    "torch.rand(3, 3)"
   ],
   "metadata": {
    "colab": {
     "base_uri": "https://localhost:8080/"
    },
    "id": "pw14qSY5hUv_",
    "outputId": "cb5465e3-b339-45dc-bca6-46dcc6970dec"
   },
   "execution_count": null,
   "outputs": [
    {
     "output_type": "execute_result",
     "data": {
      "text/plain": [
       "tensor([[0.8355, 0.8015, 0.4410],\n",
       "        [0.9710, 0.9591, 0.9633],\n",
       "        [0.9261, 0.1334, 0.6468]])"
      ]
     },
     "metadata": {},
     "execution_count": 20
    }
   ]
  },
  {
   "cell_type": "code",
   "source": [
    "# create tensor of all zeros\n",
    "zero = torch.zeros(3, 4)\n",
    "zero"
   ],
   "metadata": {
    "colab": {
     "base_uri": "https://localhost:8080/"
    },
    "id": "5G36QVTDgZ_M",
    "outputId": "a38ab6d4-4734-45d1-dc8e-8a92f2a03542"
   },
   "execution_count": null,
   "outputs": [
    {
     "output_type": "execute_result",
     "data": {
      "text/plain": [
       "tensor([[0., 0., 0., 0.],\n",
       "        [0., 0., 0., 0.],\n",
       "        [0., 0., 0., 0.]])"
      ]
     },
     "metadata": {},
     "execution_count": 21
    }
   ]
  },
  {
   "cell_type": "code",
   "source": [
    "ones = torch.ones(3, 4)\n",
    "ones"
   ],
   "metadata": {
    "colab": {
     "base_uri": "https://localhost:8080/"
    },
    "id": "NtUaA9H6gZ3r",
    "outputId": "cdb6536c-c46a-4e5e-b699-7f723860d39d"
   },
   "execution_count": null,
   "outputs": [
    {
     "output_type": "execute_result",
     "data": {
      "text/plain": [
       "tensor([[1., 1., 1., 1.],\n",
       "        [1., 1., 1., 1.],\n",
       "        [1., 1., 1., 1.]])"
      ]
     },
     "metadata": {},
     "execution_count": 22
    }
   ]
  },
  {
   "cell_type": "code",
   "source": [
    "ones.dtype"
   ],
   "metadata": {
    "colab": {
     "base_uri": "https://localhost:8080/"
    },
    "id": "-jvqXfr1jfrS",
    "outputId": "10eb410b-a911-4725-a473-f4e86d89cac4"
   },
   "execution_count": null,
   "outputs": [
    {
     "output_type": "execute_result",
     "data": {
      "text/plain": [
       "torch.float32"
      ]
     },
     "metadata": {},
     "execution_count": 23
    }
   ]
  },
  {
   "cell_type": "code",
   "source": [
    "ones.ndim"
   ],
   "metadata": {
    "colab": {
     "base_uri": "https://localhost:8080/"
    },
    "id": "0EAtjXLAjoEe",
    "outputId": "e5f82e4c-4428-401c-e9bd-36f744765d8b"
   },
   "execution_count": null,
   "outputs": [
    {
     "output_type": "execute_result",
     "data": {
      "text/plain": [
       "2"
      ]
     },
     "metadata": {},
     "execution_count": 24
    }
   ]
  },
  {
   "cell_type": "code",
   "source": [
    "ones.shape"
   ],
   "metadata": {
    "colab": {
     "base_uri": "https://localhost:8080/"
    },
    "id": "iEIZvaNPkNBf",
    "outputId": "f64ebabb-c4d5-4c89-fd3b-3ef872fe6257"
   },
   "execution_count": null,
   "outputs": [
    {
     "output_type": "execute_result",
     "data": {
      "text/plain": [
       "torch.Size([3, 4])"
      ]
     },
     "metadata": {},
     "execution_count": 25
    }
   ]
  },
  {
   "cell_type": "markdown",
   "source": [
    "### Create a range of tensors and tensors-like"
   ],
   "metadata": {
    "id": "RIP2x2RMlbns"
   }
  },
  {
   "cell_type": "code",
   "source": [
    "# use torch.range()\n",
    "one_to_ten = torch.arange(0, 30, step=4)\n",
    "one_to_ten"
   ],
   "metadata": {
    "colab": {
     "base_uri": "https://localhost:8080/"
    },
    "id": "raEOlMdQlij1",
    "outputId": "16951578-1f0e-4eab-e29a-3121d3c1cdbd"
   },
   "execution_count": null,
   "outputs": [
    {
     "output_type": "execute_result",
     "data": {
      "text/plain": [
       "tensor([ 0,  4,  8, 12, 16, 20, 24, 28])"
      ]
     },
     "metadata": {},
     "execution_count": 26
    }
   ]
  },
  {
   "cell_type": "code",
   "source": [
    "# Creating tensors like\n",
    "ten_zeros = torch.zeros_like(input=one_to_ten)\n",
    "ten_zeros"
   ],
   "metadata": {
    "colab": {
     "base_uri": "https://localhost:8080/"
    },
    "id": "1sWfOGcLnmg7",
    "outputId": "400d4a11-b3a2-45f0-f346-8fae3deac4c7"
   },
   "execution_count": null,
   "outputs": [
    {
     "output_type": "execute_result",
     "data": {
      "text/plain": [
       "tensor([0, 0, 0, 0, 0, 0, 0, 0])"
      ]
     },
     "metadata": {},
     "execution_count": 27
    }
   ]
  },
  {
   "cell_type": "markdown",
   "source": [
    "### tensor dtypes\n",
    "\n",
    "**note :** tensor datatypes is one of the 3 big errors you'll run into with PyTorch and deep learning :\n",
    "1. tensors not right dtype\n",
    "2. tensors not right shape\n",
    "3. tensors not on the right device"
   ],
   "metadata": {
    "id": "9tjJdG4CYAwe"
   }
  },
  {
   "cell_type": "code",
   "source": [
    "# float 32 tensor\n",
    "float_32_tensor = torch.tensor([3.0, 6.0, 9.0],\n",
    "                               dtype=None, # What datatype is the tensor (e.g float32 pf float 16)\n",
    "                               device=None, # What device is your tensor on\n",
    "                               requires_grad=False) # Whether or not to track gradients with this tensors operations\n",
    "float_32_tensor"
   ],
   "metadata": {
    "colab": {
     "base_uri": "https://localhost:8080/"
    },
    "id": "tTb5ycrUYFwz",
    "outputId": "8fcaf047-09ce-4aa3-ff9e-5b4935abc6fd"
   },
   "execution_count": null,
   "outputs": [
    {
     "output_type": "execute_result",
     "data": {
      "text/plain": [
       "tensor([3., 6., 9.])"
      ]
     },
     "metadata": {},
     "execution_count": 28
    }
   ]
  },
  {
   "cell_type": "code",
   "source": [
    "float_32_tensor.dtype"
   ],
   "metadata": {
    "colab": {
     "base_uri": "https://localhost:8080/"
    },
    "id": "WDJ_LEolYYkx",
    "outputId": "8ded15d5-4e67-498a-cd65-d00b9ab52ce6"
   },
   "execution_count": null,
   "outputs": [
    {
     "output_type": "execute_result",
     "data": {
      "text/plain": [
       "torch.float32"
      ]
     },
     "metadata": {},
     "execution_count": 29
    }
   ]
  },
  {
   "cell_type": "code",
   "source": [
    "float_16_nyoba = float_32_tensor.type(torch.float16)\n",
    "float_16_nyoba"
   ],
   "metadata": {
    "colab": {
     "base_uri": "https://localhost:8080/"
    },
    "id": "YyBSdRzXYX99",
    "outputId": "3c5a7fe5-1eef-4c77-a1aa-c98c44d1a083"
   },
   "execution_count": null,
   "outputs": [
    {
     "output_type": "execute_result",
     "data": {
      "text/plain": [
       "tensor([3., 6., 9.], dtype=torch.float16)"
      ]
     },
     "metadata": {},
     "execution_count": 30
    }
   ]
  },
  {
   "cell_type": "code",
   "source": [
    "float_16_nyoba / float_32_tensor"
   ],
   "metadata": {
    "colab": {
     "base_uri": "https://localhost:8080/"
    },
    "id": "ZjMML8ayfo6q",
    "outputId": "1e0c7ddd-f121-4826-cd99-6a73a76b23c4"
   },
   "execution_count": null,
   "outputs": [
    {
     "output_type": "execute_result",
     "data": {
      "text/plain": [
       "tensor([1., 1., 1.])"
      ]
     },
     "metadata": {},
     "execution_count": 31
    }
   ]
  },
  {
   "cell_type": "code",
   "source": [
    "nyoba_int = torch.tensor([1, 45, 955], dtype=torch.int)\n",
    "nyoba_int"
   ],
   "metadata": {
    "colab": {
     "base_uri": "https://localhost:8080/"
    },
    "id": "V-yWOjbzhpoq",
    "outputId": "0d687a91-5fcf-4aa5-d112-b97e3e78c2f0"
   },
   "execution_count": null,
   "outputs": [
    {
     "output_type": "execute_result",
     "data": {
      "text/plain": [
       "tensor([  1,  45, 955], dtype=torch.int32)"
      ]
     },
     "metadata": {},
     "execution_count": 32
    }
   ]
  },
  {
   "cell_type": "code",
   "source": [
    "float_biasa_lagi = torch.tensor([99, 8, 71], dtype=torch.long)\n",
    "float_biasa_lagi"
   ],
   "metadata": {
    "colab": {
     "base_uri": "https://localhost:8080/"
    },
    "id": "61KSmJZ1hykw",
    "outputId": "2f590ac1-482b-476d-e2fe-ede7164d2257"
   },
   "execution_count": null,
   "outputs": [
    {
     "output_type": "execute_result",
     "data": {
      "text/plain": [
       "tensor([99,  8, 71])"
      ]
     },
     "metadata": {},
     "execution_count": 33
    }
   ]
  },
  {
   "cell_type": "code",
   "source": [
    "nyoba_int * float_biasa_lagi\n"
   ],
   "metadata": {
    "colab": {
     "base_uri": "https://localhost:8080/"
    },
    "id": "eMQMHdsZiEDn",
    "outputId": "86558a39-3d19-450c-bbdb-a3814297a5a8"
   },
   "execution_count": null,
   "outputs": [
    {
     "output_type": "execute_result",
     "data": {
      "text/plain": [
       "tensor([   99,   360, 67805])"
      ]
     },
     "metadata": {},
     "execution_count": 34
    }
   ]
  },
  {
   "cell_type": "markdown",
   "source": [
    "### Getting informations from tensor (tensor aattributes)\n",
    "\n",
    "1. tensors not right dtype - to get dtype from a tensor use `tensor.dtype`\n",
    "2. tensors not right shape - to get to know shape from a tensor use `tensor.shape`\n",
    "3. tensors not on the right device - to get device from a tensor, can use `tensor.device`"
   ],
   "metadata": {
    "id": "AzqwwDPMj3KH"
   }
  },
  {
   "cell_type": "code",
   "source": [
    "# bikin tensor nge tes\n",
    "tensor_baru = torch.rand([3, 5])\n",
    "tensor_baru"
   ],
   "metadata": {
    "colab": {
     "base_uri": "https://localhost:8080/"
    },
    "id": "LhcBL8VNkxKw",
    "outputId": "868ab3f8-3b49-47ce-a795-47e02f317f5e"
   },
   "execution_count": null,
   "outputs": [
    {
     "output_type": "execute_result",
     "data": {
      "text/plain": [
       "tensor([[0.6230, 0.8227, 0.3704, 0.0792, 0.5368],\n",
       "        [0.5944, 0.0258, 0.3276, 0.7403, 0.7103],\n",
       "        [0.6458, 0.8445, 0.0757, 0.4714, 0.2519]])"
      ]
     },
     "metadata": {},
     "execution_count": 35
    }
   ]
  },
  {
   "cell_type": "code",
   "source": [
    "# detail tentang itu\n",
    "print(tensor_baru)\n",
    "print(f\"Datatype of tensor : {tensor_baru.dtype}\")\n",
    "print(f\"Shape of tensor : {tensor_baru.size()}\")\n",
    "print(f\"Device tensor is on : {tensor_baru.device}\")"
   ],
   "metadata": {
    "colab": {
     "base_uri": "https://localhost:8080/"
    },
    "id": "dQ3BZisjmTJP",
    "outputId": "06f229f7-7c17-4126-e9a1-a5a6edbd0424"
   },
   "execution_count": null,
   "outputs": [
    {
     "output_type": "stream",
     "name": "stdout",
     "text": [
      "tensor([[0.6230, 0.8227, 0.3704, 0.0792, 0.5368],\n",
      "        [0.5944, 0.0258, 0.3276, 0.7403, 0.7103],\n",
      "        [0.6458, 0.8445, 0.0757, 0.4714, 0.2519]])\n",
      "Datatype of tensor : torch.float32\n",
      "Shape of tensor : torch.Size([3, 5])\n",
      "Device tensor is on : cpu\n"
     ]
    }
   ]
  },
  {
   "cell_type": "code",
   "source": [
    "tensor_lagi = torch.tensor([1, 2, 3], dtype=torch.long)\n",
    "tensor_lagi.dtype"
   ],
   "metadata": {
    "colab": {
     "base_uri": "https://localhost:8080/"
    },
    "id": "J1rWtjOh13_V",
    "outputId": "fe51bcd2-a4a9-4047-98a8-2f4e0737645f"
   },
   "execution_count": null,
   "outputs": [
    {
     "output_type": "execute_result",
     "data": {
      "text/plain": [
       "torch.int64"
      ]
     },
     "metadata": {},
     "execution_count": 37
    }
   ]
  },
  {
   "cell_type": "code",
   "source": [
    "twnsor_baru_jadi_int = tensor_lagi.type(torch.short)\n",
    "twnsor_baru_jadi_int"
   ],
   "metadata": {
    "id": "4D1B93VomoTx",
    "colab": {
     "base_uri": "https://localhost:8080/"
    },
    "outputId": "e609a86a-3811-4259-bc29-247a079bff07"
   },
   "execution_count": null,
   "outputs": [
    {
     "output_type": "execute_result",
     "data": {
      "text/plain": [
       "tensor([1, 2, 3], dtype=torch.int16)"
      ]
     },
     "metadata": {},
     "execution_count": 38
    }
   ]
  },
  {
   "cell_type": "markdown",
   "source": [
    "### Manipulating tensors (tensor operations)\n",
    "\n",
    "Tensor operations include :\n",
    "- Addition\n",
    "- Substraction\n",
    "- Multiplication (element wise)\n",
    "- Division\n",
    "- Matrix multipication"
   ],
   "metadata": {
    "id": "nhRND_Oq2H6b"
   }
  },
  {
   "cell_type": "code",
   "source": [
    "# create a tensor and add 10 to it\n",
    "tensor_nyoba_lagi = torch.tensor([1, 3, 5])\n",
    "tensor_nyoba_lagi + 10"
   ],
   "metadata": {
    "colab": {
     "base_uri": "https://localhost:8080/"
    },
    "id": "HfRHsLls201g",
    "outputId": "3aee3bf1-7fd6-407f-c157-173642580ce2"
   },
   "execution_count": null,
   "outputs": [
    {
     "output_type": "execute_result",
     "data": {
      "text/plain": [
       "tensor([11, 13, 15])"
      ]
     },
     "metadata": {},
     "execution_count": 39
    }
   ]
  },
  {
   "cell_type": "code",
   "source": [
    "# Multiply tensor by 10\n",
    "tensor_nyoba_lagi * 10"
   ],
   "metadata": {
    "colab": {
     "base_uri": "https://localhost:8080/"
    },
    "id": "wvPe7-tN2-Al",
    "outputId": "817d6e27-8bfe-439f-84c3-55c98764429e"
   },
   "execution_count": null,
   "outputs": [
    {
     "output_type": "execute_result",
     "data": {
      "text/plain": [
       "tensor([10, 30, 50])"
      ]
     },
     "metadata": {},
     "execution_count": 40
    }
   ]
  },
  {
   "cell_type": "code",
   "source": [
    "tensor_nyoba_lagi"
   ],
   "metadata": {
    "colab": {
     "base_uri": "https://localhost:8080/"
    },
    "id": "J1JltjQV3FZu",
    "outputId": "6ab756ef-570a-4a0b-b526-990009abd4f7"
   },
   "execution_count": null,
   "outputs": [
    {
     "output_type": "execute_result",
     "data": {
      "text/plain": [
       "tensor([1, 3, 5])"
      ]
     },
     "metadata": {},
     "execution_count": 41
    }
   ]
  },
  {
   "cell_type": "code",
   "source": [
    "# Substraction\n",
    "tensor_nyoba_lagi - 10"
   ],
   "metadata": {
    "colab": {
     "base_uri": "https://localhost:8080/"
    },
    "id": "KoVM8N4R3OGd",
    "outputId": "ce1ea632-84ed-461f-e9d0-862bc6ab13d7"
   },
   "execution_count": null,
   "outputs": [
    {
     "output_type": "execute_result",
     "data": {
      "text/plain": [
       "tensor([-9, -7, -5])"
      ]
     },
     "metadata": {},
     "execution_count": 42
    }
   ]
  },
  {
   "cell_type": "code",
   "source": [
    "# try out pytorch in-bulit function\n",
    "torch.mul(tensor_nyoba_lagi, 10)"
   ],
   "metadata": {
    "colab": {
     "base_uri": "https://localhost:8080/"
    },
    "id": "HU-QjmZm3VmQ",
    "outputId": "743dfba4-9457-4574-ec3f-d693fcd5588a"
   },
   "execution_count": null,
   "outputs": [
    {
     "output_type": "execute_result",
     "data": {
      "text/plain": [
       "tensor([10, 30, 50])"
      ]
     },
     "metadata": {},
     "execution_count": 43
    }
   ]
  },
  {
   "cell_type": "code",
   "source": [
    "torch.add(tensor_nyoba_lagi, 9)"
   ],
   "metadata": {
    "colab": {
     "base_uri": "https://localhost:8080/"
    },
    "id": "LTf8u5qr3kLL",
    "outputId": "b2838a3c-82c8-4b25-b119-e50d79201a3a"
   },
   "execution_count": null,
   "outputs": [
    {
     "output_type": "execute_result",
     "data": {
      "text/plain": [
       "tensor([10, 12, 14])"
      ]
     },
     "metadata": {},
     "execution_count": 44
    }
   ]
  },
  {
   "cell_type": "markdown",
   "source": [
    "### Matrix multipication\n",
    "\n",
    "2 main ways of performing multiplication in nueral networks and deep learning\n",
    "- Element wise multiplication\n",
    "- Matrix Multiplication (dot ptoduct)\n",
    "\n",
    "more info on multiplication matrices - https://www.mathsisfun.com/algebra/matrix-multiplying.html\n",
    "\n",
    "there are 2 rules that performing matrix multplication needs to satisfy:\n",
    "1. the **inner dimensions** must match:\n",
    "* `(3, 2) @ (3, 2)` wont work\n",
    "* `(2, 3) @ (3, 2)` will work\n",
    "* `(3, 2) @ (2, 3)` will work\n",
    "\n",
    "2. the resulting matrix has the shape of the **outer dimensions**\n",
    "* `(2, 3) @ (3, 2)`-> `(2, 2)`\n",
    "* `(3, 2) @ (2, 3)` -> `(3, 3)`\n",
    "\n"
   ],
   "metadata": {
    "id": "PAXjuHGGcDUd"
   }
  },
  {
   "cell_type": "code",
   "source": [
    "# element wise multiplicatiin\n",
    "print(tensor_nyoba_lagi, \"*\", tensor_nyoba_lagi)\n",
    "print(f\"Equals : {tensor_nyoba_lagi * tensor_nyoba_lagi}\")"
   ],
   "metadata": {
    "colab": {
     "base_uri": "https://localhost:8080/"
    },
    "id": "eNORKtMGckoZ",
    "outputId": "7e237128-8f74-4479-9c97-d382d4a8b5c2"
   },
   "execution_count": null,
   "outputs": [
    {
     "output_type": "stream",
     "name": "stdout",
     "text": [
      "tensor([1, 3, 5]) * tensor([1, 3, 5])\n",
      "Equals : tensor([ 1,  9, 25])\n"
     ]
    }
   ]
  },
  {
   "cell_type": "code",
   "source": [
    "# matrix multiplication\n",
    "torch.matmul(tensor_nyoba_lagi, tensor_nyoba_lagi)"
   ],
   "metadata": {
    "colab": {
     "base_uri": "https://localhost:8080/"
    },
    "id": "YwxIFth3eXVM",
    "outputId": "a82cfba7-55aa-4b19-c230-37e15c31a304"
   },
   "execution_count": null,
   "outputs": [
    {
     "output_type": "execute_result",
     "data": {
      "text/plain": [
       "tensor(35)"
      ]
     },
     "metadata": {},
     "execution_count": 46
    }
   ]
  },
  {
   "cell_type": "code",
   "source": [
    "tensor_nyoba_lagi"
   ],
   "metadata": {
    "colab": {
     "base_uri": "https://localhost:8080/"
    },
    "id": "x_c8tmIxe3BQ",
    "outputId": "d5d73665-4329-45cb-8e3e-bbd96f12c745"
   },
   "execution_count": null,
   "outputs": [
    {
     "output_type": "execute_result",
     "data": {
      "text/plain": [
       "tensor([1, 3, 5])"
      ]
     },
     "metadata": {},
     "execution_count": 47
    }
   ]
  },
  {
   "cell_type": "code",
   "source": [
    "# matrix multiplication by hand\n",
    "1*1 + 3*3 + 5*5"
   ],
   "metadata": {
    "colab": {
     "base_uri": "https://localhost:8080/"
    },
    "id": "1wGI-bGre0Jc",
    "outputId": "723b49a3-df15-433b-a719-ef2a5e9c05dd"
   },
   "execution_count": null,
   "outputs": [
    {
     "output_type": "execute_result",
     "data": {
      "text/plain": [
       "35"
      ]
     },
     "metadata": {},
     "execution_count": 48
    }
   ]
  },
  {
   "cell_type": "code",
   "source": [
    "%%time\n",
    "value = 0\n",
    "for i in range(len(tensor_nyoba_lagi)):\n",
    "    value += tensor_nyoba_lagi[i] * tensor_nyoba_lagi[i]\n",
    "print(value)"
   ],
   "metadata": {
    "colab": {
     "base_uri": "https://localhost:8080/"
    },
    "id": "ZKS5S1S5fCjI",
    "outputId": "342c3246-cf2e-424d-8fa4-05edc436eca2"
   },
   "execution_count": null,
   "outputs": [
    {
     "output_type": "stream",
     "name": "stdout",
     "text": [
      "tensor(35)\n",
      "CPU times: user 1.7 ms, sys: 0 ns, total: 1.7 ms\n",
      "Wall time: 1.61 ms\n"
     ]
    }
   ]
  },
  {
   "cell_type": "code",
   "source": [
    "%%time\n",
    "torch.matmul(tensor_nyoba_lagi, tensor_nyoba_lagi)\n",
    "#"
   ],
   "metadata": {
    "colab": {
     "base_uri": "https://localhost:8080/"
    },
    "id": "vAJ2iZIrf7jE",
    "outputId": "973c58ce-c46b-4558-cc1b-afdcbe920f12"
   },
   "execution_count": null,
   "outputs": [
    {
     "output_type": "stream",
     "name": "stdout",
     "text": [
      "CPU times: user 38 µs, sys: 7 µs, total: 45 µs\n",
      "Wall time: 47.9 µs\n"
     ]
    },
    {
     "output_type": "execute_result",
     "data": {
      "text/plain": [
       "tensor(35)"
      ]
     },
     "metadata": {},
     "execution_count": 50
    }
   ]
  },
  {
   "cell_type": "markdown",
   "source": [
    "### one of the most common errors in deep learning : shape errors"
   ],
   "metadata": {
    "id": "iT3vLeErgJMo"
   }
  },
  {
   "cell_type": "code",
   "source": [
    "# Shapes for matrix multiplication\n",
    "tensor_a = torch.tensor([[1, 2],\n",
    "                      [3, 4],\n",
    "                      [5, 6]])\n",
    "\n",
    "tensor_b = torch.tensor([[7, 10],\n",
    "                         [8, 11],\n",
    "                         [9, 12]])\n",
    "\n",
    "torch.mm(tensor_a, tensor_b) # torch.mm = torch.matmul"
   ],
   "metadata": {
    "colab": {
     "base_uri": "https://localhost:8080/",
     "height": 183
    },
    "id": "uTDBu1qow2ij",
    "outputId": "c235619b-7e74-4687-e9cf-338df955109a"
   },
   "execution_count": null,
   "outputs": [
    {
     "output_type": "error",
     "ename": "RuntimeError",
     "evalue": "mat1 and mat2 shapes cannot be multiplied (3x2 and 3x2)",
     "traceback": [
      "\u001B[0;31m---------------------------------------------------------------------------\u001B[0m",
      "\u001B[0;31mRuntimeError\u001B[0m                              Traceback (most recent call last)",
      "\u001B[0;32m<ipython-input-52-2bc19ee9146b>\u001B[0m in \u001B[0;36m<cell line: 10>\u001B[0;34m()\u001B[0m\n\u001B[1;32m      8\u001B[0m                          [9, 12]])\n\u001B[1;32m      9\u001B[0m \u001B[0;34m\u001B[0m\u001B[0m\n\u001B[0;32m---> 10\u001B[0;31m \u001B[0mtorch\u001B[0m\u001B[0;34m.\u001B[0m\u001B[0mmm\u001B[0m\u001B[0;34m(\u001B[0m\u001B[0mtensor_a\u001B[0m\u001B[0;34m,\u001B[0m \u001B[0mtensor_b\u001B[0m\u001B[0;34m)\u001B[0m \u001B[0;31m# torch.mm = torch.matmul\u001B[0m\u001B[0;34m\u001B[0m\u001B[0;34m\u001B[0m\u001B[0m\n\u001B[0m",
      "\u001B[0;31mRuntimeError\u001B[0m: mat1 and mat2 shapes cannot be multiplied (3x2 and 3x2)"
     ]
    }
   ]
  },
  {
   "cell_type": "code",
   "source": [
    "tensor_a.shape, tensor_b.shape"
   ],
   "metadata": {
    "colab": {
     "base_uri": "https://localhost:8080/"
    },
    "id": "iVd_JKMcy2dx",
    "outputId": "c5d27d05-e489-437a-de14-41644e0e12fd"
   },
   "execution_count": null,
   "outputs": [
    {
     "output_type": "execute_result",
     "data": {
      "text/plain": [
       "(torch.Size([3, 2]), torch.Size([3, 2]))"
      ]
     },
     "metadata": {},
     "execution_count": 53
    }
   ]
  },
  {
   "cell_type": "markdown",
   "source": [
    "To fix out tensor issues, we can manitpulate the shape one of our tensors using a transpose\n",
    "\n",
    "a **transpose** switches the axis or dimensions of a given tensor"
   ],
   "metadata": {
    "id": "zwdnyXNNzKLv"
   }
  },
  {
   "cell_type": "code",
   "source": [
    "tensor_b.T, tensor_b.T.shape"
   ],
   "metadata": {
    "colab": {
     "base_uri": "https://localhost:8080/"
    },
    "id": "I_h8_ghXzbKR",
    "outputId": "07f07dc1-12a3-4e10-945b-b8276bc1f72a"
   },
   "execution_count": null,
   "outputs": [
    {
     "output_type": "execute_result",
     "data": {
      "text/plain": [
       "(tensor([[ 7,  8,  9],\n",
       "         [10, 11, 12]]),\n",
       " torch.Size([2, 3]))"
      ]
     },
     "metadata": {},
     "execution_count": 54
    }
   ]
  },
  {
   "cell_type": "code",
   "source": [
    "tensor_b, tensor_b.shape"
   ],
   "metadata": {
    "colab": {
     "base_uri": "https://localhost:8080/"
    },
    "id": "eS-uGr5Lzf1R",
    "outputId": "17be3aa1-5c9f-4d2d-f4f5-720edef74725"
   },
   "execution_count": null,
   "outputs": [
    {
     "output_type": "execute_result",
     "data": {
      "text/plain": [
       "(tensor([[ 7, 10],\n",
       "         [ 8, 11],\n",
       "         [ 9, 12]]),\n",
       " torch.Size([3, 2]))"
      ]
     },
     "metadata": {},
     "execution_count": 55
    }
   ]
  },
  {
   "cell_type": "code",
   "source": [
    "# the matrix multiplication operations works when tensor tensor_B is transposed\n",
    "print(f\"Original shapes : tensor_a = {tensor_a.shape}, tensor_b = {tensor_b.shape}\")\n",
    "print(f\"New shapes : tensor_a = {tensor_a.shape} (same as above), tensor_b.T = {tensor_b.T.shape}\")\n",
    "print(f\"Multiplying : {tensor_a.shape} @ {tensor_b.T.shape} <- inner dimensions must match\")\n",
    "print(\"Output : \\n\")\n",
    "output = torch.mm(tensor_a, tensor_b.T)\n",
    "print(output)\n",
    "print(f\"\\nOutput shape : {output.shape}\")\n",
    "\n",
    "torch.mm(tensor_a, tensor_b.T).shape"
   ],
   "metadata": {
    "colab": {
     "base_uri": "https://localhost:8080/"
    },
    "id": "BnQIK4ZTz-qj",
    "outputId": "5ba09885-0218-4b4c-8501-8f622af59f44"
   },
   "execution_count": null,
   "outputs": [
    {
     "output_type": "stream",
     "name": "stdout",
     "text": [
      "Original shapes : tensor_a = torch.Size([3, 2]), tensor_b = torch.Size([3, 2])\n",
      "New shapes : tensor_a = torch.Size([3, 2]) (same as above), tensor_b.T = torch.Size([2, 3])\n",
      "Multiplying : torch.Size([3, 2]) @ torch.Size([2, 3]) <- inner dimensions must match\n",
      "Output : \n",
      "\n",
      "tensor([[ 27,  30,  33],\n",
      "        [ 61,  68,  75],\n",
      "        [ 95, 106, 117]])\n",
      "\n",
      "Output shape : torch.Size([3, 3])\n"
     ]
    },
    {
     "output_type": "execute_result",
     "data": {
      "text/plain": [
       "torch.Size([3, 3])"
      ]
     },
     "metadata": {},
     "execution_count": 56
    }
   ]
  },
  {
   "cell_type": "code",
   "source": [
    "tensor_c = torch.tensor([[10, 30],\n",
    "                         [40, 60],\n",
    "                         [70, 90]])\n",
    "\n",
    "tensor_d = torch.tensor([[25, 15],\n",
    "                         [85, 35],\n",
    "                         [75, 5]])\n",
    "\n",
    "torch.mm(tensor_c, tensor_d)"
   ],
   "metadata": {
    "colab": {
     "base_uri": "https://localhost:8080/",
     "height": 183
    },
    "id": "q-fmqcqjA-rQ",
    "outputId": "f5481fdd-29fd-417e-a601-3382a16d1481"
   },
   "execution_count": null,
   "outputs": [
    {
     "output_type": "error",
     "ename": "RuntimeError",
     "evalue": "mat1 and mat2 shapes cannot be multiplied (3x2 and 3x2)",
     "traceback": [
      "\u001B[0;31m---------------------------------------------------------------------------\u001B[0m",
      "\u001B[0;31mRuntimeError\u001B[0m                              Traceback (most recent call last)",
      "\u001B[0;32m<ipython-input-59-1fcf57f202b9>\u001B[0m in \u001B[0;36m<cell line: 9>\u001B[0;34m()\u001B[0m\n\u001B[1;32m      7\u001B[0m                          [75, 5]])\n\u001B[1;32m      8\u001B[0m \u001B[0;34m\u001B[0m\u001B[0m\n\u001B[0;32m----> 9\u001B[0;31m \u001B[0mtorch\u001B[0m\u001B[0;34m.\u001B[0m\u001B[0mmm\u001B[0m\u001B[0;34m(\u001B[0m\u001B[0mtensor_c\u001B[0m\u001B[0;34m,\u001B[0m \u001B[0mtensor_d\u001B[0m\u001B[0;34m)\u001B[0m\u001B[0;34m\u001B[0m\u001B[0;34m\u001B[0m\u001B[0m\n\u001B[0m",
      "\u001B[0;31mRuntimeError\u001B[0m: mat1 and mat2 shapes cannot be multiplied (3x2 and 3x2)"
     ]
    }
   ]
  },
  {
   "cell_type": "code",
   "source": [
    "tensor_c.shape, tensor_d.shape"
   ],
   "metadata": {
    "colab": {
     "base_uri": "https://localhost:8080/"
    },
    "id": "hgf0mAMOBV3k",
    "outputId": "f6bf0f34-e14e-40f5-83b9-2b0270b8f0a8"
   },
   "execution_count": null,
   "outputs": [
    {
     "output_type": "execute_result",
     "data": {
      "text/plain": [
       "(torch.Size([3, 2]), torch.Size([3, 2]))"
      ]
     },
     "metadata": {},
     "execution_count": 60
    }
   ]
  },
  {
   "cell_type": "code",
   "source": [
    "tensor_c.T"
   ],
   "metadata": {
    "colab": {
     "base_uri": "https://localhost:8080/"
    },
    "id": "LfNTLOcOBiU3",
    "outputId": "7c2377da-d4f5-43da-b358-258ec7b4a17c"
   },
   "execution_count": null,
   "outputs": [
    {
     "output_type": "execute_result",
     "data": {
      "text/plain": [
       "tensor([[10, 40, 70],\n",
       "        [30, 60, 90]])"
      ]
     },
     "metadata": {},
     "execution_count": 61
    }
   ]
  },
  {
   "cell_type": "code",
   "source": [
    "# when tried to Transpose one of them (tensor_c)\n",
    "print(f\"Original shapes : tensor_c = {tensor_c.shape}, tensor_d = {tensor_d.shape}\")\n",
    "print(f\"New shapes : tensor_c.T = {tensor_c.T.shape} (same as above), tensor_d = {tensor_d.shape}\")\n",
    "print(f\"Multiplying : {tensor_c.T.shape} @ {tensor_d.shape} <- inner dimensions must match\")\n",
    "print(\"Output : \\n\")\n",
    "output = torch.mm(tensor_c.T, tensor_d)\n",
    "print(output)\n",
    "print(f\"\\nOutput shape : {output.shape}\")\n",
    "\n",
    "torch.mm(tensor_c.T, tensor_d).shape"
   ],
   "metadata": {
    "colab": {
     "base_uri": "https://localhost:8080/"
    },
    "id": "N1WEkpwBCQG8",
    "outputId": "5427b454-9d7c-4020-ea2b-24a93d3c50e1"
   },
   "execution_count": null,
   "outputs": [
    {
     "output_type": "stream",
     "name": "stdout",
     "text": [
      "Original shapes : tensor_c = torch.Size([3, 2]), tensor_d = torch.Size([3, 2])\n",
      "New shapes : tensor_c.T = torch.Size([2, 3]) (same as above), tensor_d = torch.Size([3, 2])\n",
      "Multiplying : torch.Size([2, 3]) @ torch.Size([3, 2]) <- inner dimensions must match\n",
      "Output : \n",
      "\n",
      "tensor([[ 8900,  1900],\n",
      "        [12600,  3000]])\n",
      "\n",
      "Output shape : torch.Size([2, 2])\n"
     ]
    },
    {
     "output_type": "execute_result",
     "data": {
      "text/plain": [
       "torch.Size([2, 2])"
      ]
     },
     "metadata": {},
     "execution_count": 62
    }
   ]
  },
  {
   "cell_type": "markdown",
   "source": [
    "## tensor aggregation, finding min, max, mean, sum, etc\n"
   ],
   "metadata": {
    "id": "SvNS27c8CvQr"
   }
  },
  {
   "cell_type": "code",
   "source": [
    "# create a tensor\n",
    "x = torch.arange(1, 100, 10)\n",
    "x, x.dtype"
   ],
   "metadata": {
    "colab": {
     "base_uri": "https://localhost:8080/"
    },
    "id": "Uac_x5Q-DR-7",
    "outputId": "fb56a15d-8307-4331-e143-9417f2a9c4d6"
   },
   "execution_count": null,
   "outputs": [
    {
     "output_type": "execute_result",
     "data": {
      "text/plain": [
       "(tensor([ 1, 11, 21, 31, 41, 51, 61, 71, 81, 91]), torch.int64)"
      ]
     },
     "metadata": {},
     "execution_count": 63
    }
   ]
  },
  {
   "cell_type": "code",
   "source": [
    "# find the minimum value\n",
    "torch.min(x), x.min()"
   ],
   "metadata": {
    "colab": {
     "base_uri": "https://localhost:8080/"
    },
    "id": "2PnrYnTRDbDp",
    "outputId": "d380dbdf-a9ce-4c1a-83c1-c15fe1a38fb5"
   },
   "execution_count": null,
   "outputs": [
    {
     "output_type": "execute_result",
     "data": {
      "text/plain": [
       "(tensor(1), tensor(1))"
      ]
     },
     "metadata": {},
     "execution_count": 64
    }
   ]
  },
  {
   "cell_type": "code",
   "source": [
    "# find the max value\n",
    "torch.max(x), x.max()"
   ],
   "metadata": {
    "colab": {
     "base_uri": "https://localhost:8080/"
    },
    "id": "6glLVRQzDgjj",
    "outputId": "8dd63c22-c482-428f-dbef-24fe16fd372c"
   },
   "execution_count": null,
   "outputs": [
    {
     "output_type": "execute_result",
     "data": {
      "text/plain": [
       "(tensor(91), tensor(91))"
      ]
     },
     "metadata": {},
     "execution_count": 65
    }
   ]
  },
  {
   "cell_type": "code",
   "source": [
    "# find the mean - note: the torch.mean() function requires a tensor of float32 datatype to work\n",
    "torch.mean(x.type(torch.float32)), x.type(torch.float32).mean()"
   ],
   "metadata": {
    "colab": {
     "base_uri": "https://localhost:8080/"
    },
    "id": "mg6Ns3btDlcr",
    "outputId": "e62ada8a-d92f-4c32-e1df-14b3dcea8abc"
   },
   "execution_count": null,
   "outputs": [
    {
     "output_type": "execute_result",
     "data": {
      "text/plain": [
       "(tensor(46.), tensor(46.))"
      ]
     },
     "metadata": {},
     "execution_count": 66
    }
   ]
  },
  {
   "cell_type": "code",
   "source": [
    "# find the sum\n",
    "torch.sum(x), x.sum()"
   ],
   "metadata": {
    "colab": {
     "base_uri": "https://localhost:8080/"
    },
    "id": "2CBBKAZxFL4m",
    "outputId": "6342ff6c-4694-4b82-a23d-0da062754875"
   },
   "execution_count": null,
   "outputs": [
    {
     "output_type": "execute_result",
     "data": {
      "text/plain": [
       "(tensor(460), tensor(460))"
      ]
     },
     "metadata": {},
     "execution_count": 67
    }
   ]
  },
  {
   "cell_type": "markdown",
   "source": [
    "## Finding the positional min and max"
   ],
   "metadata": {
    "id": "r3JTGsN-FXEx"
   }
  },
  {
   "cell_type": "code",
   "source": [
    "x"
   ],
   "metadata": {
    "colab": {
     "base_uri": "https://localhost:8080/"
    },
    "id": "pn9F5FniGLhg",
    "outputId": "8f66dc09-8247-4261-a0ba-65bbf02e7abf"
   },
   "execution_count": null,
   "outputs": [
    {
     "output_type": "execute_result",
     "data": {
      "text/plain": [
       "tensor([ 1, 11, 21, 31, 41, 51, 61, 71, 81, 91])"
      ]
     },
     "metadata": {},
     "execution_count": 68
    }
   ]
  },
  {
   "cell_type": "code",
   "source": [
    "# Find the position in tensor that has the minimum value with argmin() -> returns index position of target tensor where minimum value occurs\n",
    "x.argmin()"
   ],
   "metadata": {
    "colab": {
     "base_uri": "https://localhost:8080/"
    },
    "id": "UysI8t4OGPpu",
    "outputId": "a06320f9-2466-4630-fa61-26af1f250ba2"
   },
   "execution_count": null,
   "outputs": [
    {
     "output_type": "execute_result",
     "data": {
      "text/plain": [
       "tensor(0)"
      ]
     },
     "metadata": {},
     "execution_count": 69
    }
   ]
  },
  {
   "cell_type": "code",
   "source": [
    "x[0]"
   ],
   "metadata": {
    "colab": {
     "base_uri": "https://localhost:8080/"
    },
    "id": "1Vx6dzjZGYIq",
    "outputId": "4b4c45b8-e3c5-4c11-a41f-63747da0a4df"
   },
   "execution_count": null,
   "outputs": [
    {
     "output_type": "execute_result",
     "data": {
      "text/plain": [
       "tensor(1)"
      ]
     },
     "metadata": {},
     "execution_count": 70
    }
   ]
  },
  {
   "cell_type": "code",
   "source": [
    "# Find the position in tensor that has the max value with argmax()\n",
    "x.argmax()"
   ],
   "metadata": {
    "colab": {
     "base_uri": "https://localhost:8080/"
    },
    "id": "GZlx43tJHGDo",
    "outputId": "a69d4d7e-d4ab-44cb-b874-167fb004c3a4"
   },
   "execution_count": null,
   "outputs": [
    {
     "output_type": "execute_result",
     "data": {
      "text/plain": [
       "tensor(9)"
      ]
     },
     "metadata": {},
     "execution_count": 71
    }
   ]
  },
  {
   "cell_type": "code",
   "source": [
    "x[9]"
   ],
   "metadata": {
    "colab": {
     "base_uri": "https://localhost:8080/"
    },
    "id": "hCgKN2JQHRnf",
    "outputId": "138e62a9-a550-4e18-8289-5f17cea3409f"
   },
   "execution_count": null,
   "outputs": [
    {
     "output_type": "execute_result",
     "data": {
      "text/plain": [
       "tensor(91)"
      ]
     },
     "metadata": {},
     "execution_count": 72
    }
   ]
  },
  {
   "cell_type": "markdown",
   "source": [
    "## Rehsaping, stacking, squeezing, and unsqueezing tensors\n",
    "\n",
    "* Reshaping - reshaping an input tensor to a defined shape\n",
    "* View - return a view of an input tensor of certain shape but keep the same memory as the original tensor\n",
    "* stacking - combine multiple tensors on top of each other (vstack) or side by side (hstack)\n",
    "* Squeeze - removes all `1` dimensions from a tensor\n",
    "* Unsqueeze - add a `1` dimension to a target tensor\n",
    "* Permute - Return a view of the input with dimensions permuted (swapped) in a certain way"
   ],
   "metadata": {
    "id": "AvWALs-fHg_U"
   }
  },
  {
   "cell_type": "code",
   "source": [
    "# let's create a tensor\n",
    "y = torch.arange(1., 10.)\n",
    "y, y.shape"
   ],
   "metadata": {
    "colab": {
     "base_uri": "https://localhost:8080/"
    },
    "id": "XsLt6fq5ISaP",
    "outputId": "e5ac3f91-a386-4e33-e671-096fb3021369"
   },
   "execution_count": null,
   "outputs": [
    {
     "output_type": "execute_result",
     "data": {
      "text/plain": [
       "(tensor([1., 2., 3., 4., 5., 6., 7., 8., 9.]), torch.Size([9]))"
      ]
     },
     "metadata": {},
     "execution_count": 73
    }
   ]
  },
  {
   "cell_type": "code",
   "source": [
    "# Add an extra dimension\n",
    "y_reshaped = y.reshape(1, 9)\n",
    "y_reshaped, y_reshaped.shape"
   ],
   "metadata": {
    "colab": {
     "base_uri": "https://localhost:8080/"
    },
    "id": "IG2SycTtJ7Eg",
    "outputId": "b0b4d6b6-7989-45d6-86ca-6d9faf0efddb"
   },
   "execution_count": null,
   "outputs": [
    {
     "output_type": "execute_result",
     "data": {
      "text/plain": [
       "(tensor([[1., 2., 3., 4., 5., 6., 7., 8., 9.]]), torch.Size([1, 9]))"
      ]
     },
     "metadata": {},
     "execution_count": 74
    }
   ]
  },
  {
   "cell_type": "code",
   "source": [
    "# Change the view\n",
    "z = y.view(1, 9)\n",
    "z, z.shape"
   ],
   "metadata": {
    "colab": {
     "base_uri": "https://localhost:8080/"
    },
    "id": "zyQx_-q7K7uF",
    "outputId": "96e5fd9d-1e9b-4f3d-a6fc-d334a10a2493"
   },
   "execution_count": null,
   "outputs": [
    {
     "output_type": "execute_result",
     "data": {
      "text/plain": [
       "(tensor([[1., 2., 3., 4., 5., 6., 7., 8., 9.]]), torch.Size([1, 9]))"
      ]
     },
     "metadata": {},
     "execution_count": 75
    }
   ]
  },
  {
   "cell_type": "code",
   "source": [
    "# Changing z changes x (because a view of a tensor shares the same memory as the original input)\n",
    "z[:, 0] = 5\n",
    "z, y"
   ],
   "metadata": {
    "colab": {
     "base_uri": "https://localhost:8080/"
    },
    "id": "YixYPcXoLIAp",
    "outputId": "943d7fd3-aff7-4353-a964-6a2451e5a3b3"
   },
   "execution_count": null,
   "outputs": [
    {
     "output_type": "execute_result",
     "data": {
      "text/plain": [
       "(tensor([[5., 2., 3., 4., 5., 6., 7., 8., 9.]]),\n",
       " tensor([5., 2., 3., 4., 5., 6., 7., 8., 9.]))"
      ]
     },
     "metadata": {},
     "execution_count": 76
    }
   ]
  },
  {
   "cell_type": "code",
   "source": [
    "# Stack tensors on top of each other\n",
    "y_stacked = torch.stack([y, y, y, y], dim=0)\n",
    "y_stacked"
   ],
   "metadata": {
    "colab": {
     "base_uri": "https://localhost:8080/"
    },
    "id": "tv1q_0w2Lwew",
    "outputId": "ab545bfa-a838-4d1b-8fc8-731c843c0814"
   },
   "execution_count": null,
   "outputs": [
    {
     "output_type": "execute_result",
     "data": {
      "text/plain": [
       "tensor([[5., 2., 3., 4., 5., 6., 7., 8., 9.],\n",
       "        [5., 2., 3., 4., 5., 6., 7., 8., 9.],\n",
       "        [5., 2., 3., 4., 5., 6., 7., 8., 9.],\n",
       "        [5., 2., 3., 4., 5., 6., 7., 8., 9.]])"
      ]
     },
     "metadata": {},
     "execution_count": 77
    }
   ]
  },
  {
   "cell_type": "code",
   "source": [
    "a = torch.arange(1, 5)\n",
    "a\n",
    "b = torch.arange(1, 5)\n"
   ],
   "metadata": {
    "id": "kxL6KjRlHe9P"
   },
   "execution_count": null,
   "outputs": []
  },
  {
   "cell_type": "code",
   "source": [
    "b"
   ],
   "metadata": {
    "colab": {
     "base_uri": "https://localhost:8080/"
    },
    "id": "rH0Zc_xLH6qp",
    "outputId": "32ab9454-514b-421a-af38-3aba1b0a4ea2"
   },
   "execution_count": null,
   "outputs": [
    {
     "output_type": "execute_result",
     "data": {
      "text/plain": [
       "tensor([1, 2, 3, 4])"
      ]
     },
     "metadata": {},
     "execution_count": 79
    }
   ]
  },
  {
   "cell_type": "code",
   "source": [
    "c = torch.hstack([a, b])\n",
    "c"
   ],
   "metadata": {
    "colab": {
     "base_uri": "https://localhost:8080/"
    },
    "id": "2dFl0xpYH9YS",
    "outputId": "c02ea6f6-d5df-4479-de8d-3ead7b398017"
   },
   "execution_count": null,
   "outputs": [
    {
     "output_type": "execute_result",
     "data": {
      "text/plain": [
       "tensor([1, 2, 3, 4, 1, 2, 3, 4])"
      ]
     },
     "metadata": {},
     "execution_count": 80
    }
   ]
  },
  {
   "cell_type": "code",
   "source": [
    "d = torch.vstack([a, b])\n",
    "d"
   ],
   "metadata": {
    "colab": {
     "base_uri": "https://localhost:8080/"
    },
    "id": "Zk-vzjgbI7-i",
    "outputId": "cf205998-fa68-4c57-fa60-5d490c6f218b"
   },
   "execution_count": null,
   "outputs": [
    {
     "output_type": "execute_result",
     "data": {
      "text/plain": [
       "tensor([[1, 2, 3, 4],\n",
       "        [1, 2, 3, 4]])"
      ]
     },
     "metadata": {},
     "execution_count": 81
    }
   ]
  },
  {
   "cell_type": "code",
   "source": [
    "# try torch.squeeze()\n",
    "y_reshaped.shape"
   ],
   "metadata": {
    "id": "aqAxCd2ZMoqc",
    "colab": {
     "base_uri": "https://localhost:8080/"
    },
    "outputId": "1be72cef-2db7-46be-dc0f-3f45c4f54555"
   },
   "execution_count": null,
   "outputs": [
    {
     "output_type": "execute_result",
     "data": {
      "text/plain": [
       "torch.Size([1, 9])"
      ]
     },
     "metadata": {},
     "execution_count": 82
    }
   ]
  },
  {
   "cell_type": "code",
   "source": [
    "y_reshaped"
   ],
   "metadata": {
    "colab": {
     "base_uri": "https://localhost:8080/"
    },
    "id": "A8P-LqWKLljU",
    "outputId": "d68963e2-8b19-45ba-82d3-5946c33bb5c3"
   },
   "execution_count": null,
   "outputs": [
    {
     "output_type": "execute_result",
     "data": {
      "text/plain": [
       "tensor([[5., 2., 3., 4., 5., 6., 7., 8., 9.]])"
      ]
     },
     "metadata": {},
     "execution_count": 83
    }
   ]
  },
  {
   "cell_type": "code",
   "source": [
    "y_reshaped.squeeze()"
   ],
   "metadata": {
    "colab": {
     "base_uri": "https://localhost:8080/"
    },
    "id": "nh6GWDTtLmhD",
    "outputId": "b98e41b3-2d76-4f10-f951-21d465645f25"
   },
   "execution_count": null,
   "outputs": [
    {
     "output_type": "execute_result",
     "data": {
      "text/plain": [
       "tensor([5., 2., 3., 4., 5., 6., 7., 8., 9.])"
      ]
     },
     "metadata": {},
     "execution_count": 84
    }
   ]
  },
  {
   "cell_type": "code",
   "source": [
    "y_reshaped.squeeze().shape"
   ],
   "metadata": {
    "colab": {
     "base_uri": "https://localhost:8080/"
    },
    "id": "S6CuRTPiL07A",
    "outputId": "e7a7403c-c7b1-435e-d076-c1ddfec71103"
   },
   "execution_count": null,
   "outputs": [
    {
     "output_type": "execute_result",
     "data": {
      "text/plain": [
       "torch.Size([9])"
      ]
     },
     "metadata": {},
     "execution_count": 85
    }
   ]
  },
  {
   "cell_type": "code",
   "source": [
    "y_tersqueeeze = y_reshaped.squeeze()"
   ],
   "metadata": {
    "id": "8EiwLpyvOKkf"
   },
   "execution_count": null,
   "outputs": []
  },
  {
   "cell_type": "code",
   "source": [
    "y_tersqueeeze"
   ],
   "metadata": {
    "colab": {
     "base_uri": "https://localhost:8080/"
    },
    "id": "RpZf5BadOOhJ",
    "outputId": "ced1565b-2137-4abd-f4cf-bd0a4c4078ac"
   },
   "execution_count": null,
   "outputs": [
    {
     "output_type": "execute_result",
     "data": {
      "text/plain": [
       "tensor([5., 2., 3., 4., 5., 6., 7., 8., 9.])"
      ]
     },
     "metadata": {},
     "execution_count": 87
    }
   ]
  },
  {
   "cell_type": "code",
   "source": [
    "# torch unsqueeze - adds a single dimension to target tensor at a spesific dim\n",
    "print(f\"Previous target : {y_tersqueeeze}\")\n",
    "print(f\"Previous shape : {y_tersqueeeze.shape}\")\n",
    "\n",
    "# Add an extra dimension with unsqueeze\n",
    "y_unsqueezed = y_tersqueeeze.unsqueeze(dim=1)\n",
    "print(f\"\\nNew tensor : {y_unsqueezed}\")\n",
    "print(f\"New shape : {y_unsqueezed.shape}\")"
   ],
   "metadata": {
    "colab": {
     "base_uri": "https://localhost:8080/"
    },
    "id": "ePga5ZseNBon",
    "outputId": "d0dbb190-10e8-4f03-b039-e5193916758e"
   },
   "execution_count": null,
   "outputs": [
    {
     "output_type": "stream",
     "name": "stdout",
     "text": [
      "Previous target : tensor([5., 2., 3., 4., 5., 6., 7., 8., 9.])\n",
      "Previous shape : torch.Size([9])\n",
      "\n",
      "New tensor : tensor([[5.],\n",
      "        [2.],\n",
      "        [3.],\n",
      "        [4.],\n",
      "        [5.],\n",
      "        [6.],\n",
      "        [7.],\n",
      "        [8.],\n",
      "        [9.]])\n",
      "New shape : torch.Size([9, 1])\n"
     ]
    }
   ]
  },
  {
   "cell_type": "code",
   "source": [
    "# torch permute - rearranges the dimensions of a target tensor in a spesified order\n",
    "x_ori = torch.rand(size=(224, 224, 3)) # height, width, colour_channels\n",
    "\n",
    "# Permute the original tensor to rearrange the axis (or dim) order\n",
    "x_permuted = x_ori.permute(2, 0, 1) # shifts axis 0-> 1, 1->2, 2-> 0"
   ],
   "metadata": {
    "id": "guW62E1UOmDt"
   },
   "execution_count": null,
   "outputs": []
  },
  {
   "cell_type": "code",
   "source": [
    "print(f\"Previous shape : {x_ori.shape}\")\n",
    "print(f\"New shape : {x_permuted.shape}\") # [colors channels, height, width]"
   ],
   "metadata": {
    "colab": {
     "base_uri": "https://localhost:8080/"
    },
    "id": "yIWH_pATQEWT",
    "outputId": "8e71d3c4-b81c-4327-ac32-5376cfb1c1c9"
   },
   "execution_count": null,
   "outputs": [
    {
     "output_type": "stream",
     "name": "stdout",
     "text": [
      "Previous shape : torch.Size([224, 224, 3])\n",
      "New shape : torch.Size([3, 224, 224])\n"
     ]
    }
   ]
  },
  {
   "cell_type": "code",
   "source": [
    "x_ori[0, 0, 0] = 728218\n",
    "x_ori[0, 0, 0], x_permuted[0, 0, 0]"
   ],
   "metadata": {
    "id": "tUtQaPT-QJdx",
    "colab": {
     "base_uri": "https://localhost:8080/"
    },
    "outputId": "fe6217b1-e015-4133-bd41-01ea920e6b0a"
   },
   "execution_count": null,
   "outputs": [
    {
     "output_type": "execute_result",
     "data": {
      "text/plain": [
       "(tensor(728218.), tensor(728218.))"
      ]
     },
     "metadata": {},
     "execution_count": 91
    }
   ]
  },
  {
   "cell_type": "markdown",
   "source": [
    "### Indexing (selecting data from tensors with indexing)\n",
    "\n",
    "INdexing with pytorch is similar to indexing with numpy"
   ],
   "metadata": {
    "id": "LbrP7zVHgKE-"
   }
  },
  {
   "cell_type": "code",
   "source": [
    "# create a tensor\n",
    "x = torch.arange(1, 10).reshape(1, 3, 3)\n",
    "x, x.shape"
   ],
   "metadata": {
    "colab": {
     "base_uri": "https://localhost:8080/"
    },
    "id": "erxcqkwIg66R",
    "outputId": "2edabbd2-92ff-4470-9898-35592dfe6c2d"
   },
   "execution_count": null,
   "outputs": [
    {
     "output_type": "execute_result",
     "data": {
      "text/plain": [
       "(tensor([[[1, 2, 3],\n",
       "          [4, 5, 6],\n",
       "          [7, 8, 9]]]),\n",
       " torch.Size([1, 3, 3]))"
      ]
     },
     "metadata": {},
     "execution_count": 92
    }
   ]
  },
  {
   "cell_type": "code",
   "source": [
    "x[0]"
   ],
   "metadata": {
    "colab": {
     "base_uri": "https://localhost:8080/"
    },
    "id": "GFPW_vhBg7YS",
    "outputId": "c1a572cf-df34-4a7a-ade8-580702fcfb10"
   },
   "execution_count": null,
   "outputs": [
    {
     "output_type": "execute_result",
     "data": {
      "text/plain": [
       "tensor([[1, 2, 3],\n",
       "        [4, 5, 6],\n",
       "        [7, 8, 9]])"
      ]
     },
     "metadata": {},
     "execution_count": 93
    }
   ]
  },
  {
   "cell_type": "code",
   "source": [
    "x[0][1][2]"
   ],
   "metadata": {
    "colab": {
     "base_uri": "https://localhost:8080/"
    },
    "id": "8peUsuIcBFZq",
    "outputId": "2184eb3b-3666-4193-b779-934130898db2"
   },
   "execution_count": null,
   "outputs": [
    {
     "output_type": "execute_result",
     "data": {
      "text/plain": [
       "tensor(6)"
      ]
     },
     "metadata": {},
     "execution_count": 94
    }
   ]
  },
  {
   "cell_type": "code",
   "source": [
    "# lets index on the middle bracket\n",
    "x[0][0]"
   ],
   "metadata": {
    "colab": {
     "base_uri": "https://localhost:8080/"
    },
    "id": "nlCYdwiFhaRP",
    "outputId": "5ec4b9fe-5815-4ebe-f04c-09d703eb2be0"
   },
   "execution_count": null,
   "outputs": [
    {
     "output_type": "execute_result",
     "data": {
      "text/plain": [
       "tensor([1, 2, 3])"
      ]
     },
     "metadata": {},
     "execution_count": 95
    }
   ]
  },
  {
   "cell_type": "code",
   "source": [
    "# lets index on the most inner vracket (last dimension)\n",
    "x[0][1][0]"
   ],
   "metadata": {
    "colab": {
     "base_uri": "https://localhost:8080/"
    },
    "id": "hP2JPEHYhfYX",
    "outputId": "1e257d25-f6c5-4e3a-bcfe-0ac0de94149c"
   },
   "execution_count": null,
   "outputs": [
    {
     "output_type": "execute_result",
     "data": {
      "text/plain": [
       "tensor(4)"
      ]
     },
     "metadata": {},
     "execution_count": 96
    }
   ]
  },
  {
   "cell_type": "code",
   "source": [
    "x[0][2][2]"
   ],
   "metadata": {
    "colab": {
     "base_uri": "https://localhost:8080/"
    },
    "id": "oPhHfEVmiADe",
    "outputId": "dd48e9b9-2b00-488d-c612-ffc889dd7750"
   },
   "execution_count": null,
   "outputs": [
    {
     "output_type": "execute_result",
     "data": {
      "text/plain": [
       "tensor(9)"
      ]
     },
     "metadata": {},
     "execution_count": 97
    }
   ]
  },
  {
   "cell_type": "code",
   "source": [
    "# u can use \":\" to select \"all\" off a target dimension\n",
    "x[:, 0]"
   ],
   "metadata": {
    "colab": {
     "base_uri": "https://localhost:8080/"
    },
    "id": "Ah2rswIbiD5G",
    "outputId": "51b01783-e1ce-4816-9e2d-045ebbdf2ca1"
   },
   "execution_count": null,
   "outputs": [
    {
     "output_type": "execute_result",
     "data": {
      "text/plain": [
       "tensor([[1, 2, 3]])"
      ]
     },
     "metadata": {},
     "execution_count": 98
    }
   ]
  },
  {
   "cell_type": "code",
   "source": [
    "# get all values of 0th and 1st dim but only index 1 of 2nd dim\n",
    "x[:, :, 1]"
   ],
   "metadata": {
    "colab": {
     "base_uri": "https://localhost:8080/"
    },
    "id": "PqM4c3ALiMsa",
    "outputId": "18cf908f-7a56-4914-eaa1-d71982667c8d"
   },
   "execution_count": null,
   "outputs": [
    {
     "output_type": "execute_result",
     "data": {
      "text/plain": [
       "tensor([[2, 5, 8]])"
      ]
     },
     "metadata": {},
     "execution_count": 99
    }
   ]
  },
  {
   "cell_type": "code",
   "source": [
    "# get all values of the dim but only the 1 index value 1st and 2nd dim\n",
    "x[:, 1, 1]"
   ],
   "metadata": {
    "colab": {
     "base_uri": "https://localhost:8080/"
    },
    "id": "FxAlG7HOifdl",
    "outputId": "9252bc7e-e547-4e7a-869a-4a42395ea69f"
   },
   "execution_count": null,
   "outputs": [
    {
     "output_type": "execute_result",
     "data": {
      "text/plain": [
       "tensor([5])"
      ]
     },
     "metadata": {},
     "execution_count": 100
    }
   ]
  },
  {
   "cell_type": "code",
   "source": [
    "# get index 0 of 0th and 1st dim and all values off 2nd dim\n",
    "x[0, 0, :]"
   ],
   "metadata": {
    "colab": {
     "base_uri": "https://localhost:8080/"
    },
    "id": "vUpFuYrRie7Z",
    "outputId": "ed88b316-7218-4757-bdff-67db685979a9"
   },
   "execution_count": null,
   "outputs": [
    {
     "output_type": "execute_result",
     "data": {
      "text/plain": [
       "tensor([1, 2, 3])"
      ]
     },
     "metadata": {},
     "execution_count": 101
    }
   ]
  },
  {
   "cell_type": "code",
   "source": [
    "x[0][2][2]"
   ],
   "metadata": {
    "id": "ONoJbCs8i9r_",
    "outputId": "0ace8590-6eb1-49a5-9451-1390e58b8464",
    "colab": {
     "base_uri": "https://localhost:8080/"
    }
   },
   "execution_count": null,
   "outputs": [
    {
     "output_type": "execute_result",
     "data": {
      "text/plain": [
       "tensor(9)"
      ]
     },
     "metadata": {},
     "execution_count": 102
    }
   ]
  },
  {
   "cell_type": "code",
   "source": [
    "x[0, 1, :]"
   ],
   "metadata": {
    "colab": {
     "base_uri": "https://localhost:8080/"
    },
    "id": "h4Dqt1MgBNib",
    "outputId": "f4a68bc7-4bee-4270-a79a-452de0248c65"
   },
   "execution_count": null,
   "outputs": [
    {
     "output_type": "execute_result",
     "data": {
      "text/plain": [
       "tensor([4, 5, 6])"
      ]
     },
     "metadata": {},
     "execution_count": 103
    }
   ]
  },
  {
   "cell_type": "code",
   "source": [
    "x[:, :, 1]"
   ],
   "metadata": {
    "colab": {
     "base_uri": "https://localhost:8080/"
    },
    "id": "-NhllZfjBrhP",
    "outputId": "89510ccf-fb89-4213-cd47-faae39bf6c39"
   },
   "execution_count": null,
   "outputs": [
    {
     "output_type": "execute_result",
     "data": {
      "text/plain": [
       "tensor([[2, 5, 8]])"
      ]
     },
     "metadata": {},
     "execution_count": 104
    }
   ]
  },
  {
   "cell_type": "markdown",
   "source": [
    "## Pytorch tensors and numpy\n",
    "\n",
    "Numpy is a populare sicentific python numerical computing library. and because of this, pytorch has fuctionality to interact with it.\n",
    "\n",
    "* Data in numpy, want in pytorch tensor -> `torch.from_numpy(ndarray)`\n",
    "* Pytorch tensor -> Numpy -> `torch.Tensor.numpy()`"
   ],
   "metadata": {
    "id": "Ey8eW0-fB17P"
   }
  },
  {
   "cell_type": "code",
   "source": [
    "#numpy array to tensor\n",
    "import numpy as np\n",
    "\n",
    "array = np.arange(1.0, 8.0)\n",
    "tensor = torch.from_numpy(array) # warning when cnverting from from numpy -> pytorch, p[ytorch reflects numpy's default data ty[e of float 64 unless specified otherwise\n",
    "array, tensor"
   ],
   "metadata": {
    "colab": {
     "base_uri": "https://localhost:8080/"
    },
    "id": "9mbWKy5aDi5C",
    "outputId": "af941e9d-4bae-4497-9330-4b19d612bd18"
   },
   "execution_count": null,
   "outputs": [
    {
     "output_type": "execute_result",
     "data": {
      "text/plain": [
       "(array([1., 2., 3., 4., 5., 6., 7.]),\n",
       " tensor([1., 2., 3., 4., 5., 6., 7.], dtype=torch.float64))"
      ]
     },
     "metadata": {},
     "execution_count": 105
    }
   ]
  },
  {
   "cell_type": "code",
   "source": [
    "array.dtype"
   ],
   "metadata": {
    "colab": {
     "base_uri": "https://localhost:8080/"
    },
    "id": "w_aUv349DxNt",
    "outputId": "3ab982af-485b-4a43-f823-78a5f174eae5"
   },
   "execution_count": null,
   "outputs": [
    {
     "output_type": "execute_result",
     "data": {
      "text/plain": [
       "dtype('float64')"
      ]
     },
     "metadata": {},
     "execution_count": 106
    }
   ]
  },
  {
   "cell_type": "code",
   "source": [
    "tensor.dtype"
   ],
   "metadata": {
    "colab": {
     "base_uri": "https://localhost:8080/"
    },
    "id": "Qjzu03wiD5v0",
    "outputId": "f9b65e86-b54e-45b5-9345-9312d46b169c"
   },
   "execution_count": null,
   "outputs": [
    {
     "output_type": "execute_result",
     "data": {
      "text/plain": [
       "torch.float64"
      ]
     },
     "metadata": {},
     "execution_count": 107
    }
   ]
  },
  {
   "cell_type": "code",
   "source": [
    "np.arange(1.0, 8.0).dtype"
   ],
   "metadata": {
    "colab": {
     "base_uri": "https://localhost:8080/"
    },
    "id": "x0ki474_GM84",
    "outputId": "40d4b211-0f3c-4001-84dc-31042a5c3365"
   },
   "execution_count": null,
   "outputs": [
    {
     "output_type": "execute_result",
     "data": {
      "text/plain": [
       "dtype('float64')"
      ]
     },
     "metadata": {},
     "execution_count": 108
    }
   ]
  },
  {
   "cell_type": "code",
   "source": [
    "#Change the value of array, what will this do to `tensor`?\n",
    "array += 1\n",
    "array, tensor"
   ],
   "metadata": {
    "colab": {
     "base_uri": "https://localhost:8080/"
    },
    "id": "2PLvr6k0FIG4",
    "outputId": "87cd30fb-f358-4838-b566-dca54cbed123"
   },
   "execution_count": null,
   "outputs": [
    {
     "output_type": "execute_result",
     "data": {
      "text/plain": [
       "(array([2., 3., 4., 5., 6., 7., 8.]),\n",
       " tensor([2., 3., 4., 5., 6., 7., 8.], dtype=torch.float64))"
      ]
     },
     "metadata": {},
     "execution_count": 109
    }
   ]
  },
  {
   "cell_type": "code",
   "source": [
    "# Tensor to numpy array\n",
    "tensor = torch.ones(7)\n",
    "numpy_tensor = tensor.numpy()\n",
    "tensor, numpy_tensor"
   ],
   "metadata": {
    "colab": {
     "base_uri": "https://localhost:8080/"
    },
    "id": "jLwNKJYpF3Yk",
    "outputId": "d69677c2-0e8a-4967-a5a1-1a15d997c1c3"
   },
   "execution_count": null,
   "outputs": [
    {
     "output_type": "execute_result",
     "data": {
      "text/plain": [
       "(tensor([1., 1., 1., 1., 1., 1., 1.]),\n",
       " array([1., 1., 1., 1., 1., 1., 1.], dtype=float32))"
      ]
     },
     "metadata": {},
     "execution_count": 110
    }
   ]
  },
  {
   "cell_type": "code",
   "source": [
    "# Change the tensor, what happens to `numpy_tensor`?\n",
    "tensor = tensor + 1\n",
    "tensor, numpy_tensor"
   ],
   "metadata": {
    "colab": {
     "base_uri": "https://localhost:8080/"
    },
    "id": "89yxGdDlGXJ2",
    "outputId": "13608e83-70b3-41ef-a639-00496dcee38f"
   },
   "execution_count": null,
   "outputs": [
    {
     "output_type": "execute_result",
     "data": {
      "text/plain": [
       "(tensor([2., 2., 2., 2., 2., 2., 2.]),\n",
       " array([1., 1., 1., 1., 1., 1., 1.], dtype=float32))"
      ]
     },
     "metadata": {},
     "execution_count": 111
    }
   ]
  },
  {
   "cell_type": "markdown",
   "source": [
    "## Reproducibility (trying to take random out of random)\n",
    "\n",
    "in short how how nn learns :\n",
    "`start with random numbers -> tensor operations -> update random numbers to try and make them better representations of the data -> again -> again -> again...`\n",
    "\n",
    "to reduce the randomness in nn and pytorch comes the concept of a random seed. Essentially what the random seed does is \"flavor\" the randomness."
   ],
   "metadata": {
    "id": "AEMHDaGDAXAs"
   }
  },
  {
   "cell_type": "code",
   "source": [
    "import torch\n",
    "\n",
    "# create 2 random tensors\n",
    "random_tensor_A = torch.rand(3, 4)\n",
    "random_tensor_B = torch.rand(3, 4)\n",
    "\n",
    "print(random_tensor_A)\n",
    "print(random_tensor_B)\n",
    "print(random_tensor_A == random_tensor_B)"
   ],
   "metadata": {
    "colab": {
     "base_uri": "https://localhost:8080/"
    },
    "id": "Gdza8xyqBM4m",
    "outputId": "b77977ac-ead3-43ea-d31a-b87426fb69cc"
   },
   "execution_count": null,
   "outputs": [
    {
     "output_type": "stream",
     "name": "stdout",
     "text": [
      "tensor([[0.8407, 0.9758, 0.0167, 0.7631],\n",
      "        [0.0599, 0.9191, 0.4887, 0.3844],\n",
      "        [0.4240, 0.0803, 0.5759, 0.1396]])\n",
      "tensor([[0.7555, 0.3745, 0.0703, 0.4372],\n",
      "        [0.9548, 0.5997, 0.8706, 0.1472],\n",
      "        [0.8391, 0.0706, 0.5498, 0.4487]])\n",
      "tensor([[False, False, False, False],\n",
      "        [False, False, False, False],\n",
      "        [False, False, False, False]])\n"
     ]
    }
   ]
  },
  {
   "cell_type": "code",
   "source": [
    "# Let's make some random but reproducible tensors\n",
    "\n",
    "import torch\n",
    "\n",
    "# set the random sed\n",
    "RANDOM_SEED = 42\n",
    "torch.manual_seed(RANDOM_SEED)\n",
    "random_tensor_C = torch.rand(3, 4)\n",
    "\n",
    "torch.manual_seed(RANDOM_SEED)\n",
    "# torch.manual_seed(RANDOM_SEED)\n",
    "random_tensor_D = torch.rand(3, 4)\n",
    "\n",
    "print(random_tensor_C)\n",
    "print(random_tensor_D)\n",
    "print(random_tensor_C == random_tensor_D)"
   ],
   "metadata": {
    "colab": {
     "base_uri": "https://localhost:8080/"
    },
    "id": "A-zIpFDTBRLm",
    "outputId": "fab3da97-9e76-404c-a1fb-dc602e2f3c4b"
   },
   "execution_count": null,
   "outputs": [
    {
     "output_type": "stream",
     "name": "stdout",
     "text": [
      "tensor([[0.8823, 0.9150, 0.3829, 0.9593],\n",
      "        [0.3904, 0.6009, 0.2566, 0.7936],\n",
      "        [0.9408, 0.1332, 0.9346, 0.5936]])\n",
      "tensor([[0.8823, 0.9150, 0.3829, 0.9593],\n",
      "        [0.3904, 0.6009, 0.2566, 0.7936],\n",
      "        [0.9408, 0.1332, 0.9346, 0.5936]])\n",
      "tensor([[True, True, True, True],\n",
      "        [True, True, True, True],\n",
      "        [True, True, True, True]])\n"
     ]
    }
   ]
  },
  {
   "cell_type": "markdown",
   "source": [
    "Extra resources for reproducibility :\n",
    "* https://pytorch.org/docs/stable/notes/randomness.html\n",
    "* https://en.wikipedia.org/wiki/Random_seed"
   ],
   "metadata": {
    "id": "zv7QlRoRD6M8"
   }
  },
  {
   "cell_type": "markdown",
   "source": [
    "## Running tensors and PyTorch objects on the GPUs (and making faster compututations)\n",
    "\n",
    "GPUs = faster computation on numbers, thanks to CUD + NVIDIA hardware + PyTorch working behind the scenes to make everything hunky dory (good)"
   ],
   "metadata": {
    "id": "yWDybHBYEgcp"
   }
  },
  {
   "cell_type": "markdown",
   "source": [
    "## 1. Getting a GPU\n",
    "\n",
    "1. Easiest - Use Google Colab for a free GPU (options to upgrade as well)\n",
    "2. Use your own GPU - takes a little bit of setup and requires the investment of purchasing a GPU, there's lots of options... see this post for what option to get: https://timdettmers.com/2023/01/30/which-gpu-for-deep-learning/\n",
    "3. Use cloud computing - GCP, AWS, Azure, these services allow you to rent computers on the cloud and access them\n",
    "\n",
    "for 2 & 3 Pytorch + GPU drivers (CUDA) takes a little bit of setting up, to do this, refer to pytorch setup documentation : https://pytorch.org/get-started/locally/"
   ],
   "metadata": {
    "id": "B5UIdFW-FITh"
   }
  },
  {
   "cell_type": "markdown",
   "source": [
    "### 2. Check for GPU access with pytorch"
   ],
   "metadata": {
    "id": "T3SFEizsNf1n"
   }
  },
  {
   "cell_type": "markdown",
   "source": [
    "For pytorch since it's capable of running compute on the GPU or CPU, it's best practice to setup device agnosic code : https://pytorch.org/docs/stable/notes/cuda.html#device-agnostic-code\n",
    "\n",
    "E.g run on gpu if available, else default to GPU"
   ],
   "metadata": {
    "id": "HPuvbTqYEu_M"
   }
  },
  {
   "cell_type": "code",
   "source": [
    "import torch\n",
    "torch.cuda.is_available()"
   ],
   "metadata": {
    "colab": {
     "base_uri": "https://localhost:8080/"
    },
    "id": "HzG7r0StS5Jg",
    "outputId": "5ddb57d4-8136-485b-c316-35b4a285468b"
   },
   "execution_count": null,
   "outputs": [
    {
     "output_type": "execute_result",
     "data": {
      "text/plain": [
       "True"
      ]
     },
     "metadata": {},
     "execution_count": 114
    }
   ]
  },
  {
   "cell_type": "code",
   "source": [
    "# setup devie agnostic code\n",
    "device = \"cuda\" if torch.cuda.is_available() else \"cpu\"\n",
    "device"
   ],
   "metadata": {
    "id": "7rb0UFMgTBlu",
    "colab": {
     "base_uri": "https://localhost:8080/",
     "height": 36
    },
    "outputId": "885f7d2a-dab9-4f8f-a56f-e72b8d59a26e"
   },
   "execution_count": null,
   "outputs": [
    {
     "output_type": "execute_result",
     "data": {
      "text/plain": [
       "'cuda'"
      ],
      "application/vnd.google.colaboratory.intrinsic+json": {
       "type": "string"
      }
     },
     "metadata": {},
     "execution_count": 115
    }
   ]
  },
  {
   "cell_type": "code",
   "source": [
    "#count number of devices\n",
    "torch.cuda.device_count()"
   ],
   "metadata": {
    "colab": {
     "base_uri": "https://localhost:8080/"
    },
    "id": "CgRRiz9TFFME",
    "outputId": "dda7ba10-03da-4328-e1f5-0b5ed20ccda3"
   },
   "execution_count": null,
   "outputs": [
    {
     "output_type": "execute_result",
     "data": {
      "text/plain": [
       "1"
      ]
     },
     "metadata": {},
     "execution_count": 116
    }
   ]
  },
  {
   "cell_type": "markdown",
   "source": [
    "## Putting tensors (and models) on the GPU\n",
    "\n",
    "the reasons we want our tensors/models on the GPU is because using a GPU results in faster computations"
   ],
   "metadata": {
    "id": "rUeHDPL6GmuV"
   }
  },
  {
   "cell_type": "code",
   "source": [
    "# create a tensor (default on the GPU)0\n",
    "tensorrr = torch.tensor([1, 2, 3])\n",
    "\n",
    "# tensor not on GPU\n",
    "print(tensorrr, tensorrr.device)"
   ],
   "metadata": {
    "colab": {
     "base_uri": "https://localhost:8080/"
    },
    "id": "cqATs0GWHOWb",
    "outputId": "885d9b13-85e4-4148-f7c9-c0439cdeffdd"
   },
   "execution_count": null,
   "outputs": [
    {
     "output_type": "stream",
     "name": "stdout",
     "text": [
      "tensor([1, 2, 3]) cpu\n"
     ]
    }
   ]
  },
  {
   "cell_type": "code",
   "source": [
    "# Move tensor to gpu if available\n",
    "tensor_on_gpu = tensorrr.to(device)\n",
    "tensor_on_gpu"
   ],
   "metadata": {
    "colab": {
     "base_uri": "https://localhost:8080/"
    },
    "id": "fxlioE8KHmbX",
    "outputId": "4709ce7d-eab2-4547-aff5-824768f9be04"
   },
   "execution_count": null,
   "outputs": [
    {
     "output_type": "execute_result",
     "data": {
      "text/plain": [
       "tensor([1, 2, 3], device='cuda:0')"
      ]
     },
     "metadata": {},
     "execution_count": 118
    }
   ]
  },
  {
   "cell_type": "markdown",
   "source": [
    "### 4. Moving tensors back to the cpu\n"
   ],
   "metadata": {
    "id": "D8w6bcq4Hyyv"
   }
  },
  {
   "cell_type": "code",
   "source": [
    "#iif tensor cant transform it to numpy\n",
    "tensor_on_gpu.cpu().numpy()"
   ],
   "metadata": {
    "colab": {
     "base_uri": "https://localhost:8080/"
    },
    "id": "-UYWnwAbI7-q",
    "outputId": "c10bcc2a-6bae-442e-a868-6af172ee22cf"
   },
   "execution_count": null,
   "outputs": [
    {
     "output_type": "execute_result",
     "data": {
      "text/plain": [
       "array([1, 2, 3])"
      ]
     },
     "metadata": {},
     "execution_count": 119
    }
   ]
  },
  {
   "cell_type": "code",
   "source": [
    "# to fix the gpu with numpt issue, we can first set it to the cpu\n",
    "tensor_getting_back_to_cpu = tensor_on_gpu.cpu().numpy()\n",
    "tensor_getting_back_to_cpu"
   ],
   "metadata": {
    "colab": {
     "base_uri": "https://localhost:8080/"
    },
    "id": "VKxnU7ITJKUz",
    "outputId": "7f4eb134-d28d-4a5f-f583-c7d3742b41cd"
   },
   "execution_count": null,
   "outputs": [
    {
     "output_type": "execute_result",
     "data": {
      "text/plain": [
       "array([1, 2, 3])"
      ]
     },
     "metadata": {},
     "execution_count": 120
    }
   ]
  },
  {
   "cell_type": "markdown",
   "source": [
    "### Exercises & Extra-curriculum : https://www.learnpytorch.io/00_pytorch_fundamentals/#exercises"
   ],
   "metadata": {
    "id": "ZQcfe6S1LGSv"
   }
  },
  {
   "cell_type": "code",
   "source": [
    "latihan = torch.rand(7, 7)\n",
    "latihan"
   ],
   "metadata": {
    "id": "ASDxwE2lLPca",
    "colab": {
     "base_uri": "https://localhost:8080/"
    },
    "outputId": "f2a45eec-929b-4d3e-a072-d899653cb931"
   },
   "execution_count": null,
   "outputs": [
    {
     "output_type": "execute_result",
     "data": {
      "text/plain": [
       "tensor([[0.8694, 0.5677, 0.7411, 0.4294, 0.8854, 0.5739, 0.2666],\n",
       "        [0.6274, 0.2696, 0.4414, 0.2969, 0.8317, 0.1053, 0.2695],\n",
       "        [0.3588, 0.1994, 0.5472, 0.0062, 0.9516, 0.0753, 0.8860],\n",
       "        [0.5832, 0.3376, 0.8090, 0.5779, 0.9040, 0.5547, 0.3423],\n",
       "        [0.6343, 0.3644, 0.7104, 0.9464, 0.7890, 0.2814, 0.7886],\n",
       "        [0.5895, 0.7539, 0.1952, 0.0050, 0.3068, 0.1165, 0.9103],\n",
       "        [0.6440, 0.7071, 0.6581, 0.4913, 0.8913, 0.1447, 0.5315]])"
      ]
     },
     "metadata": {},
     "execution_count": 121
    }
   ]
  },
  {
   "cell_type": "code",
   "source": [
    "latihan2 = torch.rand(1, 7)\n",
    "latihan2"
   ],
   "metadata": {
    "colab": {
     "base_uri": "https://localhost:8080/"
    },
    "id": "mJl-82HQUN57",
    "outputId": "770cc80f-53d3-4a22-8fe6-9e396f451bc6"
   },
   "execution_count": null,
   "outputs": [
    {
     "output_type": "execute_result",
     "data": {
      "text/plain": [
       "tensor([[0.1587, 0.6542, 0.3278, 0.6532, 0.3958, 0.9147, 0.2036]])"
      ]
     },
     "metadata": {},
     "execution_count": 122
    }
   ]
  },
  {
   "cell_type": "code",
   "source": [
    "perkalian = torch.matmul(latihan, latihan2.T)\n",
    "perkalian"
   ],
   "metadata": {
    "colab": {
     "base_uri": "https://localhost:8080/"
    },
    "id": "_q5CHAJQWeHS",
    "outputId": "0da19b1f-0737-42b0-f71e-2c004f3fec8a"
   },
   "execution_count": null,
   "outputs": [
    {
     "output_type": "execute_result",
     "data": {
      "text/plain": [
       "tensor([[1.9625],\n",
       "        [1.0950],\n",
       "        [0.9967],\n",
       "        [1.8910],\n",
       "        [1.9205],\n",
       "        [1.0674],\n",
       "        [1.6949]])"
      ]
     },
     "metadata": {},
     "execution_count": 123
    }
   ]
  },
  {
   "cell_type": "code",
   "source": [
    "perkalian"
   ],
   "metadata": {
    "colab": {
     "base_uri": "https://localhost:8080/"
    },
    "id": "xnAS7G8Qa9jW",
    "outputId": "f1c48bf3-79c7-4060-f8ad-0303b58dddbb"
   },
   "execution_count": null,
   "outputs": [
    {
     "output_type": "execute_result",
     "data": {
      "text/plain": [
       "tensor([[1.9625],\n",
       "        [1.0950],\n",
       "        [0.9967],\n",
       "        [1.8910],\n",
       "        [1.9205],\n",
       "        [1.0674],\n",
       "        [1.6949]])"
      ]
     },
     "metadata": {},
     "execution_count": 124
    }
   ]
  },
  {
   "cell_type": "code",
   "source": [
    "torch.manual_seed(1234)"
   ],
   "metadata": {
    "colab": {
     "base_uri": "https://localhost:8080/"
    },
    "id": "Qh_RHataWv_q",
    "outputId": "718fe8c1-dcc2-4826-fac1-e4aa66eac6aa"
   },
   "execution_count": null,
   "outputs": [
    {
     "output_type": "execute_result",
     "data": {
      "text/plain": [
       "<torch._C.Generator at 0x7adf299260d0>"
      ]
     },
     "metadata": {},
     "execution_count": 127
    }
   ]
  },
  {
   "cell_type": "code",
   "source": [
    "random3 = torch.rand(2, 3, device='cuda')\n",
    "random3"
   ],
   "metadata": {
    "colab": {
     "base_uri": "https://localhost:8080/"
    },
    "id": "SvJcHdUWioom",
    "outputId": "df1000a7-0383-46f6-b7ad-12341ec978de"
   },
   "execution_count": null,
   "outputs": [
    {
     "output_type": "execute_result",
     "data": {
      "text/plain": [
       "tensor([[0.1272, 0.8167, 0.5440],\n",
       "        [0.6601, 0.2721, 0.9737]], device='cuda:0')"
      ]
     },
     "metadata": {},
     "execution_count": 128
    }
   ]
  },
  {
   "cell_type": "code",
   "source": [
    "random4 = torch.rand(2,3 , device='cuda')\n",
    "random4"
   ],
   "metadata": {
    "colab": {
     "base_uri": "https://localhost:8080/"
    },
    "id": "s8XZY8LP8uB_",
    "outputId": "e855b7f6-82b3-4573-cb3d-362bbe155e1d"
   },
   "execution_count": null,
   "outputs": [
    {
     "output_type": "execute_result",
     "data": {
      "text/plain": [
       "tensor([[0.6208, 0.0276, 0.3255],\n",
       "        [0.1114, 0.6812, 0.3608]], device='cuda:0')"
      ]
     },
     "metadata": {},
     "execution_count": 129
    }
   ]
  },
  {
   "cell_type": "code",
   "source": [
    "hasil34 = torch.mm(random3, random4.T)\n",
    "hasil34"
   ],
   "metadata": {
    "colab": {
     "base_uri": "https://localhost:8080/"
    },
    "id": "3R8rJvP_8x2H",
    "outputId": "183b1112-ab71-4956-d817-9e80aec96b7e"
   },
   "execution_count": null,
   "outputs": [
    {
     "output_type": "execute_result",
     "data": {
      "text/plain": [
       "tensor([[0.2786, 0.7668],\n",
       "        [0.7343, 0.6102]], device='cuda:0')"
      ]
     },
     "metadata": {},
     "execution_count": 131
    }
   ]
  },
  {
   "cell_type": "code",
   "source": [
    "print(hasil34.max())\n",
    "print(hasil34.min())"
   ],
   "metadata": {
    "colab": {
     "base_uri": "https://localhost:8080/"
    },
    "id": "XboUilRf-EAh",
    "outputId": "c1bfe72c-00d4-4e84-ede5-37196fbc0fa6"
   },
   "execution_count": null,
   "outputs": [
    {
     "output_type": "stream",
     "name": "stdout",
     "text": [
      "tensor(0.7668, device='cuda:0')\n",
      "tensor(0.2786, device='cuda:0')\n"
     ]
    }
   ]
  },
  {
   "cell_type": "code",
   "source": [
    "print(hasil34.argmax())\n",
    "print(hasil34.argmin())"
   ],
   "metadata": {
    "colab": {
     "base_uri": "https://localhost:8080/"
    },
    "id": "gbdmN3-M-ZoP",
    "outputId": "0c9362fa-1526-44c8-88b6-6486aaec1c02"
   },
   "execution_count": null,
   "outputs": [
    {
     "output_type": "stream",
     "name": "stdout",
     "text": [
      "tensor(1, device='cuda:0')\n",
      "tensor(0, device='cuda:0')\n"
     ]
    }
   ]
  },
  {
   "cell_type": "code",
   "source": [
    "random5 = torch.rand(1, 1, 1, 10)\n",
    "random5"
   ],
   "metadata": {
    "colab": {
     "base_uri": "https://localhost:8080/"
    },
    "id": "E3kfaJeV-vgK",
    "outputId": "e2bbbe69-4c4f-4730-be0c-3b7d4dd7b970"
   },
   "execution_count": null,
   "outputs": [
    {
     "output_type": "execute_result",
     "data": {
      "text/plain": [
       "tensor([[[[0.5349, 0.1988, 0.6592, 0.6569, 0.2328, 0.4251, 0.2071, 0.6297,\n",
       "           0.3653, 0.8513]]]])"
      ]
     },
     "metadata": {},
     "execution_count": 142
    }
   ]
  },
  {
   "cell_type": "code",
   "source": [
    "torch.manual_seed(7)\n",
    "\n",
    "sq1 = random5.squeeze()\n",
    "sq2 = sq1.squeeze()\n",
    "sq3 = sq2.squeeze()\n",
    "sq3"
   ],
   "metadata": {
    "colab": {
     "base_uri": "https://localhost:8080/"
    },
    "id": "xAL-H0ng-6ij",
    "outputId": "1f14c04f-0eba-41bf-f339-5ee469fdfc98"
   },
   "execution_count": null,
   "outputs": [
    {
     "output_type": "execute_result",
     "data": {
      "text/plain": [
       "tensor([0.5349, 0.1988, 0.6592, 0.6569, 0.2328, 0.4251, 0.2071, 0.6297, 0.3653,\n",
       "        0.8513])"
      ]
     },
     "metadata": {},
     "execution_count": 143
    }
   ]
  },
  {
   "cell_type": "code",
   "source": [
    "print(sq3[0])\n",
    "print(sq3[0].shape)\n",
    "\n",
    "print(sq3[1])\n",
    "print(sq3[1].shape)\n",
    "\n"
   ],
   "metadata": {
    "colab": {
     "base_uri": "https://localhost:8080/"
    },
    "id": "f84BQ5vGCeQn",
    "outputId": "9a20fdc7-7cbf-4031-ab98-e887268ae407"
   },
   "execution_count": null,
   "outputs": [
    {
     "output_type": "stream",
     "name": "stdout",
     "text": [
      "tensor(0.5349)\n",
      "torch.Size([])\n",
      "tensor(0.1988)\n",
      "torch.Size([])\n"
     ]
    }
   ]
  }
 ]
}
