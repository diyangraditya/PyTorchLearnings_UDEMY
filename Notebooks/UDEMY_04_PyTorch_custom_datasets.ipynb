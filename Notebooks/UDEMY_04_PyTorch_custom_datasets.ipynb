{
 "cells": [
  {
   "metadata": {},
   "cell_type": "markdown",
   "source": [
    "# 04. PyTorch Custom Datasets Video Notebook\n",
    "\n",
    "We've used some datasets with PyTorch before\n",
    "\n",
    "But how do you get your own data into PyTorch?\n",
    "\n",
    "One of the ways to do is via : custom datasets.\n",
    "\n",
    "## Domain libraries\n",
    "Dpeneding on what you're working on, vision, text, audio. recommendation, you'll want to look into each of the PyTorch domain libraries for existing data loading functions and customizable data loading functions\n",
    "\n",
    "**Resources :**\n",
    "* Book version of the course materials for 04 : https://www.learnpytorch.io/04_pytorch_custom_datasets/\n",
    "* Ground truth version of notebook 04: https://github.com/mrdbourke/pytorch-deep-learning/blob/main/04_pytorch_custom_datasets.ipynb"
   ],
   "id": "bcd460e75a7e76f8"
  },
  {
   "metadata": {},
   "cell_type": "markdown",
   "source": "# 0. Importing PyTorch and setting up device-agnostic code",
   "id": "f6c3196073747aa1"
  },
  {
   "cell_type": "code",
   "id": "initial_id",
   "metadata": {
    "collapsed": true,
    "ExecuteTime": {
     "end_time": "2025-08-06T04:48:12.594239Z",
     "start_time": "2025-08-06T04:48:10.896527Z"
    }
   },
   "source": [
    "import torch\n",
    "from torch import nn\n",
    "\n",
    "print(torch.__version__)"
   ],
   "outputs": [
    {
     "name": "stdout",
     "output_type": "stream",
     "text": [
      "2.5.1+cu124\n"
     ]
    }
   ],
   "execution_count": 1
  },
  {
   "metadata": {
    "ExecuteTime": {
     "end_time": "2025-08-06T04:48:12.885102Z",
     "start_time": "2025-08-06T04:48:12.620796Z"
    }
   },
   "cell_type": "code",
   "source": "!nvidia-smi",
   "id": "7298fa649a8c07ac",
   "outputs": [
    {
     "name": "stdout",
     "output_type": "stream",
     "text": [
      "Wed Aug  6 11:48:12 2025       \r\n",
      "+-----------------------------------------------------------------------------------------+\r\n",
      "| NVIDIA-SMI 570.153.02             Driver Version: 570.153.02     CUDA Version: 12.8     |\r\n",
      "|-----------------------------------------+------------------------+----------------------+\r\n",
      "| GPU  Name                 Persistence-M | Bus-Id          Disp.A | Volatile Uncorr. ECC |\r\n",
      "| Fan  Temp   Perf          Pwr:Usage/Cap |           Memory-Usage | GPU-Util  Compute M. |\r\n",
      "|                                         |                        |               MIG M. |\r\n",
      "|=========================================+========================+======================|\r\n",
      "|   0  NVIDIA GeForce RTX 3050 ...    Off |   00000000:01:00.0 Off |                  N/A |\r\n",
      "| N/A   56C    P8              9W /   35W |      56MiB /   4096MiB |     44%      Default |\r\n",
      "|                                         |                        |                  N/A |\r\n",
      "+-----------------------------------------+------------------------+----------------------+\r\n",
      "                                                                                         \r\n",
      "+-----------------------------------------------------------------------------------------+\r\n",
      "| Processes:                                                                              |\r\n",
      "|  GPU   GI   CI              PID   Type   Process name                        GPU Memory |\r\n",
      "|        ID   ID                                                               Usage      |\r\n",
      "|=========================================================================================|\r\n",
      "|    0   N/A  N/A           28893      G   ...ess --variations-seed-version         43MiB |\r\n",
      "+-----------------------------------------------------------------------------------------+\r\n"
     ]
    }
   ],
   "execution_count": 2
  },
  {
   "metadata": {
    "ExecuteTime": {
     "end_time": "2025-08-06T04:48:21.585092Z",
     "start_time": "2025-08-06T04:48:21.539495Z"
    }
   },
   "cell_type": "code",
   "source": [
    "# setup agnostic code\n",
    "device = \"cuda\" if torch.cuda.is_available() else \"cpu\"\n",
    "device"
   ],
   "id": "cad7c5e48efde15d",
   "outputs": [
    {
     "data": {
      "text/plain": [
       "'cuda'"
      ]
     },
     "execution_count": 3,
     "metadata": {},
     "output_type": "execute_result"
    }
   ],
   "execution_count": 3
  },
  {
   "metadata": {},
   "cell_type": "markdown",
   "source": [
    "## 1. Get data\n",
    "\n",
    "our datasets is a subset of the Food101 dataset\n",
    "\n",
    "Food 101 starts 101 different classes of food and 1000 images per class (750 training, 250 testing)\n",
    "\n",
    "Our dataset starts with 3 classes of food and only 10% of the images (~75 training, 25 testing)\n",
    "\n",
    "Why do this?\n",
    "\n",
    "When starting out ML projects, it's important to try things on a small scale and then increase the scale when necessary\n",
    "\n",
    "The whole point is to speed up how fast you can experiment"
   ],
   "id": "ceb620a6a85aa950"
  },
  {
   "metadata": {
    "ExecuteTime": {
     "end_time": "2025-08-06T07:18:45.533822Z",
     "start_time": "2025-08-06T07:18:39.003988Z"
    }
   },
   "cell_type": "code",
   "source": [
    "import requests\n",
    "import zipfile\n",
    "from pathlib import Path\n",
    "\n",
    "# Setup path to a data folder\n",
    "data_path = Path(\"../Datasets/\")\n",
    "image_path = data_path / \"pizza_steak_sushi\"\n",
    "\n",
    "# If the image folder doesn't exist, download it and prepare it..\n",
    "if image_path.is_dir():\n",
    "    print(f\"{image_path} exists, skipping download\")\n",
    "else:\n",
    "    print(f\"{image_path} does not exist\")\n",
    "    image_path.mkdir(parents=True, exist_ok=True)\n",
    "\n",
    "# Download pizza steak sushi data\n",
    "with open(data_path / \"pizza_steak_sushi.zip\", \"wb\") as f:\n",
    "    requests = requests.get(\"https://github.com/mrdbourke/pytorch-deep-learning/raw/main/data/pizza_steak_sushi.zip\")\n",
    "    print(\"Downloading pizza_steak_sushi.zip\")\n",
    "    f.write(requests.content)\n",
    "\n",
    "# unzip pissa sushi steak data\n",
    "with zipfile.ZipFile(data_path / \"pizza_steak_sushi.zip\", \"r\") as zip_ref:\n",
    "    print(\"Unzipping pizza_steak_sushi.zip\")\n",
    "    zip_ref.extractall(image_path)"
   ],
   "id": "6399782b13f0b549",
   "outputs": [
    {
     "name": "stdout",
     "output_type": "stream",
     "text": [
      "../Datasets/pizza_steak_sushi exists, skipping download\n",
      "Downloading pizza_steak_sushi.zip\n",
      "Unzipping pizza_steak_sushi.zip\n"
     ]
    }
   ],
   "execution_count": 5
  },
  {
   "metadata": {},
   "cell_type": "markdown",
   "source": "## 2. Becoming one with the data (data preperation and data exploration)",
   "id": "135675853afbc77b"
  },
  {
   "metadata": {
    "ExecuteTime": {
     "end_time": "2025-08-06T09:02:30.948370Z",
     "start_time": "2025-08-06T09:02:30.940028Z"
    }
   },
   "cell_type": "code",
   "source": [
    "import os\n",
    "def walk_through_dir(dir_path):\n",
    "    \"\"\"\n",
    "    walks through dir_path returning its contents\n",
    "    \"\"\"\n",
    "    for dirpath, dirnames, filenames in os.walk(dir_path):\n",
    "        print(f\"There are {len(dirnames)} directories and {len(filenames)} images in '{dirpath}'.\")"
   ],
   "id": "2175023531f87211",
   "outputs": [],
   "execution_count": 6
  },
  {
   "metadata": {
    "ExecuteTime": {
     "end_time": "2025-08-06T09:02:37.750333Z",
     "start_time": "2025-08-06T09:02:37.745745Z"
    }
   },
   "cell_type": "code",
   "source": "walk_through_dir(image_path)",
   "id": "9b5dce77383fa1e6",
   "outputs": [
    {
     "name": "stdout",
     "output_type": "stream",
     "text": [
      "There are 2 directories and 0 images in '../Datasets/pizza_steak_sushi'.\n",
      "There are 3 directories and 0 images in '../Datasets/pizza_steak_sushi/test'.\n",
      "There are 0 directories and 25 images in '../Datasets/pizza_steak_sushi/test/pizza'.\n",
      "There are 0 directories and 19 images in '../Datasets/pizza_steak_sushi/test/steak'.\n",
      "There are 0 directories and 31 images in '../Datasets/pizza_steak_sushi/test/sushi'.\n",
      "There are 3 directories and 0 images in '../Datasets/pizza_steak_sushi/train'.\n",
      "There are 0 directories and 78 images in '../Datasets/pizza_steak_sushi/train/pizza'.\n",
      "There are 0 directories and 75 images in '../Datasets/pizza_steak_sushi/train/steak'.\n",
      "There are 0 directories and 72 images in '../Datasets/pizza_steak_sushi/train/sushi'.\n"
     ]
    }
   ],
   "execution_count": 7
  },
  {
   "metadata": {
    "ExecuteTime": {
     "end_time": "2025-08-06T09:04:56.432436Z",
     "start_time": "2025-08-06T09:04:56.428118Z"
    }
   },
   "cell_type": "code",
   "source": [
    "# setup train and testing paths\n",
    "train_dir = image_path / \"train\"\n",
    "test_dir = image_path / \"test\"\n",
    "\n",
    "train_dir, test_dir"
   ],
   "id": "ff425ceade59475b",
   "outputs": [
    {
     "data": {
      "text/plain": [
       "(PosixPath('../Datasets/pizza_steak_sushi/train'),\n",
       " PosixPath('../Datasets/pizza_steak_sushi/test'))"
      ]
     },
     "execution_count": 8,
     "metadata": {},
     "output_type": "execute_result"
    }
   ],
   "execution_count": 8
  },
  {
   "metadata": {},
   "cell_type": "code",
   "outputs": [],
   "execution_count": null,
   "source": "",
   "id": "223e8376417de5dd"
  }
 ],
 "metadata": {
  "kernelspec": {
   "display_name": "Python 3",
   "language": "python",
   "name": "python3"
  },
  "language_info": {
   "codemirror_mode": {
    "name": "ipython",
    "version": 2
   },
   "file_extension": ".py",
   "mimetype": "text/x-python",
   "name": "python",
   "nbconvert_exporter": "python",
   "pygments_lexer": "ipython2",
   "version": "2.7.6"
  }
 },
 "nbformat": 4,
 "nbformat_minor": 5
}
