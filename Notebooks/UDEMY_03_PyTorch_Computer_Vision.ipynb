{
 "cells": [
  {
   "metadata": {},
   "cell_type": "markdown",
   "source": [
    "# PyTorch Computer Vision\n",
    "\n",
    "- See reference notebook - https://github.com/mrdbourke/pytorch-deep-learning/blob/main/03_pytorch_computer_vision.ipynb\n",
    "- See reference online book - https://www.learnpytorch.io/03_pytorch_computer_vision/"
   ],
   "id": "8ecde6d7734f87cb"
  },
  {
   "metadata": {},
   "cell_type": "markdown",
   "source": [
    "# 0. Computer Vision libraries in PyTorch\n",
    "\n",
    "- `torchvision` - base domain library for PyTorch computer vision\n",
    "- `torchvision.datasets` - get datasets and data loading functions for computer vision here\n",
    "- `torchvision.models` - get pretrained cv models that you can leverage for your own problems\n",
    "- `torchvision.transforms` - functions for manipulating your vision data (images) to be suitable for use with ML model\n",
    "- `torch.utils.data.Datase` Base dataset class for PyTorch\n",
    "- `torch.utils.data.DataLoader` - Creates a Python iterable over a dataset"
   ],
   "id": "b8fcb41941d410de"
  },
  {
   "metadata": {},
   "cell_type": "markdown",
   "source": "# 1. Import PyTorch",
   "id": "5386910ed4f6d019"
  },
  {
   "cell_type": "code",
   "id": "initial_id",
   "metadata": {
    "collapsed": true,
    "ExecuteTime": {
     "end_time": "2025-05-29T08:20:10.659510Z",
     "start_time": "2025-05-29T08:20:10.656559Z"
    }
   },
   "source": [
    "import torch\n",
    "from torch import nn\n",
    "import torchvision\n",
    "from torchvision import datasets, transforms\n",
    "from torchvision.transforms import ToTensor\n",
    "\n",
    "import matplotlib.pyplot as plt"
   ],
   "outputs": [],
   "execution_count": 3
  },
  {
   "metadata": {
    "ExecuteTime": {
     "end_time": "2025-05-29T08:20:20.669786Z",
     "start_time": "2025-05-29T08:20:20.666743Z"
    }
   },
   "cell_type": "code",
   "source": [
    "print(torch.__version__)\n",
    "print(torchvision.__version__)"
   ],
   "id": "23101569662d5f25",
   "outputs": [
    {
     "name": "stdout",
     "output_type": "stream",
     "text": [
      "2.5.1+cu124\n",
      "0.20.1+cu124\n"
     ]
    }
   ],
   "execution_count": 5
  }
 ],
 "metadata": {
  "kernelspec": {
   "display_name": "Python 3",
   "language": "python",
   "name": "python3"
  },
  "language_info": {
   "codemirror_mode": {
    "name": "ipython",
    "version": 2
   },
   "file_extension": ".py",
   "mimetype": "text/x-python",
   "name": "python",
   "nbconvert_exporter": "python",
   "pygments_lexer": "ipython2",
   "version": "2.7.6"
  }
 },
 "nbformat": 4,
 "nbformat_minor": 5
}
