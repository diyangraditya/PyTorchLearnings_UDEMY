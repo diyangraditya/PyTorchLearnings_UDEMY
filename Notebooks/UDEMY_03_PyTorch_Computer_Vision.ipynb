{
 "cells": [
  {
   "metadata": {},
   "cell_type": "markdown",
   "source": [
    "# PyTorch Computer Vision\n",
    "\n",
    "- See reference notebook - https://github.com/mrdbourke/pytorch-deep-learning/blob/main/03_pytorch_computer_vision.ipynb\n",
    "- See reference online book - https://www.learnpytorch.io/03_pytorch_computer_vision/"
   ],
   "id": "8ecde6d7734f87cb"
  },
  {
   "metadata": {},
   "cell_type": "markdown",
   "source": [
    "# 0. Computer Vision libraries in PyTorch\n",
    "\n",
    "- `torchvision` - base domain library for PyTorch computer vision\n",
    "- `torchvision.datasets` - get datasets and data loading functions for computer vision here\n",
    "- `torchvision.models` - get pretrained cv models that you can leverage for your own problems\n",
    "- `torchvision.transforms` - functions for manipulating your vision data (images) to be suitable for use with ML model\n",
    "- `torch.utils.data.Datase` Base dataset class for PyTorch\n",
    "- `torch.utils.data.DataLoader` - Creates a Python iterable over a dataset"
   ],
   "id": "b8fcb41941d410de"
  },
  {
   "metadata": {},
   "cell_type": "markdown",
   "source": "# 1. Import PyTorch",
   "id": "5386910ed4f6d019"
  },
  {
   "cell_type": "code",
   "id": "initial_id",
   "metadata": {
    "collapsed": true,
    "ExecuteTime": {
     "end_time": "2025-06-30T18:15:59.824639Z",
     "start_time": "2025-06-30T18:15:53.662874Z"
    }
   },
   "source": [
    "from time import process_time_ns\n",
    "from typing import re\n",
    "\n",
    "import torch\n",
    "from pandas.core.interchange.from_dataframe import primitive_column_to_ndarray\n",
    "from sympy import print_rcode\n",
    "from torch import nn\n",
    "import torchvision\n",
    "from torchgen.api.types import deviceT\n",
    "from torchvision import datasets, transforms\n",
    "from torchvision.transforms import ToTensor\n",
    "\n",
    "import matplotlib.pyplot as plt"
   ],
   "outputs": [],
   "execution_count": 1
  },
  {
   "metadata": {
    "ExecuteTime": {
     "end_time": "2025-06-30T18:15:59.860501Z",
     "start_time": "2025-06-30T18:15:59.857401Z"
    }
   },
   "cell_type": "code",
   "source": [
    "print(torch.__version__)\n",
    "print(torchvision.__version__)"
   ],
   "id": "23101569662d5f25",
   "outputs": [
    {
     "name": "stdout",
     "output_type": "stream",
     "text": [
      "2.5.1+cu124\n",
      "0.20.1+cu124\n"
     ]
    }
   ],
   "execution_count": 2
  },
  {
   "metadata": {},
   "cell_type": "markdown",
   "source": [
    "## 1. Getting a dataset\n",
    "The dataset will be using is Fashion MNIST from torchvision.datasets - https://docs.pytorch.org/vision/0.17/generated/torchvision.datasets.FashionMNIST.html#torchvision.datasets.FashionMNIST\n",
    "\n"
   ],
   "id": "c1a99fd2f7ebe53d"
  },
  {
   "metadata": {
    "ExecuteTime": {
     "end_time": "2025-06-30T18:16:00.290327Z",
     "start_time": "2025-06-30T18:15:59.973460Z"
    }
   },
   "cell_type": "code",
   "source": "!nvidia-smi",
   "id": "d93066ed135a0715",
   "outputs": [
    {
     "name": "stdout",
     "output_type": "stream",
     "text": [
      "Tue Jul  1 01:16:00 2025       \r\n",
      "+-----------------------------------------------------------------------------------------+\r\n",
      "| NVIDIA-SMI 570.153.02             Driver Version: 570.153.02     CUDA Version: 12.8     |\r\n",
      "|-----------------------------------------+------------------------+----------------------+\r\n",
      "| GPU  Name                 Persistence-M | Bus-Id          Disp.A | Volatile Uncorr. ECC |\r\n",
      "| Fan  Temp   Perf          Pwr:Usage/Cap |           Memory-Usage | GPU-Util  Compute M. |\r\n",
      "|                                         |                        |               MIG M. |\r\n",
      "|=========================================+========================+======================|\r\n",
      "|   0  NVIDIA GeForce RTX 3050 ...    Off |   00000000:01:00.0 Off |                  N/A |\r\n",
      "| N/A   57C    P8              9W /   35W |      60MiB /   4096MiB |      0%      Default |\r\n",
      "|                                         |                        |                  N/A |\r\n",
      "+-----------------------------------------+------------------------+----------------------+\r\n",
      "                                                                                         \r\n",
      "+-----------------------------------------------------------------------------------------+\r\n",
      "| Processes:                                                                              |\r\n",
      "|  GPU   GI   CI              PID   Type   Process name                        GPU Memory |\r\n",
      "|        ID   ID                                                               Usage      |\r\n",
      "|=========================================================================================|\r\n",
      "|    0   N/A  N/A           29484      G   ...ess --variations-seed-version         47MiB |\r\n",
      "+-----------------------------------------------------------------------------------------+\r\n"
     ]
    }
   ],
   "execution_count": 3
  },
  {
   "metadata": {
    "ExecuteTime": {
     "end_time": "2025-06-30T18:16:00.445601Z",
     "start_time": "2025-06-30T18:16:00.304349Z"
    }
   },
   "cell_type": "code",
   "source": [
    "# setup training data\n",
    "from torchvision.datasets import FashionMNIST\n",
    "\n",
    "train_data = FashionMNIST(\n",
    "    root=\"../FashionMNIST_dataset/train\", # where to download data to?\n",
    "    train=True, # do we want the training dataset?\n",
    "    download=True, # do we want to download yes/no?\n",
    "    transform=transforms.ToTensor(), # how do we want to transform the data?\n",
    "    target_transform=None # how do we want to transform the target?\n",
    ")\n",
    "\n",
    "test_data = FashionMNIST(\n",
    "    root=\"../FashionMNIST_dataset/test\",\n",
    "    train=False,\n",
    "    download=True,\n",
    "    transform=transforms.ToTensor(),\n",
    "    target_transform=None\n",
    ")"
   ],
   "id": "d84e4badc6544fb5",
   "outputs": [],
   "execution_count": 4
  },
  {
   "metadata": {
    "ExecuteTime": {
     "end_time": "2025-06-30T18:16:00.462817Z",
     "start_time": "2025-06-30T18:16:00.456061Z"
    }
   },
   "cell_type": "code",
   "source": "len(train_data), len(test_data)",
   "id": "107c456b29fc5249",
   "outputs": [
    {
     "data": {
      "text/plain": [
       "(60000, 10000)"
      ]
     },
     "execution_count": 5,
     "metadata": {},
     "output_type": "execute_result"
    }
   ],
   "execution_count": 5
  },
  {
   "metadata": {
    "ExecuteTime": {
     "end_time": "2025-06-30T18:16:00.562063Z",
     "start_time": "2025-06-30T18:16:00.512103Z"
    }
   },
   "cell_type": "code",
   "source": [
    "# see the first training example\n",
    "image, label= train_data[0]\n",
    "image, label"
   ],
   "id": "8832d1e16b248736",
   "outputs": [
    {
     "data": {
      "text/plain": [
       "(tensor([[[0.0000, 0.0000, 0.0000, 0.0000, 0.0000, 0.0000, 0.0000, 0.0000,\n",
       "           0.0000, 0.0000, 0.0000, 0.0000, 0.0000, 0.0000, 0.0000, 0.0000,\n",
       "           0.0000, 0.0000, 0.0000, 0.0000, 0.0000, 0.0000, 0.0000, 0.0000,\n",
       "           0.0000, 0.0000, 0.0000, 0.0000],\n",
       "          [0.0000, 0.0000, 0.0000, 0.0000, 0.0000, 0.0000, 0.0000, 0.0000,\n",
       "           0.0000, 0.0000, 0.0000, 0.0000, 0.0000, 0.0000, 0.0000, 0.0000,\n",
       "           0.0000, 0.0000, 0.0000, 0.0000, 0.0000, 0.0000, 0.0000, 0.0000,\n",
       "           0.0000, 0.0000, 0.0000, 0.0000],\n",
       "          [0.0000, 0.0000, 0.0000, 0.0000, 0.0000, 0.0000, 0.0000, 0.0000,\n",
       "           0.0000, 0.0000, 0.0000, 0.0000, 0.0000, 0.0000, 0.0000, 0.0000,\n",
       "           0.0000, 0.0000, 0.0000, 0.0000, 0.0000, 0.0000, 0.0000, 0.0000,\n",
       "           0.0000, 0.0000, 0.0000, 0.0000],\n",
       "          [0.0000, 0.0000, 0.0000, 0.0000, 0.0000, 0.0000, 0.0000, 0.0000,\n",
       "           0.0000, 0.0000, 0.0000, 0.0000, 0.0039, 0.0000, 0.0000, 0.0510,\n",
       "           0.2863, 0.0000, 0.0000, 0.0039, 0.0157, 0.0000, 0.0000, 0.0000,\n",
       "           0.0000, 0.0039, 0.0039, 0.0000],\n",
       "          [0.0000, 0.0000, 0.0000, 0.0000, 0.0000, 0.0000, 0.0000, 0.0000,\n",
       "           0.0000, 0.0000, 0.0000, 0.0000, 0.0118, 0.0000, 0.1412, 0.5333,\n",
       "           0.4980, 0.2431, 0.2118, 0.0000, 0.0000, 0.0000, 0.0039, 0.0118,\n",
       "           0.0157, 0.0000, 0.0000, 0.0118],\n",
       "          [0.0000, 0.0000, 0.0000, 0.0000, 0.0000, 0.0000, 0.0000, 0.0000,\n",
       "           0.0000, 0.0000, 0.0000, 0.0000, 0.0235, 0.0000, 0.4000, 0.8000,\n",
       "           0.6902, 0.5255, 0.5647, 0.4824, 0.0902, 0.0000, 0.0000, 0.0000,\n",
       "           0.0000, 0.0471, 0.0392, 0.0000],\n",
       "          [0.0000, 0.0000, 0.0000, 0.0000, 0.0000, 0.0000, 0.0000, 0.0000,\n",
       "           0.0000, 0.0000, 0.0000, 0.0000, 0.0000, 0.0000, 0.6078, 0.9255,\n",
       "           0.8118, 0.6980, 0.4196, 0.6118, 0.6314, 0.4275, 0.2510, 0.0902,\n",
       "           0.3020, 0.5098, 0.2824, 0.0588],\n",
       "          [0.0000, 0.0000, 0.0000, 0.0000, 0.0000, 0.0000, 0.0000, 0.0000,\n",
       "           0.0000, 0.0000, 0.0000, 0.0039, 0.0000, 0.2706, 0.8118, 0.8745,\n",
       "           0.8549, 0.8471, 0.8471, 0.6392, 0.4980, 0.4745, 0.4784, 0.5725,\n",
       "           0.5529, 0.3451, 0.6745, 0.2588],\n",
       "          [0.0000, 0.0000, 0.0000, 0.0000, 0.0000, 0.0000, 0.0000, 0.0000,\n",
       "           0.0000, 0.0039, 0.0039, 0.0039, 0.0000, 0.7843, 0.9098, 0.9098,\n",
       "           0.9137, 0.8980, 0.8745, 0.8745, 0.8431, 0.8353, 0.6431, 0.4980,\n",
       "           0.4824, 0.7686, 0.8980, 0.0000],\n",
       "          [0.0000, 0.0000, 0.0000, 0.0000, 0.0000, 0.0000, 0.0000, 0.0000,\n",
       "           0.0000, 0.0000, 0.0000, 0.0000, 0.0000, 0.7176, 0.8824, 0.8471,\n",
       "           0.8745, 0.8941, 0.9216, 0.8902, 0.8784, 0.8706, 0.8784, 0.8667,\n",
       "           0.8745, 0.9608, 0.6784, 0.0000],\n",
       "          [0.0000, 0.0000, 0.0000, 0.0000, 0.0000, 0.0000, 0.0000, 0.0000,\n",
       "           0.0000, 0.0000, 0.0000, 0.0000, 0.0000, 0.7569, 0.8941, 0.8549,\n",
       "           0.8353, 0.7765, 0.7059, 0.8314, 0.8235, 0.8275, 0.8353, 0.8745,\n",
       "           0.8627, 0.9529, 0.7922, 0.0000],\n",
       "          [0.0000, 0.0000, 0.0000, 0.0000, 0.0000, 0.0000, 0.0000, 0.0000,\n",
       "           0.0000, 0.0039, 0.0118, 0.0000, 0.0471, 0.8588, 0.8627, 0.8314,\n",
       "           0.8549, 0.7529, 0.6627, 0.8902, 0.8157, 0.8549, 0.8784, 0.8314,\n",
       "           0.8863, 0.7725, 0.8196, 0.2039],\n",
       "          [0.0000, 0.0000, 0.0000, 0.0000, 0.0000, 0.0000, 0.0000, 0.0000,\n",
       "           0.0000, 0.0000, 0.0235, 0.0000, 0.3882, 0.9569, 0.8706, 0.8627,\n",
       "           0.8549, 0.7961, 0.7765, 0.8667, 0.8431, 0.8353, 0.8706, 0.8627,\n",
       "           0.9608, 0.4667, 0.6549, 0.2196],\n",
       "          [0.0000, 0.0000, 0.0000, 0.0000, 0.0000, 0.0000, 0.0000, 0.0000,\n",
       "           0.0000, 0.0157, 0.0000, 0.0000, 0.2157, 0.9255, 0.8941, 0.9020,\n",
       "           0.8941, 0.9412, 0.9098, 0.8353, 0.8549, 0.8745, 0.9176, 0.8510,\n",
       "           0.8510, 0.8196, 0.3608, 0.0000],\n",
       "          [0.0000, 0.0000, 0.0039, 0.0157, 0.0235, 0.0275, 0.0078, 0.0000,\n",
       "           0.0000, 0.0000, 0.0000, 0.0000, 0.9294, 0.8863, 0.8510, 0.8745,\n",
       "           0.8706, 0.8588, 0.8706, 0.8667, 0.8471, 0.8745, 0.8980, 0.8431,\n",
       "           0.8549, 1.0000, 0.3020, 0.0000],\n",
       "          [0.0000, 0.0118, 0.0000, 0.0000, 0.0000, 0.0000, 0.0000, 0.0000,\n",
       "           0.0000, 0.2431, 0.5686, 0.8000, 0.8941, 0.8118, 0.8353, 0.8667,\n",
       "           0.8549, 0.8157, 0.8275, 0.8549, 0.8784, 0.8745, 0.8588, 0.8431,\n",
       "           0.8784, 0.9569, 0.6235, 0.0000],\n",
       "          [0.0000, 0.0000, 0.0000, 0.0000, 0.0706, 0.1725, 0.3216, 0.4196,\n",
       "           0.7412, 0.8941, 0.8627, 0.8706, 0.8510, 0.8863, 0.7843, 0.8039,\n",
       "           0.8275, 0.9020, 0.8784, 0.9176, 0.6902, 0.7373, 0.9804, 0.9725,\n",
       "           0.9137, 0.9333, 0.8431, 0.0000],\n",
       "          [0.0000, 0.2235, 0.7333, 0.8157, 0.8784, 0.8667, 0.8784, 0.8157,\n",
       "           0.8000, 0.8392, 0.8157, 0.8196, 0.7843, 0.6235, 0.9608, 0.7569,\n",
       "           0.8078, 0.8745, 1.0000, 1.0000, 0.8667, 0.9176, 0.8667, 0.8275,\n",
       "           0.8627, 0.9098, 0.9647, 0.0000],\n",
       "          [0.0118, 0.7922, 0.8941, 0.8784, 0.8667, 0.8275, 0.8275, 0.8392,\n",
       "           0.8039, 0.8039, 0.8039, 0.8627, 0.9412, 0.3137, 0.5882, 1.0000,\n",
       "           0.8980, 0.8667, 0.7373, 0.6039, 0.7490, 0.8235, 0.8000, 0.8196,\n",
       "           0.8706, 0.8941, 0.8824, 0.0000],\n",
       "          [0.3843, 0.9137, 0.7765, 0.8235, 0.8706, 0.8980, 0.8980, 0.9176,\n",
       "           0.9765, 0.8627, 0.7608, 0.8431, 0.8510, 0.9451, 0.2549, 0.2863,\n",
       "           0.4157, 0.4588, 0.6588, 0.8588, 0.8667, 0.8431, 0.8510, 0.8745,\n",
       "           0.8745, 0.8784, 0.8980, 0.1137],\n",
       "          [0.2941, 0.8000, 0.8314, 0.8000, 0.7569, 0.8039, 0.8275, 0.8824,\n",
       "           0.8471, 0.7255, 0.7725, 0.8078, 0.7765, 0.8353, 0.9412, 0.7647,\n",
       "           0.8902, 0.9608, 0.9373, 0.8745, 0.8549, 0.8314, 0.8196, 0.8706,\n",
       "           0.8627, 0.8667, 0.9020, 0.2627],\n",
       "          [0.1882, 0.7961, 0.7176, 0.7608, 0.8353, 0.7725, 0.7255, 0.7451,\n",
       "           0.7608, 0.7529, 0.7922, 0.8392, 0.8588, 0.8667, 0.8627, 0.9255,\n",
       "           0.8824, 0.8471, 0.7804, 0.8078, 0.7294, 0.7098, 0.6941, 0.6745,\n",
       "           0.7098, 0.8039, 0.8078, 0.4510],\n",
       "          [0.0000, 0.4784, 0.8588, 0.7569, 0.7020, 0.6706, 0.7176, 0.7686,\n",
       "           0.8000, 0.8235, 0.8353, 0.8118, 0.8275, 0.8235, 0.7843, 0.7686,\n",
       "           0.7608, 0.7490, 0.7647, 0.7490, 0.7765, 0.7529, 0.6902, 0.6118,\n",
       "           0.6549, 0.6941, 0.8235, 0.3608],\n",
       "          [0.0000, 0.0000, 0.2902, 0.7412, 0.8314, 0.7490, 0.6863, 0.6745,\n",
       "           0.6863, 0.7098, 0.7255, 0.7373, 0.7412, 0.7373, 0.7569, 0.7765,\n",
       "           0.8000, 0.8196, 0.8235, 0.8235, 0.8275, 0.7373, 0.7373, 0.7608,\n",
       "           0.7529, 0.8471, 0.6667, 0.0000],\n",
       "          [0.0078, 0.0000, 0.0000, 0.0000, 0.2588, 0.7843, 0.8706, 0.9294,\n",
       "           0.9373, 0.9490, 0.9647, 0.9529, 0.9569, 0.8667, 0.8627, 0.7569,\n",
       "           0.7490, 0.7020, 0.7137, 0.7137, 0.7098, 0.6902, 0.6510, 0.6588,\n",
       "           0.3882, 0.2275, 0.0000, 0.0000],\n",
       "          [0.0000, 0.0000, 0.0000, 0.0000, 0.0000, 0.0000, 0.0000, 0.1569,\n",
       "           0.2392, 0.1725, 0.2824, 0.1608, 0.1373, 0.0000, 0.0000, 0.0000,\n",
       "           0.0000, 0.0000, 0.0000, 0.0000, 0.0000, 0.0000, 0.0000, 0.0000,\n",
       "           0.0000, 0.0000, 0.0000, 0.0000],\n",
       "          [0.0000, 0.0000, 0.0000, 0.0000, 0.0000, 0.0000, 0.0000, 0.0000,\n",
       "           0.0000, 0.0000, 0.0000, 0.0000, 0.0000, 0.0000, 0.0000, 0.0000,\n",
       "           0.0000, 0.0000, 0.0000, 0.0000, 0.0000, 0.0000, 0.0000, 0.0000,\n",
       "           0.0000, 0.0000, 0.0000, 0.0000],\n",
       "          [0.0000, 0.0000, 0.0000, 0.0000, 0.0000, 0.0000, 0.0000, 0.0000,\n",
       "           0.0000, 0.0000, 0.0000, 0.0000, 0.0000, 0.0000, 0.0000, 0.0000,\n",
       "           0.0000, 0.0000, 0.0000, 0.0000, 0.0000, 0.0000, 0.0000, 0.0000,\n",
       "           0.0000, 0.0000, 0.0000, 0.0000]]]),\n",
       " 9)"
      ]
     },
     "execution_count": 6,
     "metadata": {},
     "output_type": "execute_result"
    }
   ],
   "execution_count": 6
  },
  {
   "metadata": {
    "ExecuteTime": {
     "end_time": "2025-06-30T18:16:00.592889Z",
     "start_time": "2025-06-30T18:16:00.589054Z"
    }
   },
   "cell_type": "code",
   "source": [
    "class_names = train_data.classes\n",
    "class_names"
   ],
   "id": "7f84f44cd4ac2a77",
   "outputs": [
    {
     "data": {
      "text/plain": [
       "['T-shirt/top',\n",
       " 'Trouser',\n",
       " 'Pullover',\n",
       " 'Dress',\n",
       " 'Coat',\n",
       " 'Sandal',\n",
       " 'Shirt',\n",
       " 'Sneaker',\n",
       " 'Bag',\n",
       " 'Ankle boot']"
      ]
     },
     "execution_count": 7,
     "metadata": {},
     "output_type": "execute_result"
    }
   ],
   "execution_count": 7
  },
  {
   "metadata": {
    "ExecuteTime": {
     "end_time": "2025-06-30T18:16:00.663262Z",
     "start_time": "2025-06-30T18:16:00.660242Z"
    }
   },
   "cell_type": "code",
   "source": [
    "class_idx = train_data.class_to_idx\n",
    "class_idx"
   ],
   "id": "f4f21b5d484911ff",
   "outputs": [
    {
     "data": {
      "text/plain": [
       "{'T-shirt/top': 0,\n",
       " 'Trouser': 1,\n",
       " 'Pullover': 2,\n",
       " 'Dress': 3,\n",
       " 'Coat': 4,\n",
       " 'Sandal': 5,\n",
       " 'Shirt': 6,\n",
       " 'Sneaker': 7,\n",
       " 'Bag': 8,\n",
       " 'Ankle boot': 9}"
      ]
     },
     "execution_count": 8,
     "metadata": {},
     "output_type": "execute_result"
    }
   ],
   "execution_count": 8
  },
  {
   "metadata": {
    "ExecuteTime": {
     "end_time": "2025-06-30T18:16:00.721554Z",
     "start_time": "2025-06-30T18:16:00.716847Z"
    }
   },
   "cell_type": "code",
   "source": "train_data.targets",
   "id": "ee497e7c2053599",
   "outputs": [
    {
     "data": {
      "text/plain": [
       "tensor([9, 0, 0,  ..., 3, 0, 5])"
      ]
     },
     "execution_count": 9,
     "metadata": {},
     "output_type": "execute_result"
    }
   ],
   "execution_count": 9
  },
  {
   "metadata": {
    "ExecuteTime": {
     "end_time": "2025-06-30T18:16:00.777687Z",
     "start_time": "2025-06-30T18:16:00.774961Z"
    }
   },
   "cell_type": "code",
   "source": [
    "print(f\"Image shape is {image.shape} -> [color_channels, height, width]\")\n",
    "print(f\"Image label is {label} -> [{class_names[label]}]\")"
   ],
   "id": "30c3235e3d3f99a2",
   "outputs": [
    {
     "name": "stdout",
     "output_type": "stream",
     "text": [
      "Image shape is torch.Size([1, 28, 28]) -> [color_channels, height, width]\n",
      "Image label is 9 -> [Ankle boot]\n"
     ]
    }
   ],
   "execution_count": 10
  },
  {
   "metadata": {},
   "cell_type": "markdown",
   "source": "## 1.2 visualizing our data",
   "id": "13cb512a950e6df6"
  },
  {
   "metadata": {
    "ExecuteTime": {
     "end_time": "2025-06-30T18:16:01.011276Z",
     "start_time": "2025-06-30T18:16:00.829785Z"
    }
   },
   "cell_type": "code",
   "source": [
    "import matplotlib.pyplot as plt\n",
    "image, label = train_data[0]\n",
    "print(f\"Image shape : {image.shape}\")\n",
    "# image\n",
    "plt.imshow(image.squeeze())\n",
    "plt.title(label)"
   ],
   "id": "40ae288656f5ebc4",
   "outputs": [
    {
     "name": "stdout",
     "output_type": "stream",
     "text": [
      "Image shape : torch.Size([1, 28, 28])\n"
     ]
    },
    {
     "data": {
      "text/plain": [
       "Text(0.5, 1.0, '9')"
      ]
     },
     "execution_count": 11,
     "metadata": {},
     "output_type": "execute_result"
    },
    {
     "data": {
      "text/plain": [
       "<Figure size 640x480 with 1 Axes>"
      ],
      "image/png": "[encoded data removed]"
     },
     "metadata": {},
     "output_type": "display_data"
    }
   ],
   "execution_count": 11
  },
  {
   "metadata": {
    "ExecuteTime": {
     "end_time": "2025-06-30T18:16:01.084989Z",
     "start_time": "2025-06-30T18:16:01.028042Z"
    }
   },
   "cell_type": "code",
   "source": [
    "plt.imshow(image.squeeze(), cmap=\"gray\")\n",
    "plt.title(class_names[label])\n",
    "# plt.axis(\"off\")\n",
    "plt.axis(False)"
   ],
   "id": "f285678689a8fecb",
   "outputs": [
    {
     "data": {
      "text/plain": [
       "(np.float64(-0.5), np.float64(27.5), np.float64(27.5), np.float64(-0.5))"
      ]
     },
     "execution_count": 12,
     "metadata": {},
     "output_type": "execute_result"
    },
    {
     "data": {
      "text/plain": [
       "<Figure size 640x480 with 1 Axes>"
      ],
      "image/png": "[encoded data removed]"
     },
     "metadata": {},
     "output_type": "display_data"
    }
   ],
   "execution_count": 12
  },
  {
   "metadata": {
    "ExecuteTime": {
     "end_time": "2025-06-30T18:16:01.680076Z",
     "start_time": "2025-06-30T18:16:01.109447Z"
    }
   },
   "cell_type": "code",
   "source": [
    "# plot more images\n",
    "torch.manual_seed(42)\n",
    "fig = plt.figure(figsize=(9, 9))\n",
    "rows, cols = 4, 4\n",
    "for i in range (1, rows*cols+1):\n",
    "    random_idx = torch.randint(0, len(train_data), size=[1]).item()\n",
    "    # print(random_idx)\n",
    "    img, label = train_data[random_idx]\n",
    "    fig.add_subplot(rows, cols, i)\n",
    "    plt.imshow(img.squeeze(), cmap=\"gray\")\n",
    "    plt.title(class_names[label])\n",
    "    plt.axis(False)"
   ],
   "id": "4ceae1fbd6bb4e69",
   "outputs": [
    {
     "data": {
      "text/plain": [
       "<Figure size 900x900 with 16 Axes>"
      ],
      "image/png": "[encoded data removed]"
     },
     "metadata": {},
     "output_type": "display_data"
    }
   ],
   "execution_count": 13
  },
  {
   "metadata": {},
   "cell_type": "markdown",
   "source": [
    "## 2. prepare DataLoader\n",
    "\n",
    "right now, our data is in the form of PyTorch Datasets\n",
    "\n",
    "DataLoader turns dataset into python iterable\n",
    "\n",
    "More specifically, we want to turn our data into batches (or mini batches)\n",
    "\n",
    "Why would we do this?\n",
    "1. more computationally efficient, as in, your computing hardware may not be able to look (store in memory) at 6000 images in one hit. so we break it down into smaller batches like 32 images at a time. (batch size of 32)\n",
    "2. It gives our neural network more chances to update its gradients per epoch\n",
    "3."
   ],
   "id": "c6fc41fc8213c090"
  },
  {
   "metadata": {
    "ExecuteTime": {
     "end_time": "2025-06-30T18:16:01.746005Z",
     "start_time": "2025-06-30T18:16:01.742840Z"
    }
   },
   "cell_type": "code",
   "source": "train_data, test_data",
   "id": "bc6b18c68b5b7e44",
   "outputs": [
    {
     "data": {
      "text/plain": [
       "(Dataset FashionMNIST\n",
       "     Number of datapoints: 60000\n",
       "     Root location: ../FashionMNIST_dataset/train\n",
       "     Split: Train\n",
       "     StandardTransform\n",
       " Transform: ToTensor(),\n",
       " Dataset FashionMNIST\n",
       "     Number of datapoints: 10000\n",
       "     Root location: ../FashionMNIST_dataset/test\n",
       "     Split: Test\n",
       "     StandardTransform\n",
       " Transform: ToTensor())"
      ]
     },
     "execution_count": 14,
     "metadata": {},
     "output_type": "execute_result"
    }
   ],
   "execution_count": 14
  },
  {
   "metadata": {
    "ExecuteTime": {
     "end_time": "2025-06-30T18:16:01.803589Z",
     "start_time": "2025-06-30T18:16:01.800416Z"
    }
   },
   "cell_type": "code",
   "source": [
    "from torch.utils.data import DataLoader\n",
    "\n",
    "# set up the batch size hyperparameter\n",
    "BATCH_SIZE = 32\n",
    "\n",
    "# turn datasets into iterable batches\n",
    "train_loader = DataLoader(dataset=train_data, batch_size=BATCH_SIZE, shuffle=True)\n",
    "\n",
    "test_loader = DataLoader(dataset=test_data, batch_size=BATCH_SIZE, shuffle=True)"
   ],
   "id": "d543faaccb013ed0",
   "outputs": [],
   "execution_count": 15
  },
  {
   "metadata": {
    "ExecuteTime": {
     "end_time": "2025-06-30T18:16:01.858183Z",
     "start_time": "2025-06-30T18:16:01.854583Z"
    }
   },
   "cell_type": "code",
   "source": "train_loader, test_loader",
   "id": "9205198bf593cefc",
   "outputs": [
    {
     "data": {
      "text/plain": [
       "(<torch.utils.data.dataloader.DataLoader at 0x7fc834e6f1f0>,\n",
       " <torch.utils.data.dataloader.DataLoader at 0x7fc834fd8640>)"
      ]
     },
     "execution_count": 16,
     "metadata": {},
     "output_type": "execute_result"
    }
   ],
   "execution_count": 16
  },
  {
   "metadata": {
    "ExecuteTime": {
     "end_time": "2025-06-30T18:16:01.916852Z",
     "start_time": "2025-06-30T18:16:01.913834Z"
    }
   },
   "cell_type": "code",
   "source": [
    "# let's check out of what we have created\n",
    "print(f\"Dataloaders : {train_loader, test_loader}\")\n",
    "print(f\"Length of train_loader : {len(train_loader)} batches of size {BATCH_SIZE}\" )\n",
    "print(f\"Length of test_loader : {len(test_loader)} batches of size {BATCH_SIZE}\")"
   ],
   "id": "fba03fbd29cd4bc6",
   "outputs": [
    {
     "name": "stdout",
     "output_type": "stream",
     "text": [
      "Dataloaders : (<torch.utils.data.dataloader.DataLoader object at 0x7fc834e6f1f0>, <torch.utils.data.dataloader.DataLoader object at 0x7fc834fd8640>)\n",
      "Length of train_loader : 1875 batches of size 32\n",
      "Length of test_loader : 313 batches of size 32\n"
     ]
    }
   ],
   "execution_count": 17
  },
  {
   "metadata": {
    "ExecuteTime": {
     "end_time": "2025-06-30T18:16:01.983644Z",
     "start_time": "2025-06-30T18:16:01.972256Z"
    }
   },
   "cell_type": "code",
   "source": [
    "# check out what's inside the training data loader\n",
    "train_features_batch, train_labels_batch = next(iter(train_loader))\n",
    "train_features_batch.shape, train_labels_batch.shape"
   ],
   "id": "e46d57fc4f453a26",
   "outputs": [
    {
     "data": {
      "text/plain": [
       "(torch.Size([32, 1, 28, 28]), torch.Size([32]))"
      ]
     },
     "execution_count": 18,
     "metadata": {},
     "output_type": "execute_result"
    }
   ],
   "execution_count": 18
  },
  {
   "metadata": {
    "ExecuteTime": {
     "end_time": "2025-06-30T18:16:02.094022Z",
     "start_time": "2025-06-30T18:16:02.032226Z"
    }
   },
   "cell_type": "code",
   "source": [
    "# show a sample\n",
    "\n",
    "torch.manual_seed(42)\n",
    "random_idx = torch.randint(0, len(train_features_batch), size=[1]).item()\n",
    "img, label = train_features_batch[random_idx], train_labels_batch[random_idx]\n",
    "plt.imshow(img.squeeze(), cmap=\"gray\")\n",
    "plt.title(class_names[label])\n",
    "plt.axis(False)\n",
    "print(f\"Image size : {img.shape}\")\n",
    "print(f\"Label : {label}, label size : {label.shape}\")"
   ],
   "id": "d2ae7abd3eccfe28",
   "outputs": [
    {
     "name": "stdout",
     "output_type": "stream",
     "text": [
      "Image size : torch.Size([1, 28, 28])\n",
      "Label : 6, label size : torch.Size([])\n"
     ]
    },
    {
     "data": {
      "text/plain": [
       "<Figure size 640x480 with 1 Axes>"
      ],
      "image/png": "[encoded data removed]"
     },
     "metadata": {},
     "output_type": "display_data"
    }
   ],
   "execution_count": 19
  },
  {
   "metadata": {},
   "cell_type": "markdown",
   "source": [
    "## 3.0 Model 0: Build a baseline model\n",
    "\n",
    "When starting to build a series of machine learning modelling experiments, it's best practice to start with a baseline model\n",
    "\n",
    "A baseline model is a simple model you will try and improve upon with subsequent models/experiments.\n",
    "\n",
    "in other words : start simply and add complexity when necessary"
   ],
   "id": "de547547e83518e7"
  },
  {
   "metadata": {
    "ExecuteTime": {
     "end_time": "2025-06-30T18:16:02.119051Z",
     "start_time": "2025-06-30T18:16:02.115652Z"
    }
   },
   "cell_type": "code",
   "source": [
    "# creating a flatten layer\n",
    "flatten_model = nn.Flatten()\n",
    "\n",
    "# get a single sample\n",
    "x = train_features_batch[0]\n",
    "\n",
    "\n",
    "# flatten the sample\n",
    "output = flatten_model(x) # perform forward pass\n",
    "\n",
    "# print out what happened\n",
    "print(f\"Shape before flattening : {x.shape} -> [color_channels, height, width]\")\n",
    "print(f\"Shape after flattening : {output.shape} -> [color_channels, height * width]\")"
   ],
   "id": "131e0fc1143b05a5",
   "outputs": [
    {
     "name": "stdout",
     "output_type": "stream",
     "text": [
      "Shape before flattening : torch.Size([1, 28, 28]) -> [color_channels, height, width]\n",
      "Shape after flattening : torch.Size([1, 784]) -> [color_channels, height * width]\n"
     ]
    }
   ],
   "execution_count": 20
  },
  {
   "metadata": {
    "ExecuteTime": {
     "end_time": "2025-06-30T18:16:02.185833Z",
     "start_time": "2025-06-30T18:16:02.182215Z"
    }
   },
   "cell_type": "code",
   "source": [
    "from torch import nn\n",
    "class FashionMNISTModelV0(nn.Module):\n",
    "    def __init__(self, input_shape:int, hidden_units:int, output_shape:int):\n",
    "        super().__init__()\n",
    "        self.layer_stack = nn.Sequential(\n",
    "            nn.Flatten(),\n",
    "            nn.Linear(in_features=input_shape, out_features=hidden_units),\n",
    "            nn.Linear(in_features=hidden_units, out_features=output_shape)\n",
    "        )\n",
    "\n",
    "    def forward(self, x):\n",
    "        return self.layer_stack(x)"
   ],
   "id": "5862da43caef1986",
   "outputs": [],
   "execution_count": 21
  },
  {
   "metadata": {
    "ExecuteTime": {
     "end_time": "2025-06-30T18:16:02.335139Z",
     "start_time": "2025-06-30T18:16:02.241674Z"
    }
   },
   "cell_type": "code",
   "source": [
    "device = \"gpu\" if torch.cuda.is_available() else \"cpu\"\n",
    "print(device)"
   ],
   "id": "7c4b35ca0c6ed303",
   "outputs": [
    {
     "name": "stdout",
     "output_type": "stream",
     "text": [
      "gpu\n"
     ]
    }
   ],
   "execution_count": 22
  },
  {
   "metadata": {
    "ExecuteTime": {
     "end_time": "2025-06-30T18:16:02.361120Z",
     "start_time": "2025-06-30T18:16:02.355787Z"
    }
   },
   "cell_type": "code",
   "source": [
    "torch.manual_seed(42)\n",
    "\n",
    "# set up model with input parameters\n",
    "model_0 = FashionMNISTModelV0(\n",
    "    input_shape=28*28,\n",
    "    hidden_units=10, # how many units in the hidden layer\n",
    "    output_shape=len(class_names) # one for every class\n",
    ").to(\"cpu\")\n",
    "\n",
    "model_0"
   ],
   "id": "584a3ee846bc51f2",
   "outputs": [
    {
     "data": {
      "text/plain": [
       "FashionMNISTModelV0(\n",
       "  (layer_stack): Sequential(\n",
       "    (0): Flatten(start_dim=1, end_dim=-1)\n",
       "    (1): Linear(in_features=784, out_features=10, bias=True)\n",
       "    (2): Linear(in_features=10, out_features=10, bias=True)\n",
       "  )\n",
       ")"
      ]
     },
     "execution_count": 23,
     "metadata": {},
     "output_type": "execute_result"
    }
   ],
   "execution_count": 23
  },
  {
   "metadata": {
    "ExecuteTime": {
     "end_time": "2025-06-30T18:16:02.431797Z",
     "start_time": "2025-06-30T18:16:02.421193Z"
    }
   },
   "cell_type": "code",
   "source": [
    "dummy_x = torch.rand([1 ,1, 28, 28])\n",
    "model_0(dummy_x)"
   ],
   "id": "8dfcebdc0fc18eea",
   "outputs": [
    {
     "data": {
      "text/plain": [
       "tensor([[-0.0315,  0.3171,  0.0531, -0.2525,  0.5959,  0.2112,  0.3233,  0.2694,\n",
       "         -0.1004,  0.0157]], grad_fn=<AddmmBackward0>)"
      ]
     },
     "execution_count": 24,
     "metadata": {},
     "output_type": "execute_result"
    }
   ],
   "execution_count": 24
  },
  {
   "metadata": {
    "ExecuteTime": {
     "end_time": "2025-06-30T18:16:02.499689Z",
     "start_time": "2025-06-30T18:16:02.492006Z"
    }
   },
   "cell_type": "code",
   "source": "model_0.state_dict()",
   "id": "f2920460ec00b34e",
   "outputs": [
    {
     "data": {
      "text/plain": [
       "OrderedDict([('layer_stack.1.weight',\n",
       "              tensor([[ 0.0273,  0.0296, -0.0084,  ..., -0.0142,  0.0093,  0.0135],\n",
       "                      [-0.0188, -0.0354,  0.0187,  ..., -0.0106, -0.0001,  0.0115],\n",
       "                      [-0.0008,  0.0017,  0.0045,  ..., -0.0127, -0.0188,  0.0059],\n",
       "                      ...,\n",
       "                      [-0.0116,  0.0273, -0.0344,  ...,  0.0176,  0.0283, -0.0011],\n",
       "                      [-0.0230,  0.0257,  0.0291,  ..., -0.0187, -0.0087,  0.0001],\n",
       "                      [ 0.0176, -0.0147,  0.0053,  ..., -0.0336, -0.0221,  0.0205]])),\n",
       "             ('layer_stack.1.bias',\n",
       "              tensor([-0.0093,  0.0283, -0.0033,  0.0255,  0.0017,  0.0037, -0.0302, -0.0123,\n",
       "                       0.0018,  0.0163])),\n",
       "             ('layer_stack.2.weight',\n",
       "              tensor([[ 0.0614, -0.0687,  0.0021,  0.2718,  0.2109,  0.1079, -0.2279, -0.1063,\n",
       "                        0.2019,  0.2847],\n",
       "                      [-0.1495,  0.1344, -0.0740,  0.2006, -0.0475, -0.2514, -0.3130, -0.0118,\n",
       "                        0.0932, -0.1864],\n",
       "                      [ 0.2488,  0.1500,  0.1907,  0.1457, -0.3050, -0.0580,  0.1643,  0.1565,\n",
       "                       -0.2877, -0.1792],\n",
       "                      [ 0.2305, -0.2618,  0.2397, -0.0610,  0.0232,  0.1542,  0.0851, -0.2027,\n",
       "                        0.1030, -0.2715],\n",
       "                      [-0.1596, -0.0555, -0.0633,  0.2302, -0.1726,  0.2654,  0.1473,  0.1029,\n",
       "                        0.2252, -0.2160],\n",
       "                      [-0.2725,  0.0118,  0.1559,  0.1596,  0.0132,  0.3024,  0.1124,  0.1366,\n",
       "                       -0.1533,  0.0965],\n",
       "                      [-0.1184, -0.2555, -0.2057, -0.1909, -0.0477, -0.1324,  0.2905,  0.1307,\n",
       "                       -0.2629,  0.0133],\n",
       "                      [ 0.2727, -0.0127,  0.0513,  0.0863, -0.1043, -0.2047, -0.1185, -0.0825,\n",
       "                        0.2488, -0.2571],\n",
       "                      [ 0.0425, -0.1209, -0.0336, -0.0281, -0.1227,  0.0730,  0.0747, -0.1816,\n",
       "                        0.1943,  0.2853],\n",
       "                      [-0.1310,  0.0645, -0.1171,  0.2168, -0.0245, -0.2820,  0.0736,  0.2621,\n",
       "                        0.0012, -0.0810]])),\n",
       "             ('layer_stack.2.bias',\n",
       "              tensor([-0.0087,  0.1791,  0.2712, -0.0791,  0.1685,  0.1762,  0.2825,  0.2266,\n",
       "                      -0.2612, -0.2613]))])"
      ]
     },
     "execution_count": 25,
     "metadata": {},
     "output_type": "execute_result"
    }
   ],
   "execution_count": 25
  },
  {
   "metadata": {},
   "cell_type": "markdown",
   "source": [
    "### 3.1 setup loss, optimizer, and eval metrics\n",
    "\n",
    "* loss function - sinec we're working with multi-class data, out loss function will be `nn.CrossEntropyLoss()`\n",
    "* optimizer - our optimizer `torch.optim.SGD()` (Stochastic grad des)\n",
    "* Eval metric - since we're working on a classification problem, let's use accuracy as our evaluation metric"
   ],
   "id": "d8f0deb816ac1e03"
  },
  {
   "metadata": {
    "ExecuteTime": {
     "end_time": "2025-06-30T18:16:02.638710Z",
     "start_time": "2025-06-30T18:16:02.561414Z"
    }
   },
   "cell_type": "code",
   "source": [
    "import requests\n",
    "\n",
    "from pathlib import Path\n",
    "\n",
    "# Download helper functions from learn PyTorch repo\n",
    "if Path(\"../Python/helper_functions.py\").is_file():\n",
    "    print(\"The py file exists\")\n",
    "else:\n",
    "    print(\"Downloading the py file\")\n",
    "    url = \"https://raw.githubusercontent.com/mrdbourke/pytorch-deep-learning/refs/heads/main/helper_functions.py\"\n",
    "    r = requests.get(url)\n",
    "    with open(\"../Python/helper_functions.py\", \"wb\") as f:\n",
    "        f.write(r.content)"
   ],
   "id": "ec1d784997469953",
   "outputs": [
    {
     "name": "stdout",
     "output_type": "stream",
     "text": [
      "The py file exists\n"
     ]
    }
   ],
   "execution_count": 26
  },
  {
   "metadata": {
    "ExecuteTime": {
     "end_time": "2025-06-30T18:16:02.882491Z",
     "start_time": "2025-06-30T18:16:02.877430Z"
    }
   },
   "cell_type": "code",
   "source": [
    "# import the accuracy metrics\n",
    "\n",
    "from PyTorchLearnings_UDEMY.Python.helper_functions import accuracy_fn\n",
    "\n",
    "# setup loss func and opt\n",
    "loss_fn  = nn.CrossEntropyLoss()\n",
    "optimizer = torch.optim.SGD(model_0.parameters(), lr=0.1)"
   ],
   "id": "c72a183103f37b32",
   "outputs": [],
   "execution_count": 27
  },
  {
   "metadata": {},
   "cell_type": "markdown",
   "source": [
    "### 3.2 Creating a function to time our experiments\n",
    "\n",
    "Machine learning is experimental\n",
    "\n",
    "Two of main things you'll often want to track here:\n",
    "1) Model's performance (loss and accuracy values etc)\n",
    "2) Time taken to train the model"
   ],
   "id": "a9438ef48ef08d4f"
  },
  {
   "metadata": {
    "ExecuteTime": {
     "end_time": "2025-06-30T18:16:02.973182Z",
     "start_time": "2025-06-30T18:16:02.969580Z"
    }
   },
   "cell_type": "code",
   "source": [
    "from timeit import default_timer as timer\n",
    "\n",
    "def print_train_time(start:float, end:float, device:torch.device=None):\n",
    "    \"\"\"Prints difference between start and end time.\"\"\"\n",
    "    total_time = end - start\n",
    "    print(f\"\\nTrain time on {device}: {total_time:.3f} seconds\")\n",
    "    return total_time"
   ],
   "id": "b98979fa5c9dd97",
   "outputs": [],
   "execution_count": 28
  },
  {
   "metadata": {
    "ExecuteTime": {
     "end_time": "2025-06-30T18:16:03.036720Z",
     "start_time": "2025-06-30T18:16:03.032970Z"
    }
   },
   "cell_type": "code",
   "source": [
    "start_timer = timer()\n",
    "# some code..\n",
    "end_timer = timer()\n",
    "print_train_time(start_timer, end_timer, \"cpu\")"
   ],
   "id": "6c6769b4013b9a9a",
   "outputs": [
    {
     "name": "stdout",
     "output_type": "stream",
     "text": [
      "\n",
      "Train time on cpu: 0.000 seconds\n"
     ]
    },
    {
     "data": {
      "text/plain": [
       "1.9836999967992597e-05"
      ]
     },
     "execution_count": 29,
     "metadata": {},
     "output_type": "execute_result"
    }
   ],
   "execution_count": 29
  },
  {
   "metadata": {},
   "cell_type": "markdown",
   "source": "",
   "id": "12d65cfe45fab66f"
  },
  {
   "metadata": {},
   "cell_type": "markdown",
   "source": [
    "## 3.3 Creating a training loop and training a model on batches of data\n",
    "\n",
    "1. Loop through epochs\n",
    "2. Loop through training bacthes, perform training steps, calculate the train loss *per batch*\n",
    "3. Loop through testing batches, perform testing steps, calculate the tes loss *per batch*\n",
    "4. Print out what is happening\n",
    "5. Time it all"
   ],
   "id": "bad83454da714220"
  },
  {
   "metadata": {
    "ExecuteTime": {
     "end_time": "2025-06-30T18:16:22.403723Z",
     "start_time": "2025-06-30T18:16:03.100291Z"
    }
   },
   "cell_type": "code",
   "source": [
    "# import tqdm for progresss bar\n",
    "from tqdm.auto import tqdm\n",
    "\n",
    "# set the seed and start the timer\n",
    "torch.manual_seed(42)\n",
    "train_time_start_on_cpu = timer()\n",
    "\n",
    "# set number of epochs (we'll keep this small for faster training time)\n",
    "epochs = 3\n",
    "\n",
    "# create training and test loop\n",
    "for epoch in tqdm(range(epochs)):\n",
    "    print(f\"Epoch: {epoch}\\n------\")\n",
    "    # trainign\n",
    "    train_loss = 0\n",
    "    # add a loop to loop through the training batches\n",
    "    for batch, (X, y) in enumerate(train_loader):\n",
    "        model_0.train()\n",
    "        # 1. forward pass\n",
    "        y_pred = model_0(X)\n",
    "\n",
    "        # 2. calculate loss (per batch)\n",
    "        loss = loss_fn(y_pred, y)\n",
    "        train_loss += loss # accumulate train loss\n",
    "\n",
    "        # 3. optimizer zero grad\n",
    "        optimizer.zero_grad()\n",
    "\n",
    "        # 4. Loss backward\n",
    "        loss.backward()\n",
    "\n",
    "        # 5. optimizer step\n",
    "        optimizer.step()\n",
    "\n",
    "        # print out what is happeling\n",
    "        if batch % 400 == 0:\n",
    "            print(f\"Looked at {batch * len(X)}/{len(train_loader.dataset)} samples\")\n",
    "\n",
    "    # divide total train loss by length of train dataloader\n",
    "    train_loss /= len(train_loader)\n",
    "\n",
    "    ### testing\n",
    "    test_loss, test_acc = 0, 0\n",
    "    model_0.eval()\n",
    "    with torch.inference_mode():\n",
    "        for X_test, y_test in test_loader:\n",
    "            test_pred = model_0(X_test)\n",
    "\n",
    "            #2. calc the loss\n",
    "            test_loss += loss_fn(test_pred, y_test)\n",
    "\n",
    "            # calc acc\n",
    "            test_acc += accuracy_fn(y_true=y_test, y_pred=test_pred.argmax(dim=1))\n",
    "\n",
    "        # calc the test loss avg per batch\n",
    "        test_loss /= len(test_loader)\n",
    "\n",
    "        # calc the test acc avg per batch\n",
    "        test_acc /= len(test_loader)\n",
    "\n",
    "    # print out what is happening\n",
    "    print(f\"\\n Train loss : {train_loss:.4f} | Test loss : {test_loss:.4f} | Test accuracy : {test_acc:.4f}\")\n",
    "\n",
    "# calc the training time\n",
    "train_time_end_on_cpu = timer()\n",
    "total_train_time_model_0 = print_train_time(start=train_time_start_on_cpu, end=train_time_end_on_cpu, device=str(next(model_0.parameters()).device))\n"
   ],
   "id": "c7ebc64490dec689",
   "outputs": [
    {
     "name": "stderr",
     "output_type": "stream",
     "text": [
      "/home/diyrad167/.conda/envs/test/lib/python3.10/site-packages/tqdm/auto.py:21: TqdmWarning: IProgress not found. Please update jupyter and ipywidgets. See https://ipywidgets.readthedocs.io/en/stable/user_install.html\n",
      "  from .autonotebook import tqdm as notebook_tqdm\n",
      "  0%|          | 0/3 [00:00<?, ?it/s]"
     ]
    },
    {
     "name": "stdout",
     "output_type": "stream",
     "text": [
      "Epoch: 0\n",
      "------\n",
      "Looked at 0/60000 samples\n",
      "Looked at 12800/60000 samples\n",
      "Looked at 25600/60000 samples\n",
      "Looked at 38400/60000 samples\n",
      "Looked at 51200/60000 samples\n"
     ]
    },
    {
     "name": "stderr",
     "output_type": "stream",
     "text": [
      " 33%|███▎      | 1/3 [00:07<00:15,  7.58s/it]"
     ]
    },
    {
     "name": "stdout",
     "output_type": "stream",
     "text": [
      "\n",
      " Train loss : 0.5904 | Test loss : 0.5102 | Test accuracy : 82.0387\n",
      "Epoch: 1\n",
      "------\n",
      "Looked at 0/60000 samples\n",
      "Looked at 12800/60000 samples\n",
      "Looked at 25600/60000 samples\n",
      "Looked at 38400/60000 samples\n",
      "Looked at 51200/60000 samples\n"
     ]
    },
    {
     "name": "stderr",
     "output_type": "stream",
     "text": [
      " 67%|██████▋   | 2/3 [00:13<00:06,  6.50s/it]"
     ]
    },
    {
     "name": "stdout",
     "output_type": "stream",
     "text": [
      "\n",
      " Train loss : 0.4743 | Test loss : 0.5268 | Test accuracy : 81.6793\n",
      "Epoch: 2\n",
      "------\n",
      "Looked at 0/60000 samples\n",
      "Looked at 12800/60000 samples\n",
      "Looked at 25600/60000 samples\n",
      "Looked at 38400/60000 samples\n",
      "Looked at 51200/60000 samples\n"
     ]
    },
    {
     "name": "stderr",
     "output_type": "stream",
     "text": [
      "100%|██████████| 3/3 [00:19<00:00,  6.43s/it]"
     ]
    },
    {
     "name": "stdout",
     "output_type": "stream",
     "text": [
      "\n",
      " Train loss : 0.4537 | Test loss : 0.5126 | Test accuracy : 82.9972\n",
      "\n",
      "Train time on cpu: 19.290 seconds\n"
     ]
    },
    {
     "name": "stderr",
     "output_type": "stream",
     "text": [
      "\n"
     ]
    }
   ],
   "execution_count": 30
  },
  {
   "metadata": {
    "ExecuteTime": {
     "end_time": "2025-06-30T18:16:22.441829Z",
     "start_time": "2025-06-30T18:16:22.438356Z"
    }
   },
   "cell_type": "code",
   "source": "str(next(model_0.parameters()).device)",
   "id": "5288782ee326b3cf",
   "outputs": [
    {
     "data": {
      "text/plain": [
       "'cpu'"
      ]
     },
     "execution_count": 31,
     "metadata": {},
     "output_type": "execute_result"
    }
   ],
   "execution_count": 31
  },
  {
   "metadata": {
    "ExecuteTime": {
     "end_time": "2025-06-30T18:16:22.537158Z",
     "start_time": "2025-06-30T18:16:22.531180Z"
    }
   },
   "cell_type": "code",
   "source": "next(model_0.parameters())",
   "id": "13498f966c932100",
   "outputs": [
    {
     "data": {
      "text/plain": [
       "Parameter containing:\n",
       "tensor([[ 0.0273,  0.0298, -0.0071,  ...,  0.0009,  0.0065,  0.0173],\n",
       "        [-0.0189, -0.0356,  0.0156,  ...,  0.0196,  0.0118,  0.0108],\n",
       "        [-0.0008,  0.0019,  0.0030,  ...,  0.0143, -0.0122,  0.0079],\n",
       "        ...,\n",
       "        [-0.0115,  0.0274, -0.0323,  ...,  0.0507,  0.0457,  0.0008],\n",
       "        [-0.0231,  0.0251,  0.0240,  ..., -0.0838, -0.0380, -0.0074],\n",
       "        [ 0.0175, -0.0149,  0.0031,  ..., -0.1092, -0.0676,  0.0112]],\n",
       "       requires_grad=True)"
      ]
     },
     "execution_count": 32,
     "metadata": {},
     "output_type": "execute_result"
    }
   ],
   "execution_count": 32
  },
  {
   "metadata": {},
   "cell_type": "markdown",
   "source": "## 4. make predictions and get model 0 results",
   "id": "197fb13121e88267"
  },
  {
   "metadata": {
    "ExecuteTime": {
     "end_time": "2025-06-30T18:16:23.365447Z",
     "start_time": "2025-06-30T18:16:22.605634Z"
    }
   },
   "cell_type": "code",
   "source": [
    "torch.manual_seed(42)\n",
    "\n",
    "def eval_model(model: torch.nn.Module,\n",
    "               data_loader: torch.utils.data.DataLoader,\n",
    "               loss_fn: torch.nn.Module,\n",
    "               accuracy_fn):\n",
    "    \"\"\"\n",
    "    Returns a dictionary containing the results of model predicting on data_loader\n",
    "    \"\"\"\n",
    "    loss, acc = 0, 0\n",
    "    model.eval()\n",
    "    with torch.inference_mode():\n",
    "        for X, y in tqdm(data_loader):\n",
    "            # make predictions\n",
    "            y_pred = model(X)\n",
    "\n",
    "            # Accumulate the loss and acc values per batch\n",
    "            loss += loss_fn(y_pred, y)\n",
    "            acc += accuracy_fn(y_true=y, y_pred=y_pred.argmax(dim=1))\n",
    "\n",
    "        # scale loss and acc to find the avg loss/acc per batch\n",
    "        loss /= len(data_loader)\n",
    "        acc /= len(data_loader)\n",
    "    return {\"model name \": model.__class__.__name__, # Only works when model was created with a class\n",
    "            \"model loss \": loss.item(),\n",
    "            \"model acc \": acc\n",
    "            }\n",
    "# calculate model 0 results on test dataset\n",
    "model_0_results = eval_model(model=model_0, data_loader=test_loader, loss_fn=loss_fn, accuracy_fn=accuracy_fn)\n",
    "\n",
    "model_0_results"
   ],
   "id": "7915029ae8bc8763",
   "outputs": [
    {
     "name": "stderr",
     "output_type": "stream",
     "text": [
      "100%|██████████| 313/313 [00:00<00:00, 416.11it/s]\n"
     ]
    },
    {
     "data": {
      "text/plain": [
       "{'model name ': 'FashionMNISTModelV0',\n",
       " 'model loss ': 0.5125296711921692,\n",
       " 'model acc ': 83.00718849840256}"
      ]
     },
     "execution_count": 33,
     "metadata": {},
     "output_type": "execute_result"
    }
   ],
   "execution_count": 33
  },
  {
   "metadata": {},
   "cell_type": "markdown",
   "source": "## 5. setup device agonostic code (for using GPU if there is one)",
   "id": "e24376d985370f08"
  },
  {
   "metadata": {
    "ExecuteTime": {
     "end_time": "2025-06-30T18:16:23.441645Z",
     "start_time": "2025-06-30T18:16:23.438378Z"
    }
   },
   "cell_type": "code",
   "source": [
    "# setup right herre\n",
    "device = \"cuda\" if torch.cuda.is_available() else \"cpu\"\n",
    "device"
   ],
   "id": "79dc3c7f3e0d500c",
   "outputs": [
    {
     "data": {
      "text/plain": [
       "'cuda'"
      ]
     },
     "execution_count": 34,
     "metadata": {},
     "output_type": "execute_result"
    }
   ],
   "execution_count": 34
  },
  {
   "metadata": {
    "ExecuteTime": {
     "end_time": "2025-06-30T18:16:23.517645Z",
     "start_time": "2025-06-30T18:16:23.513116Z"
    }
   },
   "cell_type": "code",
   "source": [
    "# create a model with non-linear and linear layers\n",
    "\n",
    "class FashionMNISTModelV1(nn.Module):\n",
    "    def __init__(self,\n",
    "                 input_shape:int,\n",
    "                 hidden_units:int,\n",
    "                 output_shape:int):\n",
    "        super().__init__()\n",
    "        self.layer_stack = nn.Sequential(\n",
    "            nn.Flatten(), # flatten input into a single vector\n",
    "            nn.Linear(in_features=input_shape, out_features=hidden_units),\n",
    "            nn.ReLU(),\n",
    "            nn.Linear(in_features=hidden_units, out_features=output_shape),\n",
    "            nn.ReLU()\n",
    "        )\n",
    "    def forward(self, x: torch.Tensor):\n",
    "        return self.layer_stack(x)"
   ],
   "id": "1e040d815c0424f5",
   "outputs": [],
   "execution_count": 35
  },
  {
   "metadata": {
    "ExecuteTime": {
     "end_time": "2025-06-30T18:16:23.743460Z",
     "start_time": "2025-06-30T18:16:23.580224Z"
    }
   },
   "cell_type": "code",
   "source": [
    "# create an instance of model_1\n",
    "torch.manual_seed(42)\n",
    "model_1 = FashionMNISTModelV1(\n",
    "    input_shape=784, # output of the flatten layer after our 28 * 28 image goes in\n",
    "    hidden_units=10,\n",
    "    output_shape=len(class_names)).to(device)\n",
    "\n",
    "next(model_1.parameters()).device"
   ],
   "id": "c9966dfd0bb2bc5d",
   "outputs": [
    {
     "data": {
      "text/plain": [
       "device(type='cuda', index=0)"
      ]
     },
     "execution_count": 36,
     "metadata": {},
     "output_type": "execute_result"
    }
   ],
   "execution_count": 36
  },
  {
   "metadata": {
    "ExecuteTime": {
     "end_time": "2025-06-30T18:16:23.814374Z",
     "start_time": "2025-06-30T18:16:23.811944Z"
    }
   },
   "cell_type": "code",
   "source": [
    "from PyTorchLearnings_UDEMY.Python import helper_functions\n",
    "\n",
    "loss_fn = nn.CrossEntropyLoss() # measure how wrong is our model is\n",
    "optimizer = torch.optim.SGD(model_1.parameters(), lr=0.1) # tries to update our model's parameters to reduce the loss\n"
   ],
   "id": "551365c0ce75890e",
   "outputs": [],
   "execution_count": 37
  },
  {
   "metadata": {},
   "cell_type": "markdown",
   "source": [
    "### 6.2 Functionizing training and evaluaton/test loops\n",
    "\n",
    "Let's create a function for:\n",
    "- training loop - `train_step()`\n",
    "- testing loop - `test_step()`"
   ],
   "id": "4e0ecd20c83abd6a"
  },
  {
   "metadata": {
    "ExecuteTime": {
     "end_time": "2025-06-30T18:16:23.880848Z",
     "start_time": "2025-06-30T18:16:23.878099Z"
    }
   },
   "cell_type": "code",
   "source": [
    "# def train_step(model: torch.nn.Module,\n",
    "#                 data_loader: torch.utils.data.DataLoader,\n",
    "#                loss_fn: torch.nn.Module,\n",
    "#                optimizer: torch.optim.Optimizer,\n",
    "#                accuracy_fn,\n",
    "#                device: torch.device=device):\n",
    "#     \"\"\"performs a training with model trying to learn on data_loader\"\"\"\n",
    "#     train_loss, train_acc= 0,  0\n",
    "#\n",
    "#     # put model into training mode\n",
    "#     model.to(device)\n",
    "#\n",
    "#     for batch, (X, y) in enumerate(data_loader):\n",
    "#         # put data on target device\n",
    "#         X, y = X.to(device), y.to(device)\n",
    "#         # 1. forward pass\n",
    "#         y_pred = model(X)\n",
    "#\n",
    "#         # 2. calculate loss and acc (per batch)\n",
    "#         loss = loss_fn(y_pred, y)\n",
    "#         train_loss += loss # accumulate train loss\n",
    "#         train_acc += accuracy_fn(y_true=y, y_pred=y_pred.argmax(dim=1)) # go from logits to pred labels\n",
    "#\n",
    "#         # 3. optimizer zero grad\n",
    "#         optimizer.zero_grad()\n",
    "#\n",
    "#         # 4. Loss backward\n",
    "#         loss.backward()\n",
    "#\n",
    "#         # 5. optimizer step\n",
    "#         optimizer.step()\n",
    "#\n",
    "#         # print out what is happeling\n",
    "#         if batch % 400 == 0:\n",
    "#             print(f\"Looked at {batch * len(X)}/{len(train_loader.dataset)} samples\")\n",
    "#\n",
    "#     # divide total train loss and acc by length of train dataloader\n",
    "#     train_loss /= len(data_loader)\n",
    "#     train_acc /= len(data_loader)\n",
    "#     print(f\"Train loss : {train_loss:.4f} | Train accuracy : {train_acc:.2f}%\")"
   ],
   "id": "4158b39ef259e891",
   "outputs": [],
   "execution_count": 38
  },
  {
   "metadata": {
    "ExecuteTime": {
     "end_time": "2025-06-30T18:16:23.948289Z",
     "start_time": "2025-06-30T18:16:23.945782Z"
    }
   },
   "cell_type": "code",
   "source": [
    "# def test_step(model: torch.nn.Module,\n",
    "#               data_loader: torch.utils.data.DataLoader,\n",
    "#               loss_fn: torch.nn.Module,\n",
    "#               accuracy_fn,\n",
    "#               device: torch.device=device):\n",
    "#     \"\"\"performs a testing with model trying to learn on data_loader\"\"\"\n",
    "#     test_loss, test_acc = 0, 0\n",
    "#\n",
    "#     # put the model in eval mode\n",
    "#     model.to(device)\n",
    "#     model.eval()\n",
    "#\n",
    "#     # turn on inference mode context manager\n",
    "#     with torch.inference_mode():\n",
    "#         for X, y in data_loader:\n",
    "#             # send the data to the target device\n",
    "#             X, y = X.to(device), y.to(device)\n",
    "#\n",
    "#             # 1. forward pass\n",
    "#             test_pred = model(X)\n",
    "#\n",
    "#             # calc the loss/acc\n",
    "#             test_loss += loss_fn(test_pred, y)\n",
    "#             test_acc += accuracy_fn(y_true=y, y_pred=test_pred.argmax(dim=1)) # go from logits to pred labels\n",
    "#\n",
    "#         # adjust the metrics and print out\n",
    "#         test_loss /= len(data_loader)\n",
    "#         test_acc /= len(data_loader)\n",
    "#         print(f\"Test loss : {test_loss:.4f} | Test accuracy : {test_acc:.2f}%\\n\")\n"
   ],
   "id": "fe8d17d941fddf87",
   "outputs": [],
   "execution_count": 39
  },
  {
   "metadata": {
    "ExecuteTime": {
     "end_time": "2025-06-30T18:16:24.020640Z",
     "start_time": "2025-06-30T18:16:24.014999Z"
    }
   },
   "cell_type": "code",
   "source": [
    "def train_step(model: torch.nn.Module,\n",
    "               data_loader: torch.utils.data.DataLoader,\n",
    "               loss_fn: torch.nn.Module,\n",
    "               optimizer: torch.optim.Optimizer,\n",
    "               accuracy_fn,\n",
    "               device: torch.device = device):\n",
    "    train_loss, train_acc = 0, 0\n",
    "    model.to(device)\n",
    "    for batch, (X, y) in enumerate(data_loader):\n",
    "        # Send data to GPU\n",
    "        X, y = X.to(device), y.to(device)\n",
    "\n",
    "        # 1. Forward pass\n",
    "        y_pred = model(X)\n",
    "\n",
    "        # 2. Calculate loss\n",
    "        loss = loss_fn(y_pred, y)\n",
    "        train_loss += loss\n",
    "        train_acc += accuracy_fn(y_true=y,\n",
    "                                 y_pred=y_pred.argmax(dim=1)) # Go from logits -> pred labels\n",
    "\n",
    "        # 3. Optimizer zero grad\n",
    "        optimizer.zero_grad()\n",
    "\n",
    "        # 4. Loss backward\n",
    "        loss.backward()\n",
    "\n",
    "        # 5. Optimizer step\n",
    "        optimizer.step()\n",
    "\n",
    "    # Calculate loss and accuracy per epoch and print out what's happening\n",
    "    train_loss /= len(data_loader)\n",
    "    train_acc /= len(data_loader)\n",
    "    print(f\"Train loss: {train_loss:.5f} | Train accuracy: {train_acc:.2f}%\")\n",
    "\n",
    "def test_step(data_loader: torch.utils.data.DataLoader,\n",
    "              model: torch.nn.Module,\n",
    "              loss_fn: torch.nn.Module,\n",
    "              accuracy_fn,\n",
    "              device: torch.device = device):\n",
    "    test_loss, test_acc = 0, 0\n",
    "    model.to(device)\n",
    "    model.eval() # put model in eval mode\n",
    "    # Turn on inference context manager\n",
    "    with torch.inference_mode():\n",
    "        for X, y in data_loader:\n",
    "            # Send data to GPU\n",
    "            X, y = X.to(device), y.to(device)\n",
    "\n",
    "            # 1. Forward pass\n",
    "            test_pred = model(X)\n",
    "\n",
    "            # 2. Calculate loss and accuracy\n",
    "            test_loss += loss_fn(test_pred, y)\n",
    "            test_acc += accuracy_fn(y_true=y,\n",
    "                y_pred=test_pred.argmax(dim=1) # Go from logits -> pred labels\n",
    "            )\n",
    "\n",
    "        # Adjust metrics and print out\n",
    "        test_loss /= len(data_loader)\n",
    "        test_acc /= len(data_loader)\n",
    "        print(f\"Test loss: {test_loss:.5f} | Test accuracy: {test_acc:.2f}%\\n\")"
   ],
   "id": "64edcb8d76b7bad3",
   "outputs": [],
   "execution_count": 40
  },
  {
   "metadata": {
    "ExecuteTime": {
     "end_time": "2025-06-30T18:16:43.310032Z",
     "start_time": "2025-06-30T18:16:24.083263Z"
    }
   },
   "cell_type": "code",
   "source": [
    "torch.manual_seed(42)\n",
    "\n",
    "# meassure the time\n",
    "from timeit import default_timer as timer\n",
    "train_time_start_on_gpu = timer()\n",
    "\n",
    "# set epochs\n",
    "epochs = 3\n",
    "\n",
    "# create an optimizaton and eval loop using train_step() and test_step()\n",
    "for epoch in tqdm(range(epochs)):\n",
    "    print(f\"Epoch {epoch}\\n---------\")\n",
    "    train_step(model=model_1,\n",
    "               data_loader=train_loader,\n",
    "               loss_fn=loss_fn,\n",
    "               optimizer=optimizer,\n",
    "               accuracy_fn=accuracy_fn,\n",
    "               device=device)\n",
    "\n",
    "    print(f\"Epoch {epoch}\\n---------\")\n",
    "    test_step(model = model_1,\n",
    "              data_loader=test_loader,\n",
    "              loss_fn=loss_fn,\n",
    "              accuracy_fn=accuracy_fn,\n",
    "              device=device)\n",
    "\n",
    "train_time_end_on_gpu = timer()\n",
    "\n",
    "total_train_time_model_1 = print_train_time(start=train_time_start_on_gpu, end=train_time_end_on_gpu, device=str(next(model_1.parameters()).device))"
   ],
   "id": "28cb6f09a62f5d98",
   "outputs": [
    {
     "name": "stderr",
     "output_type": "stream",
     "text": [
      "  0%|          | 0/3 [00:00<?, ?it/s]"
     ]
    },
    {
     "name": "stdout",
     "output_type": "stream",
     "text": [
      "Epoch 0\n",
      "---------\n",
      "Train loss: 1.09199 | Train accuracy: 61.34%\n",
      "Epoch 0\n",
      "---------\n"
     ]
    },
    {
     "name": "stderr",
     "output_type": "stream",
     "text": [
      " 33%|███▎      | 1/3 [00:06<00:13,  6.59s/it]"
     ]
    },
    {
     "name": "stdout",
     "output_type": "stream",
     "text": [
      "Test loss: 0.95690 | Test accuracy: 64.98%\n",
      "\n",
      "Epoch 1\n",
      "---------\n",
      "Train loss: 0.73779 | Train accuracy: 73.69%\n",
      "Epoch 1\n",
      "---------\n"
     ]
    },
    {
     "name": "stderr",
     "output_type": "stream",
     "text": [
      " 67%|██████▋   | 2/3 [00:12<00:06,  6.47s/it]"
     ]
    },
    {
     "name": "stdout",
     "output_type": "stream",
     "text": [
      "Test loss: 0.72388 | Test accuracy: 74.21%\n",
      "\n",
      "Epoch 2\n",
      "---------\n",
      "Train loss: 0.66776 | Train accuracy: 76.08%\n",
      "Epoch 2\n",
      "---------\n"
     ]
    },
    {
     "name": "stderr",
     "output_type": "stream",
     "text": [
      "100%|██████████| 3/3 [00:19<00:00,  6.41s/it]"
     ]
    },
    {
     "name": "stdout",
     "output_type": "stream",
     "text": [
      "Test loss: 0.68751 | Test accuracy: 75.64%\n",
      "\n",
      "\n",
      "Train time on cuda:0: 19.222 seconds\n"
     ]
    },
    {
     "name": "stderr",
     "output_type": "stream",
     "text": [
      "\n"
     ]
    }
   ],
   "execution_count": 41
  },
  {
   "metadata": {
    "ExecuteTime": {
     "end_time": "2025-06-30T18:16:43.341464Z",
     "start_time": "2025-06-30T18:16:43.338473Z"
    }
   },
   "cell_type": "code",
   "source": "model_0_results",
   "id": "1f1ba3ff84612cb6",
   "outputs": [
    {
     "data": {
      "text/plain": [
       "{'model name ': 'FashionMNISTModelV0',\n",
       " 'model loss ': 0.5125296711921692,\n",
       " 'model acc ': 83.00718849840256}"
      ]
     },
     "execution_count": 42,
     "metadata": {},
     "output_type": "execute_result"
    }
   ],
   "execution_count": 42
  },
  {
   "metadata": {
    "ExecuteTime": {
     "end_time": "2025-06-30T18:16:43.412033Z",
     "start_time": "2025-06-30T18:16:43.409093Z"
    }
   },
   "cell_type": "code",
   "source": "total_train_time_model_0",
   "id": "2d38c6ad16d2383f",
   "outputs": [
    {
     "data": {
      "text/plain": [
       "19.290462012999967"
      ]
     },
     "execution_count": 43,
     "metadata": {},
     "output_type": "execute_result"
    }
   ],
   "execution_count": 43
  },
  {
   "metadata": {},
   "cell_type": "markdown",
   "source": [
    "> **Note** : The training time on CUDA vs CPU will depend largely on the quality of the CPU/GPU you're using. Read on for a more explained answer\n",
    "> **Question** : \"I used a GPU but my model didn't train faster, why might that be?\"\n",
    "> **Answer** : Well, one reason could be because your dataset and model are both so small (like the dataset and model we're working with) the benefits of using a GPU are outweighed by the time it actually takes to transfer the data there.\n",
    "\n",
    "> There's a small bottleneck between copying data from the CPU memory (default) to the GPU memory.\n",
    "\n",
    ">So for smaller models and datasets, the CPU might actually be the optimal place to compute on.\n",
    "\n",
    "> But for larger datasets and models, the speed of computing the GPU can offer usually far outweighs the cost of getting the data there.\n",
    "\n",
    "> However, this is largely dependent on the hardware you're using. With practice, you will get used to where the best place to train your models is."
   ],
   "id": "5b3cde5de972ef19"
  },
  {
   "metadata": {
    "ExecuteTime": {
     "end_time": "2025-06-30T18:16:43.480801Z",
     "start_time": "2025-06-30T18:16:43.479060Z"
    }
   },
   "cell_type": "code",
   "source": "",
   "id": "e08b9c3a05b5edf",
   "outputs": [],
   "execution_count": null
  },
  {
   "metadata": {
    "ExecuteTime": {
     "end_time": "2025-06-30T18:16:43.549024Z",
     "start_time": "2025-06-30T18:16:43.545314Z"
    }
   },
   "cell_type": "code",
   "source": [
    "def eval_model(model: torch.nn.Module,\n",
    "               data_loader: torch.utils.data.DataLoader,\n",
    "               loss_fn: torch.nn.Module,\n",
    "               accuracy_fn):\n",
    "    \"\"\"\n",
    "    Returns a dictionary containing the results of model predicting on data_loader\n",
    "    \"\"\"\n",
    "    loss, acc = 0, 0\n",
    "    model.eval()\n",
    "    with torch.inference_mode():\n",
    "        for X, y in tqdm(data_loader):\n",
    "            # make predictions\n",
    "            X, y = X.to(device), y.to(device)\n",
    "            y_pred = model(X)\n",
    "\n",
    "            # Accumulate the loss and acc values per batch\n",
    "            loss += loss_fn(y_pred, y)\n",
    "            acc += accuracy_fn(y_true=y, y_pred=y_pred.argmax(dim=1))\n",
    "\n",
    "        # scale loss and acc to find the avg loss/acc per batch\n",
    "        loss /= len(data_loader)\n",
    "        acc /= len(data_loader)\n",
    "    return {\"model name \": model.__class__.__name__, # Only works when model was created with a class\n",
    "            \"model loss \": loss.item(),\n",
    "            \"model acc \": acc\n",
    "            }"
   ],
   "id": "f166fa5da9a760e0",
   "outputs": [],
   "execution_count": 44
  },
  {
   "metadata": {
    "ExecuteTime": {
     "end_time": "2025-06-30T18:16:44.319282Z",
     "start_time": "2025-06-30T18:16:43.613938Z"
    }
   },
   "cell_type": "code",
   "source": [
    "# get model_1 results dict\n",
    "model_1_results = eval_model(model=model_1,\n",
    "                             data_loader=test_loader,\n",
    "                             loss_fn=loss_fn,\n",
    "                             accuracy_fn=accuracy_fn)\n",
    "model_1_results"
   ],
   "id": "b04f96374c3c71ab",
   "outputs": [
    {
     "name": "stderr",
     "output_type": "stream",
     "text": [
      "100%|██████████| 313/313 [00:00<00:00, 447.18it/s]\n"
     ]
    },
    {
     "data": {
      "text/plain": [
       "{'model name ': 'FashionMNISTModelV1',\n",
       " 'model loss ': 0.687465250492096,\n",
       " 'model acc ': 75.64896166134186}"
      ]
     },
     "execution_count": 45,
     "metadata": {},
     "output_type": "execute_result"
    }
   ],
   "execution_count": 45
  },
  {
   "metadata": {
    "ExecuteTime": {
     "end_time": "2025-06-30T18:16:44.349956Z",
     "start_time": "2025-06-30T18:16:44.346626Z"
    }
   },
   "cell_type": "code",
   "source": "model_0_results",
   "id": "79240b5c1d5b0892",
   "outputs": [
    {
     "data": {
      "text/plain": [
       "{'model name ': 'FashionMNISTModelV0',\n",
       " 'model loss ': 0.5125296711921692,\n",
       " 'model acc ': 83.00718849840256}"
      ]
     },
     "execution_count": 46,
     "metadata": {},
     "output_type": "execute_result"
    }
   ],
   "execution_count": 46
  },
  {
   "metadata": {},
   "cell_type": "markdown",
   "source": [
    "https://poloclub.github.io/cnn-explainer/##\n",
    "\n",
    "## Model 2 : Build a CNN\n",
    "\n",
    "CCN's are also known ConvNets\n",
    "\n",
    "CNN's are known for their capabilities to find patterns in visual data"
   ],
   "id": "2e78c79466f7ab20"
  },
  {
   "metadata": {
    "ExecuteTime": {
     "end_time": "2025-06-30T18:16:44.423547Z",
     "start_time": "2025-06-30T18:16:44.418648Z"
    }
   },
   "cell_type": "code",
   "source": [
    "# create a CNN\n",
    "class FashionMNISTModelV2(nn.Module):\n",
    "    \"\"\"\n",
    "    Model architecture that replicates the tinyVGG\n",
    "    model from CNN explainer website\n",
    "    \"\"\"\n",
    "    def __init__(self, input_shape: int, hidden_units: int, output_shape: int):\n",
    "        super().__init__()\n",
    "        # create a conv block = https://docs.pytorch.org/docs/stable/generated/torch.nn.Conv2d.html\n",
    "        self.conv_block_1 = nn.Sequential(\n",
    "            nn.Conv2d(in_channels=input_shape,\n",
    "                      out_channels=hidden_units,\n",
    "                      kernel_size=3,\n",
    "                      padding=1,\n",
    "                      stride=1), # values we can set ourselves in our NN's are called hyperparameters\n",
    "            nn.ReLU(),\n",
    "            nn.Conv2d(in_channels=hidden_units,\n",
    "                      out_channels=hidden_units,\n",
    "                      kernel_size=3,\n",
    "                      padding=1,\n",
    "                      stride=1),\n",
    "            nn.ReLU(),\n",
    "            nn.MaxPool2d(kernel_size=2)\n",
    "        )\n",
    "        self.conv_block_2 = nn.Sequential(\n",
    "            nn.Conv2d(in_channels=hidden_units,\n",
    "                      out_channels=hidden_units,\n",
    "                      kernel_size=3,\n",
    "                      padding=1,\n",
    "                      stride=1),\n",
    "            nn.ReLU(),\n",
    "            nn.Conv2d(in_channels=hidden_units,\n",
    "                      out_channels=hidden_units,\n",
    "                      kernel_size=3,\n",
    "                      padding=1,\n",
    "                      stride=1),\n",
    "            nn.ReLU(),\n",
    "            nn.MaxPool2d(kernel_size=2)\n",
    "        )\n",
    "        self.classifier = nn.Sequential(\n",
    "            nn.Flatten(),\n",
    "            nn.Linear(in_features=hidden_units*7*7, # there is a trick to calculate this\n",
    "                      out_features=output_shape),\n",
    "        )\n",
    "\n",
    "    def forward(self, x):\n",
    "        x = self.conv_block_1(x)\n",
    "        # print(f\"Output shape of conv block 1 : {x.shape}\")\n",
    "        x = self.conv_block_2(x)\n",
    "        # print(f\"Output shape of conv block 2 : {x.shape}\")\n",
    "        x = self.classifier(x)\n",
    "        # print(f\"Output shape of classifier : {x.shape}\")\n",
    "        return x"
   ],
   "id": "b504f3651ada0170",
   "outputs": [],
   "execution_count": 47
  },
  {
   "metadata": {
    "ExecuteTime": {
     "end_time": "2025-06-30T18:16:44.490944Z",
     "start_time": "2025-06-30T18:16:44.487957Z"
    }
   },
   "cell_type": "code",
   "source": "len(class_names)",
   "id": "17793c99d618a81f",
   "outputs": [
    {
     "data": {
      "text/plain": [
       "10"
      ]
     },
     "execution_count": 48,
     "metadata": {},
     "output_type": "execute_result"
    }
   ],
   "execution_count": 48
  },
  {
   "metadata": {
    "ExecuteTime": {
     "end_time": "2025-06-30T18:16:44.562934Z",
     "start_time": "2025-06-30T18:16:44.558428Z"
    }
   },
   "cell_type": "code",
   "source": [
    "torch.manual_seed(42)\n",
    "\n",
    "model_2 = FashionMNISTModelV2(input_shape=1, hidden_units=10, output_shape=len(class_names)).to(device)"
   ],
   "id": "6edefbadc04f8cd7",
   "outputs": [],
   "execution_count": 49
  },
  {
   "metadata": {
    "ExecuteTime": {
     "end_time": "2025-06-30T18:16:44.707595Z",
     "start_time": "2025-06-30T18:16:44.627933Z"
    }
   },
   "cell_type": "code",
   "source": "plt.imshow(image.squeeze(), cmap=\"grey\")",
   "id": "113a085d97a94eb9",
   "outputs": [
    {
     "data": {
      "text/plain": [
       "<matplotlib.image.AxesImage at 0x7fc846d79510>"
      ]
     },
     "execution_count": 50,
     "metadata": {},
     "output_type": "execute_result"
    },
    {
     "data": {
      "text/plain": [
       "<Figure size 640x480 with 1 Axes>"
      ],
      "image/png": "[encoded data removed]"
     },
     "metadata": {},
     "output_type": "display_data"
    }
   ],
   "execution_count": 50
  },
  {
   "metadata": {
    "ExecuteTime": {
     "end_time": "2025-06-30T18:16:44.740425Z",
     "start_time": "2025-06-30T18:16:44.737012Z"
    }
   },
   "cell_type": "code",
   "source": [
    "rand_image_tensor = torch.randn(size=(1, 28, 28))\n",
    "rand_image_tensor.shape"
   ],
   "id": "719accbb64f072d9",
   "outputs": [
    {
     "data": {
      "text/plain": [
       "torch.Size([1, 28, 28])"
      ]
     },
     "execution_count": 51,
     "metadata": {},
     "output_type": "execute_result"
    }
   ],
   "execution_count": 51
  },
  {
   "metadata": {
    "ExecuteTime": {
     "end_time": "2025-06-30T18:16:45.198110Z",
     "start_time": "2025-06-30T18:16:44.814327Z"
    }
   },
   "cell_type": "code",
   "source": "model_2(rand_image_tensor.unsqueeze(0).to(device))",
   "id": "1f5e7a6397235a50",
   "outputs": [
    {
     "data": {
      "text/plain": [
       "tensor([[ 0.0366, -0.0940,  0.0686, -0.0485,  0.0068,  0.0290,  0.0132,  0.0084,\n",
       "         -0.0030, -0.0185]], device='cuda:0', grad_fn=<AddmmBackward0>)"
      ]
     },
     "execution_count": 52,
     "metadata": {},
     "output_type": "execute_result"
    }
   ],
   "execution_count": 52
  },
  {
   "metadata": {
    "ExecuteTime": {
     "end_time": "2025-06-30T18:16:45.265711Z",
     "start_time": "2025-06-30T18:16:45.261942Z"
    }
   },
   "cell_type": "code",
   "source": "output_dt = print(model_2(rand_image_tensor.unsqueeze(0).to(device)))",
   "id": "7af572cddb686a90",
   "outputs": [
    {
     "name": "stdout",
     "output_type": "stream",
     "text": [
      "tensor([[ 0.0366, -0.0940,  0.0686, -0.0485,  0.0068,  0.0290,  0.0132,  0.0084,\n",
      "         -0.0030, -0.0185]], device='cuda:0', grad_fn=<AddmmBackward0>)\n"
     ]
    }
   ],
   "execution_count": 53
  },
  {
   "metadata": {
    "ExecuteTime": {
     "end_time": "2025-06-30T18:16:45.377301Z",
     "start_time": "2025-06-30T18:16:45.372309Z"
    }
   },
   "cell_type": "code",
   "source": "image.shape",
   "id": "c87dc0b0201c215a",
   "outputs": [
    {
     "data": {
      "text/plain": [
       "torch.Size([1, 28, 28])"
      ]
     },
     "execution_count": 54,
     "metadata": {},
     "output_type": "execute_result"
    }
   ],
   "execution_count": 54
  },
  {
   "metadata": {},
   "cell_type": "markdown",
   "source": [
    "### 7.1 Stepping through `conv2d`\n",
    "\n",
    "documentation : https://docs.pytorch.org/docs/stable/generated/torch.nn.Conv2d.html"
   ],
   "id": "164c0def7078db3c"
  },
  {
   "metadata": {
    "ExecuteTime": {
     "end_time": "2025-06-30T18:16:45.524728Z",
     "start_time": "2025-06-30T18:16:45.515672Z"
    }
   },
   "cell_type": "code",
   "source": [
    "torch.manual_seed(42)\n",
    "\n",
    "# create a batch of images\n",
    "images = torch.randn(size=(32, 3, 64, 64))\n",
    "test_image = images[0]\n",
    "\n",
    "print(f\"Image batch shape : {images.shape}\")\n",
    "print(f\"Single image shaep : {test_image.shape}\")\n",
    "print(f\"Test image :\\n {test_image}\")"
   ],
   "id": "a8c12b6ff68e73fc",
   "outputs": [
    {
     "name": "stdout",
     "output_type": "stream",
     "text": [
      "Image batch shape : torch.Size([32, 3, 64, 64])\n",
      "Single image shaep : torch.Size([3, 64, 64])\n",
      "Test image :\n",
      " tensor([[[ 1.9269,  1.4873,  0.9007,  ...,  1.8446, -1.1845,  1.3835],\n",
      "         [ 1.4451,  0.8564,  2.2181,  ...,  0.3399,  0.7200,  0.4114],\n",
      "         [ 1.9312,  1.0119, -1.4364,  ..., -0.5558,  0.7043,  0.7099],\n",
      "         ...,\n",
      "         [-0.5610, -0.4830,  0.4770,  ..., -0.2713, -0.9537, -0.6737],\n",
      "         [ 0.3076, -0.1277,  0.0366,  ..., -2.0060,  0.2824, -0.8111],\n",
      "         [-1.5486,  0.0485, -0.7712,  ..., -0.1403,  0.9416, -0.0118]],\n",
      "\n",
      "        [[-0.5197,  1.8524,  1.8365,  ...,  0.8935, -1.5114, -0.8515],\n",
      "         [ 2.0818,  1.0677, -1.4277,  ...,  1.6612, -2.6223, -0.4319],\n",
      "         [-0.1010, -0.4388, -1.9775,  ...,  0.2106,  0.2536, -0.7318],\n",
      "         ...,\n",
      "         [ 0.2779,  0.7342, -0.3736,  ..., -0.4601,  0.1815,  0.1850],\n",
      "         [ 0.7205, -0.2833,  0.0937,  ..., -0.1002, -2.3609,  2.2465],\n",
      "         [-1.3242, -0.1973,  0.2920,  ...,  0.5409,  0.6940,  1.8563]],\n",
      "\n",
      "        [[-0.7978,  1.0261,  1.1465,  ...,  1.2134,  0.9354, -0.0780],\n",
      "         [-1.4647, -1.9571,  0.1017,  ..., -1.9986, -0.7409,  0.7011],\n",
      "         [-1.3938,  0.8466, -1.7191,  ..., -1.1867,  0.1320,  0.3407],\n",
      "         ...,\n",
      "         [ 0.8206, -0.3745,  1.2499,  ..., -0.0676,  0.0385,  0.6335],\n",
      "         [-0.5589, -0.3393,  0.2347,  ...,  2.1181,  2.4569,  1.3083],\n",
      "         [-0.4092,  1.5199,  0.2401,  ..., -0.2558,  0.7870,  0.9924]]])\n"
     ]
    }
   ],
   "execution_count": 55
  },
  {
   "metadata": {
    "ExecuteTime": {
     "end_time": "2025-06-30T18:16:45.679217Z",
     "start_time": "2025-06-30T18:16:45.631971Z"
    }
   },
   "cell_type": "code",
   "source": [
    "# create a single conv2d layer\n",
    "conv_layer = nn.Conv2d(in_channels=3, # Number of channels in the input shape\n",
    "                       out_channels=10, # Number of channels produced by the convolution\n",
    "                       kernel_size=5, # size of the convolving kernel\n",
    "                       padding=1, # Padding added to all four sides of the input\n",
    "                       stride=1) # stride of the convolution\n",
    "\n",
    "# pass the data through the conv layer\n",
    "conv_output = conv_layer(test_image)"
   ],
   "id": "765bb3b89894bc41",
   "outputs": [],
   "execution_count": 56
  },
  {
   "metadata": {
    "ExecuteTime": {
     "end_time": "2025-06-30T18:16:45.755650Z",
     "start_time": "2025-06-30T18:16:45.749498Z"
    }
   },
   "cell_type": "code",
   "source": "conv_output.shape",
   "id": "4a544fe80f7f7316",
   "outputs": [
    {
     "data": {
      "text/plain": [
       "torch.Size([10, 62, 62])"
      ]
     },
     "execution_count": 57,
     "metadata": {},
     "output_type": "execute_result"
    }
   ],
   "execution_count": 57
  },
  {
   "metadata": {
    "ExecuteTime": {
     "end_time": "2025-06-30T18:16:45.848738Z",
     "start_time": "2025-06-30T18:16:45.844874Z"
    }
   },
   "cell_type": "code",
   "source": "test_image.unsqueeze(dim=0).shape",
   "id": "df3c304f5adff7c0",
   "outputs": [
    {
     "data": {
      "text/plain": [
       "torch.Size([1, 3, 64, 64])"
      ]
     },
     "execution_count": 58,
     "metadata": {},
     "output_type": "execute_result"
    }
   ],
   "execution_count": 58
  },
  {
   "metadata": {
    "ExecuteTime": {
     "end_time": "2025-06-30T18:16:45.936322Z",
     "start_time": "2025-06-30T18:16:45.931936Z"
    }
   },
   "cell_type": "code",
   "source": "conv_layer(test_image.unsqueeze(dim=0)).shape",
   "id": "f9de98afb690bbdf",
   "outputs": [
    {
     "data": {
      "text/plain": [
       "torch.Size([1, 10, 62, 62])"
      ]
     },
     "execution_count": 59,
     "metadata": {},
     "output_type": "execute_result"
    }
   ],
   "execution_count": 59
  },
  {
   "metadata": {},
   "cell_type": "markdown",
   "source": [
    "### 7.2 stepping through `nn.MaxPool2d()`\n",
    "\n",
    "docs : https://docs.pytorch.org/docs/stable/generated/torch.nn.MaxPool2d.html\n"
   ],
   "id": "34431400691e2c4"
  },
  {
   "metadata": {
    "ExecuteTime": {
     "end_time": "2025-06-30T18:16:46.025554Z",
     "start_time": "2025-06-30T18:16:46.020466Z"
    }
   },
   "cell_type": "code",
   "source": [
    "# print out original shape without unsqueezed dimension\n",
    "print(f\"Test image original shape : {test_image.shape}\")\n",
    "print(f\"Test image with unsqueezed dimension : {test_image.unsqueeze(0).shape}\")\n",
    "\n",
    "# create a sample nn.MaxPool2d layer\n",
    "max_pool_layer = nn.MaxPool2d(kernel_size=2)\n",
    "\n",
    "# pass data through just the conv_layer\n",
    "test_image_through_conv = conv_layer(test_image.unsqueeze(dim=0))\n",
    "print(f\"Shape after conv_layer : {test_image_through_conv.shape}\")\n",
    "\n",
    "# pass data through the max pool layer\n",
    "test_image_after_maxp_conv = max_pool_layer(test_image_through_conv)\n",
    "print(f\"Shape after max_pool_layer and conv_layer : {test_image_after_maxp_conv.shape}\")"
   ],
   "id": "26557034948167b2",
   "outputs": [
    {
     "name": "stdout",
     "output_type": "stream",
     "text": [
      "Test image original shape : torch.Size([3, 64, 64])\n",
      "Test image with unsqueezed dimension : torch.Size([1, 3, 64, 64])\n",
      "Shape after conv_layer : torch.Size([1, 10, 62, 62])\n",
      "Shape after max_pool_layer and conv_layer : torch.Size([1, 10, 31, 31])\n"
     ]
    }
   ],
   "execution_count": 60
  },
  {
   "metadata": {
    "ExecuteTime": {
     "end_time": "2025-06-30T18:16:46.119640Z",
     "start_time": "2025-06-30T18:16:46.114069Z"
    }
   },
   "cell_type": "code",
   "source": [
    "torch.manual_seed(42)\n",
    "\n",
    "# create a random tensor with a similar number of dims\n",
    "random_tensor = torch.randn(size=(1, 1, 2, 2))\n",
    "print(f\"\\n Random tensor: \\n {random_tensor}\")\n",
    "print(f\"Random tensor shape : {random_tensor.shape} \")\n",
    "# create a maxpool layer\n",
    "max_pool_layer = nn.MaxPool2d(kernel_size=2)\n",
    "\n",
    "# pass the random tensor through the max pool layer\n",
    "max_pool_tensor = max_pool_layer(random_tensor)\n",
    "print(f\"\\nMax pool tensor:\\n {max_pool_tensor}\")\n",
    "print(f\"Max pool tensor shape : {max_pool_tensor.shape}\")\n",
    "\n",
    "\n"
   ],
   "id": "95db192c47b2ff80",
   "outputs": [
    {
     "name": "stdout",
     "output_type": "stream",
     "text": [
      "\n",
      " Random tensor: \n",
      " tensor([[[[0.3367, 0.1288],\n",
      "          [0.2345, 0.2303]]]])\n",
      "Random tensor shape : torch.Size([1, 1, 2, 2]) \n",
      "\n",
      "Max pool tensor:\n",
      " tensor([[[[0.3367]]]])\n",
      "Max pool tensor shape : torch.Size([1, 1, 1, 1])\n"
     ]
    }
   ],
   "execution_count": 61
  },
  {
   "metadata": {},
   "cell_type": "markdown",
   "source": "## 7.3 Set up a loss func and opt for `model_2`",
   "id": "5facb81544823930"
  },
  {
   "metadata": {
    "ExecuteTime": {
     "end_time": "2025-06-30T18:16:46.210614Z",
     "start_time": "2025-06-30T18:16:46.207339Z"
    }
   },
   "cell_type": "code",
   "source": [
    "# setup loss func.eval metrics/opt\n",
    "from PyTorchLearnings_UDEMY.Python.helper_functions import accuracy_fn\n",
    "\n",
    "loss_fn = nn.CrossEntropyLoss()\n",
    "optimizer = torch.optim.SGD(params=model_2.parameters(), lr=0.01)"
   ],
   "id": "a79bda9d366a5da3",
   "outputs": [],
   "execution_count": 62
  },
  {
   "metadata": {},
   "cell_type": "markdown",
   "source": "### 4.4 training and testing `model 2` using our traininf and test func",
   "id": "4f0a58c4584e44ea"
  },
  {
   "metadata": {
    "ExecuteTime": {
     "end_time": "2025-06-30T18:17:08.575259Z",
     "start_time": "2025-06-30T18:16:46.294567Z"
    }
   },
   "cell_type": "code",
   "source": [
    "torch.manual_seed(42)\n",
    "torch.cuda.manual_seed(42)\n",
    "\n",
    "# meassure the time\n",
    "from timeit import default_timer as timer\n",
    "train_time_start_on_gpu = timer()\n",
    "\n",
    "# set epochs\n",
    "epochs = 3\n",
    "\n",
    "# create an optimizaton and eval loop using train_step() and test_step()\n",
    "for epoch in tqdm(range(epochs)):\n",
    "    print(f\"Epoch {epoch}\\n---------\")\n",
    "    train_step(model=model_2,\n",
    "               data_loader=train_loader,\n",
    "               loss_fn=loss_fn,\n",
    "               optimizer=optimizer,\n",
    "               accuracy_fn=accuracy_fn,\n",
    "               device=device)\n",
    "\n",
    "    print(f\"Epoch {epoch}\\n---------\")\n",
    "    test_step(model = model_2,\n",
    "              data_loader=test_loader,\n",
    "              loss_fn=loss_fn,\n",
    "              accuracy_fn=accuracy_fn,\n",
    "              device=device)\n",
    "\n",
    "train_time_end_on_gpu = timer()\n",
    "\n",
    "total_train_time_model_2 = print_train_time(start=train_time_start_on_gpu, end=train_time_end_on_gpu, device=str(next(model_2.parameters()).device))"
   ],
   "id": "14e7934c64b0da78",
   "outputs": [
    {
     "name": "stderr",
     "output_type": "stream",
     "text": [
      "  0%|          | 0/3 [00:00<?, ?it/s]"
     ]
    },
    {
     "name": "stdout",
     "output_type": "stream",
     "text": [
      "Epoch 0\n",
      "---------\n",
      "Train loss: 1.03785 | Train accuracy: 62.34%\n",
      "Epoch 0\n",
      "---------\n"
     ]
    },
    {
     "name": "stderr",
     "output_type": "stream",
     "text": [
      " 33%|███▎      | 1/3 [00:07<00:15,  7.63s/it]"
     ]
    },
    {
     "name": "stdout",
     "output_type": "stream",
     "text": [
      "Test loss: 0.62553 | Test accuracy: 76.90%\n",
      "\n",
      "Epoch 1\n",
      "---------\n",
      "Train loss: 0.54781 | Train accuracy: 80.09%\n",
      "Epoch 1\n",
      "---------\n"
     ]
    },
    {
     "name": "stderr",
     "output_type": "stream",
     "text": [
      " 67%|██████▋   | 2/3 [00:14<00:07,  7.46s/it]"
     ]
    },
    {
     "name": "stdout",
     "output_type": "stream",
     "text": [
      "Test loss: 0.52411 | Test accuracy: 80.31%\n",
      "\n",
      "Epoch 2\n",
      "---------\n",
      "Train loss: 0.45580 | Train accuracy: 83.59%\n",
      "Epoch 2\n",
      "---------\n"
     ]
    },
    {
     "name": "stderr",
     "output_type": "stream",
     "text": [
      "100%|██████████| 3/3 [00:22<00:00,  7.42s/it]"
     ]
    },
    {
     "name": "stdout",
     "output_type": "stream",
     "text": [
      "Test loss: 0.45505 | Test accuracy: 84.25%\n",
      "\n",
      "\n",
      "Train time on cuda:0: 22.276 seconds\n"
     ]
    },
    {
     "name": "stderr",
     "output_type": "stream",
     "text": [
      "\n"
     ]
    }
   ],
   "execution_count": 63
  },
  {
   "metadata": {
    "ExecuteTime": {
     "end_time": "2025-06-30T18:17:09.409219Z",
     "start_time": "2025-06-30T18:17:08.623181Z"
    }
   },
   "cell_type": "code",
   "source": [
    "# get model_2 results\n",
    "model_2_results = eval_model(\n",
    "    model=model_2,\n",
    "    data_loader=test_loader,\n",
    "    loss_fn=loss_fn,\n",
    "    accuracy_fn=accuracy_fn\n",
    "    # device=device\n",
    ")\n",
    "\n",
    "model_2_results"
   ],
   "id": "266e8c75bf222c9",
   "outputs": [
    {
     "name": "stderr",
     "output_type": "stream",
     "text": [
      "100%|██████████| 313/313 [00:00<00:00, 400.78it/s]\n"
     ]
    },
    {
     "data": {
      "text/plain": [
       "{'model name ': 'FashionMNISTModelV2',\n",
       " 'model loss ': 0.4543851315975189,\n",
       " 'model acc ': 84.27515974440895}"
      ]
     },
     "execution_count": 64,
     "metadata": {},
     "output_type": "execute_result"
    }
   ],
   "execution_count": 64
  },
  {
   "metadata": {
    "ExecuteTime": {
     "end_time": "2025-06-30T18:17:09.456420Z",
     "start_time": "2025-06-30T18:17:09.451154Z"
    }
   },
   "cell_type": "code",
   "source": "model_1_results",
   "id": "d64e67df1e77604e",
   "outputs": [
    {
     "data": {
      "text/plain": [
       "{'model name ': 'FashionMNISTModelV1',\n",
       " 'model loss ': 0.687465250492096,\n",
       " 'model acc ': 75.64896166134186}"
      ]
     },
     "execution_count": 65,
     "metadata": {},
     "output_type": "execute_result"
    }
   ],
   "execution_count": 65
  },
  {
   "metadata": {
    "ExecuteTime": {
     "end_time": "2025-06-30T18:17:09.545365Z",
     "start_time": "2025-06-30T18:17:09.542288Z"
    }
   },
   "cell_type": "code",
   "source": "model_0_results",
   "id": "9c2214b72890b6e5",
   "outputs": [
    {
     "data": {
      "text/plain": [
       "{'model name ': 'FashionMNISTModelV0',\n",
       " 'model loss ': 0.5125296711921692,\n",
       " 'model acc ': 83.00718849840256}"
      ]
     },
     "execution_count": 66,
     "metadata": {},
     "output_type": "execute_result"
    }
   ],
   "execution_count": 66
  },
  {
   "metadata": {},
   "cell_type": "markdown",
   "source": "## 8. Compare model results and training time",
   "id": "44eaa99df3aba99d"
  },
  {
   "metadata": {
    "ExecuteTime": {
     "end_time": "2025-06-30T18:17:09.643852Z",
     "start_time": "2025-06-30T18:17:09.632466Z"
    }
   },
   "cell_type": "code",
   "source": [
    "import pandas as pd\n",
    "\n",
    "comparison = pd.DataFrame([model_0_results, model_1_results, model_2_results])\n",
    "comparison"
   ],
   "id": "ecc18a1557ea057",
   "outputs": [
    {
     "data": {
      "text/plain": [
       "           model name   model loss   model acc \n",
       "0  FashionMNISTModelV0     0.512530   83.007188\n",
       "1  FashionMNISTModelV1     0.687465   75.648962\n",
       "2  FashionMNISTModelV2     0.454385   84.275160"
      ],
      "text/html": [
       "<div>\n",
       "<style scoped>\n",
       "    .dataframe tbody tr th:only-of-type {\n",
       "        vertical-align: middle;\n",
       "    }\n",
       "\n",
       "    .dataframe tbody tr th {\n",
       "        vertical-align: top;\n",
       "    }\n",
       "\n",
       "    .dataframe thead th {\n",
       "        text-align: right;\n",
       "    }\n",
       "</style>\n",
       "<table border=\"1\" class=\"dataframe\">\n",
       "  <thead>\n",
       "    <tr style=\"text-align: right;\">\n",
       "      <th></th>\n",
       "      <th>model name</th>\n",
       "      <th>model loss</th>\n",
       "      <th>model acc</th>\n",
       "    </tr>\n",
       "  </thead>\n",
       "  <tbody>\n",
       "    <tr>\n",
       "      <th>0</th>\n",
       "      <td>FashionMNISTModelV0</td>\n",
       "      <td>0.512530</td>\n",
       "      <td>83.007188</td>\n",
       "    </tr>\n",
       "    <tr>\n",
       "      <th>1</th>\n",
       "      <td>FashionMNISTModelV1</td>\n",
       "      <td>0.687465</td>\n",
       "      <td>75.648962</td>\n",
       "    </tr>\n",
       "    <tr>\n",
       "      <th>2</th>\n",
       "      <td>FashionMNISTModelV2</td>\n",
       "      <td>0.454385</td>\n",
       "      <td>84.275160</td>\n",
       "    </tr>\n",
       "  </tbody>\n",
       "</table>\n",
       "</div>"
      ]
     },
     "execution_count": 67,
     "metadata": {},
     "output_type": "execute_result"
    }
   ],
   "execution_count": 67
  },
  {
   "metadata": {
    "ExecuteTime": {
     "end_time": "2025-06-30T18:17:09.757976Z",
     "start_time": "2025-06-30T18:17:09.751891Z"
    }
   },
   "cell_type": "code",
   "source": [
    "# add training time to results comparison\n",
    "comparison[\"training_time\"] = [total_train_time_model_0, total_train_time_model_1, total_train_time_model_2]\n",
    "\n",
    "comparison"
   ],
   "id": "ce6d2802a29065a0",
   "outputs": [
    {
     "data": {
      "text/plain": [
       "           model name   model loss   model acc   training_time\n",
       "0  FashionMNISTModelV0     0.512530   83.007188      19.290462\n",
       "1  FashionMNISTModelV1     0.687465   75.648962      19.222148\n",
       "2  FashionMNISTModelV2     0.454385   84.275160      22.276269"
      ],
      "text/html": [
       "<div>\n",
       "<style scoped>\n",
       "    .dataframe tbody tr th:only-of-type {\n",
       "        vertical-align: middle;\n",
       "    }\n",
       "\n",
       "    .dataframe tbody tr th {\n",
       "        vertical-align: top;\n",
       "    }\n",
       "\n",
       "    .dataframe thead th {\n",
       "        text-align: right;\n",
       "    }\n",
       "</style>\n",
       "<table border=\"1\" class=\"dataframe\">\n",
       "  <thead>\n",
       "    <tr style=\"text-align: right;\">\n",
       "      <th></th>\n",
       "      <th>model name</th>\n",
       "      <th>model loss</th>\n",
       "      <th>model acc</th>\n",
       "      <th>training_time</th>\n",
       "    </tr>\n",
       "  </thead>\n",
       "  <tbody>\n",
       "    <tr>\n",
       "      <th>0</th>\n",
       "      <td>FashionMNISTModelV0</td>\n",
       "      <td>0.512530</td>\n",
       "      <td>83.007188</td>\n",
       "      <td>19.290462</td>\n",
       "    </tr>\n",
       "    <tr>\n",
       "      <th>1</th>\n",
       "      <td>FashionMNISTModelV1</td>\n",
       "      <td>0.687465</td>\n",
       "      <td>75.648962</td>\n",
       "      <td>19.222148</td>\n",
       "    </tr>\n",
       "    <tr>\n",
       "      <th>2</th>\n",
       "      <td>FashionMNISTModelV2</td>\n",
       "      <td>0.454385</td>\n",
       "      <td>84.275160</td>\n",
       "      <td>22.276269</td>\n",
       "    </tr>\n",
       "  </tbody>\n",
       "</table>\n",
       "</div>"
      ]
     },
     "execution_count": 68,
     "metadata": {},
     "output_type": "execute_result"
    }
   ],
   "execution_count": 68
  },
  {
   "metadata": {
    "ExecuteTime": {
     "end_time": "2025-06-30T18:17:10.011193Z",
     "start_time": "2025-06-30T18:17:10.006204Z"
    }
   },
   "cell_type": "code",
   "source": "list(comparison)",
   "id": "67fc3176dc5483cf",
   "outputs": [
    {
     "data": {
      "text/plain": [
       "['model name ', 'model loss ', 'model acc ', 'training_time']"
      ]
     },
     "execution_count": 69,
     "metadata": {},
     "output_type": "execute_result"
    }
   ],
   "execution_count": 69
  },
  {
   "metadata": {
    "ExecuteTime": {
     "end_time": "2025-06-30T18:17:10.479062Z",
     "start_time": "2025-06-30T18:17:10.350912Z"
    }
   },
   "cell_type": "code",
   "source": [
    "# visualize our model results\n",
    "\n",
    "comparison.set_index(\"model name \")[\"model acc \"].plot(kind=\"bar\")\n",
    "plt.xlabel(\"Accuracy\")\n",
    "plt.ylabel(\"Model\")\n",
    "plt.xticks(rotation=45)"
   ],
   "id": "2b90d18cec24ab50",
   "outputs": [
    {
     "data": {
      "text/plain": [
       "(array([0, 1, 2]),\n",
       " [Text(0, 0, 'FashionMNISTModelV0'),\n",
       "  Text(1, 0, 'FashionMNISTModelV1'),\n",
       "  Text(2, 0, 'FashionMNISTModelV2')])"
      ]
     },
     "execution_count": 70,
     "metadata": {},
     "output_type": "execute_result"
    },
    {
     "data": {
      "text/plain": [
       "<Figure size 640x480 with 1 Axes>"
      ],
      "image/png": "[encoded data removed]"
     },
     "metadata": {},
     "output_type": "display_data"
    }
   ],
   "execution_count": 70
  },
  {
   "metadata": {},
   "cell_type": "markdown",
   "source": "## 9. Make and evaluate random predictions with best model",
   "id": "4cbb9e71cb93c773"
  },
  {
   "metadata": {
    "ExecuteTime": {
     "end_time": "2025-06-30T18:17:10.608936Z",
     "start_time": "2025-06-30T18:17:10.604983Z"
    }
   },
   "cell_type": "code",
   "source": [
    "def make_predictions(model:torch.nn.Module,\n",
    "                   data:list,\n",
    "                   device:torch.device = device):\n",
    "    pred_probs = []\n",
    "    model.eval()\n",
    "    with torch.inference_mode():\n",
    "        for sample in data:\n",
    "            # prepare the sample (add a batch dimension and pass to target device)\n",
    "            sample = torch.unsqueeze(sample, dim=0).to(device)\n",
    "\n",
    "            # forward pass (model outputs raw logits)\n",
    "            pred_logit = model(sample)\n",
    "\n",
    "            # get pred probs (logits -> pred probs)\n",
    "            pred_prob = torch.softmax(pred_logit.squeeze(), dim=0)\n",
    "\n",
    "            # get pred prob off the GPU for further calc\n",
    "            pred_probs.append(pred_prob.cpu())\n",
    "    #stack the pred_probs to turn list into tensor\n",
    "    return torch.stack(pred_probs)"
   ],
   "id": "73c55bdebc687a9f",
   "outputs": [],
   "execution_count": 71
  },
  {
   "metadata": {
    "ExecuteTime": {
     "end_time": "2025-06-30T18:17:10.738686Z",
     "start_time": "2025-06-30T18:17:10.731544Z"
    }
   },
   "cell_type": "code",
   "source": [
    "img, label = test_data[0][:10]\n",
    "img.shape, label"
   ],
   "id": "f83dd6adc9ec9e59",
   "outputs": [
    {
     "data": {
      "text/plain": [
       "(torch.Size([1, 28, 28]), 9)"
      ]
     },
     "execution_count": 72,
     "metadata": {},
     "output_type": "execute_result"
    }
   ],
   "execution_count": 72
  },
  {
   "metadata": {
    "ExecuteTime": {
     "end_time": "2025-06-30T18:17:11.647567Z",
     "start_time": "2025-06-30T18:17:10.845125Z"
    }
   },
   "cell_type": "code",
   "source": [
    "import random\n",
    "# random.seed(42)\n",
    "test_samples=[]\n",
    "test_labels=[]\n",
    "for sample, label in random.sample(list(test_data), k=9):\n",
    "    test_samples.append(sample)\n",
    "    test_labels.append(label)\n",
    "\n",
    "# view the first sample shape\n",
    "test_samples[0]"
   ],
   "id": "a97e5211001eb955",
   "outputs": [
    {
     "data": {
      "text/plain": [
       "tensor([[[0.0000, 0.0000, 0.0000, 0.0000, 0.0000, 0.0000, 0.0000, 0.0000,\n",
       "          0.0000, 0.0000, 0.0000, 0.0000, 0.0000, 0.0000, 0.0000, 0.0000,\n",
       "          0.0000, 0.0000, 0.0000, 0.0000, 0.0000, 0.0000, 0.0000, 0.0000,\n",
       "          0.0000, 0.0000, 0.0000, 0.0000],\n",
       "         [0.0000, 0.0000, 0.0000, 0.0000, 0.0000, 0.0000, 0.0000, 0.0000,\n",
       "          0.0000, 0.0000, 0.0000, 0.0000, 0.0000, 0.0000, 0.0000, 0.0000,\n",
       "          0.0000, 0.0000, 0.0000, 0.0000, 0.0000, 0.0000, 0.0000, 0.0000,\n",
       "          0.0000, 0.0000, 0.0000, 0.0000],\n",
       "         [0.0000, 0.0000, 0.0000, 0.0000, 0.0000, 0.0000, 0.0000, 0.0000,\n",
       "          0.0000, 0.0000, 0.0000, 0.0000, 0.0000, 0.0000, 0.0000, 0.0000,\n",
       "          0.0000, 0.0000, 0.0000, 0.0000, 0.0000, 0.0000, 0.0000, 0.0000,\n",
       "          0.0000, 0.0000, 0.0000, 0.0000],\n",
       "         [0.0000, 0.0000, 0.0000, 0.0000, 0.0000, 0.0000, 0.0000, 0.0000,\n",
       "          0.0000, 0.0000, 0.0000, 0.0000, 0.0000, 0.0000, 0.0000, 0.0000,\n",
       "          0.0000, 0.0000, 0.0000, 0.0000, 0.0000, 0.0000, 0.0000, 0.0000,\n",
       "          0.0000, 0.0000, 0.0000, 0.0000],\n",
       "         [0.0000, 0.0000, 0.0000, 0.0000, 0.0000, 0.0000, 0.0000, 0.0000,\n",
       "          0.0000, 0.0000, 0.0000, 0.0000, 0.0000, 0.0000, 0.0000, 0.0000,\n",
       "          0.0000, 0.0000, 0.0000, 0.0000, 0.0000, 0.0000, 0.0000, 0.0000,\n",
       "          0.0000, 0.0000, 0.0000, 0.0000],\n",
       "         [0.0000, 0.0000, 0.0000, 0.0000, 0.0000, 0.0000, 0.0000, 0.0000,\n",
       "          0.0000, 0.0000, 0.0000, 0.0000, 0.0000, 0.0039, 0.0000, 0.0039,\n",
       "          0.2275, 0.0000, 0.0000, 0.0000, 0.0000, 0.0000, 0.0039, 0.0000,\n",
       "          0.0000, 0.0000, 0.0000, 0.0000],\n",
       "         [0.0000, 0.0000, 0.0000, 0.0000, 0.0000, 0.0000, 0.0000, 0.0000,\n",
       "          0.0000, 0.0000, 0.0000, 0.0000, 0.0000, 0.0078, 0.0000, 0.0314,\n",
       "          0.4235, 0.0000, 0.0000, 0.0039, 0.0118, 0.0196, 0.0157, 0.0039,\n",
       "          0.0118, 0.0000, 0.6392, 0.1647],\n",
       "         [0.0000, 0.0000, 0.0000, 0.0000, 0.0000, 0.0000, 0.0000, 0.0000,\n",
       "          0.0000, 0.0000, 0.0000, 0.0000, 0.0000, 0.0039, 0.0000, 0.0078,\n",
       "          0.4392, 0.0000, 0.0000, 0.0000, 0.0000, 0.0000, 0.0000, 0.0000,\n",
       "          0.0000, 0.0353, 1.0000, 0.0667],\n",
       "         [0.0000, 0.0000, 0.0000, 0.0000, 0.0000, 0.0000, 0.0000, 0.0000,\n",
       "          0.0000, 0.0000, 0.0000, 0.0000, 0.0000, 0.0157, 0.0000, 0.0353,\n",
       "          0.7294, 0.5922, 0.0000, 0.0000, 0.0000, 0.0000, 0.0000, 0.2392,\n",
       "          0.6627, 0.5725, 0.2510, 0.0000],\n",
       "         [0.0000, 0.0000, 0.0000, 0.0000, 0.0000, 0.0000, 0.0000, 0.0000,\n",
       "          0.0000, 0.0000, 0.0000, 0.0000, 0.0000, 0.0000, 0.0000, 0.4078,\n",
       "          0.7686, 0.7098, 0.9529, 0.9922, 0.9765, 0.9765, 0.9765, 0.7333,\n",
       "          0.7725, 0.6588, 0.0000, 0.0000],\n",
       "         [0.0000, 0.0000, 0.0000, 0.0000, 0.0000, 0.0000, 0.0000, 0.0000,\n",
       "          0.0000, 0.0000, 0.0000, 0.0000, 0.0000, 0.0000, 0.0039, 0.7647,\n",
       "          0.7255, 0.6706, 0.8039, 0.8275, 0.8078, 0.8039, 0.7882, 0.6941,\n",
       "          0.7137, 0.6196, 0.0000, 0.0000],\n",
       "         [0.0000, 0.0000, 0.0000, 0.0000, 0.0000, 0.0000, 0.0000, 0.0000,\n",
       "          0.0000, 0.0000, 0.0000, 0.0000, 0.0000, 0.0000, 0.5922, 0.8039,\n",
       "          0.7176, 0.6941, 0.8000, 0.8353, 0.7961, 0.8000, 0.7843, 0.6510,\n",
       "          0.7725, 0.6902, 0.0000, 0.0000],\n",
       "         [0.0000, 0.0000, 0.0000, 0.0000, 0.0039, 0.0039, 0.0000, 0.0039,\n",
       "          0.0118, 0.0157, 0.0078, 0.0000, 0.0000, 0.3373, 0.8235, 0.6863,\n",
       "          0.7137, 0.6549, 0.8157, 0.8196, 0.8157, 0.8039, 0.7765, 0.6549,\n",
       "          0.7020, 0.8118, 0.0392, 0.0000],\n",
       "         [0.0000, 0.0000, 0.0000, 0.0039, 0.0000, 0.0039, 0.0039, 0.0000,\n",
       "          0.0000, 0.0039, 0.0118, 0.0000, 0.1961, 0.8392, 0.7098, 0.6706,\n",
       "          0.7490, 0.6549, 0.8275, 0.8118, 0.8118, 0.8078, 0.7608, 0.6627,\n",
       "          0.6549, 0.8471, 0.3412, 0.0000],\n",
       "         [0.0000, 0.0000, 0.0000, 0.0000, 0.0000, 0.0000, 0.0000, 0.0039,\n",
       "          0.0078, 0.0000, 0.0000, 0.1255, 0.7843, 0.7608, 0.7098, 0.7451,\n",
       "          0.6784, 0.6667, 0.8392, 0.8000, 0.7961, 0.8196, 0.7294, 0.6588,\n",
       "          0.6431, 0.7804, 0.6824, 0.0000],\n",
       "         [0.0000, 0.0078, 0.0157, 0.0196, 0.0196, 0.0000, 0.0039, 0.0000,\n",
       "          0.0000, 0.0000, 0.2471, 0.7569, 0.7765, 0.6980, 0.6902, 0.7137,\n",
       "          0.6549, 0.6627, 0.8471, 0.7922, 0.7882, 0.8275, 0.6863, 0.6471,\n",
       "          0.6863, 0.6549, 0.7922, 0.0784],\n",
       "         [0.0000, 0.0000, 0.0000, 0.0000, 0.0000, 0.0000, 0.0000, 0.0000,\n",
       "          0.2510, 0.6392, 0.7765, 0.7294, 0.6510, 0.6706, 0.6784, 0.7294,\n",
       "          0.6745, 0.7098, 0.8392, 0.7765, 0.7725, 0.8471, 0.6784, 0.6471,\n",
       "          0.6941, 0.6275, 0.8118, 0.2706],\n",
       "         [0.0000, 0.0039, 0.3098, 0.5020, 0.4980, 0.4824, 0.4980, 0.6392,\n",
       "          0.7725, 0.7373, 0.6314, 0.6824, 0.6941, 0.6824, 0.7098, 0.6902,\n",
       "          0.6627, 0.7490, 0.8431, 0.8039, 0.8353, 0.8078, 0.6392, 0.6706,\n",
       "          0.7059, 0.6706, 0.7725, 0.3490],\n",
       "         [0.1176, 0.6588, 0.7216, 0.6784, 0.6863, 0.6902, 0.7255, 0.6980,\n",
       "          0.6863, 0.6471, 0.6706, 0.6745, 0.7137, 0.7137, 0.7020, 0.7059,\n",
       "          0.6902, 0.7765, 0.8510, 0.7569, 0.6706, 0.5882, 0.6078, 0.6941,\n",
       "          0.6667, 0.6549, 0.8039, 0.3333],\n",
       "         [0.5098, 0.8118, 0.6510, 0.6745, 0.6784, 0.6627, 0.6510, 0.6471,\n",
       "          0.6627, 0.6784, 0.6941, 0.6667, 0.6745, 0.6745, 0.6980, 0.7216,\n",
       "          0.6745, 0.6000, 0.6196, 0.6471, 0.7059, 0.7020, 0.6902, 0.7529,\n",
       "          0.7098, 0.7137, 0.8275, 0.2039],\n",
       "         [0.2196, 0.6235, 0.6980, 0.7529, 0.7647, 0.7765, 0.7529, 0.7176,\n",
       "          0.6824, 0.6745, 0.6902, 0.6706, 0.6667, 0.7216, 0.7216, 0.7020,\n",
       "          0.7804, 0.8510, 0.8784, 0.7686, 0.7294, 0.7255, 0.7137, 0.6549,\n",
       "          0.5961, 0.6667, 0.7529, 0.0902],\n",
       "         [0.0000, 0.0000, 0.0314, 0.2745, 0.3922, 0.5765, 0.7725, 0.8510,\n",
       "          0.8863, 0.8667, 0.8706, 0.8471, 0.8039, 0.7961, 0.7843, 0.7020,\n",
       "          0.5961, 0.4471, 0.2118, 0.4941, 0.8157, 0.6275, 0.6863, 0.6667,\n",
       "          0.6706, 0.7882, 0.9373, 0.1922],\n",
       "         [0.0000, 0.0000, 0.0000, 0.0000, 0.0000, 0.0000, 0.0000, 0.0471,\n",
       "          0.1137, 0.1647, 0.2471, 0.2745, 0.2627, 0.1333, 0.0078, 0.0000,\n",
       "          0.0000, 0.0000, 0.0000, 0.0196, 0.6706, 0.6157, 0.6078, 0.5725,\n",
       "          0.4784, 0.4392, 0.4235, 0.0235],\n",
       "         [0.0000, 0.0000, 0.0000, 0.0000, 0.0000, 0.0000, 0.0000, 0.0000,\n",
       "          0.0000, 0.0000, 0.0000, 0.0000, 0.0000, 0.0000, 0.0000, 0.0000,\n",
       "          0.0000, 0.0000, 0.0000, 0.0000, 0.0000, 0.0000, 0.0000, 0.0000,\n",
       "          0.0000, 0.0000, 0.0000, 0.0000],\n",
       "         [0.0000, 0.0000, 0.0000, 0.0000, 0.0000, 0.0000, 0.0000, 0.0000,\n",
       "          0.0000, 0.0000, 0.0000, 0.0000, 0.0000, 0.0000, 0.0000, 0.0000,\n",
       "          0.0000, 0.0000, 0.0000, 0.0000, 0.0000, 0.0000, 0.0000, 0.0000,\n",
       "          0.0000, 0.0000, 0.0000, 0.0000],\n",
       "         [0.0000, 0.0000, 0.0000, 0.0000, 0.0000, 0.0000, 0.0000, 0.0000,\n",
       "          0.0000, 0.0000, 0.0000, 0.0000, 0.0000, 0.0000, 0.0000, 0.0000,\n",
       "          0.0000, 0.0000, 0.0000, 0.0000, 0.0000, 0.0000, 0.0000, 0.0000,\n",
       "          0.0000, 0.0000, 0.0000, 0.0000],\n",
       "         [0.0000, 0.0000, 0.0000, 0.0000, 0.0000, 0.0000, 0.0000, 0.0000,\n",
       "          0.0000, 0.0000, 0.0000, 0.0000, 0.0000, 0.0000, 0.0000, 0.0000,\n",
       "          0.0000, 0.0000, 0.0000, 0.0000, 0.0000, 0.0000, 0.0000, 0.0000,\n",
       "          0.0000, 0.0000, 0.0000, 0.0000],\n",
       "         [0.0000, 0.0000, 0.0000, 0.0000, 0.0000, 0.0000, 0.0000, 0.0000,\n",
       "          0.0000, 0.0000, 0.0000, 0.0000, 0.0000, 0.0000, 0.0000, 0.0000,\n",
       "          0.0000, 0.0000, 0.0000, 0.0000, 0.0000, 0.0000, 0.0000, 0.0000,\n",
       "          0.0000, 0.0000, 0.0000, 0.0000]]])"
      ]
     },
     "execution_count": 73,
     "metadata": {},
     "output_type": "execute_result"
    }
   ],
   "execution_count": 73
  },
  {
   "metadata": {
    "ExecuteTime": {
     "end_time": "2025-06-30T18:17:11.709113Z",
     "start_time": "2025-06-30T18:17:11.706104Z"
    }
   },
   "cell_type": "code",
   "source": "test_samples[0].shape",
   "id": "bf4a8e83cd2b63c9",
   "outputs": [
    {
     "data": {
      "text/plain": [
       "torch.Size([1, 28, 28])"
      ]
     },
     "execution_count": 74,
     "metadata": {},
     "output_type": "execute_result"
    }
   ],
   "execution_count": 74
  },
  {
   "metadata": {
    "ExecuteTime": {
     "end_time": "2025-06-30T18:17:11.904636Z",
     "start_time": "2025-06-30T18:17:11.801363Z"
    }
   },
   "cell_type": "code",
   "source": [
    "plt.imshow(test_samples[0].squeeze(), cmap=\"gray\")\n",
    "plt.title(class_names[test_labels[0]])"
   ],
   "id": "50011ae98da5b4ff",
   "outputs": [
    {
     "data": {
      "text/plain": [
       "Text(0.5, 1.0, 'Ankle boot')"
      ]
     },
     "execution_count": 75,
     "metadata": {},
     "output_type": "execute_result"
    },
    {
     "data": {
      "text/plain": [
       "<Figure size 640x480 with 1 Axes>"
      ],
      "image/png": "[encoded data removed]"
     },
     "metadata": {},
     "output_type": "display_data"
    }
   ],
   "execution_count": 75
  },
  {
   "metadata": {
    "ExecuteTime": {
     "end_time": "2025-06-30T18:17:11.970774Z",
     "start_time": "2025-06-30T18:17:11.961820Z"
    }
   },
   "cell_type": "code",
   "source": [
    "# make predictions\n",
    "pred_probs = make_predictions(model=model_2,\n",
    "                              data=test_samples)\n",
    "\n",
    "# view first two pred prob\n",
    "pred_probs[:2]"
   ],
   "id": "4b3c1b31be81a162",
   "outputs": [
    {
     "data": {
      "text/plain": [
       "tensor([[4.5645e-07, 3.9398e-08, 1.8607e-07, 1.7085e-07, 1.8970e-08, 2.7916e-03,\n",
       "         1.9715e-07, 2.2563e-02, 6.3165e-04, 9.7401e-01],\n",
       "        [3.0308e-06, 2.8718e-07, 1.9492e-06, 9.1623e-06, 4.6691e-07, 9.3117e-05,\n",
       "         1.6758e-06, 3.9947e-04, 7.1573e-04, 9.9878e-01]])"
      ]
     },
     "execution_count": 76,
     "metadata": {},
     "output_type": "execute_result"
    }
   ],
   "execution_count": 76
  },
  {
   "metadata": {
    "ExecuteTime": {
     "end_time": "2025-06-30T18:17:12.098141Z",
     "start_time": "2025-06-30T18:17:12.093878Z"
    }
   },
   "cell_type": "code",
   "source": [
    "# convert prediction prob to labels\n",
    "pred_classes = pred_probs.argmax(dim=1)\n",
    "pred_classes"
   ],
   "id": "4bdb255b58937e49",
   "outputs": [
    {
     "data": {
      "text/plain": [
       "tensor([9, 9, 9, 3, 1, 2, 4, 7, 0])"
      ]
     },
     "execution_count": 77,
     "metadata": {},
     "output_type": "execute_result"
    }
   ],
   "execution_count": 77
  },
  {
   "metadata": {
    "ExecuteTime": {
     "end_time": "2025-06-30T18:17:12.293782Z",
     "start_time": "2025-06-30T18:17:12.290176Z"
    }
   },
   "cell_type": "code",
   "source": "test_labels",
   "id": "3a4107400dc11430",
   "outputs": [
    {
     "data": {
      "text/plain": [
       "[9, 9, 9, 4, 6, 2, 4, 7, 0]"
      ]
     },
     "execution_count": 78,
     "metadata": {},
     "output_type": "execute_result"
    }
   ],
   "execution_count": 78
  },
  {
   "metadata": {
    "ExecuteTime": {
     "end_time": "2025-06-30T18:46:13.790981Z",
     "start_time": "2025-06-30T18:46:13.481146Z"
    }
   },
   "cell_type": "code",
   "source": [
    "# plot pred\n",
    "plt.figure(figsize=(9,9))\n",
    "nrows = 3\n",
    "ncols = 3\n",
    "for i, sample in enumerate(test_samples):\n",
    "    # create subplot\n",
    "    plt.subplot(nrows, ncols, i + 1)\n",
    "\n",
    "    # plot the target image\n",
    "    plt.imshow(sample.squeeze(), cmap=\"gray\")\n",
    "\n",
    "    # find the pred (in text form)\n",
    "    pred_label = class_names[pred_classes[i]]\n",
    "\n",
    "    # get the truth label (in text form)\n",
    "    truth_label = class_names[test_labels[i]]\n",
    "\n",
    "    # create a title for the plot\n",
    "    title_text =f\"Prediction: {pred_label} | Truth : {truth_label}\"\n",
    "\n",
    "    # check for quality between pred and truth and change color of title text\n",
    "    if pred_label == truth_label:\n",
    "        plt.title(title_text, fontsize=10, c=\"g\") # green text if pred = truth\n",
    "    else:\n",
    "        plt.title(title_text, fontsize=10, c=\"r\")\n",
    "\n",
    "    plt.axis('off')"
   ],
   "id": "b643af2eb21bdf96",
   "outputs": [
    {
     "data": {
      "text/plain": [
       "<Figure size 900x900 with 9 Axes>"
      ],
      "image/png": "[encoded data removed]"
     },
     "metadata": {},
     "output_type": "display_data"
    }
   ],
   "execution_count": 109
  },
  {
   "metadata": {},
   "cell_type": "markdown",
   "source": [
    "## 10. Making a confussion matrix for future prediction evaluation\n",
    "\n",
    "A confussion matrix is a fantastic way of evaluating your classification models visually : https://www.learnpytorch.io/03_pytorch_computer_vision/#10-making-a-confusion-matrix-for-further-prediction-evaluation\n",
    "\n",
    "1. Make predictions with our trained model on the test dataset\n",
    "2. Make a confussion matrix `torchmetrics.ConfussionMatrix` - https://lightning.ai/docs/torchmetrics/stable/classification/confusion_matrix.html\n",
    "3. Plot the conf matrix using `mlextend.plotting.plot_confusion_matrix` - https://rasbt.github.io/mlxtend/user_guide/evaluate/confusion_matrix/\n",
    "4."
   ],
   "id": "ae922bcb2c3d7204"
  },
  {
   "metadata": {
    "ExecuteTime": {
     "end_time": "2025-06-30T18:44:30.694178Z",
     "start_time": "2025-06-30T18:44:29.880517Z"
    }
   },
   "cell_type": "code",
   "source": [
    "# import tqdm.auto\n",
    "from tqdm.auto import tqdm\n",
    "\n",
    "# 1. make pred with trained model\n",
    "y_preds=[]\n",
    "model_2.eval()\n",
    "with torch.inference_mode():\n",
    "    for X, y in tqdm(test_loader, desc=\"Making predictions...\"):\n",
    "        # send the data and targets to target device\n",
    "        X, y = X.to(device), y.to(device)\n",
    "        # do the forward pass\n",
    "        y_logit = model_2(X)\n",
    "        # turn preds from logits -> predictions probs -> pre labels\n",
    "        y_pred = torch.softmax(y_logit.squeeze(), dim=0).argmax(dim=1)\n",
    "        # put preds on CPU for eval\n",
    "        y_preds.append(y_pred.cpu())\n",
    "\n",
    "# concat list of pred into a tensor\n",
    "# print(y_preds)\n",
    "y_pred_tensor = torch.cat(y_preds)\n",
    "y_pred_tensor[:10]"
   ],
   "id": "572932b0a851d8e4",
   "outputs": [
    {
     "name": "stderr",
     "output_type": "stream",
     "text": [
      "Making predictions...: 100%|██████████| 313/313 [00:00<00:00, 388.09it/s]\n"
     ]
    },
    {
     "data": {
      "text/plain": [
       "tensor([0, 8, 8, 5, 0, 6, 3, 0, 9, 7])"
      ]
     },
     "execution_count": 103,
     "metadata": {},
     "output_type": "execute_result"
    }
   ],
   "execution_count": 103
  },
  {
   "metadata": {
    "ExecuteTime": {
     "end_time": "2025-06-30T18:44:30.761587Z",
     "start_time": "2025-06-30T18:44:30.758802Z"
    }
   },
   "cell_type": "code",
   "source": "len(y_pred_tensor)",
   "id": "90a0afdc5dffcd49",
   "outputs": [
    {
     "data": {
      "text/plain": [
       "10000"
      ]
     },
     "execution_count": 104,
     "metadata": {},
     "output_type": "execute_result"
    }
   ],
   "execution_count": 104
  },
  {
   "metadata": {
    "ExecuteTime": {
     "end_time": "2025-06-30T18:44:30.864897Z",
     "start_time": "2025-06-30T18:44:30.862298Z"
    }
   },
   "cell_type": "code",
   "source": [
    "import mlxtend\n",
    "mlxtend.__version__"
   ],
   "id": "99bf1def1e4e46d3",
   "outputs": [
    {
     "data": {
      "text/plain": [
       "'0.23.4'"
      ]
     },
     "execution_count": 105,
     "metadata": {},
     "output_type": "execute_result"
    }
   ],
   "execution_count": 105
  },
  {
   "metadata": {
    "ExecuteTime": {
     "end_time": "2025-06-30T18:44:31.180659Z",
     "start_time": "2025-06-30T18:44:30.963727Z"
    }
   },
   "cell_type": "code",
   "source": [
    "from torchmetrics import ConfusionMatrix\n",
    "from mlxtend.plotting import plot_confusion_matrix\n",
    "\n",
    "# 2. setup confussion instance and compare predictions to targets\n",
    "confmat = ConfusionMatrix(num_classes=len(class_names), task=\"MULTICLASS\")\n",
    "confmat_tensor = confmat(preds=y_pred_tensor, target=test_data.targets)\n",
    "\n",
    "# 3. plot the confussion matrix\n",
    "fig, ax = plot_confusion_matrix(\n",
    "    conf_mat=confmat_tensor.numpy(),\n",
    "    class_names=class_names,\n",
    "    figsize=(10, 7)\n",
    ")"
   ],
   "id": "6a8ee599c534acf",
   "outputs": [
    {
     "data": {
      "text/plain": [
       "<Figure size 1000x700 with 1 Axes>"
      ],
      "image/png": "[encoded data removed]"
     },
     "metadata": {},
     "output_type": "display_data"
    }
   ],
   "execution_count": 106
  },
  {
   "metadata": {
    "ExecuteTime": {
     "end_time": "2025-06-30T18:44:31.246311Z",
     "start_time": "2025-06-30T18:44:31.241617Z"
    }
   },
   "cell_type": "code",
   "source": "confmat_tensor",
   "id": "c54fc0ea55e06470",
   "outputs": [
    {
     "data": {
      "text/plain": [
       "tensor([[ 62,  67, 113, 135,  86,  78, 118, 134, 126,  81],\n",
       "        [ 81,  68, 108, 137,  87,  86, 129, 128, 100,  76],\n",
       "        [ 51,  68, 107, 153,  95,  92, 111, 121, 116,  86],\n",
       "        [ 67,  73,  95, 149,  82, 100, 127, 111, 113,  83],\n",
       "        [ 64,  80, 124, 147,  77,  72, 126,  98, 119,  93],\n",
       "        [ 68,  82,  98, 147, 101,  70, 125, 115, 122,  72],\n",
       "        [ 58,  78, 105, 128,  79,  92, 124, 123, 128,  85],\n",
       "        [ 63,  59, 109, 144,  98,  87, 107, 117, 136,  80],\n",
       "        [ 76,  67,  99, 147,  85,  85, 116, 126, 106,  93],\n",
       "        [ 79,  74,  91, 159,  89, 101, 121,  98,  98,  90]])"
      ]
     },
     "execution_count": 107,
     "metadata": {},
     "output_type": "execute_result"
    }
   ],
   "execution_count": 107
  }
 ],
 "metadata": {
  "kernelspec": {
   "display_name": "Python 3",
   "language": "python",
   "name": "python3"
  },
  "language_info": {
   "codemirror_mode": {
    "name": "ipython",
    "version": 2
   },
   "file_extension": ".py",
   "mimetype": "text/x-python",
   "name": "python",
   "nbconvert_exporter": "python",
   "pygments_lexer": "ipython2",
   "version": "2.7.6"
  }
 },
 "nbformat": 4,
 "nbformat_minor": 5
}
