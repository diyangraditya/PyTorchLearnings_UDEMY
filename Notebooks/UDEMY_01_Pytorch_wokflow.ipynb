{
 "cells": [
  {
   "cell_type": "markdown",
   "metadata": {
    "id": "u__4NSfxfYye"
   },
   "source": [
    "# Pytorch workflow\n",
    "\n",
    "let's explore an example ptroch end-to-end workflow.\n",
    "\n",
    "resources = https://github.com/mrdbourke/pytorch-deep-learning/blob/main/01_pytorch_workflow.ipynb\n",
    "\n",
    "https://www.learnpytorch.io/01_pytorch_workflow/\n",
    "\n",
    "ask questions = https://github.com/mrdbourke/pytorch-deep-learning/discussions"
   ]
  },
  {
   "cell_type": "code",
   "metadata": {
    "id": "9XMdbZIrgGlg",
    "colab": {
     "base_uri": "https://localhost:8080/"
    },
    "outputId": "e2280c5a-d034-402b-d186-b22b442d7f49",
    "ExecuteTime": {
     "end_time": "2024-10-20T16:52:16.723194Z",
     "start_time": "2024-10-20T16:52:16.712409Z"
    }
   },
   "source": [
    "what_were_covering = {\n",
    "    1: \"data prep and load\",\n",
    "    2: \"bulid and train model\",\n",
    "    3: \"fitting the model to data (training)\",\n",
    "    4: \"saving and loading the model\",\n",
    "    5: \"putting it all together\"\n",
    "}\n",
    "\n",
    "what_were_covering"
   ],
   "outputs": [
    {
     "data": {
      "text/plain": [
       "{1: 'data prep and load',\n",
       " 2: 'bulid and train model',\n",
       " 3: 'fitting the model to data (training)',\n",
       " 4: 'saving and loading the model',\n",
       " 5: 'putting it all together'}"
      ]
     },
     "execution_count": 1,
     "metadata": {},
     "output_type": "execute_result"
    }
   ],
   "execution_count": 1
  },
  {
   "cell_type": "code",
   "metadata": {
    "colab": {
     "base_uri": "https://localhost:8080/",
     "height": 36
    },
    "id": "YSBbDe5thNlU",
    "outputId": "67e49178-cb60-4a17-bb27-e27ab4efb523",
    "ExecuteTime": {
     "end_time": "2024-10-20T16:52:23.140179Z",
     "start_time": "2024-10-20T16:52:16.724414Z"
    }
   },
   "source": [
    "import torch\n",
    "from torch import nn, optim  # nn contains all of PyTorch's building blocks for neural networks\n",
    "import matplotlib.pyplot as plt\n",
    "\n",
    "# check PyTorch version\n",
    "torch.__version__"
   ],
   "outputs": [
    {
     "data": {
      "text/plain": [
       "'2.4.1+cu124'"
      ]
     },
     "execution_count": 2,
     "metadata": {},
     "output_type": "execute_result"
    }
   ],
   "execution_count": 2
  },
  {
   "cell_type": "markdown",
   "metadata": {
    "id": "7LN-i3ZfhLjo"
   },
   "source": [
    "# 1. Data prep and loading\n",
    "\n",
    "Dat acan be almost anything.. in ML\n",
    "- Excel spreasheets\n",
    "- images of any kind\n",
    "- Videos (yt has a lot of data)\n",
    "- Audio like songs or podcasts\n",
    "- DNA\n",
    "- Text\n",
    "\n",
    "Machine learning is a game of 2 parts :\n",
    "1. get data into numerical representation\n",
    "2. Build a model to learn patterns in that numerical representation\n",
    "\n",
    "to showcase this, lets create some *known* data using the LinReg formula.\n",
    "\n",
    "we'll use a linear regerssion formula to make a straight line with *known* **parameters**"
   ]
  },
  {
   "cell_type": "code",
   "metadata": {
    "colab": {
     "base_uri": "https://localhost:8080/"
    },
    "id": "BLwzeBufIh4i",
    "outputId": "ad1fbbcb-99d8-4e62-ef0f-244e055804da",
    "ExecuteTime": {
     "end_time": "2024-10-20T16:52:23.208798Z",
     "start_time": "2024-10-20T16:52:23.140692Z"
    }
   },
   "source": [
    "# Create *known* parameters\n",
    "weight = 0.7\n",
    "bias = 0.3\n",
    "\n",
    "# create some data\n",
    "start = 0\n",
    "end = 1\n",
    "step = 0.02\n",
    "X = torch.arange(start, end, step).unsqueeze(dim=1)\n",
    "y = weight * X + bias\n",
    "\n",
    "X[:10], y[:10], len(X), len(y)"
   ],
   "outputs": [
    {
     "data": {
      "text/plain": [
       "(tensor([[0.0000],\n",
       "         [0.0200],\n",
       "         [0.0400],\n",
       "         [0.0600],\n",
       "         [0.0800],\n",
       "         [0.1000],\n",
       "         [0.1200],\n",
       "         [0.1400],\n",
       "         [0.1600],\n",
       "         [0.1800]]),\n",
       " tensor([[0.3000],\n",
       "         [0.3140],\n",
       "         [0.3280],\n",
       "         [0.3420],\n",
       "         [0.3560],\n",
       "         [0.3700],\n",
       "         [0.3840],\n",
       "         [0.3980],\n",
       "         [0.4120],\n",
       "         [0.4260]]),\n",
       " 50,\n",
       " 50)"
      ]
     },
     "execution_count": 3,
     "metadata": {},
     "output_type": "execute_result"
    }
   ],
   "execution_count": 3
  },
  {
   "cell_type": "code",
   "metadata": {
    "colab": {
     "base_uri": "https://localhost:8080/"
    },
    "id": "K8_aVhBaKouJ",
    "outputId": "360dcaaa-29a7-4710-b515-aaaa46286e18",
    "ExecuteTime": {
     "end_time": "2024-10-20T16:52:23.214087Z",
     "start_time": "2024-10-20T16:52:23.210047Z"
    }
   },
   "source": [
    "len(X), len(y)"
   ],
   "outputs": [
    {
     "data": {
      "text/plain": [
       "(50, 50)"
      ]
     },
     "execution_count": 4,
     "metadata": {},
     "output_type": "execute_result"
    }
   ],
   "execution_count": 4
  },
  {
   "cell_type": "markdown",
   "metadata": {
    "id": "CHz0aVxgLpsv"
   },
   "source": [
    "### Splittin data into training and test data (one of the most important concepts in ML general)\n",
    "\n",
    "lets create a training and test set with our data"
   ]
  },
  {
   "cell_type": "code",
   "metadata": {
    "colab": {
     "base_uri": "https://localhost:8080/"
    },
    "id": "cqk6QlnPTTKl",
    "outputId": "43600e0c-c6a5-4d75-81a2-4937f623d542",
    "ExecuteTime": {
     "end_time": "2024-10-20T16:52:23.222326Z",
     "start_time": "2024-10-20T16:52:23.216588Z"
    }
   },
   "source": [
    "# Create a train/test split\n",
    "train_split = int(0.8 * len(X)) # 80% of data used for training set, 20% for testing\n",
    "X_train, y_train = X[:train_split], y[:train_split]\n",
    "X_test, y_test = X[train_split:], y[train_split:]\n",
    "\n",
    "len(X_train), len(y_train), len(X_test), len(y_test)"
   ],
   "outputs": [
    {
     "data": {
      "text/plain": [
       "(40, 40, 10, 10)"
      ]
     },
     "execution_count": 5,
     "metadata": {},
     "output_type": "execute_result"
    }
   ],
   "execution_count": 5
  },
  {
   "cell_type": "markdown",
   "metadata": {
    "id": "qwkcF5DwV0_s"
   },
   "source": [
    "How might we better visualize our data?\n",
    "\n",
    "This is where the data explorer's motto comes in!\n",
    "\n",
    "\"Visualize, visualize, visualize!\""
   ]
  },
  {
   "cell_type": "code",
   "metadata": {
    "id": "xfua72zvWC-U",
    "ExecuteTime": {
     "end_time": "2024-10-20T16:52:23.229240Z",
     "start_time": "2024-10-20T16:52:23.223826Z"
    }
   },
   "source": [
    "def plot_predictions(train_data=X_train,\n",
    "                      train_labels=y_train,\n",
    "                      test_data=X_test,\n",
    "                      test_labels=y_test,\n",
    "                      predictions=None):\n",
    "\n",
    "  \"\"\"\n",
    "  Plots training data, test data and compares predictions.\n",
    "  \"\"\"\n",
    "  plt.figure(figsize=(10, 7))\n",
    "\n",
    "  #Plot training data in blue\n",
    "  plt.scatter(train_data, train_labels, c=\"b\", s=4, label=\"Training data\")\n",
    "\n",
    "  #Plot test data in green\n",
    "  plt.scatter(test_data, test_labels, c=\"g\", s=4, label=\"Testing data\")\n",
    "\n",
    "  #Are there predictions\n",
    "  if predictions is not None:\n",
    "    #Plot predictions in red (predictions in green aren't ideal)\n",
    "    plt.scatter(test_data, predictions, c=\"r\", s=4, label=\"Predictions\")\n",
    "\n",
    "  #show legend\n",
    "  plt.legend(prop={\"size\": 14});"
   ],
   "outputs": [],
   "execution_count": 6
  },
  {
   "cell_type": "code",
   "metadata": {
    "colab": {
     "base_uri": "https://localhost:8080/",
     "height": 599
    },
    "id": "kuYi92rpXa4n",
    "outputId": "23d0c77b-aa3c-4c0b-b4e7-151bb6c71ae4",
    "ExecuteTime": {
     "end_time": "2024-10-20T16:52:23.542668Z",
     "start_time": "2024-10-20T16:52:23.230248Z"
    }
   },
   "source": [
    "plot_predictions()"
   ],
   "outputs": [
    {
     "data": {
      "text/plain": [
       "<Figure size 1000x700 with 1 Axes>"
      ],
      "image/png": "[encoded data removed]"
     },
     "metadata": {},
     "output_type": "display_data"
    }
   ],
   "execution_count": 7
  },
  {
   "cell_type": "code",
   "metadata": {
    "colab": {
     "base_uri": "https://localhost:8080/"
    },
    "id": "-Xun8buBVHk4",
    "outputId": "2c2632a1-ba4f-4a78-bc3c-79a74d85e41a",
    "ExecuteTime": {
     "end_time": "2024-10-20T16:52:23.550203Z",
     "start_time": "2024-10-20T16:52:23.542668Z"
    }
   },
   "source": [
    "X_train, y_train"
   ],
   "outputs": [
    {
     "data": {
      "text/plain": [
       "(tensor([[0.0000],\n",
       "         [0.0200],\n",
       "         [0.0400],\n",
       "         [0.0600],\n",
       "         [0.0800],\n",
       "         [0.1000],\n",
       "         [0.1200],\n",
       "         [0.1400],\n",
       "         [0.1600],\n",
       "         [0.1800],\n",
       "         [0.2000],\n",
       "         [0.2200],\n",
       "         [0.2400],\n",
       "         [0.2600],\n",
       "         [0.2800],\n",
       "         [0.3000],\n",
       "         [0.3200],\n",
       "         [0.3400],\n",
       "         [0.3600],\n",
       "         [0.3800],\n",
       "         [0.4000],\n",
       "         [0.4200],\n",
       "         [0.4400],\n",
       "         [0.4600],\n",
       "         [0.4800],\n",
       "         [0.5000],\n",
       "         [0.5200],\n",
       "         [0.5400],\n",
       "         [0.5600],\n",
       "         [0.5800],\n",
       "         [0.6000],\n",
       "         [0.6200],\n",
       "         [0.6400],\n",
       "         [0.6600],\n",
       "         [0.6800],\n",
       "         [0.7000],\n",
       "         [0.7200],\n",
       "         [0.7400],\n",
       "         [0.7600],\n",
       "         [0.7800]]),\n",
       " tensor([[0.3000],\n",
       "         [0.3140],\n",
       "         [0.3280],\n",
       "         [0.3420],\n",
       "         [0.3560],\n",
       "         [0.3700],\n",
       "         [0.3840],\n",
       "         [0.3980],\n",
       "         [0.4120],\n",
       "         [0.4260],\n",
       "         [0.4400],\n",
       "         [0.4540],\n",
       "         [0.4680],\n",
       "         [0.4820],\n",
       "         [0.4960],\n",
       "         [0.5100],\n",
       "         [0.5240],\n",
       "         [0.5380],\n",
       "         [0.5520],\n",
       "         [0.5660],\n",
       "         [0.5800],\n",
       "         [0.5940],\n",
       "         [0.6080],\n",
       "         [0.6220],\n",
       "         [0.6360],\n",
       "         [0.6500],\n",
       "         [0.6640],\n",
       "         [0.6780],\n",
       "         [0.6920],\n",
       "         [0.7060],\n",
       "         [0.7200],\n",
       "         [0.7340],\n",
       "         [0.7480],\n",
       "         [0.7620],\n",
       "         [0.7760],\n",
       "         [0.7900],\n",
       "         [0.8040],\n",
       "         [0.8180],\n",
       "         [0.8320],\n",
       "         [0.8460]]))"
      ]
     },
     "execution_count": 8,
     "metadata": {},
     "output_type": "execute_result"
    }
   ],
   "execution_count": 8
  },
  {
   "cell_type": "code",
   "metadata": {
    "colab": {
     "base_uri": "https://localhost:8080/",
     "height": 463
    },
    "id": "vsoix2VKURsu",
    "outputId": "3004a04c-ae72-41c1-9c3b-e275f8b6e3f6",
    "ExecuteTime": {
     "end_time": "2024-10-20T16:52:23.707031Z",
     "start_time": "2024-10-20T16:52:23.550203Z"
    }
   },
   "source": [
    "plt.figure(figsize=(8, 5))\n",
    "plt.scatter(X_train, y_train, c=\"b\", s=4, label=\"training data\")\n",
    "plt.scatter(X_test, y_test, c=\"g\", s=4, label=\"testing data\")\n",
    "plt.legend(prop={\"size\": 14})"
   ],
   "outputs": [
    {
     "data": {
      "text/plain": [
       "<matplotlib.legend.Legend at 0x20389fdf650>"
      ]
     },
     "execution_count": 9,
     "metadata": {},
     "output_type": "execute_result"
    },
    {
     "data": {
      "text/plain": [
       "<Figure size 800x500 with 1 Axes>"
      ],
      "image/png": "[encoded data removed]"
     },
     "metadata": {},
     "output_type": "display_data"
    }
   ],
   "execution_count": 9
  },
  {
   "cell_type": "markdown",
   "metadata": {
    "id": "HM5RfM9wXya1"
   },
   "source": [
    "## 2. Build model\n",
    "\n",
    "Our first pytorch model\n",
    "\n",
    "Because we're going to building classes troughout the course, i'd recommend getting familiar with OOP in python, to do so you can use the following resource from Real Python : https://realpython.com/python-classes/\n",
    "\n",
    "What the model does :\n",
    "* Start with random values (weight & bias)\n",
    "* Look at training data and adjust the random values to better represent (or get closer to) the ideal values (the weight & bias values we used to create the data)\n",
    "\n",
    "How does it so?\n",
    "\n",
    "Through this 2 main algo:\n",
    "- Gradient descent - https://www.youtube.com/watch?v=IHZwWFHWa-w&pp=ygUcM2JsdWUxYnJvd24gZ3JhZGllbnQgZGVzY2VudA%3D%3D\n",
    "- Backpropagation -"
   ]
  },
  {
   "cell_type": "code",
   "metadata": {
    "id": "Auy5HP_qYVYO",
    "ExecuteTime": {
     "end_time": "2024-10-20T16:52:23.713294Z",
     "start_time": "2024-10-20T16:52:23.708038Z"
    }
   },
   "source": [
    "# Create a linreg model class\n",
    "class LinRegModelV1(nn.Module):# <- almost everything in pytorch inherit from nn.Module\n",
    "  def __init__(self):\n",
    "    super().__init__()\n",
    "    self.weights = nn.Parameter(torch.randn(1, # <- start with random weights (this will get adjusted as the model learns)\n",
    "                                        requires_grad=True, # <- can we update this value with gradient descent?\n",
    "                                        dtype=torch.float)) # <- data type of values inside the tensor\n",
    "    self.bias = nn.Parameter(torch.randn(1, # <- start with a random bias and try to adjust it to the ideal bias\n",
    "                                        requires_grad=True, # <- can this parameter be updated via gradient descent?\n",
    "                                         dtype=torch.float)) # <- Pytorch loves the datatype torch.float32\n",
    "\n",
    "    #Forward method to define computation in the model\n",
    "  def forward(self, x: torch.Tensor) -> torch.Tensor: # <- \"x\" is the input data (also called the features)\n",
    "    return self.weights * x + self.bias # this is the linreg formula"
   ],
   "outputs": [],
   "execution_count": 10
  },
  {
   "cell_type": "markdown",
   "source": [
    "## Pytorch model building essentials\n",
    "- torch.nn - containes all of the buildings for computational graphs (a neural network can be considered a computational graph)\n",
    "- torch.nn.Parameter - what parameters should our model try and learn, often a PyTorch layer from torch.nn will set these for us\n",
    "- torch.nn.Module - The base class for all nn modules, if you subclass it, you sould overwrite forward()\n",
    "- torch.optim - this where the optimizers in pytorch live, they will help with gradient descent\n",
    "- def forward() - All nn.Module subclasses require you to overwrite forward(), this method defines what happens in the forward computation\n",
    "\n",
    "pytorch cheadsheet = https://pytorch.org/tutorials/beginner/ptcheat.html"
   ],
   "metadata": {
    "id": "QWHpgEgSe6NB"
   }
  },
  {
   "cell_type": "markdown",
   "source": [
    "### Checking the contenst of or pytorch model\n",
    "\n",
    "Now weve created a model, lets see whats inside...\n",
    "\n",
    "So we can check our model parameters or whats inside our model using `.parameters()`"
   ],
   "metadata": {
    "id": "QYcN7cfff3jZ"
   }
  },
  {
   "cell_type": "code",
   "source": [
    "# Create a random seed\n",
    "torch.manual_seed(42)\n",
    "\n",
    "# Create an instance of the model (this is a subclass of nn.Module)\n",
    "model_0 = LinRegModelV1()\n",
    "\n",
    "# Check out the parameters\n",
    "list(model_0.parameters())"
   ],
   "metadata": {
    "colab": {
     "base_uri": "https://localhost:8080/"
    },
    "id": "PuD__HoCg2e_",
    "outputId": "09c22ec7-231e-4f4c-9104-4b53142ead19",
    "ExecuteTime": {
     "end_time": "2024-10-20T16:52:23.736882Z",
     "start_time": "2024-10-20T16:52:23.714302Z"
    }
   },
   "outputs": [
    {
     "data": {
      "text/plain": [
       "[Parameter containing:\n",
       " tensor([0.3367], requires_grad=True),\n",
       " Parameter containing:\n",
       " tensor([0.1288], requires_grad=True)]"
      ]
     },
     "execution_count": 11,
     "metadata": {},
     "output_type": "execute_result"
    }
   ],
   "execution_count": 11
  },
  {
   "cell_type": "code",
   "source": [
    "# List named parameters\n",
    "\n",
    "model_0.state_dict(\n",
    ")"
   ],
   "metadata": {
    "colab": {
     "base_uri": "https://localhost:8080/"
    },
    "id": "TfubSP02iN56",
    "outputId": "64980612-11c4-436d-b4ac-7056948eb97f",
    "ExecuteTime": {
     "end_time": "2024-10-20T16:52:23.743888Z",
     "start_time": "2024-10-20T16:52:23.737891Z"
    }
   },
   "outputs": [
    {
     "data": {
      "text/plain": [
       "OrderedDict([('weights', tensor([0.3367])), ('bias', tensor([0.1288]))])"
      ]
     },
     "execution_count": 12,
     "metadata": {},
     "output_type": "execute_result"
    }
   ],
   "execution_count": 12
  },
  {
   "cell_type": "markdown",
   "source": [
    "### Making predicton using `torch.inference_mode()`\n",
    "\n",
    "to check our models predictive power, let see how well it predicts `y_test` based on `X_test`.\n",
    "\n",
    "when we pass data through our model, it's going to run it through the `forward()` method."
   ],
   "metadata": {
    "id": "HHE46ox9icJS"
   }
  },
  {
   "cell_type": "code",
   "source": [
    "X_test, y_test"
   ],
   "metadata": {
    "colab": {
     "base_uri": "https://localhost:8080/"
    },
    "id": "uU0wr2evmag4",
    "outputId": "a154480a-af85-4604-f4aa-9c12a2612e16",
    "ExecuteTime": {
     "end_time": "2024-10-20T16:52:23.750166Z",
     "start_time": "2024-10-20T16:52:23.744895Z"
    }
   },
   "outputs": [
    {
     "data": {
      "text/plain": [
       "(tensor([[0.8000],\n",
       "         [0.8200],\n",
       "         [0.8400],\n",
       "         [0.8600],\n",
       "         [0.8800],\n",
       "         [0.9000],\n",
       "         [0.9200],\n",
       "         [0.9400],\n",
       "         [0.9600],\n",
       "         [0.9800]]),\n",
       " tensor([[0.8600],\n",
       "         [0.8740],\n",
       "         [0.8880],\n",
       "         [0.9020],\n",
       "         [0.9160],\n",
       "         [0.9300],\n",
       "         [0.9440],\n",
       "         [0.9580],\n",
       "         [0.9720],\n",
       "         [0.9860]]))"
      ]
     },
     "execution_count": 13,
     "metadata": {},
     "output_type": "execute_result"
    }
   ],
   "execution_count": 13
  },
  {
   "cell_type": "code",
   "source": [
    "# make prediction with model\n",
    "\n",
    "with torch.inference_mode():\n",
    "  y_preds = model_0(X_test)\n",
    "\n",
    "# we can also do seomthing similar with torch.no_grad(), however, torch.inference_mode() is preffered\n",
    "# with torch.no_grad():\n",
    "#   y_preds = model_0(X_test)\n",
    "\n",
    "y_preds"
   ],
   "metadata": {
    "colab": {
     "base_uri": "https://localhost:8080/"
    },
    "id": "nYwIhwaxjrDn",
    "outputId": "8b3635d2-0888-4f3b-b0b2-677af4a560cc",
    "ExecuteTime": {
     "end_time": "2024-10-20T16:52:23.759596Z",
     "start_time": "2024-10-20T16:52:23.752686Z"
    }
   },
   "outputs": [
    {
     "data": {
      "text/plain": [
       "tensor([[0.3982],\n",
       "        [0.4049],\n",
       "        [0.4116],\n",
       "        [0.4184],\n",
       "        [0.4251],\n",
       "        [0.4318],\n",
       "        [0.4386],\n",
       "        [0.4453],\n",
       "        [0.4520],\n",
       "        [0.4588]])"
      ]
     },
     "execution_count": 14,
     "metadata": {},
     "output_type": "execute_result"
    }
   ],
   "execution_count": 14
  },
  {
   "cell_type": "code",
   "source": [
    "y_test"
   ],
   "metadata": {
    "colab": {
     "base_uri": "https://localhost:8080/"
    },
    "id": "MHJc8zVmnMI3",
    "outputId": "e775ddfd-f3a0-4db4-9e35-777f2eed28b5",
    "ExecuteTime": {
     "end_time": "2024-10-20T16:52:23.766729Z",
     "start_time": "2024-10-20T16:52:23.760649Z"
    }
   },
   "outputs": [
    {
     "data": {
      "text/plain": [
       "tensor([[0.8600],\n",
       "        [0.8740],\n",
       "        [0.8880],\n",
       "        [0.9020],\n",
       "        [0.9160],\n",
       "        [0.9300],\n",
       "        [0.9440],\n",
       "        [0.9580],\n",
       "        [0.9720],\n",
       "        [0.9860]])"
      ]
     },
     "execution_count": 15,
     "metadata": {},
     "output_type": "execute_result"
    }
   ],
   "execution_count": 15
  },
  {
   "cell_type": "markdown",
   "source": [
    "inference mode -- https://x.com/PyTorch/status/1437838231505096708"
   ],
   "metadata": {
    "id": "E-WfYGG6pTpR"
   }
  },
  {
   "cell_type": "code",
   "source": [
    "plot_predictions(predictions=y_preds)"
   ],
   "metadata": {
    "colab": {
     "base_uri": "https://localhost:8080/",
     "height": 599
    },
    "id": "9lNBHsRsnTdA",
    "outputId": "cc82de53-a0c2-43b4-960c-4b94996bec6b",
    "ExecuteTime": {
     "end_time": "2024-10-20T16:52:23.965146Z",
     "start_time": "2024-10-20T16:52:23.767736Z"
    }
   },
   "outputs": [
    {
     "data": {
      "text/plain": [
       "<Figure size 1000x700 with 1 Axes>"
      ],
      "image/png": "[encoded data removed]"
     },
     "metadata": {},
     "output_type": "display_data"
    }
   ],
   "execution_count": 16
  },
  {
   "metadata": {},
   "cell_type": "markdown",
   "source": [
    "## 3. Train model\n",
    "\n",
    "The whole idea of this training is for a model to move from some *unknown* parameters (these maybe be random) to some known parameters\n",
    "    \n",
    "Or in other words from a poor representation of the data to a better representation of the data\n",
    "\n",
    "One way to measure how poor or how wrong your models predictions are is to use a loss function\n",
    "\n",
    "* note : loss function may alo be called cost function or criterion in different areas. For our case, we're going to refer to it as a loss function\n",
    "\n",
    "Thins we need to train :\n",
    "\n",
    "* **loss function :** A function to meassure how wrong your model's predictions are to the ideal outputs, lower is better.\n",
    "* **Optimizer :** Takes into account the loss of a model and adjusts the model's parameters (e.g weight & bias) to improve the loss function -> https://pytorch.org/docs/stable/optim.html\n",
    "    * Iniside the optimizer you'll often have to set 2 parameters:\n",
    "        * `params` - the model parameters you'd like to optimize, for example `model_0.parameters()`\n",
    "        * `lr` (learning rate) - the learning rate is a hyperparameter that defines how big/small the optimizer changes the parameters with each step (a small `lr` result in small changes, a large `lr` results in large changes)\n",
    "\n",
    "And specifically for PyTorch, we need:\n",
    "* A training loop\n",
    "* A testing loop"
   ]
  },
  {
   "metadata": {
    "ExecuteTime": {
     "end_time": "2024-10-20T16:52:23.971845Z",
     "start_time": "2024-10-20T16:52:23.966151Z"
    }
   },
   "cell_type": "code",
   "source": "list(model_0.parameters())",
   "outputs": [
    {
     "data": {
      "text/plain": [
       "[Parameter containing:\n",
       " tensor([0.3367], requires_grad=True),\n",
       " Parameter containing:\n",
       " tensor([0.1288], requires_grad=True)]"
      ]
     },
     "execution_count": 17,
     "metadata": {},
     "output_type": "execute_result"
    }
   ],
   "execution_count": 17
  },
  {
   "metadata": {
    "ExecuteTime": {
     "end_time": "2024-10-20T16:52:23.977782Z",
     "start_time": "2024-10-20T16:52:23.972856Z"
    }
   },
   "cell_type": "code",
   "source": [
    "# check out the model parameters (a parameter is a value that the model sets itself)\n",
    "model_0.state_dict()"
   ],
   "outputs": [
    {
     "data": {
      "text/plain": [
       "OrderedDict([('weights', tensor([0.3367])), ('bias', tensor([0.1288]))])"
      ]
     },
     "execution_count": 18,
     "metadata": {},
     "output_type": "execute_result"
    }
   ],
   "execution_count": 18
  },
  {
   "metadata": {
    "ExecuteTime": {
     "end_time": "2024-10-20T16:52:26.686535Z",
     "start_time": "2024-10-20T16:52:23.977782Z"
    }
   },
   "cell_type": "code",
   "source": [
    "# set up a loss function\n",
    "loss_fn = nn.L1Loss()\n",
    "\n",
    "# set up an opptimizer\n",
    "optimizer = optim.SGD(params=model_0.parameters(),\n",
    "                      lr=0.01) # learning rate = possibly the most important hyperparameter you can set"
   ],
   "outputs": [],
   "execution_count": 19
  },
  {
   "metadata": {
    "ExecuteTime": {
     "end_time": "2024-10-20T16:52:26.691240Z",
     "start_time": "2024-10-20T16:52:26.687542Z"
    }
   },
   "cell_type": "code",
   "source": "loss_fn",
   "outputs": [
    {
     "data": {
      "text/plain": [
       "L1Loss()"
      ]
     },
     "execution_count": 20,
     "metadata": {},
     "output_type": "execute_result"
    }
   ],
   "execution_count": 20
  },
  {
   "metadata": {},
   "cell_type": "markdown",
   "source": [
    "**Q** : Which loss function and optimizer should i use?\n",
    "**A** : This will be problem specific. But with experience, you'll get an idea of what works and what doesn't with your particular problem set.\n",
    "\n",
    "For example, for a regression problem (like this), a loss function of `nn.Loss()` and an optimizer like `torch.optim.SGD()` will suffice\n",
    "But for a classfication problem like classifying whether a photo is a dog or cat, you'll likely want to use a loss function of `nn.BCELoss()` (binary cross entropy loss) "
   ]
  },
  {
   "metadata": {},
   "cell_type": "markdown",
   "source": [
    "### Building a training loop (and testing loop) in PyTorch\n",
    "\n",
    "A couple things we need in a training loop:\n",
    "0. Loop through the data and do...\n",
    "1. Forward pass (this involves data moving through our model's `forward()` functions) to make predictions on data - also called forward propagation\n",
    "2. Calculate the loss (compare forward pass predictions to ground truth labels)\n",
    "3. Optimizer zero grad\n",
    "4. Loss backward - move backwards throuh the network to calculate the gradients of each of parameters of our model with respect to the loss (**backpropagation**)\n",
    "5. Optimizer step - use the optimizer to adjust the model's parameters to try and improve the loss (**gradient descent**)"
   ]
  },
  {
   "metadata": {
    "ExecuteTime": {
     "end_time": "2024-10-20T16:52:26.696311Z",
     "start_time": "2024-10-20T16:52:26.691240Z"
    }
   },
   "cell_type": "code",
   "source": "list(model_0.parameters())",
   "outputs": [
    {
     "data": {
      "text/plain": [
       "[Parameter containing:\n",
       " tensor([0.3367], requires_grad=True),\n",
       " Parameter containing:\n",
       " tensor([0.1288], requires_grad=True)]"
      ]
     },
     "execution_count": 21,
     "metadata": {},
     "output_type": "execute_result"
    }
   ],
   "execution_count": 21
  },
  {
   "metadata": {
    "ExecuteTime": {
     "end_time": "2024-10-20T16:56:59.619765Z",
     "start_time": "2024-10-20T16:56:59.613316Z"
    }
   },
   "cell_type": "code",
   "source": "X_test, y_test",
   "outputs": [
    {
     "data": {
      "text/plain": [
       "(tensor([[0.8000],\n",
       "         [0.8200],\n",
       "         [0.8400],\n",
       "         [0.8600],\n",
       "         [0.8800],\n",
       "         [0.9000],\n",
       "         [0.9200],\n",
       "         [0.9400],\n",
       "         [0.9600],\n",
       "         [0.9800]]),\n",
       " tensor([[0.8600],\n",
       "         [0.8740],\n",
       "         [0.8880],\n",
       "         [0.9020],\n",
       "         [0.9160],\n",
       "         [0.9300],\n",
       "         [0.9440],\n",
       "         [0.9580],\n",
       "         [0.9720],\n",
       "         [0.9860]]))"
      ]
     },
     "execution_count": 22,
     "metadata": {},
     "output_type": "execute_result"
    }
   ],
   "execution_count": 22
  },
  {
   "metadata": {},
   "cell_type": "code",
   "outputs": [],
   "execution_count": null,
   "source": [
    "# A epoch is a loop through the data... (this is a hyperparameter because set it ourselves)\n",
    "epochs = 1\n",
    "\n",
    "#Training\n",
    "# 0. loop through the data\n",
    "for epoch in range(epochs):\n",
    "    # set the model to training mode\n",
    "    model_0.train() # train mode in PyTorch set all parameters that require gradients to require gradients\n",
    "    \n",
    "    # 1. Forward passs\n",
    "    y_pred = model_0(X_train)\n",
    "    \n",
    "    # 2. Calculate the loss \n",
    "    \n",
    "    model_0.eval() # turns off gradient tracking\n",
    "    "
   ]
  }
 ],
 "metadata": {
  "accelerator": "GPU",
  "colab": {
   "gpuType": "T4",
   "provenance": []
  },
  "kernelspec": {
   "display_name": "Python 3 (ipykernel)",
   "name": "python3",
   "language": "python"
  },
  "language_info": {
   "name": "python"
  }
 },
 "nbformat": 4,
 "nbformat_minor": 0
}
