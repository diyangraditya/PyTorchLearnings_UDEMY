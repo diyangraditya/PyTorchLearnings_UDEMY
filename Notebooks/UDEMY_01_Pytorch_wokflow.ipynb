{
 "cells": [
  {
   "cell_type": "markdown",
   "metadata": {
    "id": "u__4NSfxfYye"
   },
   "source": [
    "# Pytorch workflow\n",
    "\n",
    "let's explore an example ptroch end-to-end workflow.\n",
    "\n",
    "resources = https://github.com/mrdbourke/pytorch-deep-learning/blob/main/01_pytorch_workflow.ipynb\n",
    "\n",
    "https://www.learnpytorch.io/01_pytorch_workflow/\n",
    "\n",
    "ask questions = https://github.com/mrdbourke/pytorch-deep-learning/discussions"
   ]
  },
  {
   "cell_type": "code",
   "metadata": {
    "id": "9XMdbZIrgGlg",
    "colab": {
     "base_uri": "https://localhost:8080/"
    },
    "outputId": "e2280c5a-d034-402b-d186-b22b442d7f49",
    "ExecuteTime": {
     "end_time": "2024-11-03T08:58:03.761901Z",
     "start_time": "2024-11-03T08:58:03.757083Z"
    }
   },
   "source": [
    "import pathlib\n",
    "\n",
    "what_were_covering = {\n",
    "    1: \"data prep and load\",\n",
    "    2: \"bulid and train model\",\n",
    "    3: \"fitting the model to data (training)\",\n",
    "    4: \"saving and loading the model\",\n",
    "    5: \"putting it all together\"\n",
    "}\n",
    "\n",
    "what_were_covering"
   ],
   "outputs": [
    {
     "data": {
      "text/plain": [
       "{1: 'data prep and load',\n",
       " 2: 'bulid and train model',\n",
       " 3: 'fitting the model to data (training)',\n",
       " 4: 'saving and loading the model',\n",
       " 5: 'putting it all together'}"
      ]
     },
     "execution_count": 1,
     "metadata": {},
     "output_type": "execute_result"
    }
   ],
   "execution_count": 1
  },
  {
   "metadata": {
    "ExecuteTime": {
     "end_time": "2024-11-03T09:33:27.367932Z",
     "start_time": "2024-11-03T09:33:27.247350Z"
    }
   },
   "cell_type": "code",
   "source": "nvcc --version",
   "outputs": [
    {
     "ename": "NameError",
     "evalue": "name 'nvcc' is not defined",
     "output_type": "error",
     "traceback": [
      "\u001B[0;31m---------------------------------------------------------------------------\u001B[0m",
      "\u001B[0;31mNameError\u001B[0m                                 Traceback (most recent call last)",
      "Cell \u001B[0;32mIn[4], line 1\u001B[0m\n\u001B[0;32m----> 1\u001B[0m \u001B[43mnvcc\u001B[49m \u001B[38;5;241m-\u001B[39m\u001B[38;5;241m-\u001B[39mversion\n",
      "\u001B[0;31mNameError\u001B[0m: name 'nvcc' is not defined"
     ]
    }
   ],
   "execution_count": 4
  },
  {
   "cell_type": "code",
   "metadata": {
    "colab": {
     "base_uri": "https://localhost:8080/",
     "height": 36
    },
    "id": "YSBbDe5thNlU",
    "outputId": "67e49178-cb60-4a17-bb27-e27ab4efb523",
    "ExecuteTime": {
     "end_time": "2024-11-01T17:27:43.243055Z",
     "start_time": "2024-11-01T17:27:43.239169Z"
    }
   },
   "source": [
    "import torch\n",
    "from torch import nn, optim  # nn contains all of PyTorch's building blocks for neural networks\n",
    "import matplotlib.pyplot as plt\n",
    "\n",
    "# check PyTorch version\n",
    "torch.__version__"
   ],
   "outputs": [
    {
     "data": {
      "text/plain": [
       "'2.4.1+cu124'"
      ]
     },
     "execution_count": 201,
     "metadata": {},
     "output_type": "execute_result"
    }
   ],
   "execution_count": 201
  },
  {
   "cell_type": "markdown",
   "metadata": {
    "id": "7LN-i3ZfhLjo"
   },
   "source": [
    "# 1. Data prep and loading\n",
    "\n",
    "Dat acan be almost anything.. in ML\n",
    "- Excel spreasheets\n",
    "- images of any kind\n",
    "- Videos (yt has a lot of data)\n",
    "- Audio like songs or podcasts\n",
    "- DNA\n",
    "- Text\n",
    "\n",
    "Machine learning is a game of 2 parts :\n",
    "1. get data into numerical representation\n",
    "2. Build a model to learn patterns in that numerical representation\n",
    "\n",
    "to showcase this, lets create some *known* data using the LinReg formula.\n",
    "\n",
    "we'll use a linear regerssion formula to make a straight line with *known* **parameters**"
   ]
  },
  {
   "cell_type": "code",
   "metadata": {
    "colab": {
     "base_uri": "https://localhost:8080/"
    },
    "id": "BLwzeBufIh4i",
    "outputId": "ad1fbbcb-99d8-4e62-ef0f-244e055804da",
    "ExecuteTime": {
     "end_time": "2024-11-01T17:27:43.301929Z",
     "start_time": "2024-11-01T17:27:43.295280Z"
    }
   },
   "source": [
    "# Create *known* parameters\n",
    "weight = 0.7\n",
    "bias = 0.3\n",
    "\n",
    "# create some data\n",
    "start = 0\n",
    "end = 1\n",
    "step = 0.02\n",
    "X = torch.arange(start, end, step).unsqueeze(dim=1)\n",
    "y = weight * X + bias\n",
    "\n",
    "X[:10], y[:10], len(X), len(y)"
   ],
   "outputs": [
    {
     "data": {
      "text/plain": [
       "(tensor([[0.0000],\n",
       "         [0.0200],\n",
       "         [0.0400],\n",
       "         [0.0600],\n",
       "         [0.0800],\n",
       "         [0.1000],\n",
       "         [0.1200],\n",
       "         [0.1400],\n",
       "         [0.1600],\n",
       "         [0.1800]]),\n",
       " tensor([[0.3000],\n",
       "         [0.3140],\n",
       "         [0.3280],\n",
       "         [0.3420],\n",
       "         [0.3560],\n",
       "         [0.3700],\n",
       "         [0.3840],\n",
       "         [0.3980],\n",
       "         [0.4120],\n",
       "         [0.4260]]),\n",
       " 50,\n",
       " 50)"
      ]
     },
     "execution_count": 202,
     "metadata": {},
     "output_type": "execute_result"
    }
   ],
   "execution_count": 202
  },
  {
   "cell_type": "code",
   "metadata": {
    "colab": {
     "base_uri": "https://localhost:8080/"
    },
    "id": "K8_aVhBaKouJ",
    "outputId": "360dcaaa-29a7-4710-b515-aaaa46286e18",
    "ExecuteTime": {
     "end_time": "2024-11-01T17:27:43.342669Z",
     "start_time": "2024-11-01T17:27:43.338676Z"
    }
   },
   "source": [
    "len(X), len(y)"
   ],
   "outputs": [
    {
     "data": {
      "text/plain": [
       "(50, 50)"
      ]
     },
     "execution_count": 203,
     "metadata": {},
     "output_type": "execute_result"
    }
   ],
   "execution_count": 203
  },
  {
   "cell_type": "markdown",
   "metadata": {
    "id": "CHz0aVxgLpsv"
   },
   "source": [
    "### Splittin data into training and test data (one of the most important concepts in ML general)\n",
    "\n",
    "lets create a training and test set with our data"
   ]
  },
  {
   "cell_type": "code",
   "metadata": {
    "colab": {
     "base_uri": "https://localhost:8080/"
    },
    "id": "cqk6QlnPTTKl",
    "outputId": "43600e0c-c6a5-4d75-81a2-4937f623d542",
    "ExecuteTime": {
     "end_time": "2024-11-01T17:27:43.374534Z",
     "start_time": "2024-11-01T17:27:43.369903Z"
    }
   },
   "source": [
    "# Create a train/test split\n",
    "train_split = int(0.8 * len(X)) # 80% of data used for training set, 20% for testing\n",
    "X_train, y_train = X[:train_split], y[:train_split]\n",
    "X_test, y_test = X[train_split:], y[train_split:]\n",
    "\n",
    "len(X_train), len(y_train), len(X_test), len(y_test)"
   ],
   "outputs": [
    {
     "data": {
      "text/plain": [
       "(40, 40, 10, 10)"
      ]
     },
     "execution_count": 204,
     "metadata": {},
     "output_type": "execute_result"
    }
   ],
   "execution_count": 204
  },
  {
   "cell_type": "markdown",
   "metadata": {
    "id": "qwkcF5DwV0_s"
   },
   "source": [
    "How might we better visualize our data?\n",
    "\n",
    "This is where the data explorer's motto comes in!\n",
    "\n",
    "\"Visualize, visualize, visualize!\""
   ]
  },
  {
   "cell_type": "code",
   "metadata": {
    "id": "xfua72zvWC-U",
    "ExecuteTime": {
     "end_time": "2024-11-01T17:27:43.406157Z",
     "start_time": "2024-11-01T17:27:43.402116Z"
    }
   },
   "source": [
    "def plot_predictions(train_data=X_train,\n",
    "                      train_labels=y_train,\n",
    "                      test_data=X_test,\n",
    "                      test_labels=y_test,\n",
    "                      predictions=None):\n",
    "\n",
    "  \"\"\"\n",
    "  Plots training data, test data and compares predictions.\n",
    "  \"\"\"\n",
    "  plt.figure(figsize=(10, 7))\n",
    "\n",
    "  #Plot training data in blue\n",
    "  plt.scatter(train_data, train_labels, c=\"b\", s=4, label=\"Training data\")\n",
    "\n",
    "  #Plot test data in green\n",
    "  plt.scatter(test_data, test_labels, c=\"g\", s=4, label=\"Testing data\")\n",
    "\n",
    "  #Are there predictions\n",
    "  if predictions is not None:\n",
    "    #Plot predictions in red (predictions in green aren't ideal)\n",
    "    plt.scatter(test_data, predictions, c=\"r\", s=4, label=\"Predictions\")\n",
    "\n",
    "  #show legend\n",
    "  plt.legend(prop={\"size\": 14});"
   ],
   "outputs": [],
   "execution_count": 205
  },
  {
   "cell_type": "code",
   "metadata": {
    "colab": {
     "base_uri": "https://localhost:8080/",
     "height": 599
    },
    "id": "kuYi92rpXa4n",
    "outputId": "23d0c77b-aa3c-4c0b-b4e7-151bb6c71ae4",
    "ExecuteTime": {
     "end_time": "2024-11-01T17:27:43.591278Z",
     "start_time": "2024-11-01T17:27:43.452233Z"
    }
   },
   "source": [
    "plot_predictions()"
   ],
   "outputs": [
    {
     "data": {
      "text/plain": [
       "<Figure size 1000x700 with 1 Axes>"
      ],
      "image/png": "[encoded data removed]"
     },
     "metadata": {},
     "output_type": "display_data"
    }
   ],
   "execution_count": 206
  },
  {
   "cell_type": "code",
   "metadata": {
    "colab": {
     "base_uri": "https://localhost:8080/"
    },
    "id": "-Xun8buBVHk4",
    "outputId": "2c2632a1-ba4f-4a78-bc3c-79a74d85e41a",
    "ExecuteTime": {
     "end_time": "2024-11-01T17:27:43.597026Z",
     "start_time": "2024-11-01T17:27:43.592287Z"
    }
   },
   "source": [
    "X_train, y_train"
   ],
   "outputs": [
    {
     "data": {
      "text/plain": [
       "(tensor([[0.0000],\n",
       "         [0.0200],\n",
       "         [0.0400],\n",
       "         [0.0600],\n",
       "         [0.0800],\n",
       "         [0.1000],\n",
       "         [0.1200],\n",
       "         [0.1400],\n",
       "         [0.1600],\n",
       "         [0.1800],\n",
       "         [0.2000],\n",
       "         [0.2200],\n",
       "         [0.2400],\n",
       "         [0.2600],\n",
       "         [0.2800],\n",
       "         [0.3000],\n",
       "         [0.3200],\n",
       "         [0.3400],\n",
       "         [0.3600],\n",
       "         [0.3800],\n",
       "         [0.4000],\n",
       "         [0.4200],\n",
       "         [0.4400],\n",
       "         [0.4600],\n",
       "         [0.4800],\n",
       "         [0.5000],\n",
       "         [0.5200],\n",
       "         [0.5400],\n",
       "         [0.5600],\n",
       "         [0.5800],\n",
       "         [0.6000],\n",
       "         [0.6200],\n",
       "         [0.6400],\n",
       "         [0.6600],\n",
       "         [0.6800],\n",
       "         [0.7000],\n",
       "         [0.7200],\n",
       "         [0.7400],\n",
       "         [0.7600],\n",
       "         [0.7800]]),\n",
       " tensor([[0.3000],\n",
       "         [0.3140],\n",
       "         [0.3280],\n",
       "         [0.3420],\n",
       "         [0.3560],\n",
       "         [0.3700],\n",
       "         [0.3840],\n",
       "         [0.3980],\n",
       "         [0.4120],\n",
       "         [0.4260],\n",
       "         [0.4400],\n",
       "         [0.4540],\n",
       "         [0.4680],\n",
       "         [0.4820],\n",
       "         [0.4960],\n",
       "         [0.5100],\n",
       "         [0.5240],\n",
       "         [0.5380],\n",
       "         [0.5520],\n",
       "         [0.5660],\n",
       "         [0.5800],\n",
       "         [0.5940],\n",
       "         [0.6080],\n",
       "         [0.6220],\n",
       "         [0.6360],\n",
       "         [0.6500],\n",
       "         [0.6640],\n",
       "         [0.6780],\n",
       "         [0.6920],\n",
       "         [0.7060],\n",
       "         [0.7200],\n",
       "         [0.7340],\n",
       "         [0.7480],\n",
       "         [0.7620],\n",
       "         [0.7760],\n",
       "         [0.7900],\n",
       "         [0.8040],\n",
       "         [0.8180],\n",
       "         [0.8320],\n",
       "         [0.8460]]))"
      ]
     },
     "execution_count": 207,
     "metadata": {},
     "output_type": "execute_result"
    }
   ],
   "execution_count": 207
  },
  {
   "cell_type": "code",
   "metadata": {
    "colab": {
     "base_uri": "https://localhost:8080/",
     "height": 463
    },
    "id": "vsoix2VKURsu",
    "outputId": "3004a04c-ae72-41c1-9c3b-e275f8b6e3f6",
    "ExecuteTime": {
     "end_time": "2024-11-01T17:27:43.758768Z",
     "start_time": "2024-11-01T17:27:43.597026Z"
    }
   },
   "source": [
    "plt.figure(figsize=(8, 5))\n",
    "plt.scatter(X_train, y_train, c=\"b\", s=4, label=\"training data\")\n",
    "plt.scatter(X_test, y_test, c=\"g\", s=4, label=\"testing data\")\n",
    "plt.legend(prop={\"size\": 14})"
   ],
   "outputs": [
    {
     "data": {
      "text/plain": [
       "<matplotlib.legend.Legend at 0x1e877ed5bd0>"
      ]
     },
     "execution_count": 208,
     "metadata": {},
     "output_type": "execute_result"
    },
    {
     "data": {
      "text/plain": [
       "<Figure size 800x500 with 1 Axes>"
      ],
      "image/png": "[encoded data removed]"
     },
     "metadata": {},
     "output_type": "display_data"
    }
   ],
   "execution_count": 208
  },
  {
   "cell_type": "markdown",
   "metadata": {
    "id": "HM5RfM9wXya1"
   },
   "source": [
    "## 2. Build model\n",
    "\n",
    "Our first pytorch model\n",
    "\n",
    "Because we're going to building classes troughout the course, i'd recommend getting familiar with OOP in python, to do so you can use the following resource from Real Python : https://realpython.com/python-classes/\n",
    "\n",
    "What the model does :\n",
    "* Start with random values (weight & bias)\n",
    "* Look at training data and adjust the random values to better represent (or get closer to) the ideal values (the weight & bias values we used to create the data)\n",
    "\n",
    "How does it so?\n",
    "\n",
    "Through this 2 main algo:\n",
    "- Gradient descent - https://www.youtube.com/watch?v=IHZwWFHWa-w&pp=ygUcM2JsdWUxYnJvd24gZ3JhZGllbnQgZGVzY2VudA%3D%3D\n",
    "- Backpropagation -"
   ]
  },
  {
   "cell_type": "code",
   "metadata": {
    "id": "Auy5HP_qYVYO",
    "ExecuteTime": {
     "end_time": "2024-11-01T17:27:43.764709Z",
     "start_time": "2024-11-01T17:27:43.760049Z"
    }
   },
   "source": [
    "# Create a linreg model class\n",
    "class LinRegModelV1(nn.Module):# <- almost everything in pytorch inherit from nn.Module\n",
    "  def __init__(self):\n",
    "    super().__init__()\n",
    "    self.weights = nn.Parameter(torch.randn(1, # <- start with random weights (this will get adjusted as the model learns)\n",
    "                                        requires_grad=True, # <- can we update this value with gradient descent?\n",
    "                                        dtype=torch.float)) # <- data type of values inside the tensor\n",
    "    self.bias = nn.Parameter(torch.randn(1, # <- start with a random bias and try to adjust it to the ideal bias\n",
    "                                        requires_grad=True, # <- can this parameter be updated via gradient descent?\n",
    "                                         dtype=torch.float)) # <- Pytorch loves the datatype torch.float32\n",
    "\n",
    "    #Forward method to define computation in the model\n",
    "  def forward(self, x: torch.Tensor) -> torch.Tensor: # <- \"x\" is the input data (also called the features)\n",
    "    return self.weights * x + self.bias # this is the linreg formula"
   ],
   "outputs": [],
   "execution_count": 209
  },
  {
   "cell_type": "markdown",
   "source": [
    "## Pytorch model building essentials\n",
    "- torch.nn - containes all of the buildings for computational graphs (a neural network can be considered a computational graph)\n",
    "- torch.nn.Parameter - what parameters should our model try and learn, often a PyTorch layer from torch.nn will set these for us\n",
    "- torch.nn.Module - The base class for all nn modules, if you subclass it, you sould overwrite forward()\n",
    "- torch.optim - this where the optimizers in pytorch live, they will help with gradient descent\n",
    "- def forward() - All nn.Module subclasses require you to overwrite forward(), this method defines what happens in the forward computation\n",
    "\n",
    "pytorch cheadsheet = https://pytorch.org/tutorials/beginner/ptcheat.html"
   ],
   "metadata": {
    "id": "QWHpgEgSe6NB"
   }
  },
  {
   "cell_type": "markdown",
   "source": [
    "### Checking the contenst of or pytorch model\n",
    "\n",
    "Now weve created a model, lets see whats inside...\n",
    "\n",
    "So we can check our model parameters or whats inside our model using `.parameters()`"
   ],
   "metadata": {
    "id": "QYcN7cfff3jZ"
   }
  },
  {
   "cell_type": "code",
   "source": [
    "# Create a random seed\n",
    "torch.manual_seed(42)\n",
    "\n",
    "# Create an instance of the model (this is a subclass of nn.Module)\n",
    "model_0 = LinRegModelV1()\n",
    "\n",
    "# Check out the parameters\n",
    "list(model_0.parameters())"
   ],
   "metadata": {
    "colab": {
     "base_uri": "https://localhost:8080/"
    },
    "id": "PuD__HoCg2e_",
    "outputId": "09c22ec7-231e-4f4c-9104-4b53142ead19",
    "ExecuteTime": {
     "end_time": "2024-11-01T17:27:43.772610Z",
     "start_time": "2024-11-01T17:27:43.764709Z"
    }
   },
   "outputs": [
    {
     "data": {
      "text/plain": [
       "[Parameter containing:\n",
       " tensor([0.3367], requires_grad=True),\n",
       " Parameter containing:\n",
       " tensor([0.1288], requires_grad=True)]"
      ]
     },
     "execution_count": 210,
     "metadata": {},
     "output_type": "execute_result"
    }
   ],
   "execution_count": 210
  },
  {
   "cell_type": "code",
   "source": [
    "# List named parameters\n",
    "\n",
    "model_0.state_dict(\n",
    ")"
   ],
   "metadata": {
    "colab": {
     "base_uri": "https://localhost:8080/"
    },
    "id": "TfubSP02iN56",
    "outputId": "64980612-11c4-436d-b4ac-7056948eb97f",
    "ExecuteTime": {
     "end_time": "2024-11-01T17:27:43.778892Z",
     "start_time": "2024-11-01T17:27:43.773618Z"
    }
   },
   "outputs": [
    {
     "data": {
      "text/plain": [
       "OrderedDict([('weights', tensor([0.3367])), ('bias', tensor([0.1288]))])"
      ]
     },
     "execution_count": 211,
     "metadata": {},
     "output_type": "execute_result"
    }
   ],
   "execution_count": 211
  },
  {
   "cell_type": "markdown",
   "source": [
    "### Making predicton using `torch.inference_mode()`\n",
    "\n",
    "to check our models predictive power, let see how well it predicts `y_test` based on `X_test`.\n",
    "\n",
    "when we pass data through our model, it's going to run it through the `forward()` method."
   ],
   "metadata": {
    "id": "HHE46ox9icJS"
   }
  },
  {
   "cell_type": "code",
   "source": [
    "X_test, y_test"
   ],
   "metadata": {
    "colab": {
     "base_uri": "https://localhost:8080/"
    },
    "id": "uU0wr2evmag4",
    "outputId": "a154480a-af85-4604-f4aa-9c12a2612e16",
    "ExecuteTime": {
     "end_time": "2024-11-01T17:27:43.785120Z",
     "start_time": "2024-11-01T17:27:43.779899Z"
    }
   },
   "outputs": [
    {
     "data": {
      "text/plain": [
       "(tensor([[0.8000],\n",
       "         [0.8200],\n",
       "         [0.8400],\n",
       "         [0.8600],\n",
       "         [0.8800],\n",
       "         [0.9000],\n",
       "         [0.9200],\n",
       "         [0.9400],\n",
       "         [0.9600],\n",
       "         [0.9800]]),\n",
       " tensor([[0.8600],\n",
       "         [0.8740],\n",
       "         [0.8880],\n",
       "         [0.9020],\n",
       "         [0.9160],\n",
       "         [0.9300],\n",
       "         [0.9440],\n",
       "         [0.9580],\n",
       "         [0.9720],\n",
       "         [0.9860]]))"
      ]
     },
     "execution_count": 212,
     "metadata": {},
     "output_type": "execute_result"
    }
   ],
   "execution_count": 212
  },
  {
   "cell_type": "code",
   "source": [
    "# make prediction with model\n",
    "\n",
    "with torch.inference_mode():\n",
    "  y_preds = model_0(X_test)\n",
    "\n",
    "# we can also do seomthing similar with torch.no_grad(), however, torch.inference_mode() is preffered\n",
    "# with torch.no_grad():\n",
    "#   y_preds = model_0(X_test)\n",
    "\n",
    "y_preds"
   ],
   "metadata": {
    "colab": {
     "base_uri": "https://localhost:8080/"
    },
    "id": "nYwIhwaxjrDn",
    "outputId": "8b3635d2-0888-4f3b-b0b2-677af4a560cc",
    "ExecuteTime": {
     "end_time": "2024-11-01T17:27:43.790158Z",
     "start_time": "2024-11-01T17:27:43.786199Z"
    }
   },
   "outputs": [
    {
     "data": {
      "text/plain": [
       "tensor([[0.3982],\n",
       "        [0.4049],\n",
       "        [0.4116],\n",
       "        [0.4184],\n",
       "        [0.4251],\n",
       "        [0.4318],\n",
       "        [0.4386],\n",
       "        [0.4453],\n",
       "        [0.4520],\n",
       "        [0.4588]])"
      ]
     },
     "execution_count": 213,
     "metadata": {},
     "output_type": "execute_result"
    }
   ],
   "execution_count": 213
  },
  {
   "cell_type": "code",
   "source": [
    "y_test"
   ],
   "metadata": {
    "colab": {
     "base_uri": "https://localhost:8080/"
    },
    "id": "MHJc8zVmnMI3",
    "outputId": "e775ddfd-f3a0-4db4-9e35-777f2eed28b5",
    "ExecuteTime": {
     "end_time": "2024-11-01T17:27:43.794818Z",
     "start_time": "2024-11-01T17:27:43.791165Z"
    }
   },
   "outputs": [
    {
     "data": {
      "text/plain": [
       "tensor([[0.8600],\n",
       "        [0.8740],\n",
       "        [0.8880],\n",
       "        [0.9020],\n",
       "        [0.9160],\n",
       "        [0.9300],\n",
       "        [0.9440],\n",
       "        [0.9580],\n",
       "        [0.9720],\n",
       "        [0.9860]])"
      ]
     },
     "execution_count": 214,
     "metadata": {},
     "output_type": "execute_result"
    }
   ],
   "execution_count": 214
  },
  {
   "cell_type": "markdown",
   "source": [
    "inference mode -- https://x.com/PyTorch/status/1437838231505096708"
   ],
   "metadata": {
    "id": "E-WfYGG6pTpR"
   }
  },
  {
   "cell_type": "code",
   "source": [
    "plot_predictions(predictions=y_preds)"
   ],
   "metadata": {
    "colab": {
     "base_uri": "https://localhost:8080/",
     "height": 599
    },
    "id": "9lNBHsRsnTdA",
    "outputId": "cc82de53-a0c2-43b4-960c-4b94996bec6b",
    "ExecuteTime": {
     "end_time": "2024-11-01T17:27:43.962158Z",
     "start_time": "2024-11-01T17:27:43.809049Z"
    }
   },
   "outputs": [
    {
     "data": {
      "text/plain": [
       "<Figure size 1000x700 with 1 Axes>"
      ],
      "image/png": "[encoded data removed]"
     },
     "metadata": {},
     "output_type": "display_data"
    }
   ],
   "execution_count": 215
  },
  {
   "metadata": {},
   "cell_type": "markdown",
   "source": [
    "## 3. Train model\n",
    "\n",
    "The whole idea of this training is for a model to move from some *unknown* parameters (these maybe be random) to some known parameters\n",
    "    \n",
    "Or in other words from a poor representation of the data to a better representation of the data\n",
    "\n",
    "One way to measure how poor or how wrong your models predictions are is to use a loss function\n",
    "\n",
    "* note : loss function may alo be called cost function or criterion in different areas. For our case, we're going to refer to it as a loss function\n",
    "\n",
    "Thins we need to train :\n",
    "\n",
    "* **loss function :** A function to meassure how wrong your model's predictions are to the ideal outputs, lower is better.\n",
    "* **Optimizer :** Takes into account the loss of a model and adjusts the model's parameters (e.g weight & bias) to improve the loss function -> https://pytorch.org/docs/stable/optim.html\n",
    "    * Iniside the optimizer you'll often have to set 2 parameters:\n",
    "        * `params` - the model parameters you'd like to optimize, for example `model_0.parameters()`\n",
    "        * `lr` (learning rate) - the learning rate is a hyperparameter that defines how big/small the optimizer changes the parameters with each step (a small `lr` result in small changes, a large `lr` results in large changes)\n",
    "\n",
    "And specifically for PyTorch, we need:\n",
    "* A training loop\n",
    "* A testing loop"
   ]
  },
  {
   "metadata": {
    "ExecuteTime": {
     "end_time": "2024-11-01T17:27:43.967429Z",
     "start_time": "2024-11-01T17:27:43.963406Z"
    }
   },
   "cell_type": "code",
   "source": "list(model_0.parameters())",
   "outputs": [
    {
     "data": {
      "text/plain": [
       "[Parameter containing:\n",
       " tensor([0.3367], requires_grad=True),\n",
       " Parameter containing:\n",
       " tensor([0.1288], requires_grad=True)]"
      ]
     },
     "execution_count": 216,
     "metadata": {},
     "output_type": "execute_result"
    }
   ],
   "execution_count": 216
  },
  {
   "metadata": {
    "ExecuteTime": {
     "end_time": "2024-11-01T17:27:43.983046Z",
     "start_time": "2024-11-01T17:27:43.979084Z"
    }
   },
   "cell_type": "code",
   "source": [
    "# check out the model parameters (a parameter is a value that the model sets itself)\n",
    "model_0.state_dict()"
   ],
   "outputs": [
    {
     "data": {
      "text/plain": [
       "OrderedDict([('weights', tensor([0.3367])), ('bias', tensor([0.1288]))])"
      ]
     },
     "execution_count": 217,
     "metadata": {},
     "output_type": "execute_result"
    }
   ],
   "execution_count": 217
  },
  {
   "metadata": {
    "ExecuteTime": {
     "end_time": "2024-11-01T17:27:44.047471Z",
     "start_time": "2024-11-01T17:27:44.044170Z"
    }
   },
   "cell_type": "code",
   "source": [
    "# set up a loss function\n",
    "loss_fn = nn.L1Loss()\n",
    "\n",
    "# set up an opptimizer\n",
    "optimizer = optim.SGD(params=model_0.parameters(),\n",
    "                      lr=0.01) # learning rate = possibly the most important hyperparameter you can set"
   ],
   "outputs": [],
   "execution_count": 218
  },
  {
   "metadata": {
    "ExecuteTime": {
     "end_time": "2024-11-01T17:27:44.076101Z",
     "start_time": "2024-11-01T17:27:44.072968Z"
    }
   },
   "cell_type": "code",
   "source": "loss_fn",
   "outputs": [
    {
     "data": {
      "text/plain": [
       "L1Loss()"
      ]
     },
     "execution_count": 219,
     "metadata": {},
     "output_type": "execute_result"
    }
   ],
   "execution_count": 219
  },
  {
   "metadata": {},
   "cell_type": "markdown",
   "source": [
    "**Q** : Which loss function and optimizer should i use?\n",
    "**A** : This will be problem specific. But with experience, you'll get an idea of what works and what doesn't with your particular problem set.\n",
    "\n",
    "For example, for a regression problem (like this), a loss function of `nn.Loss()` and an optimizer like `torch.optim.SGD()` will suffice\n",
    "But for a classfication problem like classifying whether a photo is a dog or cat, you'll likely want to use a loss function of `nn.BCELoss()` (binary cross entropy loss) "
   ]
  },
  {
   "metadata": {},
   "cell_type": "markdown",
   "source": [
    "### Building a training loop (and testing loop) in PyTorch\n",
    "\n",
    "A couple things we need in a training loop:\n",
    "0. Loop through the data and do...\n",
    "1. Forward pass (this involves data moving through our model's `forward()` functions) to make predictions on data - also called forward propagation\n",
    "2. Calculate the loss (compare forward pass predictions to ground truth labels)\n",
    "3. Optimizer zero grad\n",
    "4. Loss backward - move backwards throuh the network to calculate the gradients of each of parameters of our model with respect to the loss (**backpropagation**)\n",
    "5. Optimizer step - use the optimizer to adjust the model's parameters to try and improve the loss (**gradient descent**)"
   ]
  },
  {
   "metadata": {
    "ExecuteTime": {
     "end_time": "2024-11-01T17:27:44.166451Z",
     "start_time": "2024-11-01T17:27:44.161561Z"
    }
   },
   "cell_type": "code",
   "source": "list(model_0.parameters())",
   "outputs": [
    {
     "data": {
      "text/plain": [
       "[Parameter containing:\n",
       " tensor([0.3367], requires_grad=True),\n",
       " Parameter containing:\n",
       " tensor([0.1288], requires_grad=True)]"
      ]
     },
     "execution_count": 220,
     "metadata": {},
     "output_type": "execute_result"
    }
   ],
   "execution_count": 220
  },
  {
   "metadata": {
    "ExecuteTime": {
     "end_time": "2024-11-01T17:27:44.217617Z",
     "start_time": "2024-11-01T17:27:44.213104Z"
    }
   },
   "cell_type": "code",
   "source": "X_test, y_test",
   "outputs": [
    {
     "data": {
      "text/plain": [
       "(tensor([[0.8000],\n",
       "         [0.8200],\n",
       "         [0.8400],\n",
       "         [0.8600],\n",
       "         [0.8800],\n",
       "         [0.9000],\n",
       "         [0.9200],\n",
       "         [0.9400],\n",
       "         [0.9600],\n",
       "         [0.9800]]),\n",
       " tensor([[0.8600],\n",
       "         [0.8740],\n",
       "         [0.8880],\n",
       "         [0.9020],\n",
       "         [0.9160],\n",
       "         [0.9300],\n",
       "         [0.9440],\n",
       "         [0.9580],\n",
       "         [0.9720],\n",
       "         [0.9860]]))"
      ]
     },
     "execution_count": 221,
     "metadata": {},
     "output_type": "execute_result"
    }
   ],
   "execution_count": 221
  },
  {
   "metadata": {
    "ExecuteTime": {
     "end_time": "2024-11-01T17:27:44.400819Z",
     "start_time": "2024-11-01T17:27:44.246471Z"
    }
   },
   "cell_type": "code",
   "source": [
    "# A epoch is a loop through the data... (this is a hyperparameter because set it ourselves)\n",
    "torch.manual_seed(42)\n",
    "\n",
    "epochs = 200\n",
    "\n",
    "#track different values\n",
    "epoch_count = []\n",
    "lost_values = []\n",
    "test_loss_values = []\n",
    "\n",
    "#Training\n",
    "# 0. loop through the data\n",
    "for epoch in range(epochs):\n",
    "    # set the model to training mode\n",
    "    model_0.train() # train mode in PyTorch set all parameters that require gradients to require gradients\n",
    "    \n",
    "    # 1. Forward passs\n",
    "    y_pred = model_0(X_train)\n",
    "    \n",
    "    # 2. Calculate the loss \n",
    "    loss = loss_fn(y_pred, y_train)\n",
    "    print(f\"Loss : {loss}\")\n",
    "    \n",
    "    # 3. Optimizer seero grad\n",
    "    optimizer.zero_grad()\n",
    "    \n",
    "    # 4. Perform backprop on the loss with respect to parameters to the model\n",
    "    loss.backward()\n",
    "    \n",
    "    # 5. Step theoptimizer (perform gradient descent)\n",
    "    optimizer.step() #by default how the optimizer changes will accumulate through the loop so.. we have to zero them above insetp 3 form the next iteration of the loop\n",
    "    \n",
    "    #testing\n",
    "    model_0.eval() # turns off different settings in the model not needed for evaluation/testing (dropout/batch norm layers)\n",
    "    with torch.inference_mode(): # turns off gradient tracking and a couple more things behind the scenes\n",
    "        #1. forward pass\n",
    "        test_pred = model_0(X_test)\n",
    "        \n",
    "        #2. calculate the loss\n",
    "        test_loss = loss_fn(test_pred, y_test)\n",
    "    \n",
    "    #print out whats happening\n",
    "    if epoch % 10 == 0:\n",
    "        epoch_count.append(epoch)\n",
    "        lost_values.append(loss)\n",
    "        test_loss_values.append(test_loss)\n",
    "        print(f\"Epochs : {epoch} | Loss : {loss} | Test Loss: {test_loss}\")\n",
    "    \n",
    "    print(model_0.state_dict())\n",
    "    "
   ],
   "outputs": [
    {
     "name": "stdout",
     "output_type": "stream",
     "text": [
      "Loss : 0.31288138031959534\n",
      "Epochs : 0 | Loss : 0.31288138031959534 | Test Loss: 0.48106518387794495\n",
      "OrderedDict([('weights', tensor([0.3406])), ('bias', tensor([0.1388]))])\n",
      "Loss : 0.3013603389263153\n",
      "OrderedDict([('weights', tensor([0.3445])), ('bias', tensor([0.1488]))])\n",
      "Loss : 0.28983935713768005\n",
      "OrderedDict([('weights', tensor([0.3484])), ('bias', tensor([0.1588]))])\n",
      "Loss : 0.2783183455467224\n",
      "OrderedDict([('weights', tensor([0.3523])), ('bias', tensor([0.1688]))])\n",
      "Loss : 0.26679736375808716\n",
      "OrderedDict([('weights', tensor([0.3562])), ('bias', tensor([0.1788]))])\n",
      "Loss : 0.2552763521671295\n",
      "OrderedDict([('weights', tensor([0.3601])), ('bias', tensor([0.1888]))])\n",
      "Loss : 0.24375534057617188\n",
      "OrderedDict([('weights', tensor([0.3640])), ('bias', tensor([0.1988]))])\n",
      "Loss : 0.23223432898521423\n",
      "OrderedDict([('weights', tensor([0.3679])), ('bias', tensor([0.2088]))])\n",
      "Loss : 0.22071333229541779\n",
      "OrderedDict([('weights', tensor([0.3718])), ('bias', tensor([0.2188]))])\n",
      "Loss : 0.20919232070446014\n",
      "OrderedDict([('weights', tensor([0.3757])), ('bias', tensor([0.2288]))])\n",
      "Loss : 0.1976713240146637\n",
      "Epochs : 10 | Loss : 0.1976713240146637 | Test Loss: 0.3463551998138428\n",
      "OrderedDict([('weights', tensor([0.3796])), ('bias', tensor([0.2388]))])\n",
      "Loss : 0.18615034222602844\n",
      "OrderedDict([('weights', tensor([0.3835])), ('bias', tensor([0.2488]))])\n",
      "Loss : 0.1746293306350708\n",
      "OrderedDict([('weights', tensor([0.3874])), ('bias', tensor([0.2588]))])\n",
      "Loss : 0.16310831904411316\n",
      "OrderedDict([('weights', tensor([0.3913])), ('bias', tensor([0.2688]))])\n",
      "Loss : 0.1515873372554779\n",
      "OrderedDict([('weights', tensor([0.3952])), ('bias', tensor([0.2788]))])\n",
      "Loss : 0.14006635546684265\n",
      "OrderedDict([('weights', tensor([0.3991])), ('bias', tensor([0.2888]))])\n",
      "Loss : 0.1285453587770462\n",
      "OrderedDict([('weights', tensor([0.4030])), ('bias', tensor([0.2988]))])\n",
      "Loss : 0.11702437698841095\n",
      "OrderedDict([('weights', tensor([0.4069])), ('bias', tensor([0.3088]))])\n",
      "Loss : 0.1060912236571312\n",
      "OrderedDict([('weights', tensor([0.4108])), ('bias', tensor([0.3178]))])\n",
      "Loss : 0.09681284427642822\n",
      "OrderedDict([('weights', tensor([0.4146])), ('bias', tensor([0.3258]))])\n",
      "Loss : 0.08908725529909134\n",
      "Epochs : 20 | Loss : 0.08908725529909134 | Test Loss: 0.21729660034179688\n",
      "OrderedDict([('weights', tensor([0.4184])), ('bias', tensor([0.3333]))])\n",
      "Loss : 0.08227583020925522\n",
      "OrderedDict([('weights', tensor([0.4222])), ('bias', tensor([0.3403]))])\n",
      "Loss : 0.07638873159885406\n",
      "OrderedDict([('weights', tensor([0.4258])), ('bias', tensor([0.3463]))])\n",
      "Loss : 0.07160007208585739\n",
      "OrderedDict([('weights', tensor([0.4293])), ('bias', tensor([0.3518]))])\n",
      "Loss : 0.06747635453939438\n",
      "OrderedDict([('weights', tensor([0.4328])), ('bias', tensor([0.3568]))])\n",
      "Loss : 0.06395438313484192\n",
      "OrderedDict([('weights', tensor([0.4361])), ('bias', tensor([0.3613]))])\n",
      "Loss : 0.06097004935145378\n",
      "OrderedDict([('weights', tensor([0.4394])), ('bias', tensor([0.3653]))])\n",
      "Loss : 0.05845819041132927\n",
      "OrderedDict([('weights', tensor([0.4425])), ('bias', tensor([0.3688]))])\n",
      "Loss : 0.05635259300470352\n",
      "OrderedDict([('weights', tensor([0.4455])), ('bias', tensor([0.3718]))])\n",
      "Loss : 0.0545857772231102\n",
      "OrderedDict([('weights', tensor([0.4483])), ('bias', tensor([0.3743]))])\n",
      "Loss : 0.053148526698350906\n",
      "Epochs : 30 | Loss : 0.053148526698350906 | Test Loss: 0.14464017748832703\n",
      "OrderedDict([('weights', tensor([0.4512])), ('bias', tensor([0.3768]))])\n",
      "Loss : 0.05181945487856865\n",
      "OrderedDict([('weights', tensor([0.4539])), ('bias', tensor([0.3788]))])\n",
      "Loss : 0.05069301277399063\n",
      "OrderedDict([('weights', tensor([0.4564])), ('bias', tensor([0.3803]))])\n",
      "Loss : 0.0498228520154953\n",
      "OrderedDict([('weights', tensor([0.4590])), ('bias', tensor([0.3818]))])\n",
      "Loss : 0.04895269125699997\n",
      "OrderedDict([('weights', tensor([0.4615])), ('bias', tensor([0.3833]))])\n",
      "Loss : 0.04819351062178612\n",
      "OrderedDict([('weights', tensor([0.4639])), ('bias', tensor([0.3843]))])\n",
      "Loss : 0.047531817108392715\n",
      "OrderedDict([('weights', tensor([0.4662])), ('bias', tensor([0.3853]))])\n",
      "Loss : 0.04692792519927025\n",
      "OrderedDict([('weights', tensor([0.4684])), ('bias', tensor([0.3858]))])\n",
      "Loss : 0.04642331600189209\n",
      "OrderedDict([('weights', tensor([0.4706])), ('bias', tensor([0.3863]))])\n",
      "Loss : 0.04591871052980423\n",
      "OrderedDict([('weights', tensor([0.4728])), ('bias', tensor([0.3868]))])\n",
      "Loss : 0.04543796554207802\n",
      "Epochs : 40 | Loss : 0.04543796554207802 | Test Loss: 0.11360953003168106\n",
      "OrderedDict([('weights', tensor([0.4748])), ('bias', tensor([0.3868]))])\n",
      "Loss : 0.04503796249628067\n",
      "OrderedDict([('weights', tensor([0.4768])), ('bias', tensor([0.3868]))])\n",
      "Loss : 0.04463795945048332\n",
      "OrderedDict([('weights', tensor([0.4788])), ('bias', tensor([0.3868]))])\n",
      "Loss : 0.04423796385526657\n",
      "OrderedDict([('weights', tensor([0.4808])), ('bias', tensor([0.3868]))])\n",
      "Loss : 0.04383796453475952\n",
      "OrderedDict([('weights', tensor([0.4828])), ('bias', tensor([0.3868]))])\n",
      "Loss : 0.04343796148896217\n",
      "OrderedDict([('weights', tensor([0.4848])), ('bias', tensor([0.3868]))])\n",
      "Loss : 0.043074630200862885\n",
      "OrderedDict([('weights', tensor([0.4866])), ('bias', tensor([0.3863]))])\n",
      "Loss : 0.04272563382983208\n",
      "OrderedDict([('weights', tensor([0.4884])), ('bias', tensor([0.3858]))])\n",
      "Loss : 0.04237663000822067\n",
      "OrderedDict([('weights', tensor([0.4902])), ('bias', tensor([0.3853]))])\n",
      "Loss : 0.04202762991189957\n",
      "OrderedDict([('weights', tensor([0.4920])), ('bias', tensor([0.3848]))])\n",
      "Loss : 0.04167863354086876\n",
      "Epochs : 50 | Loss : 0.04167863354086876 | Test Loss: 0.09919948130846024\n",
      "OrderedDict([('weights', tensor([0.4938])), ('bias', tensor([0.3843]))])\n",
      "Loss : 0.04132963344454765\n",
      "OrderedDict([('weights', tensor([0.4956])), ('bias', tensor([0.3838]))])\n",
      "Loss : 0.04098063334822655\n",
      "OrderedDict([('weights', tensor([0.4974])), ('bias', tensor([0.3833]))])\n",
      "Loss : 0.04063162952661514\n",
      "OrderedDict([('weights', tensor([0.4992])), ('bias', tensor([0.3828]))])\n",
      "Loss : 0.040282636880874634\n",
      "OrderedDict([('weights', tensor([0.5010])), ('bias', tensor([0.3823]))])\n",
      "Loss : 0.039933640509843826\n",
      "OrderedDict([('weights', tensor([0.5028])), ('bias', tensor([0.3818]))])\n",
      "Loss : 0.03958464413881302\n",
      "OrderedDict([('weights', tensor([0.5046])), ('bias', tensor([0.3813]))])\n",
      "Loss : 0.03923564404249191\n",
      "OrderedDict([('weights', tensor([0.5064])), ('bias', tensor([0.3808]))])\n",
      "Loss : 0.03888664394617081\n",
      "OrderedDict([('weights', tensor([0.5082])), ('bias', tensor([0.3803]))])\n",
      "Loss : 0.0385376438498497\n",
      "OrderedDict([('weights', tensor([0.5100])), ('bias', tensor([0.3798]))])\n",
      "Loss : 0.03818932920694351\n",
      "Epochs : 60 | Loss : 0.03818932920694351 | Test Loss: 0.08886633068323135\n",
      "OrderedDict([('weights', tensor([0.5116])), ('bias', tensor([0.3788]))])\n",
      "Loss : 0.03785243630409241\n",
      "OrderedDict([('weights', tensor([0.5134])), ('bias', tensor([0.3783]))])\n",
      "Loss : 0.0375034399330616\n",
      "OrderedDict([('weights', tensor([0.5152])), ('bias', tensor([0.3778]))])\n",
      "Loss : 0.037164121866226196\n",
      "OrderedDict([('weights', tensor([0.5168])), ('bias', tensor([0.3768]))])\n",
      "Loss : 0.03681822493672371\n",
      "OrderedDict([('weights', tensor([0.5186])), ('bias', tensor([0.3763]))])\n",
      "Loss : 0.03647511452436447\n",
      "OrderedDict([('weights', tensor([0.5202])), ('bias', tensor([0.3753]))])\n",
      "Loss : 0.03613303601741791\n",
      "OrderedDict([('weights', tensor([0.5220])), ('bias', tensor([0.3748]))])\n",
      "Loss : 0.03578609973192215\n",
      "OrderedDict([('weights', tensor([0.5236])), ('bias', tensor([0.3738]))])\n",
      "Loss : 0.03544783592224121\n",
      "OrderedDict([('weights', tensor([0.5254])), ('bias', tensor([0.3733]))])\n",
      "Loss : 0.035098835825920105\n",
      "OrderedDict([('weights', tensor([0.5272])), ('bias', tensor([0.3728]))])\n",
      "Loss : 0.03476089984178543\n",
      "Epochs : 70 | Loss : 0.03476089984178543 | Test Loss: 0.0805937647819519\n",
      "OrderedDict([('weights', tensor([0.5288])), ('bias', tensor([0.3718]))])\n",
      "Loss : 0.03441363573074341\n",
      "OrderedDict([('weights', tensor([0.5306])), ('bias', tensor([0.3713]))])\n",
      "Loss : 0.03407188132405281\n",
      "OrderedDict([('weights', tensor([0.5322])), ('bias', tensor([0.3703]))])\n",
      "Loss : 0.03372843936085701\n",
      "OrderedDict([('weights', tensor([0.5340])), ('bias', tensor([0.3698]))])\n",
      "Loss : 0.03338287025690079\n",
      "OrderedDict([('weights', tensor([0.5355])), ('bias', tensor([0.3688]))])\n",
      "Loss : 0.033043231815099716\n",
      "OrderedDict([('weights', tensor([0.5373])), ('bias', tensor([0.3683]))])\n",
      "Loss : 0.03269423171877861\n",
      "OrderedDict([('weights', tensor([0.5391])), ('bias', tensor([0.3678]))])\n",
      "Loss : 0.032357655465602875\n",
      "OrderedDict([('weights', tensor([0.5407])), ('bias', tensor([0.3668]))])\n",
      "Loss : 0.03200903534889221\n",
      "OrderedDict([('weights', tensor([0.5425])), ('bias', tensor([0.3663]))])\n",
      "Loss : 0.03166864812374115\n",
      "OrderedDict([('weights', tensor([0.5441])), ('bias', tensor([0.3653]))])\n",
      "Loss : 0.03132382780313492\n",
      "Epochs : 80 | Loss : 0.03132382780313492 | Test Loss: 0.07232122868299484\n",
      "OrderedDict([('weights', tensor([0.5459])), ('bias', tensor([0.3648]))])\n",
      "Loss : 0.030979642644524574\n",
      "OrderedDict([('weights', tensor([0.5475])), ('bias', tensor([0.3638]))])\n",
      "Loss : 0.030638623982667923\n",
      "OrderedDict([('weights', tensor([0.5493])), ('bias', tensor([0.3633]))])\n",
      "Loss : 0.0302906334400177\n",
      "OrderedDict([('weights', tensor([0.5509])), ('bias', tensor([0.3623]))])\n",
      "Loss : 0.029953425750136375\n",
      "OrderedDict([('weights', tensor([0.5527])), ('bias', tensor([0.3618]))])\n",
      "Loss : 0.02960442565381527\n",
      "OrderedDict([('weights', tensor([0.5545])), ('bias', tensor([0.3613]))])\n",
      "Loss : 0.029265418648719788\n",
      "OrderedDict([('weights', tensor([0.5561])), ('bias', tensor([0.3603]))])\n",
      "Loss : 0.028919223695993423\n",
      "OrderedDict([('weights', tensor([0.5579])), ('bias', tensor([0.3598]))])\n",
      "Loss : 0.028576409444212914\n",
      "OrderedDict([('weights', tensor([0.5595])), ('bias', tensor([0.3588]))])\n",
      "Loss : 0.028234025463461876\n",
      "OrderedDict([('weights', tensor([0.5613])), ('bias', tensor([0.3583]))])\n",
      "Loss : 0.02788739837706089\n",
      "Epochs : 90 | Loss : 0.02788739837706089 | Test Loss: 0.06473556160926819\n",
      "OrderedDict([('weights', tensor([0.5629])), ('bias', tensor([0.3573]))])\n",
      "Loss : 0.02754882536828518\n",
      "OrderedDict([('weights', tensor([0.5647])), ('bias', tensor([0.3568]))])\n",
      "Loss : 0.027199819684028625\n",
      "OrderedDict([('weights', tensor([0.5665])), ('bias', tensor([0.3563]))])\n",
      "Loss : 0.026862185448408127\n",
      "OrderedDict([('weights', tensor([0.5681])), ('bias', tensor([0.3553]))])\n",
      "Loss : 0.02651461586356163\n",
      "OrderedDict([('weights', tensor([0.5699])), ('bias', tensor([0.3548]))])\n",
      "Loss : 0.026173178106546402\n",
      "OrderedDict([('weights', tensor([0.5715])), ('bias', tensor([0.3538]))])\n",
      "Loss : 0.025829419493675232\n",
      "OrderedDict([('weights', tensor([0.5733])), ('bias', tensor([0.3533]))])\n",
      "Loss : 0.02548416517674923\n",
      "OrderedDict([('weights', tensor([0.5748])), ('bias', tensor([0.3523]))])\n",
      "Loss : 0.025144213810563087\n",
      "OrderedDict([('weights', tensor([0.5766])), ('bias', tensor([0.3518]))])\n",
      "Loss : 0.02479521557688713\n",
      "OrderedDict([('weights', tensor([0.5784])), ('bias', tensor([0.3513]))])\n",
      "Loss : 0.024458957836031914\n",
      "Epochs : 100 | Loss : 0.024458957836031914 | Test Loss: 0.05646304413676262\n",
      "OrderedDict([('weights', tensor([0.5800])), ('bias', tensor([0.3503]))])\n",
      "Loss : 0.024110013619065285\n",
      "OrderedDict([('weights', tensor([0.5818])), ('bias', tensor([0.3498]))])\n",
      "Loss : 0.02376994863152504\n",
      "OrderedDict([('weights', tensor([0.5834])), ('bias', tensor([0.3488]))])\n",
      "Loss : 0.02342480979859829\n",
      "OrderedDict([('weights', tensor([0.5852])), ('bias', tensor([0.3483]))])\n",
      "Loss : 0.023080935701727867\n",
      "OrderedDict([('weights', tensor([0.5868])), ('bias', tensor([0.3473]))])\n",
      "Loss : 0.022739607840776443\n",
      "OrderedDict([('weights', tensor([0.5886])), ('bias', tensor([0.3468]))])\n",
      "Loss : 0.022391926497220993\n",
      "OrderedDict([('weights', tensor([0.5902])), ('bias', tensor([0.3458]))])\n",
      "Loss : 0.022054409608244896\n",
      "OrderedDict([('weights', tensor([0.5920])), ('bias', tensor([0.3453]))])\n",
      "Loss : 0.02170540764927864\n",
      "OrderedDict([('weights', tensor([0.5938])), ('bias', tensor([0.3448]))])\n",
      "Loss : 0.021366719156503677\n",
      "OrderedDict([('weights', tensor([0.5954])), ('bias', tensor([0.3438]))])\n",
      "Loss : 0.021020207554101944\n",
      "Epochs : 110 | Loss : 0.021020207554101944 | Test Loss: 0.04819049686193466\n",
      "OrderedDict([('weights', tensor([0.5972])), ('bias', tensor([0.3433]))])\n",
      "Loss : 0.020677709951996803\n",
      "OrderedDict([('weights', tensor([0.5988])), ('bias', tensor([0.3423]))])\n",
      "Loss : 0.02033500373363495\n",
      "OrderedDict([('weights', tensor([0.6006])), ('bias', tensor([0.3418]))])\n",
      "Loss : 0.01998869702219963\n",
      "OrderedDict([('weights', tensor([0.6022])), ('bias', tensor([0.3408]))])\n",
      "Loss : 0.019649803638458252\n",
      "OrderedDict([('weights', tensor([0.6040])), ('bias', tensor([0.3403]))])\n",
      "Loss : 0.019300809130072594\n",
      "OrderedDict([('weights', tensor([0.6058])), ('bias', tensor([0.3398]))])\n",
      "Loss : 0.018963487818837166\n",
      "OrderedDict([('weights', tensor([0.6074])), ('bias', tensor([0.3388]))])\n",
      "Loss : 0.01861560344696045\n",
      "OrderedDict([('weights', tensor([0.6092])), ('bias', tensor([0.3383]))])\n",
      "Loss : 0.018274478614330292\n",
      "OrderedDict([('weights', tensor([0.6108])), ('bias', tensor([0.3373]))])\n",
      "Loss : 0.017930403351783752\n",
      "OrderedDict([('weights', tensor([0.6126])), ('bias', tensor([0.3368]))])\n",
      "Loss : 0.01758546568453312\n",
      "Epochs : 120 | Loss : 0.01758546568453312 | Test Loss: 0.04060482233762741\n",
      "OrderedDict([('weights', tensor([0.6141])), ('bias', tensor([0.3358]))])\n",
      "Loss : 0.017245199531316757\n",
      "OrderedDict([('weights', tensor([0.6159])), ('bias', tensor([0.3353]))])\n",
      "Loss : 0.016896454617381096\n",
      "OrderedDict([('weights', tensor([0.6175])), ('bias', tensor([0.3343]))])\n",
      "Loss : 0.01656000316143036\n",
      "OrderedDict([('weights', tensor([0.6193])), ('bias', tensor([0.3338]))])\n",
      "Loss : 0.016210997477173805\n",
      "OrderedDict([('weights', tensor([0.6211])), ('bias', tensor([0.3333]))])\n",
      "Loss : 0.01587124727666378\n",
      "OrderedDict([('weights', tensor([0.6227])), ('bias', tensor([0.3323]))])\n",
      "Loss : 0.015525798313319683\n",
      "OrderedDict([('weights', tensor([0.6245])), ('bias', tensor([0.3318]))])\n",
      "Loss : 0.015182236209511757\n",
      "OrderedDict([('weights', tensor([0.6261])), ('bias', tensor([0.3308]))])\n",
      "Loss : 0.014840595424175262\n",
      "OrderedDict([('weights', tensor([0.6279])), ('bias', tensor([0.3303]))])\n",
      "Loss : 0.01449323259294033\n",
      "OrderedDict([('weights', tensor([0.6295])), ('bias', tensor([0.3293]))])\n",
      "Loss : 0.014155393466353416\n",
      "Epochs : 130 | Loss : 0.014155393466353416 | Test Loss: 0.03233227878808975\n",
      "OrderedDict([('weights', tensor([0.6313])), ('bias', tensor([0.3288]))])\n",
      "Loss : 0.013806397095322609\n",
      "OrderedDict([('weights', tensor([0.6331])), ('bias', tensor([0.3283]))])\n",
      "Loss : 0.013468016870319843\n",
      "OrderedDict([('weights', tensor([0.6347])), ('bias', tensor([0.3273]))])\n",
      "Loss : 0.013121193274855614\n",
      "OrderedDict([('weights', tensor([0.6365])), ('bias', tensor([0.3268]))])\n",
      "Loss : 0.01277900766581297\n",
      "OrderedDict([('weights', tensor([0.6381])), ('bias', tensor([0.3258]))])\n",
      "Loss : 0.012435992248356342\n",
      "OrderedDict([('weights', tensor([0.6399])), ('bias', tensor([0.3253]))])\n",
      "Loss : 0.01208999752998352\n",
      "OrderedDict([('weights', tensor([0.6415])), ('bias', tensor([0.3243]))])\n",
      "Loss : 0.011750795878469944\n",
      "OrderedDict([('weights', tensor([0.6433])), ('bias', tensor([0.3238]))])\n",
      "Loss : 0.011401787400245667\n",
      "OrderedDict([('weights', tensor([0.6451])), ('bias', tensor([0.3233]))])\n",
      "Loss : 0.011064787395298481\n",
      "OrderedDict([('weights', tensor([0.6467])), ('bias', tensor([0.3223]))])\n",
      "Loss : 0.010716589167714119\n",
      "Epochs : 140 | Loss : 0.010716589167714119 | Test Loss: 0.024059748277068138\n",
      "OrderedDict([('weights', tensor([0.6485])), ('bias', tensor([0.3218]))])\n",
      "Loss : 0.010375778190791607\n",
      "OrderedDict([('weights', tensor([0.6501])), ('bias', tensor([0.3208]))])\n",
      "Loss : 0.010031387209892273\n",
      "OrderedDict([('weights', tensor([0.6519])), ('bias', tensor([0.3203]))])\n",
      "Loss : 0.009686763398349285\n",
      "OrderedDict([('weights', tensor([0.6534])), ('bias', tensor([0.3193]))])\n",
      "Loss : 0.009346187114715576\n",
      "OrderedDict([('weights', tensor([0.6552])), ('bias', tensor([0.3188]))])\n",
      "Loss : 0.008997755125164986\n",
      "OrderedDict([('weights', tensor([0.6568])), ('bias', tensor([0.3178]))])\n",
      "Loss : 0.008660981431603432\n",
      "OrderedDict([('weights', tensor([0.6586])), ('bias', tensor([0.3173]))])\n",
      "Loss : 0.008311985060572624\n",
      "OrderedDict([('weights', tensor([0.6604])), ('bias', tensor([0.3168]))])\n",
      "Loss : 0.007972544990479946\n",
      "OrderedDict([('weights', tensor([0.6620])), ('bias', tensor([0.3158]))])\n",
      "Loss : 0.007626785431057215\n",
      "OrderedDict([('weights', tensor([0.6638])), ('bias', tensor([0.3153]))])\n",
      "Loss : 0.0072835334576666355\n",
      "Epochs : 150 | Loss : 0.0072835334576666355 | Test Loss: 0.016474086791276932\n",
      "OrderedDict([('weights', tensor([0.6654])), ('bias', tensor([0.3143]))])\n",
      "Loss : 0.006941580679267645\n",
      "OrderedDict([('weights', tensor([0.6672])), ('bias', tensor([0.3138]))])\n",
      "Loss : 0.006594526115804911\n",
      "OrderedDict([('weights', tensor([0.6688])), ('bias', tensor([0.3128]))])\n",
      "Loss : 0.006256377790123224\n",
      "OrderedDict([('weights', tensor([0.6706])), ('bias', tensor([0.3123]))])\n",
      "Loss : 0.005907376762479544\n",
      "OrderedDict([('weights', tensor([0.6724])), ('bias', tensor([0.3118]))])\n",
      "Loss : 0.005569315515458584\n",
      "OrderedDict([('weights', tensor([0.6740])), ('bias', tensor([0.3108]))])\n",
      "Loss : 0.005222178064286709\n",
      "OrderedDict([('weights', tensor([0.6758])), ('bias', tensor([0.3103]))])\n",
      "Loss : 0.004880306776612997\n",
      "OrderedDict([('weights', tensor([0.6774])), ('bias', tensor([0.3093]))])\n",
      "Loss : 0.004536976106464863\n",
      "OrderedDict([('weights', tensor([0.6792])), ('bias', tensor([0.3088]))])\n",
      "Loss : 0.00419129803776741\n",
      "OrderedDict([('weights', tensor([0.6808])), ('bias', tensor([0.3078]))])\n",
      "Loss : 0.0038517764769494534\n",
      "Epochs : 160 | Loss : 0.0038517764769494534 | Test Loss: 0.008201557211577892\n",
      "OrderedDict([('weights', tensor([0.6826])), ('bias', tensor([0.3073]))])\n",
      "Loss : 0.0035027749836444855\n",
      "OrderedDict([('weights', tensor([0.6844])), ('bias', tensor([0.3068]))])\n",
      "Loss : 0.0031660839449614286\n",
      "OrderedDict([('weights', tensor([0.6860])), ('bias', tensor([0.3058]))])\n",
      "Loss : 0.002817571861669421\n",
      "OrderedDict([('weights', tensor([0.6878])), ('bias', tensor([0.3053]))])\n",
      "Loss : 0.0024770735763013363\n",
      "OrderedDict([('weights', tensor([0.6894])), ('bias', tensor([0.3043]))])\n",
      "Loss : 0.0021323717664927244\n",
      "OrderedDict([('weights', tensor([0.6912])), ('bias', tensor([0.3038]))])\n",
      "Loss : 0.0017880648374557495\n",
      "OrderedDict([('weights', tensor([0.6927])), ('bias', tensor([0.3028]))])\n",
      "Loss : 0.0014518328243866563\n",
      "OrderedDict([('weights', tensor([0.6947])), ('bias', tensor([0.3028]))])\n",
      "Loss : 0.0011887758737429976\n",
      "OrderedDict([('weights', tensor([0.6951])), ('bias', tensor([0.2993]))])\n",
      "Loss : 0.0025885067880153656\n",
      "OrderedDict([('weights', tensor([0.6990])), ('bias', tensor([0.3093]))])\n",
      "Loss : 0.008932482451200485\n",
      "Epochs : 170 | Loss : 0.008932482451200485 | Test Loss: 0.005023092031478882\n",
      "OrderedDict([('weights', tensor([0.6951])), ('bias', tensor([0.2993]))])\n",
      "Loss : 0.0025885067880153656\n",
      "OrderedDict([('weights', tensor([0.6990])), ('bias', tensor([0.3093]))])\n",
      "Loss : 0.008932482451200485\n",
      "OrderedDict([('weights', tensor([0.6951])), ('bias', tensor([0.2993]))])\n",
      "Loss : 0.0025885067880153656\n",
      "OrderedDict([('weights', tensor([0.6990])), ('bias', tensor([0.3093]))])\n",
      "Loss : 0.008932482451200485\n",
      "OrderedDict([('weights', tensor([0.6951])), ('bias', tensor([0.2993]))])\n",
      "Loss : 0.0025885067880153656\n",
      "OrderedDict([('weights', tensor([0.6990])), ('bias', tensor([0.3093]))])\n",
      "Loss : 0.008932482451200485\n",
      "OrderedDict([('weights', tensor([0.6951])), ('bias', tensor([0.2993]))])\n",
      "Loss : 0.0025885067880153656\n",
      "OrderedDict([('weights', tensor([0.6990])), ('bias', tensor([0.3093]))])\n",
      "Loss : 0.008932482451200485\n",
      "OrderedDict([('weights', tensor([0.6951])), ('bias', tensor([0.2993]))])\n",
      "Loss : 0.0025885067880153656\n",
      "OrderedDict([('weights', tensor([0.6990])), ('bias', tensor([0.3093]))])\n",
      "Loss : 0.008932482451200485\n",
      "Epochs : 180 | Loss : 0.008932482451200485 | Test Loss: 0.005023092031478882\n",
      "OrderedDict([('weights', tensor([0.6951])), ('bias', tensor([0.2993]))])\n",
      "Loss : 0.0025885067880153656\n",
      "OrderedDict([('weights', tensor([0.6990])), ('bias', tensor([0.3093]))])\n",
      "Loss : 0.008932482451200485\n",
      "OrderedDict([('weights', tensor([0.6951])), ('bias', tensor([0.2993]))])\n",
      "Loss : 0.0025885067880153656\n",
      "OrderedDict([('weights', tensor([0.6990])), ('bias', tensor([0.3093]))])\n",
      "Loss : 0.008932482451200485\n",
      "OrderedDict([('weights', tensor([0.6951])), ('bias', tensor([0.2993]))])\n",
      "Loss : 0.0025885067880153656\n",
      "OrderedDict([('weights', tensor([0.6990])), ('bias', tensor([0.3093]))])\n",
      "Loss : 0.008932482451200485\n",
      "OrderedDict([('weights', tensor([0.6951])), ('bias', tensor([0.2993]))])\n",
      "Loss : 0.0025885067880153656\n",
      "OrderedDict([('weights', tensor([0.6990])), ('bias', tensor([0.3093]))])\n",
      "Loss : 0.008932482451200485\n",
      "OrderedDict([('weights', tensor([0.6951])), ('bias', tensor([0.2993]))])\n",
      "Loss : 0.0025885067880153656\n",
      "OrderedDict([('weights', tensor([0.6990])), ('bias', tensor([0.3093]))])\n",
      "Loss : 0.008932482451200485\n",
      "Epochs : 190 | Loss : 0.008932482451200485 | Test Loss: 0.005023092031478882\n",
      "OrderedDict([('weights', tensor([0.6951])), ('bias', tensor([0.2993]))])\n",
      "Loss : 0.0025885067880153656\n",
      "OrderedDict([('weights', tensor([0.6990])), ('bias', tensor([0.3093]))])\n",
      "Loss : 0.008932482451200485\n",
      "OrderedDict([('weights', tensor([0.6951])), ('bias', tensor([0.2993]))])\n",
      "Loss : 0.0025885067880153656\n",
      "OrderedDict([('weights', tensor([0.6990])), ('bias', tensor([0.3093]))])\n",
      "Loss : 0.008932482451200485\n",
      "OrderedDict([('weights', tensor([0.6951])), ('bias', tensor([0.2993]))])\n",
      "Loss : 0.0025885067880153656\n",
      "OrderedDict([('weights', tensor([0.6990])), ('bias', tensor([0.3093]))])\n",
      "Loss : 0.008932482451200485\n",
      "OrderedDict([('weights', tensor([0.6951])), ('bias', tensor([0.2993]))])\n",
      "Loss : 0.0025885067880153656\n",
      "OrderedDict([('weights', tensor([0.6990])), ('bias', tensor([0.3093]))])\n",
      "Loss : 0.008932482451200485\n",
      "OrderedDict([('weights', tensor([0.6951])), ('bias', tensor([0.2993]))])\n",
      "Loss : 0.0025885067880153656\n",
      "OrderedDict([('weights', tensor([0.6990])), ('bias', tensor([0.3093]))])\n"
     ]
    }
   ],
   "execution_count": 222
  },
  {
   "metadata": {
    "ExecuteTime": {
     "end_time": "2024-11-01T17:27:44.409804Z",
     "start_time": "2024-11-01T17:27:44.400819Z"
    }
   },
   "cell_type": "code",
   "source": [
    "import numpy as np\n",
    "np.array(torch.tensor(lost_values).cpu().numpy()), lost_values"
   ],
   "outputs": [
    {
     "data": {
      "text/plain": [
       "(array([0.31288138, 0.19767132, 0.08908726, 0.05314853, 0.04543797,\n",
       "        0.04167863, 0.03818933, 0.0347609 , 0.03132383, 0.0278874 ,\n",
       "        0.02445896, 0.02102021, 0.01758547, 0.01415539, 0.01071659,\n",
       "        0.00728353, 0.00385178, 0.00893248, 0.00893248, 0.00893248],\n",
       "       dtype=float32),\n",
       " [tensor(0.3129, grad_fn=<MeanBackward0>),\n",
       "  tensor(0.1977, grad_fn=<MeanBackward0>),\n",
       "  tensor(0.0891, grad_fn=<MeanBackward0>),\n",
       "  tensor(0.0531, grad_fn=<MeanBackward0>),\n",
       "  tensor(0.0454, grad_fn=<MeanBackward0>),\n",
       "  tensor(0.0417, grad_fn=<MeanBackward0>),\n",
       "  tensor(0.0382, grad_fn=<MeanBackward0>),\n",
       "  tensor(0.0348, grad_fn=<MeanBackward0>),\n",
       "  tensor(0.0313, grad_fn=<MeanBackward0>),\n",
       "  tensor(0.0279, grad_fn=<MeanBackward0>),\n",
       "  tensor(0.0245, grad_fn=<MeanBackward0>),\n",
       "  tensor(0.0210, grad_fn=<MeanBackward0>),\n",
       "  tensor(0.0176, grad_fn=<MeanBackward0>),\n",
       "  tensor(0.0142, grad_fn=<MeanBackward0>),\n",
       "  tensor(0.0107, grad_fn=<MeanBackward0>),\n",
       "  tensor(0.0073, grad_fn=<MeanBackward0>),\n",
       "  tensor(0.0039, grad_fn=<MeanBackward0>),\n",
       "  tensor(0.0089, grad_fn=<MeanBackward0>),\n",
       "  tensor(0.0089, grad_fn=<MeanBackward0>),\n",
       "  tensor(0.0089, grad_fn=<MeanBackward0>)])"
      ]
     },
     "execution_count": 223,
     "metadata": {},
     "output_type": "execute_result"
    }
   ],
   "execution_count": 223
  },
  {
   "metadata": {
    "ExecuteTime": {
     "end_time": "2024-11-01T17:27:44.528146Z",
     "start_time": "2024-11-01T17:27:44.410311Z"
    }
   },
   "cell_type": "code",
   "source": [
    "# plot the loss curves\n",
    "plt.plot(epoch_count, np.array(torch.tensor(lost_values).numpy()), label=\"Training Loss\")\n",
    "plt.plot(epoch_count, test_loss_values, label=\"Test Loss\")\n",
    "plt.title(\"Training Loss and Test Loss\")\n",
    "plt.ylabel(\"Loss\")\n",
    "plt.xlabel(\"Epoch\")\n",
    "plt.legend()"
   ],
   "outputs": [
    {
     "data": {
      "text/plain": [
       "<matplotlib.legend.Legend at 0x1e878959690>"
      ]
     },
     "execution_count": 224,
     "metadata": {},
     "output_type": "execute_result"
    },
    {
     "data": {
      "text/plain": [
       "<Figure size 640x480 with 1 Axes>"
      ],
      "image/png": "[encoded data removed]"
     },
     "metadata": {},
     "output_type": "display_data"
    }
   ],
   "execution_count": 224
  },
  {
   "metadata": {
    "ExecuteTime": {
     "end_time": "2024-11-01T17:27:44.531989Z",
     "start_time": "2024-11-01T17:27:44.529422Z"
    }
   },
   "cell_type": "code",
   "source": [
    "with torch.inference_mode():\n",
    "    y_preds_new = model_0(X_test)"
   ],
   "outputs": [],
   "execution_count": 225
  },
  {
   "metadata": {
    "ExecuteTime": {
     "end_time": "2024-11-01T17:27:44.537055Z",
     "start_time": "2024-11-01T17:27:44.532998Z"
    }
   },
   "cell_type": "code",
   "source": "model_0.state_dict()",
   "outputs": [
    {
     "data": {
      "text/plain": [
       "OrderedDict([('weights', tensor([0.6990])), ('bias', tensor([0.3093]))])"
      ]
     },
     "execution_count": 226,
     "metadata": {},
     "output_type": "execute_result"
    }
   ],
   "execution_count": 226
  },
  {
   "metadata": {
    "ExecuteTime": {
     "end_time": "2024-11-01T17:27:44.541460Z",
     "start_time": "2024-11-01T17:27:44.538061Z"
    }
   },
   "cell_type": "code",
   "source": "model_0.state_dict()",
   "outputs": [
    {
     "data": {
      "text/plain": [
       "OrderedDict([('weights', tensor([0.6990])), ('bias', tensor([0.3093]))])"
      ]
     },
     "execution_count": 227,
     "metadata": {},
     "output_type": "execute_result"
    }
   ],
   "execution_count": 227
  },
  {
   "metadata": {
    "ExecuteTime": {
     "end_time": "2024-11-01T17:27:44.545301Z",
     "start_time": "2024-11-01T17:27:44.542469Z"
    }
   },
   "cell_type": "code",
   "source": "weight, bias",
   "outputs": [
    {
     "data": {
      "text/plain": [
       "(0.7, 0.3)"
      ]
     },
     "execution_count": 228,
     "metadata": {},
     "output_type": "execute_result"
    }
   ],
   "execution_count": 228
  },
  {
   "metadata": {
    "ExecuteTime": {
     "end_time": "2024-11-01T17:27:44.691466Z",
     "start_time": "2024-11-01T17:27:44.546390Z"
    }
   },
   "cell_type": "code",
   "source": "plot_predictions(predictions=y_preds)",
   "outputs": [
    {
     "data": {
      "text/plain": [
       "<Figure size 1000x700 with 1 Axes>"
      ],
      "image/png": "[encoded data removed]"
     },
     "metadata": {},
     "output_type": "display_data"
    }
   ],
   "execution_count": 229
  },
  {
   "metadata": {
    "ExecuteTime": {
     "end_time": "2024-11-01T17:27:44.840405Z",
     "start_time": "2024-11-01T17:27:44.692473Z"
    }
   },
   "cell_type": "code",
   "source": "plot_predictions(predictions=y_preds_new)",
   "outputs": [
    {
     "data": {
      "text/plain": [
       "<Figure size 1000x700 with 1 Axes>"
      ],
      "image/png": "[encoded data removed]"
     },
     "metadata": {},
     "output_type": "display_data"
    }
   ],
   "execution_count": 230
  },
  {
   "metadata": {},
   "cell_type": "markdown",
   "source": [
    "## Saving a model in PyTroch\n",
    "\n",
    "They are 3 main methods you should about for saving and loading models in PyTorch\n",
    "1. `torch.save()` - allows you save a PyTorch object in Python's pickle format\n",
    "2. `torch.load()` - allows you load a saved PyTorch object\n",
    "3. `torch.nn.Module.load_state_dict()` - this allows to load to a model's saved state dictionary\n",
    "\n",
    "PyTorch save & load code tutorial :  https://pytorch.org/tutorials/beginner/saving_loading_models.html"
   ]
  },
  {
   "metadata": {
    "ExecuteTime": {
     "end_time": "2024-11-01T17:27:44.846683Z",
     "start_time": "2024-11-01T17:27:44.842176Z"
    }
   },
   "cell_type": "code",
   "source": [
    "# saving PyTorch model\n",
    "from pathlib import Path\n",
    "\n",
    "model_0.state_dict()\n",
    "\n",
    "# 1. create models durectory\n",
    "MODEL_PATH = Path(\"../Models\")\n",
    "MODEL_PATH.mkdir(parents=True, exist_ok=True)\n",
    "\n",
    "# 2. create model savepath\n",
    "MODEL_NAME = '01_Pytorch_workflow.pth'\n",
    "MODEL_SAVE_PATH = MODEL_PATH/MODEL_NAME\n",
    "\n",
    "# 3. save the model state dict\n",
    "print(f\"Saving model to : {MODEL_SAVE_PATH}\")\n",
    "torch.save(obj=model_0.state_dict(), f=MODEL_SAVE_PATH)"
   ],
   "outputs": [
    {
     "name": "stdout",
     "output_type": "stream",
     "text": [
      "Saving model to : ..\\Models\\01_Pytorch_workflow.pth\n"
     ]
    }
   ],
   "execution_count": 231
  },
  {
   "metadata": {},
   "cell_type": "markdown",
   "source": [
    "## 6. Putting it all together\n",
    "\n",
    "let's go back through the steps above and see it all in one place"
   ]
  },
  {
   "metadata": {
    "ExecuteTime": {
     "end_time": "2024-11-01T17:27:44.851355Z",
     "start_time": "2024-11-01T17:27:44.846683Z"
    }
   },
   "cell_type": "code",
   "source": [
    "# Import PyTorch and matplotlib\n",
    "import torch\n",
    "from torch import nn\n",
    "import matplotlib.pyplot as plt\n",
    "import numpy as np\n",
    "\n",
    "#check pytroch version\n",
    "torch.__version__"
   ],
   "outputs": [
    {
     "data": {
      "text/plain": [
       "'2.4.1+cu124'"
      ]
     },
     "execution_count": 232,
     "metadata": {},
     "output_type": "execute_result"
    }
   ],
   "execution_count": 232
  },
  {
   "metadata": {},
   "cell_type": "markdown",
   "source": [
    "create device-agnostic code\n",
    "\n",
    "this means if we've got access to a GPU, out code will use it (for potentially faster computing).\n",
    "\n",
    "If no GPU is available, the code will default to using CPU"
   ]
  },
  {
   "metadata": {
    "ExecuteTime": {
     "end_time": "2024-11-01T17:27:44.854874Z",
     "start_time": "2024-11-01T17:27:44.851355Z"
    }
   },
   "cell_type": "code",
   "source": [
    "# set up device agnostic code\n",
    "devive = \"cuda\" if torch.cuda.is_available() else \"cpu\"\n",
    "print(f\"using device : {devive}\")"
   ],
   "outputs": [
    {
     "name": "stdout",
     "output_type": "stream",
     "text": [
      "using device : cuda\n"
     ]
    }
   ],
   "execution_count": 233
  },
  {
   "metadata": {
    "ExecuteTime": {
     "end_time": "2024-11-01T17:27:44.948169Z",
     "start_time": "2024-11-01T17:27:44.854874Z"
    }
   },
   "cell_type": "code",
   "source": "!nvidia-smi",
   "outputs": [
    {
     "name": "stdout",
     "output_type": "stream",
     "text": [
      "Sat Nov  2 00:27:44 2024       \n",
      "+-----------------------------------------------------------------------------------------+\n",
      "| NVIDIA-SMI 560.94                 Driver Version: 560.94         CUDA Version: 12.6     |\n",
      "|-----------------------------------------+------------------------+----------------------+\n",
      "| GPU  Name                  Driver-Model | Bus-Id          Disp.A | Volatile Uncorr. ECC |\n",
      "| Fan  Temp   Perf          Pwr:Usage/Cap |           Memory-Usage | GPU-Util  Compute M. |\n",
      "|                                         |                        |               MIG M. |\n",
      "|=========================================+========================+======================|\n",
      "|   0  NVIDIA GeForce RTX 3050 ...  WDDM  |   00000000:01:00.0 Off |                  N/A |\n",
      "| N/A   51C    P8              9W /   35W |     124MiB /   4096MiB |      0%      Default |\n",
      "|                                         |                        |                  N/A |\n",
      "+-----------------------------------------+------------------------+----------------------+\n",
      "                                                                                         \n",
      "+-----------------------------------------------------------------------------------------+\n",
      "| Processes:                                                                              |\n",
      "|  GPU   GI   CI        PID   Type   Process name                              GPU Memory |\n",
      "|        ID   ID                                                               Usage      |\n",
      "|=========================================================================================|\n",
      "|    0   N/A  N/A     18380      C   ...rograms\\Python\\Python311\\python.exe      N/A      |\n",
      "|    0   N/A  N/A     23672    C+G   ...aSpell 2024.1.1\\bin\\dataspell64.exe      N/A      |\n",
      "+-----------------------------------------------------------------------------------------+\n"
     ]
    }
   ],
   "execution_count": 234
  },
  {
   "metadata": {},
   "cell_type": "markdown",
   "source": "### 6.1 Data"
  },
  {
   "metadata": {
    "ExecuteTime": {
     "end_time": "2024-11-01T17:27:44.954031Z",
     "start_time": "2024-11-01T17:27:44.949176Z"
    }
   },
   "cell_type": "code",
   "source": [
    "# create some data using the LR formula of y = weight * X + bias\n",
    "\n",
    "weight = 0.7\n",
    "bias = 0.3\n",
    "\n",
    "# Cerate random values\n",
    "start = 0\n",
    "end = 1\n",
    "step  = 0.02\n",
    "\n",
    "#create X and Y (features and labels)\n",
    "X = torch.arange(start, end, step).unsqueeze(dim=1)\n",
    "y = weight * X + bias\n",
    "X[:10], y[:10]"
   ],
   "outputs": [
    {
     "data": {
      "text/plain": [
       "(tensor([[0.0000],\n",
       "         [0.0200],\n",
       "         [0.0400],\n",
       "         [0.0600],\n",
       "         [0.0800],\n",
       "         [0.1000],\n",
       "         [0.1200],\n",
       "         [0.1400],\n",
       "         [0.1600],\n",
       "         [0.1800]]),\n",
       " tensor([[0.3000],\n",
       "         [0.3140],\n",
       "         [0.3280],\n",
       "         [0.3420],\n",
       "         [0.3560],\n",
       "         [0.3700],\n",
       "         [0.3840],\n",
       "         [0.3980],\n",
       "         [0.4120],\n",
       "         [0.4260]]))"
      ]
     },
     "execution_count": 235,
     "metadata": {},
     "output_type": "execute_result"
    }
   ],
   "execution_count": 235
  },
  {
   "metadata": {
    "ExecuteTime": {
     "end_time": "2024-11-01T17:27:44.958495Z",
     "start_time": "2024-11-01T17:27:44.954031Z"
    }
   },
   "cell_type": "code",
   "source": [
    "# Split data\n",
    "train_split = int(0.8 * len(X))\n",
    "X_train, y_train = X[:train_split], y[:train_split]\n",
    "X_test, y_test = X[train_split:], y[train_split:]\n",
    "len(X_train), len(y_train), len(X_test), len(y_test)"
   ],
   "outputs": [
    {
     "data": {
      "text/plain": [
       "(40, 40, 10, 10)"
      ]
     },
     "execution_count": 236,
     "metadata": {},
     "output_type": "execute_result"
    }
   ],
   "execution_count": 236
  },
  {
   "metadata": {
    "ExecuteTime": {
     "end_time": "2024-11-01T17:27:45.086125Z",
     "start_time": "2024-11-01T17:27:44.959504Z"
    }
   },
   "cell_type": "code",
   "source": [
    "# PLot the data \n",
    "# Note : if you don't have the plot_predictions() function loaded, this will error\n",
    "plot_predictions(X_train, y_train, X_test, y_test)"
   ],
   "outputs": [
    {
     "data": {
      "text/plain": [
       "<Figure size 1000x700 with 1 Axes>"
      ],
      "image/png": "[encoded data removed]"
     },
     "metadata": {},
     "output_type": "display_data"
    }
   ],
   "execution_count": 237
  },
  {
   "metadata": {},
   "cell_type": "markdown",
   "source": "## 6.2 Bulding a PyTorch Linear model\n"
  },
  {
   "metadata": {
    "ExecuteTime": {
     "end_time": "2024-11-01T17:27:45.093353Z",
     "start_time": "2024-11-01T17:27:45.087176Z"
    }
   },
   "cell_type": "code",
   "source": [
    "# create a lin model by subclassing nn module\n",
    "class Linreg2(nn.Module):\n",
    "    def __init__(self):\n",
    "        super().__init__()\n",
    "        # use nn.linear() for creating the model parameters / also called : linear transform, probing layer, fully connected layer, dense layer\n",
    "        self.linear_layer = nn.Linear(in_features=1, out_features=1)\n",
    "        \n",
    "    def forward(self, x: torch.Tensor) -> torch.Tensor:\n",
    "        return self.linear_layer(x)\n",
    "    \n",
    "#set the manual seed\n",
    "torch.manual_seed(42)\n",
    "model_1 = Linreg2()\n",
    "model_1, model_1.state_dict()"
   ],
   "outputs": [
    {
     "data": {
      "text/plain": [
       "(Linreg2(\n",
       "   (linear_layer): Linear(in_features=1, out_features=1, bias=True)\n",
       " ),\n",
       " OrderedDict([('linear_layer.weight', tensor([[0.7645]])),\n",
       "              ('linear_layer.bias', tensor([0.8300]))]))"
      ]
     },
     "execution_count": 238,
     "metadata": {},
     "output_type": "execute_result"
    }
   ],
   "execution_count": 238
  },
  {
   "metadata": {
    "ExecuteTime": {
     "end_time": "2024-11-01T17:27:45.099202Z",
     "start_time": "2024-11-01T17:27:45.094370Z"
    }
   },
   "cell_type": "code",
   "source": "X_train[:5], y_train[:5]",
   "outputs": [
    {
     "data": {
      "text/plain": [
       "(tensor([[0.0000],\n",
       "         [0.0200],\n",
       "         [0.0400],\n",
       "         [0.0600],\n",
       "         [0.0800]]),\n",
       " tensor([[0.3000],\n",
       "         [0.3140],\n",
       "         [0.3280],\n",
       "         [0.3420],\n",
       "         [0.3560]]))"
      ]
     },
     "execution_count": 239,
     "metadata": {},
     "output_type": "execute_result"
    }
   ],
   "execution_count": 239
  },
  {
   "metadata": {
    "ExecuteTime": {
     "end_time": "2024-11-01T17:27:45.103451Z",
     "start_time": "2024-11-01T17:27:45.100210Z"
    }
   },
   "cell_type": "code",
   "source": [
    "# Set the model to use the target device\n",
    "next(model_1.parameters()).device"
   ],
   "outputs": [
    {
     "data": {
      "text/plain": [
       "device(type='cpu')"
      ]
     },
     "execution_count": 240,
     "metadata": {},
     "output_type": "execute_result"
    }
   ],
   "execution_count": 240
  },
  {
   "metadata": {
    "ExecuteTime": {
     "end_time": "2024-11-01T17:27:45.108844Z",
     "start_time": "2024-11-01T17:27:45.104457Z"
    }
   },
   "cell_type": "code",
   "source": [
    "model_1.to(devive)\n",
    "next(model_1.parameters()).device"
   ],
   "outputs": [
    {
     "data": {
      "text/plain": [
       "device(type='cuda', index=0)"
      ]
     },
     "execution_count": 241,
     "metadata": {},
     "output_type": "execute_result"
    }
   ],
   "execution_count": 241
  },
  {
   "metadata": {
    "ExecuteTime": {
     "end_time": "2024-11-01T17:27:45.117069Z",
     "start_time": "2024-11-01T17:27:45.109351Z"
    }
   },
   "cell_type": "code",
   "source": "model_1.state_dict()",
   "outputs": [
    {
     "data": {
      "text/plain": [
       "OrderedDict([('linear_layer.weight', tensor([[0.7645]], device='cuda:0')),\n",
       "             ('linear_layer.bias', tensor([0.8300], device='cuda:0'))])"
      ]
     },
     "execution_count": 242,
     "metadata": {},
     "output_type": "execute_result"
    }
   ],
   "execution_count": 242
  },
  {
   "metadata": {},
   "cell_type": "markdown",
   "source": [
    "## 6.3 Training\n",
    "\n",
    "for training we need : \n",
    "* loss function\n",
    "* opt\n",
    "* training loop\n",
    "* testing loop"
   ]
  },
  {
   "metadata": {
    "ExecuteTime": {
     "end_time": "2024-11-01T17:27:45.120706Z",
     "start_time": "2024-11-01T17:27:45.118078Z"
    }
   },
   "cell_type": "code",
   "source": [
    "# set up loss function\n",
    "\n",
    "loss_func = nn.L1Loss()\n",
    "\n",
    "#set up opt\n",
    "optimizer = optim.SGD(params=model_1.parameters(), lr = 0.01)\n",
    "\n"
   ],
   "outputs": [],
   "execution_count": 243
  },
  {
   "metadata": {
    "ExecuteTime": {
     "end_time": "2024-11-01T17:27:45.309713Z",
     "start_time": "2024-11-01T17:27:45.120706Z"
    }
   },
   "cell_type": "code",
   "source": [
    "#write a training loop\n",
    "torch.manual_seed(42)\n",
    "\n",
    "epochsss = 200\n",
    "\n",
    "# put data on the target device (device agnostic code for data)\n",
    "X_train = X_train.to(devive)\n",
    "X_test = X_test.to(devive)\n",
    "y_train = y_train.to(devive)\n",
    "y_test = y_test.to(devive)\n",
    "\n",
    "for epoch in range(epochsss):\n",
    "    model_1.train()\n",
    "    \n",
    "    #1. do the forward pass\n",
    "    y_predd = model_1(X_train)\n",
    "    \n",
    "    #2. calculate the loss\n",
    "    loss = loss_func(y_predd, y_train)\n",
    "    \n",
    "    #3. Opti zero grad\n",
    "    optimizer.zero_grad()\n",
    "    \n",
    "    #4. perform backprop\n",
    "    loss.backward()\n",
    "    \n",
    "    #5. opti step\n",
    "    optimizer.step()\n",
    "    \n",
    "    ### testing\n",
    "    model_1.eval()\n",
    "    with torch.inference_mode():\n",
    "        test_pred = model_1(X_test)\n",
    "        \n",
    "        test_loss = loss_func(test_pred, y_test)\n",
    "        \n",
    "    #Print out what's happening\n",
    "    if epoch % 10 == 0:\n",
    "        print(f\"Epoch : {epoch} | Loss : {loss} | Test Loss: {test_loss}\")"
   ],
   "outputs": [
    {
     "name": "stdout",
     "output_type": "stream",
     "text": [
      "Epoch : 0 | Loss : 0.5551779866218567 | Test Loss: 0.5739762187004089\n",
      "Epoch : 10 | Loss : 0.439968079328537 | Test Loss: 0.4392664134502411\n",
      "Epoch : 20 | Loss : 0.3247582018375397 | Test Loss: 0.30455657839775085\n",
      "Epoch : 30 | Loss : 0.20954833924770355 | Test Loss: 0.16984669864177704\n",
      "Epoch : 40 | Loss : 0.09433845430612564 | Test Loss: 0.03513690456748009\n",
      "Epoch : 50 | Loss : 0.023886388167738914 | Test Loss: 0.04784907028079033\n",
      "Epoch : 60 | Loss : 0.019956795498728752 | Test Loss: 0.045803118497133255\n",
      "Epoch : 70 | Loss : 0.016517987474799156 | Test Loss: 0.037530567497015\n",
      "Epoch : 80 | Loss : 0.013089174404740334 | Test Loss: 0.02994490973651409\n",
      "Epoch : 90 | Loss : 0.009653178043663502 | Test Loss: 0.02167237363755703\n",
      "Epoch : 100 | Loss : 0.006215683650225401 | Test Loss: 0.014086711220443249\n",
      "Epoch : 110 | Loss : 0.00278724217787385 | Test Loss: 0.005814164876937866\n",
      "Epoch : 120 | Loss : 0.0012645035749301314 | Test Loss: 0.013801801018416882\n",
      "Epoch : 130 | Loss : 0.0012645035749301314 | Test Loss: 0.013801801018416882\n",
      "Epoch : 140 | Loss : 0.0012645035749301314 | Test Loss: 0.013801801018416882\n",
      "Epoch : 150 | Loss : 0.0012645035749301314 | Test Loss: 0.013801801018416882\n",
      "Epoch : 160 | Loss : 0.0012645035749301314 | Test Loss: 0.013801801018416882\n",
      "Epoch : 170 | Loss : 0.0012645035749301314 | Test Loss: 0.013801801018416882\n",
      "Epoch : 180 | Loss : 0.0012645035749301314 | Test Loss: 0.013801801018416882\n",
      "Epoch : 190 | Loss : 0.0012645035749301314 | Test Loss: 0.013801801018416882\n"
     ]
    }
   ],
   "execution_count": 244
  },
  {
   "metadata": {
    "ExecuteTime": {
     "end_time": "2024-11-01T17:27:45.318963Z",
     "start_time": "2024-11-01T17:27:45.310719Z"
    }
   },
   "cell_type": "code",
   "source": "model_1.state_dict()",
   "outputs": [
    {
     "data": {
      "text/plain": [
       "OrderedDict([('linear_layer.weight', tensor([[0.6968]], device='cuda:0')),\n",
       "             ('linear_layer.bias', tensor([0.3025], device='cuda:0'))])"
      ]
     },
     "execution_count": 245,
     "metadata": {},
     "output_type": "execute_result"
    }
   ],
   "execution_count": 245
  },
  {
   "metadata": {
    "ExecuteTime": {
     "end_time": "2024-11-01T17:27:49.072332Z",
     "start_time": "2024-11-01T17:27:48.499792Z"
    }
   },
   "cell_type": "code",
   "source": [
    "X_train_cpu = X_train.detach().cpu().numpy()\n",
    "X_test_cpu = X_test.detach().cpu().numpy()\n",
    "y_train_cpu = y_train.detach().cpu().numpy()\n",
    "y_test_cpu = y_test.detach().cpu().numpy()\n",
    "test_pred_cpu = test_pred.detach().cpu().numpy()\n",
    "\n",
    "plot_predictions(train_data=X_train_cpu,\n",
    "                 train_labels=y_train_cpu,\n",
    "                 test_data=X_test_cpu,\n",
    "                 test_labels=y_test_cpu,\n",
    "                 predictions=test_pred_cpu)"
   ],
   "outputs": [
    {
     "data": {
      "text/plain": [
       "<Figure size 1000x700 with 1 Axes>"
      ],
      "image/png": "[encoded data removed]"
     },
     "metadata": {},
     "output_type": "display_data"
    }
   ],
   "execution_count": 246
  },
  {
   "metadata": {
    "ExecuteTime": {
     "end_time": "2024-11-01T17:38:15.092352Z",
     "start_time": "2024-11-01T17:38:15.084811Z"
    }
   },
   "cell_type": "code",
   "source": [
    "# 6.5 saving and loading a trained model\n",
    "model_1.state_dict()\n",
    "\n",
    "latihan_model_path = Path(\"../Models\")\n",
    "latihan_model_path.mkdir(parents=True, exist_ok=True)\n",
    "\n",
    "nama_model = 'eak model.pth'\n",
    "nama_simpen_model = latihan_model_path/nama_model\n",
    "\n",
    "print(f\"Saving model to : {nama_simpen_model}\")\n",
    "torch.save(obj=model_1.state_dict(), f=nama_simpen_model)"
   ],
   "outputs": [
    {
     "name": "stdout",
     "output_type": "stream",
     "text": [
      "Saving model to : ..\\Models\\eak model.pth\n"
     ]
    }
   ],
   "execution_count": 248
  },
  {
   "metadata": {
    "ExecuteTime": {
     "end_time": "2024-11-01T17:46:26.679830Z",
     "start_time": "2024-11-01T17:46:26.668420Z"
    }
   },
   "cell_type": "code",
   "source": [
    "# load a PyTorch model\n",
    "\n",
    "# create an instance of linreg2\n",
    "ngambil_model = Linreg2()\n",
    "\n",
    "# load the model model_1 state dict\n",
    "ngambil_model.load_state_dict(torch.load(nama_simpen_model))\n",
    "\n",
    "# put the target / loaded model to device\n",
    "ngambil_model.to(devive)"
   ],
   "outputs": [
    {
     "name": "stderr",
     "output_type": "stream",
     "text": [
      "C:\\Users\\diyan\\AppData\\Local\\Temp\\ipykernel_18380\\1956801586.py:7: FutureWarning: You are using `torch.load` with `weights_only=False` (the current default value), which uses the default pickle module implicitly. It is possible to construct malicious pickle data which will execute arbitrary code during unpickling (See https://github.com/pytorch/pytorch/blob/main/SECURITY.md#untrusted-models for more details). In a future release, the default value for `weights_only` will be flipped to `True`. This limits the functions that could be executed during unpickling. Arbitrary objects will no longer be allowed to be loaded via this mode unless they are explicitly allowlisted by the user via `torch.serialization.add_safe_globals`. We recommend you start setting `weights_only=True` for any use case where you don't have full control of the loaded file. Please open an issue on GitHub for any issues related to this experimental feature.\n",
      "  ngambil_model.load_state_dict(torch.load(nama_simpen_model))\n"
     ]
    },
    {
     "data": {
      "text/plain": [
       "Linreg2(\n",
       "  (linear_layer): Linear(in_features=1, out_features=1, bias=True)\n",
       ")"
      ]
     },
     "execution_count": 249,
     "metadata": {},
     "output_type": "execute_result"
    }
   ],
   "execution_count": 249
  },
  {
   "metadata": {
    "ExecuteTime": {
     "end_time": "2024-11-01T17:46:37.171257Z",
     "start_time": "2024-11-01T17:46:37.167409Z"
    }
   },
   "cell_type": "code",
   "source": "next(ngambil_model.parameters()).device",
   "outputs": [
    {
     "data": {
      "text/plain": [
       "device(type='cuda', index=0)"
      ]
     },
     "execution_count": 250,
     "metadata": {},
     "output_type": "execute_result"
    }
   ],
   "execution_count": 250
  },
  {
   "metadata": {
    "ExecuteTime": {
     "end_time": "2024-11-01T17:46:47.046101Z",
     "start_time": "2024-11-01T17:46:47.037669Z"
    }
   },
   "cell_type": "code",
   "source": "ngambil_model.state_dict()",
   "outputs": [
    {
     "data": {
      "text/plain": [
       "OrderedDict([('linear_layer.weight', tensor([[0.6968]], device='cuda:0')),\n",
       "             ('linear_layer.bias', tensor([0.3025], device='cuda:0'))])"
      ]
     },
     "execution_count": 251,
     "metadata": {},
     "output_type": "execute_result"
    }
   ],
   "execution_count": 251
  },
  {
   "metadata": {
    "ExecuteTime": {
     "end_time": "2024-11-01T17:52:23.166336Z",
     "start_time": "2024-11-01T17:52:23.157812Z"
    }
   },
   "cell_type": "code",
   "source": [
    "# evaluate loaded model\n",
    "ngambil_model.eval()\n",
    "with torch.inference_mode():\n",
    "    preds_ngambil_model_1 = ngambil_model(X_test)\n",
    "test_pred == preds_ngambil_model_1"
   ],
   "outputs": [
    {
     "data": {
      "text/plain": [
       "tensor([[True],\n",
       "        [True],\n",
       "        [True],\n",
       "        [True],\n",
       "        [True],\n",
       "        [True],\n",
       "        [True],\n",
       "        [True],\n",
       "        [True],\n",
       "        [True]], device='cuda:0')"
      ]
     },
     "execution_count": 252,
     "metadata": {},
     "output_type": "execute_result"
    }
   ],
   "execution_count": 252
  },
  {
   "metadata": {},
   "cell_type": "markdown",
   "source": [
    "## Exercises & extra curriculum \n",
    "\n",
    "https://www.learnpytorch.io/01_pytorch_workflow/\n",
    "\n"
   ]
  },
  {
   "metadata": {
    "ExecuteTime": {
     "end_time": "2024-11-03T05:37:57.694142Z",
     "start_time": "2024-11-03T05:37:57.691888Z"
    }
   },
   "cell_type": "code",
   "source": [
    "import numpy as np\n",
    "#testing on linux env"
   ],
   "outputs": [],
   "execution_count": 6
  },
  {
   "metadata": {
    "ExecuteTime": {
     "end_time": "2024-11-03T17:13:44.280507Z",
     "start_time": "2024-11-03T17:13:44.275100Z"
    }
   },
   "cell_type": "code",
   "source": "#testing for the second time",
   "outputs": [],
   "execution_count": 1
  }
 ],
 "metadata": {
  "accelerator": "GPU",
  "colab": {
   "gpuType": "T4",
   "provenance": []
  },
  "kernelspec": {
   "display_name": "Python 3 (ipykernel)",
   "name": "python3",
   "language": "python"
  },
  "language_info": {
   "name": "python"
  }
 },
 "nbformat": 4,
 "nbformat_minor": 0
}
