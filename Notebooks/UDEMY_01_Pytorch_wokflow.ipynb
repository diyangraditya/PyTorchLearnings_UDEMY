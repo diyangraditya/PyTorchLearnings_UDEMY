{
 "cells": [
  {
   "cell_type": "markdown",
   "metadata": {
    "id": "u__4NSfxfYye"
   },
   "source": [
    "# Pytorch workflow\n",
    "\n",
    "let's explore an example ptroch end-to-end workflow.\n",
    "\n",
    "resources = https://github.com/mrdbourke/pytorch-deep-learning/blob/main/01_pytorch_workflow.ipynb\n",
    "\n",
    "https://www.learnpytorch.io/01_pytorch_workflow/\n",
    "\n",
    "ask questions = https://github.com/mrdbourke/pytorch-deep-learning/discussions"
   ]
  },
  {
   "metadata": {
    "ExecuteTime": {
     "end_time": "2025-01-30T15:07:19.956706Z",
     "start_time": "2025-01-30T15:07:18.424323Z"
    }
   },
   "cell_type": "code",
   "source": "!nvidia-smi",
   "outputs": [
    {
     "name": "stdout",
     "output_type": "stream",
     "text": [
      "Thu Jan 30 22:07:19 2025       \r\n",
      "+-----------------------------------------------------------------------------------------+\r\n",
      "| NVIDIA-SMI 560.35.05              Driver Version: 550.144.03     CUDA Version: 12.4     |\r\n",
      "|-----------------------------------------+------------------------+----------------------+\r\n",
      "| GPU  Name                 Persistence-M | Bus-Id          Disp.A | Volatile Uncorr. ECC |\r\n",
      "| Fan  Temp   Perf          Pwr:Usage/Cap |           Memory-Usage | GPU-Util  Compute M. |\r\n",
      "|                                         |                        |               MIG M. |\r\n",
      "|=========================================+========================+======================|\r\n",
      "|   0  NVIDIA GeForce RTX 3050 ...    Off |   00000000:01:00.0 Off |                  N/A |\r\n",
      "| N/A   48C    P0             14W /   35W |       4MiB /   4096MiB |      0%      Default |\r\n",
      "|                                         |                        |                  N/A |\r\n",
      "+-----------------------------------------+------------------------+----------------------+\r\n",
      "                                                                                         \r\n",
      "+-----------------------------------------------------------------------------------------+\r\n",
      "| Processes:                                                                              |\r\n",
      "|  GPU   GI   CI        PID   Type   Process name                              GPU Memory |\r\n",
      "|        ID   ID                                                               Usage      |\r\n",
      "|=========================================================================================|\r\n",
      "|    0   N/A  N/A     15225      G   /usr/bin/gnome-shell                            1MiB |\r\n",
      "+-----------------------------------------------------------------------------------------+\r\n"
     ]
    }
   ],
   "execution_count": 1
  },
  {
   "cell_type": "code",
   "metadata": {
    "id": "9XMdbZIrgGlg",
    "colab": {
     "base_uri": "https://localhost:8080/"
    },
    "outputId": "e2280c5a-d034-402b-d186-b22b442d7f49",
    "ExecuteTime": {
     "end_time": "2025-01-29T15:08:47.414185Z",
     "start_time": "2025-01-29T15:08:47.402149Z"
    }
   },
   "source": [
    "import pathlib\n",
    "\n",
    "what_were_covering = {\n",
    "    1: \"data prep and load\",\n",
    "    2: \"bulid and train model\",\n",
    "    3: \"fitting the model to data (training)\",\n",
    "    4: \"saving and loading the model\",\n",
    "    5: \"putting it all together\"\n",
    "}\n",
    "\n",
    "what_were_covering"
   ],
   "outputs": [
    {
     "data": {
      "text/plain": [
       "{1: 'data prep and load',\n",
       " 2: 'bulid and train model',\n",
       " 3: 'fitting the model to data (training)',\n",
       " 4: 'saving and loading the model',\n",
       " 5: 'putting it all together'}"
      ]
     },
     "execution_count": 6,
     "metadata": {},
     "output_type": "execute_result"
    }
   ],
   "execution_count": 6
  },
  {
   "metadata": {
    "ExecuteTime": {
     "end_time": "2025-01-31T16:33:10.494576Z",
     "start_time": "2025-01-31T16:33:10.492057Z"
    }
   },
   "cell_type": "code",
   "source": [
    "import sys\n",
    "print(sys.version)\n",
    "\n",
    "import pandas as pd\n",
    "import numpy as np\n",
    "import matplotlib.pyplot as plt"
   ],
   "outputs": [
    {
     "name": "stdout",
     "output_type": "stream",
     "text": [
      "3.10.15 | packaged by conda-forge | (main, Oct 16 2024, 01:24:24) [GCC 13.3.0]\n"
     ]
    }
   ],
   "execution_count": 96
  },
  {
   "cell_type": "code",
   "metadata": {
    "colab": {
     "base_uri": "https://localhost:8080/",
     "height": 36
    },
    "id": "YSBbDe5thNlU",
    "outputId": "67e49178-cb60-4a17-bb27-e27ab4efb523",
    "ExecuteTime": {
     "end_time": "2025-01-31T16:33:09.050438Z",
     "start_time": "2025-01-31T16:33:09.047403Z"
    }
   },
   "source": [
    "import torch\n",
    "from torch import nn, optim  # nn contains all of PyTorch's building blocks for neural networks\n",
    "# import matplotlib.pyplot as plt\n",
    "\n",
    "# check PyTorch version\n",
    "torch.__version__"
   ],
   "outputs": [
    {
     "data": {
      "text/plain": [
       "'2.5.1+cu124'"
      ]
     },
     "execution_count": 95,
     "metadata": {},
     "output_type": "execute_result"
    }
   ],
   "execution_count": 95
  },
  {
   "metadata": {
    "ExecuteTime": {
     "end_time": "2025-01-31T14:25:51.774512Z",
     "start_time": "2025-01-31T14:25:50.422581Z"
    }
   },
   "cell_type": "code",
   "source": "torch.cuda.is_available()",
   "outputs": [
    {
     "data": {
      "text/plain": [
       "True"
      ]
     },
     "execution_count": 3,
     "metadata": {},
     "output_type": "execute_result"
    }
   ],
   "execution_count": 3
  },
  {
   "cell_type": "markdown",
   "metadata": {
    "id": "7LN-i3ZfhLjo"
   },
   "source": [
    "# 1. Data prep and loading\n",
    "\n",
    "Dat acan be almost anything.. in ML\n",
    "- Excel spreasheets\n",
    "- images of any kind\n",
    "- Videos (yt has a lot of data)\n",
    "- Audio like songs or podcasts\n",
    "- DNA\n",
    "- Text\n",
    "\n",
    "Machine learning is a game of 2 parts :\n",
    "1. get data into numerical representation\n",
    "2. Build a model to learn patterns in that numerical representation\n",
    "\n",
    "to showcase this, lets create some *known* data using the LinReg formula.\n",
    "\n",
    "we'll use a linear regerssion formula to make a straight line with *known* **parameters**"
   ]
  },
  {
   "cell_type": "code",
   "metadata": {
    "colab": {
     "base_uri": "https://localhost:8080/"
    },
    "id": "BLwzeBufIh4i",
    "outputId": "ad1fbbcb-99d8-4e62-ef0f-244e055804da",
    "ExecuteTime": {
     "end_time": "2025-01-29T15:08:49.201677Z",
     "start_time": "2025-01-29T15:08:49.172103Z"
    }
   },
   "source": [
    "# Create *known* parameters\n",
    "weight = 0.7\n",
    "bias = 0.3\n",
    "\n",
    "# create some data\n",
    "start = 0\n",
    "end = 1\n",
    "step = 0.02\n",
    "X = torch.arange(start, end, step).unsqueeze(dim=1)\n",
    "y = weight * X + bias\n",
    "\n",
    "X[:10], y[:10], len(X), len(y)"
   ],
   "outputs": [
    {
     "data": {
      "text/plain": [
       "(tensor([[0.0000],\n",
       "         [0.0200],\n",
       "         [0.0400],\n",
       "         [0.0600],\n",
       "         [0.0800],\n",
       "         [0.1000],\n",
       "         [0.1200],\n",
       "         [0.1400],\n",
       "         [0.1600],\n",
       "         [0.1800]]),\n",
       " tensor([[0.3000],\n",
       "         [0.3140],\n",
       "         [0.3280],\n",
       "         [0.3420],\n",
       "         [0.3560],\n",
       "         [0.3700],\n",
       "         [0.3840],\n",
       "         [0.3980],\n",
       "         [0.4120],\n",
       "         [0.4260]]),\n",
       " 50,\n",
       " 50)"
      ]
     },
     "execution_count": 10,
     "metadata": {},
     "output_type": "execute_result"
    }
   ],
   "execution_count": 10
  },
  {
   "cell_type": "code",
   "metadata": {
    "colab": {
     "base_uri": "https://localhost:8080/"
    },
    "id": "K8_aVhBaKouJ",
    "outputId": "360dcaaa-29a7-4710-b515-aaaa46286e18",
    "ExecuteTime": {
     "end_time": "2025-01-29T15:08:49.252800Z",
     "start_time": "2025-01-29T15:08:49.244300Z"
    }
   },
   "source": [
    "len(X), len(y)"
   ],
   "outputs": [
    {
     "data": {
      "text/plain": [
       "(50, 50)"
      ]
     },
     "execution_count": 11,
     "metadata": {},
     "output_type": "execute_result"
    }
   ],
   "execution_count": 11
  },
  {
   "cell_type": "markdown",
   "metadata": {
    "id": "CHz0aVxgLpsv"
   },
   "source": [
    "### Splittin data into training and test data (one of the most important concepts in ML general)\n",
    "\n",
    "lets create a training and test set with our data"
   ]
  },
  {
   "cell_type": "code",
   "metadata": {
    "colab": {
     "base_uri": "https://localhost:8080/"
    },
    "id": "cqk6QlnPTTKl",
    "outputId": "43600e0c-c6a5-4d75-81a2-4937f623d542",
    "ExecuteTime": {
     "end_time": "2025-01-29T15:08:49.321457Z",
     "start_time": "2025-01-29T15:08:49.311572Z"
    }
   },
   "source": [
    "# Create a train/test split\n",
    "train_split = int(0.8 * len(X)) # 80% of data used for training set, 20% for testing\n",
    "X_train, y_train = X[:train_split], y[:train_split]\n",
    "X_test, y_test = X[train_split:], y[train_split:]\n",
    "\n",
    "len(X_train), len(y_train), len(X_test), len(y_test)"
   ],
   "outputs": [
    {
     "data": {
      "text/plain": [
       "(40, 40, 10, 10)"
      ]
     },
     "execution_count": 12,
     "metadata": {},
     "output_type": "execute_result"
    }
   ],
   "execution_count": 12
  },
  {
   "cell_type": "markdown",
   "metadata": {
    "id": "qwkcF5DwV0_s"
   },
   "source": [
    "How might we better visualize our data?\n",
    "\n",
    "This is where the data explorer's motto comes in!\n",
    "\n",
    "\"Visualize, visualize, visualize!\""
   ]
  },
  {
   "cell_type": "code",
   "metadata": {
    "id": "xfua72zvWC-U",
    "ExecuteTime": {
     "end_time": "2025-01-29T15:08:49.383701Z",
     "start_time": "2025-01-29T15:08:49.374847Z"
    }
   },
   "source": [
    "def plot_predictions(train_data=X_train,\n",
    "                      train_labels=y_train,\n",
    "                      test_data=X_test,\n",
    "                      test_labels=y_test,\n",
    "                      predictions=None):\n",
    "\n",
    "  \"\"\"\n",
    "  Plots training data, test data and compares predictions.\n",
    "  \"\"\"\n",
    "  plt.figure(figsize=(10, 7))\n",
    "\n",
    "  #Plot training data in blue\n",
    "  plt.scatter(train_data, train_labels, c=\"b\", s=4, label=\"Training data\")\n",
    "\n",
    "  #Plot test data in green\n",
    "  plt.scatter(test_data, test_labels, c=\"g\", s=4, label=\"Testing data\")\n",
    "\n",
    "  #Are there predictions\n",
    "  if predictions is not None:\n",
    "    #Plot predictions in red (predictions in green aren't ideal)\n",
    "    plt.scatter(test_data, predictions, c=\"r\", s=4, label=\"Predictions\")\n",
    "\n",
    "  #show legend\n",
    "  plt.legend(prop={\"size\": 14});"
   ],
   "outputs": [],
   "execution_count": 13
  },
  {
   "cell_type": "code",
   "metadata": {
    "colab": {
     "base_uri": "https://localhost:8080/",
     "height": 599
    },
    "id": "kuYi92rpXa4n",
    "outputId": "23d0c77b-aa3c-4c0b-b4e7-151bb6c71ae4",
    "ExecuteTime": {
     "end_time": "2025-01-29T15:08:49.867973Z",
     "start_time": "2025-01-29T15:08:49.438515Z"
    }
   },
   "source": [
    "plot_predictions()"
   ],
   "outputs": [
    {
     "data": {
      "text/plain": [
       "<Figure size 1000x700 with 1 Axes>"
      ],
      "image/png": "[encoded data removed]"
     },
     "metadata": {},
     "output_type": "display_data"
    }
   ],
   "execution_count": 14
  },
  {
   "cell_type": "code",
   "metadata": {
    "colab": {
     "base_uri": "https://localhost:8080/"
    },
    "id": "-Xun8buBVHk4",
    "outputId": "2c2632a1-ba4f-4a78-bc3c-79a74d85e41a",
    "ExecuteTime": {
     "end_time": "2025-01-29T15:08:49.909878Z",
     "start_time": "2025-01-29T15:08:49.896246Z"
    }
   },
   "source": [
    "X_train, y_train"
   ],
   "outputs": [
    {
     "data": {
      "text/plain": [
       "(tensor([[0.0000],\n",
       "         [0.0200],\n",
       "         [0.0400],\n",
       "         [0.0600],\n",
       "         [0.0800],\n",
       "         [0.1000],\n",
       "         [0.1200],\n",
       "         [0.1400],\n",
       "         [0.1600],\n",
       "         [0.1800],\n",
       "         [0.2000],\n",
       "         [0.2200],\n",
       "         [0.2400],\n",
       "         [0.2600],\n",
       "         [0.2800],\n",
       "         [0.3000],\n",
       "         [0.3200],\n",
       "         [0.3400],\n",
       "         [0.3600],\n",
       "         [0.3800],\n",
       "         [0.4000],\n",
       "         [0.4200],\n",
       "         [0.4400],\n",
       "         [0.4600],\n",
       "         [0.4800],\n",
       "         [0.5000],\n",
       "         [0.5200],\n",
       "         [0.5400],\n",
       "         [0.5600],\n",
       "         [0.5800],\n",
       "         [0.6000],\n",
       "         [0.6200],\n",
       "         [0.6400],\n",
       "         [0.6600],\n",
       "         [0.6800],\n",
       "         [0.7000],\n",
       "         [0.7200],\n",
       "         [0.7400],\n",
       "         [0.7600],\n",
       "         [0.7800]]),\n",
       " tensor([[0.3000],\n",
       "         [0.3140],\n",
       "         [0.3280],\n",
       "         [0.3420],\n",
       "         [0.3560],\n",
       "         [0.3700],\n",
       "         [0.3840],\n",
       "         [0.3980],\n",
       "         [0.4120],\n",
       "         [0.4260],\n",
       "         [0.4400],\n",
       "         [0.4540],\n",
       "         [0.4680],\n",
       "         [0.4820],\n",
       "         [0.4960],\n",
       "         [0.5100],\n",
       "         [0.5240],\n",
       "         [0.5380],\n",
       "         [0.5520],\n",
       "         [0.5660],\n",
       "         [0.5800],\n",
       "         [0.5940],\n",
       "         [0.6080],\n",
       "         [0.6220],\n",
       "         [0.6360],\n",
       "         [0.6500],\n",
       "         [0.6640],\n",
       "         [0.6780],\n",
       "         [0.6920],\n",
       "         [0.7060],\n",
       "         [0.7200],\n",
       "         [0.7340],\n",
       "         [0.7480],\n",
       "         [0.7620],\n",
       "         [0.7760],\n",
       "         [0.7900],\n",
       "         [0.8040],\n",
       "         [0.8180],\n",
       "         [0.8320],\n",
       "         [0.8460]]))"
      ]
     },
     "execution_count": 15,
     "metadata": {},
     "output_type": "execute_result"
    }
   ],
   "execution_count": 15
  },
  {
   "cell_type": "code",
   "metadata": {
    "colab": {
     "base_uri": "https://localhost:8080/",
     "height": 463
    },
    "id": "vsoix2VKURsu",
    "outputId": "3004a04c-ae72-41c1-9c3b-e275f8b6e3f6",
    "ExecuteTime": {
     "end_time": "2025-01-29T15:08:50.339346Z",
     "start_time": "2025-01-29T15:08:49.960926Z"
    }
   },
   "source": [
    "plt.figure(figsize=(8, 5))\n",
    "plt.scatter(X_train, y_train, c=\"b\", s=4, label=\"training data\")\n",
    "plt.scatter(X_test, y_test, c=\"g\", s=4, label=\"testing data\")\n",
    "plt.legend(prop={\"size\": 14})"
   ],
   "outputs": [
    {
     "data": {
      "text/plain": [
       "<matplotlib.legend.Legend at 0x7f09ac3fe380>"
      ]
     },
     "execution_count": 16,
     "metadata": {},
     "output_type": "execute_result"
    },
    {
     "data": {
      "text/plain": [
       "<Figure size 800x500 with 1 Axes>"
      ],
      "image/png": "[encoded data removed]"
     },
     "metadata": {},
     "output_type": "display_data"
    }
   ],
   "execution_count": 16
  },
  {
   "cell_type": "markdown",
   "metadata": {
    "id": "HM5RfM9wXya1"
   },
   "source": [
    "## 2. Build model\n",
    "\n",
    "Our first pytorch model\n",
    "\n",
    "Because we're going to building classes troughout the course, i'd recommend getting familiar with OOP in python, to do so you can use the following resource from Real Python : https://realpython.com/python-classes/\n",
    "\n",
    "What the model does :\n",
    "* Start with random values (weight & bias)\n",
    "* Look at training data and adjust the random values to better represent (or get closer to) the ideal values (the weight & bias values we used to create the data)\n",
    "\n",
    "How does it so?\n",
    "\n",
    "Through this 2 main algo:\n",
    "- Gradient descent - https://www.youtube.com/watch?v=IHZwWFHWa-w&pp=ygUcM2JsdWUxYnJvd24gZ3JhZGllbnQgZGVzY2VudA%3D%3D\n",
    "- Backpropagation -"
   ]
  },
  {
   "cell_type": "code",
   "metadata": {
    "id": "Auy5HP_qYVYO",
    "ExecuteTime": {
     "end_time": "2025-01-29T15:08:50.374779Z",
     "start_time": "2025-01-29T15:08:50.365309Z"
    }
   },
   "source": [
    "# Create a linreg model class\n",
    "class LinRegModelV1(nn.Module):# <- almost everything in pytorch inherit from nn.Module\n",
    "  def __init__(self):\n",
    "    super().__init__()\n",
    "    self.weights = nn.Parameter(torch.randn(1, # <- start with random weights (this will get adjusted as the model learns)\n",
    "                                        requires_grad=True, # <- can we update this value with gradient descent?\n",
    "                                        dtype=torch.float)) # <- data type of values inside the tensor\n",
    "    self.bias = nn.Parameter(torch.randn(1, # <- start with a random bias and try to adjust it to the ideal bias\n",
    "                                        requires_grad=True, # <- can this parameter be updated via gradient descent?\n",
    "                                         dtype=torch.float)) # <- Pytorch loves the datatype torch.float32\n",
    "\n",
    "    #Forward method to define computation in the model\n",
    "  def forward(self, x: torch.Tensor) -> torch.Tensor: # <- \"x\" is the input data (also called the features)\n",
    "    return self.weights * x + self.bias # this is the linreg formula"
   ],
   "outputs": [],
   "execution_count": 17
  },
  {
   "cell_type": "markdown",
   "source": [
    "## Pytorch model building essentials\n",
    "- torch.nn - containes all of the buildings for computational graphs (a neural network can be considered a computational graph)\n",
    "- torch.nn.Parameter - what parameters should our model try and learn, often a PyTorch layer from torch.nn will set these for us\n",
    "- torch.nn.Module - The base class for all nn modules, if you subclass it, you sould overwrite forward()\n",
    "- torch.optim - this where the optimizers in pytorch live, they will help with gradient descent\n",
    "- def forward() - All nn.Module subclasses require you to overwrite forward(), this method defines what happens in the forward computation\n",
    "\n",
    "pytorch cheatsheet = https://pytorch.org/tutorials/beginner/ptcheat.html"
   ],
   "metadata": {
    "id": "QWHpgEgSe6NB"
   }
  },
  {
   "cell_type": "markdown",
   "source": [
    "### Checking the contenst of or pytorch model\n",
    "\n",
    "Now weve created a model, lets see whats inside...\n",
    "\n",
    "So we can check our model parameters or whats inside our model using `.parameters()`"
   ],
   "metadata": {
    "id": "QYcN7cfff3jZ"
   }
  },
  {
   "cell_type": "code",
   "source": [
    "# Create a random seed\n",
    "torch.manual_seed(42)\n",
    "\n",
    "# Create an instance of the model (this is a subclass of nn.Module)\n",
    "model_0 = LinRegModelV1()\n",
    "\n",
    "# Check out the parameters\n",
    "list(model_0.parameters())"
   ],
   "metadata": {
    "colab": {
     "base_uri": "https://localhost:8080/"
    },
    "id": "PuD__HoCg2e_",
    "outputId": "09c22ec7-231e-4f4c-9104-4b53142ead19",
    "ExecuteTime": {
     "end_time": "2025-01-29T15:08:50.436973Z",
     "start_time": "2025-01-29T15:08:50.420736Z"
    }
   },
   "outputs": [
    {
     "data": {
      "text/plain": [
       "[Parameter containing:\n",
       " tensor([0.3367], requires_grad=True),\n",
       " Parameter containing:\n",
       " tensor([0.1288], requires_grad=True)]"
      ]
     },
     "execution_count": 18,
     "metadata": {},
     "output_type": "execute_result"
    }
   ],
   "execution_count": 18
  },
  {
   "cell_type": "code",
   "source": [
    "# List named parameters\n",
    "\n",
    "model_0.state_dict(\n",
    ")"
   ],
   "metadata": {
    "colab": {
     "base_uri": "https://localhost:8080/"
    },
    "id": "TfubSP02iN56",
    "outputId": "64980612-11c4-436d-b4ac-7056948eb97f",
    "ExecuteTime": {
     "end_time": "2025-01-29T15:08:50.499052Z",
     "start_time": "2025-01-29T15:08:50.488357Z"
    }
   },
   "outputs": [
    {
     "data": {
      "text/plain": [
       "OrderedDict([('weights', tensor([0.3367])), ('bias', tensor([0.1288]))])"
      ]
     },
     "execution_count": 19,
     "metadata": {},
     "output_type": "execute_result"
    }
   ],
   "execution_count": 19
  },
  {
   "cell_type": "markdown",
   "source": [
    "### Making predicton using `torch.inference_mode()`\n",
    "\n",
    "to check our models predictive power, let see how well it predicts `y_test` based on `X_test`.\n",
    "\n",
    "when we pass data through our model, it's going to run it through the `forward()` method."
   ],
   "metadata": {
    "id": "HHE46ox9icJS"
   }
  },
  {
   "cell_type": "code",
   "source": [
    "X_test, y_test"
   ],
   "metadata": {
    "colab": {
     "base_uri": "https://localhost:8080/"
    },
    "id": "uU0wr2evmag4",
    "outputId": "a154480a-af85-4604-f4aa-9c12a2612e16",
    "ExecuteTime": {
     "end_time": "2025-01-29T15:08:50.568661Z",
     "start_time": "2025-01-29T15:08:50.558163Z"
    }
   },
   "outputs": [
    {
     "data": {
      "text/plain": [
       "(tensor([[0.8000],\n",
       "         [0.8200],\n",
       "         [0.8400],\n",
       "         [0.8600],\n",
       "         [0.8800],\n",
       "         [0.9000],\n",
       "         [0.9200],\n",
       "         [0.9400],\n",
       "         [0.9600],\n",
       "         [0.9800]]),\n",
       " tensor([[0.8600],\n",
       "         [0.8740],\n",
       "         [0.8880],\n",
       "         [0.9020],\n",
       "         [0.9160],\n",
       "         [0.9300],\n",
       "         [0.9440],\n",
       "         [0.9580],\n",
       "         [0.9720],\n",
       "         [0.9860]]))"
      ]
     },
     "execution_count": 20,
     "metadata": {},
     "output_type": "execute_result"
    }
   ],
   "execution_count": 20
  },
  {
   "cell_type": "code",
   "source": [
    "# make prediction with model\n",
    "\n",
    "with torch.inference_mode():\n",
    "  y_preds = model_0(X_test)\n",
    "\n",
    "# we can also do seomthing similar with torch.no_grad(), however, torch.inference_mode() is preffered\n",
    "# with torch.no_grad():\n",
    "#   y_preds = model_0(X_test)\n",
    "\n",
    "y_preds"
   ],
   "metadata": {
    "colab": {
     "base_uri": "https://localhost:8080/"
    },
    "id": "nYwIhwaxjrDn",
    "outputId": "8b3635d2-0888-4f3b-b0b2-677af4a560cc",
    "ExecuteTime": {
     "end_time": "2025-01-29T15:08:50.633519Z",
     "start_time": "2025-01-29T15:08:50.623285Z"
    }
   },
   "outputs": [
    {
     "data": {
      "text/plain": [
       "tensor([[0.3982],\n",
       "        [0.4049],\n",
       "        [0.4116],\n",
       "        [0.4184],\n",
       "        [0.4251],\n",
       "        [0.4318],\n",
       "        [0.4386],\n",
       "        [0.4453],\n",
       "        [0.4520],\n",
       "        [0.4588]])"
      ]
     },
     "execution_count": 21,
     "metadata": {},
     "output_type": "execute_result"
    }
   ],
   "execution_count": 21
  },
  {
   "cell_type": "code",
   "source": [
    "y_test"
   ],
   "metadata": {
    "colab": {
     "base_uri": "https://localhost:8080/"
    },
    "id": "MHJc8zVmnMI3",
    "outputId": "e775ddfd-f3a0-4db4-9e35-777f2eed28b5",
    "ExecuteTime": {
     "end_time": "2025-01-29T15:08:50.827786Z",
     "start_time": "2025-01-29T15:08:50.818368Z"
    }
   },
   "outputs": [
    {
     "data": {
      "text/plain": [
       "tensor([[0.8600],\n",
       "        [0.8740],\n",
       "        [0.8880],\n",
       "        [0.9020],\n",
       "        [0.9160],\n",
       "        [0.9300],\n",
       "        [0.9440],\n",
       "        [0.9580],\n",
       "        [0.9720],\n",
       "        [0.9860]])"
      ]
     },
     "execution_count": 22,
     "metadata": {},
     "output_type": "execute_result"
    }
   ],
   "execution_count": 22
  },
  {
   "cell_type": "markdown",
   "source": [
    "inference mode -- https://x.com/PyTorch/status/1437838231505096708"
   ],
   "metadata": {
    "id": "E-WfYGG6pTpR"
   }
  },
  {
   "cell_type": "code",
   "source": [
    "plot_predictions(predictions=y_preds)"
   ],
   "metadata": {
    "colab": {
     "base_uri": "https://localhost:8080/",
     "height": 599
    },
    "id": "9lNBHsRsnTdA",
    "outputId": "cc82de53-a0c2-43b4-960c-4b94996bec6b",
    "ExecuteTime": {
     "end_time": "2025-01-29T15:08:51.359439Z",
     "start_time": "2025-01-29T15:08:50.933771Z"
    }
   },
   "outputs": [
    {
     "data": {
      "text/plain": [
       "<Figure size 1000x700 with 1 Axes>"
      ],
      "image/png": "[encoded data removed]"
     },
     "metadata": {},
     "output_type": "display_data"
    }
   ],
   "execution_count": 23
  },
  {
   "metadata": {},
   "cell_type": "markdown",
   "source": [
    "## 3. Train model\n",
    "\n",
    "The whole idea of this training is for a model to move from some *unknown* parameters (these maybe be random) to some known parameters\n",
    "    \n",
    "Or in other words from a poor representation of the data to a better representation of the data\n",
    "\n",
    "One way to measure how poor or how wrong your models predictions are is to use a loss function\n",
    "\n",
    "* note : loss function may alo be called cost function or criterion in different areas. For our case, we're going to refer to it as a loss function\n",
    "\n",
    "Thins we need to train :\n",
    "\n",
    "* **loss function :** A function to meassure how wrong your model's predictions are to the ideal outputs, lower is better.\n",
    "* **Optimizer :** Takes into account the loss of a model and adjusts the model's parameters (e.g weight & bias) to improve the loss function -> https://pytorch.org/docs/stable/optim.html\n",
    "    * Iniside the optimizer you'll often have to set 2 parameters:\n",
    "        * `params` - the model parameters you'd like to optimize, for example `model_0.parameters()`\n",
    "        * `lr` (learning rate) - the learning rate is a hyperparameter that defines how big/small the optimizer changes the parameters with each step (a small `lr` result in small changes, a large `lr` results in large changes)\n",
    "\n",
    "And specifically for PyTorch, we need:\n",
    "* A training loop\n",
    "* A testing loop"
   ]
  },
  {
   "metadata": {
    "ExecuteTime": {
     "end_time": "2025-01-29T15:08:51.960107Z",
     "start_time": "2025-01-29T15:08:51.948747Z"
    }
   },
   "cell_type": "code",
   "source": "list(model_0.parameters())",
   "outputs": [
    {
     "data": {
      "text/plain": [
       "[Parameter containing:\n",
       " tensor([0.3367], requires_grad=True),\n",
       " Parameter containing:\n",
       " tensor([0.1288], requires_grad=True)]"
      ]
     },
     "execution_count": 24,
     "metadata": {},
     "output_type": "execute_result"
    }
   ],
   "execution_count": 24
  },
  {
   "metadata": {
    "ExecuteTime": {
     "end_time": "2025-01-29T15:08:52.263459Z",
     "start_time": "2025-01-29T15:08:52.253512Z"
    }
   },
   "cell_type": "code",
   "source": [
    "# check out the model parameters (a parameter is a value that the model sets itself)\n",
    "model_0.state_dict()"
   ],
   "outputs": [
    {
     "data": {
      "text/plain": [
       "OrderedDict([('weights', tensor([0.3367])), ('bias', tensor([0.1288]))])"
      ]
     },
     "execution_count": 25,
     "metadata": {},
     "output_type": "execute_result"
    }
   ],
   "execution_count": 25
  },
  {
   "metadata": {
    "ExecuteTime": {
     "end_time": "2025-01-29T15:08:54.866884Z",
     "start_time": "2025-01-29T15:08:52.544970Z"
    }
   },
   "cell_type": "code",
   "source": [
    "# set up a loss function\n",
    "loss_fn = nn.L1Loss()\n",
    "\n",
    "# set up an opptimizer\n",
    "optimizer = optim.SGD(params=model_0.parameters(),\n",
    "                      lr=0.01) # learning rate = possibly the most important hyperparameter you can set"
   ],
   "outputs": [],
   "execution_count": 26
  },
  {
   "metadata": {
    "ExecuteTime": {
     "end_time": "2025-01-29T15:08:54.893389Z",
     "start_time": "2025-01-29T15:08:54.883656Z"
    }
   },
   "cell_type": "code",
   "source": "loss_fn",
   "outputs": [
    {
     "data": {
      "text/plain": [
       "L1Loss()"
      ]
     },
     "execution_count": 27,
     "metadata": {},
     "output_type": "execute_result"
    }
   ],
   "execution_count": 27
  },
  {
   "metadata": {},
   "cell_type": "markdown",
   "source": [
    "**Q** : Which loss function and optimizer should i use?\n",
    "**A** : This will be problem specific. But with experience, you'll get an idea of what works and what doesn't with your particular problem set.\n",
    "\n",
    "For example, for a regression problem (like this), a loss function of `nn.Loss()` and an optimizer like `torch.optim.SGD()` will suffice\n",
    "But for a classfication problem like classifying whether a photo is a dog or cat, you'll likely want to use a loss function of `nn.BCELoss()` (binary cross entropy loss) "
   ]
  },
  {
   "metadata": {},
   "cell_type": "markdown",
   "source": [
    "### Building a training loop (and testing loop) in PyTorch\n",
    "\n",
    "A couple things we need in a training loop:\n",
    "0. Loop through the data and do...\n",
    "1. Forward pass (this involves data moving through our model's `forward()` functions) to make predictions on data - also called forward propagation\n",
    "2. Calculate the loss (compare forward pass predictions to ground truth labels)\n",
    "3. Optimizer zero grad\n",
    "4. Loss backward - move backwards throuh the network to calculate the gradients of each of parameters of our model with respect to the loss (**backpropagation**)\n",
    "5. Optimizer step - use the optimizer to adjust the model's parameters to try and improve the loss (**gradient descent**)"
   ]
  },
  {
   "metadata": {
    "ExecuteTime": {
     "end_time": "2025-01-29T15:08:54.963173Z",
     "start_time": "2025-01-29T15:08:54.951944Z"
    }
   },
   "cell_type": "code",
   "source": "list(model_0.parameters())",
   "outputs": [
    {
     "data": {
      "text/plain": [
       "[Parameter containing:\n",
       " tensor([0.3367], requires_grad=True),\n",
       " Parameter containing:\n",
       " tensor([0.1288], requires_grad=True)]"
      ]
     },
     "execution_count": 28,
     "metadata": {},
     "output_type": "execute_result"
    }
   ],
   "execution_count": 28
  },
  {
   "metadata": {
    "ExecuteTime": {
     "end_time": "2025-01-29T15:08:55.038162Z",
     "start_time": "2025-01-29T15:08:55.026758Z"
    }
   },
   "cell_type": "code",
   "source": "X_test, y_test",
   "outputs": [
    {
     "data": {
      "text/plain": [
       "(tensor([[0.8000],\n",
       "         [0.8200],\n",
       "         [0.8400],\n",
       "         [0.8600],\n",
       "         [0.8800],\n",
       "         [0.9000],\n",
       "         [0.9200],\n",
       "         [0.9400],\n",
       "         [0.9600],\n",
       "         [0.9800]]),\n",
       " tensor([[0.8600],\n",
       "         [0.8740],\n",
       "         [0.8880],\n",
       "         [0.9020],\n",
       "         [0.9160],\n",
       "         [0.9300],\n",
       "         [0.9440],\n",
       "         [0.9580],\n",
       "         [0.9720],\n",
       "         [0.9860]]))"
      ]
     },
     "execution_count": 29,
     "metadata": {},
     "output_type": "execute_result"
    }
   ],
   "execution_count": 29
  },
  {
   "metadata": {
    "ExecuteTime": {
     "end_time": "2025-01-29T15:08:55.564099Z",
     "start_time": "2025-01-29T15:08:55.121528Z"
    }
   },
   "cell_type": "code",
   "source": [
    "# A epoch is a loop through the data... (this is a hyperparameter because set it ourselves)\n",
    "torch.manual_seed(42)\n",
    "\n",
    "epochs = 200\n",
    "\n",
    "#track different values\n",
    "epoch_count = []\n",
    "lost_values = []\n",
    "test_loss_values = []\n",
    "\n",
    "#Training\n",
    "# 0. loop through the data\n",
    "for epoch in range(epochs):\n",
    "    # set the model to training mode\n",
    "    model_0.train() # train mode in PyTorch set all parameters that require gradients to require gradients\n",
    "    \n",
    "    # 1. Forward passs\n",
    "    y_pred = model_0(X_train)\n",
    "    \n",
    "    # 2. Calculate the loss \n",
    "    loss = loss_fn(y_pred, y_train)\n",
    "    print(f\"Loss : {loss}\")\n",
    "    \n",
    "    # 3. Optimizer seero grad\n",
    "    optimizer.zero_grad()\n",
    "    \n",
    "    # 4. Perform backprop on the loss with respect to parameters to the model\n",
    "    loss.backward()\n",
    "    \n",
    "    # 5. Step theoptimizer (perform gradient descent)\n",
    "    optimizer.step() #by default how the optimizer changes will accumulate through the loop so.. we have to zero them above insetp 3 form the next iteration of the loop\n",
    "    \n",
    "    #testing\n",
    "    model_0.eval() # turns off different settings in the model not needed for evaluation/testing (dropout/batch norm layers)\n",
    "    with torch.inference_mode(): # turns off gradient tracking and a couple more things behind the scenes\n",
    "        #1. forward pass\n",
    "        test_pred = model_0(X_test)\n",
    "        \n",
    "        #2. calculate the loss\n",
    "        test_loss = loss_fn(test_pred, y_test)\n",
    "    \n",
    "    #print out whats happening\n",
    "    if epoch % 10 == 0:\n",
    "        epoch_count.append(epoch)\n",
    "        lost_values.append(loss)\n",
    "        test_loss_values.append(test_loss)\n",
    "        print(f\"Epochs : {epoch} | Loss : {loss} | Test Loss: {test_loss}\")\n",
    "    \n",
    "    print(model_0.state_dict())\n",
    "    "
   ],
   "outputs": [
    {
     "name": "stdout",
     "output_type": "stream",
     "text": [
      "Loss : 0.31288138031959534\n",
      "Epochs : 0 | Loss : 0.31288138031959534 | Test Loss: 0.48106518387794495\n",
      "OrderedDict([('weights', tensor([0.3406])), ('bias', tensor([0.1388]))])\n",
      "Loss : 0.3013603389263153\n",
      "OrderedDict([('weights', tensor([0.3445])), ('bias', tensor([0.1488]))])\n",
      "Loss : 0.28983935713768005\n",
      "OrderedDict([('weights', tensor([0.3484])), ('bias', tensor([0.1588]))])\n",
      "Loss : 0.2783183455467224\n",
      "OrderedDict([('weights', tensor([0.3523])), ('bias', tensor([0.1688]))])\n",
      "Loss : 0.26679736375808716\n",
      "OrderedDict([('weights', tensor([0.3562])), ('bias', tensor([0.1788]))])\n",
      "Loss : 0.2552763521671295\n",
      "OrderedDict([('weights', tensor([0.3601])), ('bias', tensor([0.1888]))])\n",
      "Loss : 0.24375534057617188\n",
      "OrderedDict([('weights', tensor([0.3640])), ('bias', tensor([0.1988]))])\n",
      "Loss : 0.23223432898521423\n",
      "OrderedDict([('weights', tensor([0.3679])), ('bias', tensor([0.2088]))])\n",
      "Loss : 0.22071333229541779\n",
      "OrderedDict([('weights', tensor([0.3718])), ('bias', tensor([0.2188]))])\n",
      "Loss : 0.20919232070446014\n",
      "OrderedDict([('weights', tensor([0.3757])), ('bias', tensor([0.2288]))])\n",
      "Loss : 0.1976713240146637\n",
      "Epochs : 10 | Loss : 0.1976713240146637 | Test Loss: 0.3463551998138428\n",
      "OrderedDict([('weights', tensor([0.3796])), ('bias', tensor([0.2388]))])\n",
      "Loss : 0.18615034222602844\n",
      "OrderedDict([('weights', tensor([0.3835])), ('bias', tensor([0.2488]))])\n",
      "Loss : 0.1746293306350708\n",
      "OrderedDict([('weights', tensor([0.3874])), ('bias', tensor([0.2588]))])\n",
      "Loss : 0.16310831904411316\n",
      "OrderedDict([('weights', tensor([0.3913])), ('bias', tensor([0.2688]))])\n",
      "Loss : 0.1515873372554779\n",
      "OrderedDict([('weights', tensor([0.3952])), ('bias', tensor([0.2788]))])\n",
      "Loss : 0.14006635546684265\n",
      "OrderedDict([('weights', tensor([0.3991])), ('bias', tensor([0.2888]))])\n",
      "Loss : 0.1285453587770462\n",
      "OrderedDict([('weights', tensor([0.4030])), ('bias', tensor([0.2988]))])\n",
      "Loss : 0.11702437698841095\n",
      "OrderedDict([('weights', tensor([0.4069])), ('bias', tensor([0.3088]))])\n",
      "Loss : 0.1060912236571312\n",
      "OrderedDict([('weights', tensor([0.4108])), ('bias', tensor([0.3178]))])\n",
      "Loss : 0.09681284427642822\n",
      "OrderedDict([('weights', tensor([0.4146])), ('bias', tensor([0.3258]))])\n",
      "Loss : 0.08908725529909134\n",
      "Epochs : 20 | Loss : 0.08908725529909134 | Test Loss: 0.21729660034179688\n",
      "OrderedDict([('weights', tensor([0.4184])), ('bias', tensor([0.3333]))])\n",
      "Loss : 0.08227583020925522\n",
      "OrderedDict([('weights', tensor([0.4222])), ('bias', tensor([0.3403]))])\n",
      "Loss : 0.07638873159885406\n",
      "OrderedDict([('weights', tensor([0.4258])), ('bias', tensor([0.3463]))])\n",
      "Loss : 0.07160007208585739\n",
      "OrderedDict([('weights', tensor([0.4293])), ('bias', tensor([0.3518]))])\n",
      "Loss : 0.06747635453939438\n",
      "OrderedDict([('weights', tensor([0.4328])), ('bias', tensor([0.3568]))])\n",
      "Loss : 0.06395438313484192\n",
      "OrderedDict([('weights', tensor([0.4361])), ('bias', tensor([0.3613]))])\n",
      "Loss : 0.06097004935145378\n",
      "OrderedDict([('weights', tensor([0.4394])), ('bias', tensor([0.3653]))])\n",
      "Loss : 0.05845819041132927\n",
      "OrderedDict([('weights', tensor([0.4425])), ('bias', tensor([0.3688]))])\n",
      "Loss : 0.05635259300470352\n",
      "OrderedDict([('weights', tensor([0.4455])), ('bias', tensor([0.3718]))])\n",
      "Loss : 0.0545857772231102\n",
      "OrderedDict([('weights', tensor([0.4483])), ('bias', tensor([0.3743]))])\n",
      "Loss : 0.053148526698350906\n",
      "Epochs : 30 | Loss : 0.053148526698350906 | Test Loss: 0.14464017748832703\n",
      "OrderedDict([('weights', tensor([0.4512])), ('bias', tensor([0.3768]))])\n",
      "Loss : 0.05181945487856865\n",
      "OrderedDict([('weights', tensor([0.4539])), ('bias', tensor([0.3788]))])\n",
      "Loss : 0.05069301277399063\n",
      "OrderedDict([('weights', tensor([0.4564])), ('bias', tensor([0.3803]))])\n",
      "Loss : 0.0498228520154953\n",
      "OrderedDict([('weights', tensor([0.4590])), ('bias', tensor([0.3818]))])\n",
      "Loss : 0.04895269125699997\n",
      "OrderedDict([('weights', tensor([0.4615])), ('bias', tensor([0.3833]))])\n",
      "Loss : 0.04819351062178612\n",
      "OrderedDict([('weights', tensor([0.4639])), ('bias', tensor([0.3843]))])\n",
      "Loss : 0.047531817108392715\n",
      "OrderedDict([('weights', tensor([0.4662])), ('bias', tensor([0.3853]))])\n",
      "Loss : 0.04692792519927025\n",
      "OrderedDict([('weights', tensor([0.4684])), ('bias', tensor([0.3858]))])\n",
      "Loss : 0.04642331600189209\n",
      "OrderedDict([('weights', tensor([0.4706])), ('bias', tensor([0.3863]))])\n",
      "Loss : 0.04591871052980423\n",
      "OrderedDict([('weights', tensor([0.4728])), ('bias', tensor([0.3868]))])\n",
      "Loss : 0.04543796554207802\n",
      "Epochs : 40 | Loss : 0.04543796554207802 | Test Loss: 0.11360953003168106\n",
      "OrderedDict([('weights', tensor([0.4748])), ('bias', tensor([0.3868]))])\n",
      "Loss : 0.04503796249628067\n",
      "OrderedDict([('weights', tensor([0.4768])), ('bias', tensor([0.3868]))])\n",
      "Loss : 0.04463795945048332\n",
      "OrderedDict([('weights', tensor([0.4788])), ('bias', tensor([0.3868]))])\n",
      "Loss : 0.04423796385526657\n",
      "OrderedDict([('weights', tensor([0.4808])), ('bias', tensor([0.3868]))])\n",
      "Loss : 0.04383796453475952\n",
      "OrderedDict([('weights', tensor([0.4828])), ('bias', tensor([0.3868]))])\n",
      "Loss : 0.04343796148896217\n",
      "OrderedDict([('weights', tensor([0.4848])), ('bias', tensor([0.3868]))])\n",
      "Loss : 0.043074630200862885\n",
      "OrderedDict([('weights', tensor([0.4866])), ('bias', tensor([0.3863]))])\n",
      "Loss : 0.04272563382983208\n",
      "OrderedDict([('weights', tensor([0.4884])), ('bias', tensor([0.3858]))])\n",
      "Loss : 0.04237663000822067\n",
      "OrderedDict([('weights', tensor([0.4902])), ('bias', tensor([0.3853]))])\n",
      "Loss : 0.04202762991189957\n",
      "OrderedDict([('weights', tensor([0.4920])), ('bias', tensor([0.3848]))])\n",
      "Loss : 0.04167863354086876\n",
      "Epochs : 50 | Loss : 0.04167863354086876 | Test Loss: 0.09919948130846024\n",
      "OrderedDict([('weights', tensor([0.4938])), ('bias', tensor([0.3843]))])\n",
      "Loss : 0.04132963344454765\n",
      "OrderedDict([('weights', tensor([0.4956])), ('bias', tensor([0.3838]))])\n",
      "Loss : 0.04098063334822655\n",
      "OrderedDict([('weights', tensor([0.4974])), ('bias', tensor([0.3833]))])\n",
      "Loss : 0.04063162952661514\n",
      "OrderedDict([('weights', tensor([0.4992])), ('bias', tensor([0.3828]))])\n",
      "Loss : 0.040282636880874634\n",
      "OrderedDict([('weights', tensor([0.5010])), ('bias', tensor([0.3823]))])\n",
      "Loss : 0.039933640509843826\n",
      "OrderedDict([('weights', tensor([0.5028])), ('bias', tensor([0.3818]))])\n",
      "Loss : 0.03958464413881302\n",
      "OrderedDict([('weights', tensor([0.5046])), ('bias', tensor([0.3813]))])\n",
      "Loss : 0.03923564404249191\n",
      "OrderedDict([('weights', tensor([0.5064])), ('bias', tensor([0.3808]))])\n",
      "Loss : 0.03888664394617081\n",
      "OrderedDict([('weights', tensor([0.5082])), ('bias', tensor([0.3803]))])\n",
      "Loss : 0.0385376438498497\n",
      "OrderedDict([('weights', tensor([0.5100])), ('bias', tensor([0.3798]))])\n",
      "Loss : 0.03818932920694351\n",
      "Epochs : 60 | Loss : 0.03818932920694351 | Test Loss: 0.08886633068323135\n",
      "OrderedDict([('weights', tensor([0.5116])), ('bias', tensor([0.3788]))])\n",
      "Loss : 0.03785243630409241\n",
      "OrderedDict([('weights', tensor([0.5134])), ('bias', tensor([0.3783]))])\n",
      "Loss : 0.0375034399330616\n",
      "OrderedDict([('weights', tensor([0.5152])), ('bias', tensor([0.3778]))])\n",
      "Loss : 0.037164121866226196\n",
      "OrderedDict([('weights', tensor([0.5168])), ('bias', tensor([0.3768]))])\n",
      "Loss : 0.03681822493672371\n",
      "OrderedDict([('weights', tensor([0.5186])), ('bias', tensor([0.3763]))])\n",
      "Loss : 0.03647511452436447\n",
      "OrderedDict([('weights', tensor([0.5202])), ('bias', tensor([0.3753]))])\n",
      "Loss : 0.03613303601741791\n",
      "OrderedDict([('weights', tensor([0.5220])), ('bias', tensor([0.3748]))])\n",
      "Loss : 0.03578609973192215\n",
      "OrderedDict([('weights', tensor([0.5236])), ('bias', tensor([0.3738]))])\n",
      "Loss : 0.03544783592224121\n",
      "OrderedDict([('weights', tensor([0.5254])), ('bias', tensor([0.3733]))])\n",
      "Loss : 0.035098835825920105\n",
      "OrderedDict([('weights', tensor([0.5272])), ('bias', tensor([0.3728]))])\n",
      "Loss : 0.03476089984178543\n",
      "Epochs : 70 | Loss : 0.03476089984178543 | Test Loss: 0.0805937647819519\n",
      "OrderedDict([('weights', tensor([0.5288])), ('bias', tensor([0.3718]))])\n",
      "Loss : 0.03441363573074341\n",
      "OrderedDict([('weights', tensor([0.5306])), ('bias', tensor([0.3713]))])\n",
      "Loss : 0.03407188132405281\n",
      "OrderedDict([('weights', tensor([0.5322])), ('bias', tensor([0.3703]))])\n",
      "Loss : 0.03372843936085701\n",
      "OrderedDict([('weights', tensor([0.5340])), ('bias', tensor([0.3698]))])\n",
      "Loss : 0.03338287025690079\n",
      "OrderedDict([('weights', tensor([0.5355])), ('bias', tensor([0.3688]))])\n",
      "Loss : 0.033043231815099716\n",
      "OrderedDict([('weights', tensor([0.5373])), ('bias', tensor([0.3683]))])\n",
      "Loss : 0.03269423171877861\n",
      "OrderedDict([('weights', tensor([0.5391])), ('bias', tensor([0.3678]))])\n",
      "Loss : 0.032357655465602875\n",
      "OrderedDict([('weights', tensor([0.5407])), ('bias', tensor([0.3668]))])\n",
      "Loss : 0.03200903534889221\n",
      "OrderedDict([('weights', tensor([0.5425])), ('bias', tensor([0.3663]))])\n",
      "Loss : 0.03166864812374115\n",
      "OrderedDict([('weights', tensor([0.5441])), ('bias', tensor([0.3653]))])\n",
      "Loss : 0.03132382780313492\n",
      "Epochs : 80 | Loss : 0.03132382780313492 | Test Loss: 0.07232122868299484\n",
      "OrderedDict([('weights', tensor([0.5459])), ('bias', tensor([0.3648]))])\n",
      "Loss : 0.030979642644524574\n",
      "OrderedDict([('weights', tensor([0.5475])), ('bias', tensor([0.3638]))])\n",
      "Loss : 0.030638623982667923\n",
      "OrderedDict([('weights', tensor([0.5493])), ('bias', tensor([0.3633]))])\n",
      "Loss : 0.0302906334400177\n",
      "OrderedDict([('weights', tensor([0.5509])), ('bias', tensor([0.3623]))])\n",
      "Loss : 0.029953425750136375\n",
      "OrderedDict([('weights', tensor([0.5527])), ('bias', tensor([0.3618]))])\n",
      "Loss : 0.02960442565381527\n",
      "OrderedDict([('weights', tensor([0.5545])), ('bias', tensor([0.3613]))])\n",
      "Loss : 0.029265418648719788\n",
      "OrderedDict([('weights', tensor([0.5561])), ('bias', tensor([0.3603]))])\n",
      "Loss : 0.028919223695993423\n",
      "OrderedDict([('weights', tensor([0.5579])), ('bias', tensor([0.3598]))])\n",
      "Loss : 0.028576409444212914\n",
      "OrderedDict([('weights', tensor([0.5595])), ('bias', tensor([0.3588]))])\n",
      "Loss : 0.028234025463461876\n",
      "OrderedDict([('weights', tensor([0.5613])), ('bias', tensor([0.3583]))])\n",
      "Loss : 0.02788739837706089\n",
      "Epochs : 90 | Loss : 0.02788739837706089 | Test Loss: 0.06473556160926819\n",
      "OrderedDict([('weights', tensor([0.5629])), ('bias', tensor([0.3573]))])\n",
      "Loss : 0.02754882536828518\n",
      "OrderedDict([('weights', tensor([0.5647])), ('bias', tensor([0.3568]))])\n",
      "Loss : 0.027199819684028625\n",
      "OrderedDict([('weights', tensor([0.5665])), ('bias', tensor([0.3563]))])\n",
      "Loss : 0.026862185448408127\n",
      "OrderedDict([('weights', tensor([0.5681])), ('bias', tensor([0.3553]))])\n",
      "Loss : 0.02651461586356163\n",
      "OrderedDict([('weights', tensor([0.5699])), ('bias', tensor([0.3548]))])\n",
      "Loss : 0.026173178106546402\n",
      "OrderedDict([('weights', tensor([0.5715])), ('bias', tensor([0.3538]))])\n",
      "Loss : 0.025829419493675232\n",
      "OrderedDict([('weights', tensor([0.5733])), ('bias', tensor([0.3533]))])\n",
      "Loss : 0.02548416517674923\n",
      "OrderedDict([('weights', tensor([0.5748])), ('bias', tensor([0.3523]))])\n",
      "Loss : 0.025144213810563087\n",
      "OrderedDict([('weights', tensor([0.5766])), ('bias', tensor([0.3518]))])\n",
      "Loss : 0.02479521557688713\n",
      "OrderedDict([('weights', tensor([0.5784])), ('bias', tensor([0.3513]))])\n",
      "Loss : 0.024458957836031914\n",
      "Epochs : 100 | Loss : 0.024458957836031914 | Test Loss: 0.05646304413676262\n",
      "OrderedDict([('weights', tensor([0.5800])), ('bias', tensor([0.3503]))])\n",
      "Loss : 0.024110013619065285\n",
      "OrderedDict([('weights', tensor([0.5818])), ('bias', tensor([0.3498]))])\n",
      "Loss : 0.02376994863152504\n",
      "OrderedDict([('weights', tensor([0.5834])), ('bias', tensor([0.3488]))])\n",
      "Loss : 0.02342480979859829\n",
      "OrderedDict([('weights', tensor([0.5852])), ('bias', tensor([0.3483]))])\n",
      "Loss : 0.023080935701727867\n",
      "OrderedDict([('weights', tensor([0.5868])), ('bias', tensor([0.3473]))])\n",
      "Loss : 0.022739607840776443\n",
      "OrderedDict([('weights', tensor([0.5886])), ('bias', tensor([0.3468]))])\n",
      "Loss : 0.022391926497220993\n",
      "OrderedDict([('weights', tensor([0.5902])), ('bias', tensor([0.3458]))])\n",
      "Loss : 0.022054409608244896\n",
      "OrderedDict([('weights', tensor([0.5920])), ('bias', tensor([0.3453]))])\n",
      "Loss : 0.02170540764927864\n",
      "OrderedDict([('weights', tensor([0.5938])), ('bias', tensor([0.3448]))])\n",
      "Loss : 0.021366719156503677\n",
      "OrderedDict([('weights', tensor([0.5954])), ('bias', tensor([0.3438]))])\n",
      "Loss : 0.021020207554101944\n",
      "Epochs : 110 | Loss : 0.021020207554101944 | Test Loss: 0.04819049686193466\n",
      "OrderedDict([('weights', tensor([0.5972])), ('bias', tensor([0.3433]))])\n",
      "Loss : 0.020677709951996803\n",
      "OrderedDict([('weights', tensor([0.5988])), ('bias', tensor([0.3423]))])\n",
      "Loss : 0.02033500373363495\n",
      "OrderedDict([('weights', tensor([0.6006])), ('bias', tensor([0.3418]))])\n",
      "Loss : 0.01998869702219963\n",
      "OrderedDict([('weights', tensor([0.6022])), ('bias', tensor([0.3408]))])\n",
      "Loss : 0.019649803638458252\n",
      "OrderedDict([('weights', tensor([0.6040])), ('bias', tensor([0.3403]))])\n",
      "Loss : 0.019300809130072594\n",
      "OrderedDict([('weights', tensor([0.6058])), ('bias', tensor([0.3398]))])\n",
      "Loss : 0.018963487818837166\n",
      "OrderedDict([('weights', tensor([0.6074])), ('bias', tensor([0.3388]))])\n",
      "Loss : 0.01861560344696045\n",
      "OrderedDict([('weights', tensor([0.6092])), ('bias', tensor([0.3383]))])\n",
      "Loss : 0.018274478614330292\n",
      "OrderedDict([('weights', tensor([0.6108])), ('bias', tensor([0.3373]))])\n",
      "Loss : 0.017930403351783752\n",
      "OrderedDict([('weights', tensor([0.6126])), ('bias', tensor([0.3368]))])\n",
      "Loss : 0.01758546568453312\n",
      "Epochs : 120 | Loss : 0.01758546568453312 | Test Loss: 0.04060482233762741\n",
      "OrderedDict([('weights', tensor([0.6141])), ('bias', tensor([0.3358]))])\n",
      "Loss : 0.017245199531316757\n",
      "OrderedDict([('weights', tensor([0.6159])), ('bias', tensor([0.3353]))])\n",
      "Loss : 0.016896454617381096\n",
      "OrderedDict([('weights', tensor([0.6175])), ('bias', tensor([0.3343]))])\n",
      "Loss : 0.01656000316143036\n",
      "OrderedDict([('weights', tensor([0.6193])), ('bias', tensor([0.3338]))])\n",
      "Loss : 0.016210997477173805\n",
      "OrderedDict([('weights', tensor([0.6211])), ('bias', tensor([0.3333]))])\n",
      "Loss : 0.01587124727666378\n",
      "OrderedDict([('weights', tensor([0.6227])), ('bias', tensor([0.3323]))])\n",
      "Loss : 0.015525798313319683\n",
      "OrderedDict([('weights', tensor([0.6245])), ('bias', tensor([0.3318]))])\n",
      "Loss : 0.015182236209511757\n",
      "OrderedDict([('weights', tensor([0.6261])), ('bias', tensor([0.3308]))])\n",
      "Loss : 0.014840595424175262\n",
      "OrderedDict([('weights', tensor([0.6279])), ('bias', tensor([0.3303]))])\n",
      "Loss : 0.01449323259294033\n",
      "OrderedDict([('weights', tensor([0.6295])), ('bias', tensor([0.3293]))])\n",
      "Loss : 0.014155393466353416\n",
      "Epochs : 130 | Loss : 0.014155393466353416 | Test Loss: 0.03233227878808975\n",
      "OrderedDict([('weights', tensor([0.6313])), ('bias', tensor([0.3288]))])\n",
      "Loss : 0.013806397095322609\n",
      "OrderedDict([('weights', tensor([0.6331])), ('bias', tensor([0.3283]))])\n",
      "Loss : 0.013468016870319843\n",
      "OrderedDict([('weights', tensor([0.6347])), ('bias', tensor([0.3273]))])\n",
      "Loss : 0.013121193274855614\n",
      "OrderedDict([('weights', tensor([0.6365])), ('bias', tensor([0.3268]))])\n",
      "Loss : 0.01277900766581297\n",
      "OrderedDict([('weights', tensor([0.6381])), ('bias', tensor([0.3258]))])\n",
      "Loss : 0.012435992248356342\n",
      "OrderedDict([('weights', tensor([0.6399])), ('bias', tensor([0.3253]))])\n",
      "Loss : 0.01208999752998352\n",
      "OrderedDict([('weights', tensor([0.6415])), ('bias', tensor([0.3243]))])\n",
      "Loss : 0.011750795878469944\n",
      "OrderedDict([('weights', tensor([0.6433])), ('bias', tensor([0.3238]))])\n",
      "Loss : 0.011401787400245667\n",
      "OrderedDict([('weights', tensor([0.6451])), ('bias', tensor([0.3233]))])\n",
      "Loss : 0.011064787395298481\n",
      "OrderedDict([('weights', tensor([0.6467])), ('bias', tensor([0.3223]))])\n",
      "Loss : 0.010716589167714119\n",
      "Epochs : 140 | Loss : 0.010716589167714119 | Test Loss: 0.024059748277068138\n",
      "OrderedDict([('weights', tensor([0.6485])), ('bias', tensor([0.3218]))])\n",
      "Loss : 0.010375778190791607\n",
      "OrderedDict([('weights', tensor([0.6501])), ('bias', tensor([0.3208]))])\n",
      "Loss : 0.010031387209892273\n",
      "OrderedDict([('weights', tensor([0.6519])), ('bias', tensor([0.3203]))])\n",
      "Loss : 0.009686763398349285\n",
      "OrderedDict([('weights', tensor([0.6534])), ('bias', tensor([0.3193]))])\n",
      "Loss : 0.009346187114715576\n",
      "OrderedDict([('weights', tensor([0.6552])), ('bias', tensor([0.3188]))])\n",
      "Loss : 0.008997755125164986\n",
      "OrderedDict([('weights', tensor([0.6568])), ('bias', tensor([0.3178]))])\n",
      "Loss : 0.008660981431603432\n",
      "OrderedDict([('weights', tensor([0.6586])), ('bias', tensor([0.3173]))])\n",
      "Loss : 0.008311985060572624\n",
      "OrderedDict([('weights', tensor([0.6604])), ('bias', tensor([0.3168]))])\n",
      "Loss : 0.007972544990479946\n",
      "OrderedDict([('weights', tensor([0.6620])), ('bias', tensor([0.3158]))])\n",
      "Loss : 0.007626785431057215\n",
      "OrderedDict([('weights', tensor([0.6638])), ('bias', tensor([0.3153]))])\n",
      "Loss : 0.0072835334576666355\n",
      "Epochs : 150 | Loss : 0.0072835334576666355 | Test Loss: 0.016474086791276932\n",
      "OrderedDict([('weights', tensor([0.6654])), ('bias', tensor([0.3143]))])\n",
      "Loss : 0.006941580679267645\n",
      "OrderedDict([('weights', tensor([0.6672])), ('bias', tensor([0.3138]))])\n",
      "Loss : 0.006594526115804911\n",
      "OrderedDict([('weights', tensor([0.6688])), ('bias', tensor([0.3128]))])\n",
      "Loss : 0.006256377790123224\n",
      "OrderedDict([('weights', tensor([0.6706])), ('bias', tensor([0.3123]))])\n",
      "Loss : 0.005907376762479544\n",
      "OrderedDict([('weights', tensor([0.6724])), ('bias', tensor([0.3118]))])\n",
      "Loss : 0.005569315515458584\n",
      "OrderedDict([('weights', tensor([0.6740])), ('bias', tensor([0.3108]))])\n",
      "Loss : 0.005222178064286709\n",
      "OrderedDict([('weights', tensor([0.6758])), ('bias', tensor([0.3103]))])\n",
      "Loss : 0.004880306776612997\n",
      "OrderedDict([('weights', tensor([0.6774])), ('bias', tensor([0.3093]))])\n",
      "Loss : 0.004536976106464863\n",
      "OrderedDict([('weights', tensor([0.6792])), ('bias', tensor([0.3088]))])\n",
      "Loss : 0.00419129803776741\n",
      "OrderedDict([('weights', tensor([0.6808])), ('bias', tensor([0.3078]))])\n",
      "Loss : 0.0038517764769494534\n",
      "Epochs : 160 | Loss : 0.0038517764769494534 | Test Loss: 0.008201557211577892\n",
      "OrderedDict([('weights', tensor([0.6826])), ('bias', tensor([0.3073]))])\n",
      "Loss : 0.0035027749836444855\n",
      "OrderedDict([('weights', tensor([0.6844])), ('bias', tensor([0.3068]))])\n",
      "Loss : 0.0031660839449614286\n",
      "OrderedDict([('weights', tensor([0.6860])), ('bias', tensor([0.3058]))])\n",
      "Loss : 0.002817571861669421\n",
      "OrderedDict([('weights', tensor([0.6878])), ('bias', tensor([0.3053]))])\n",
      "Loss : 0.0024770735763013363\n",
      "OrderedDict([('weights', tensor([0.6894])), ('bias', tensor([0.3043]))])\n",
      "Loss : 0.0021323717664927244\n",
      "OrderedDict([('weights', tensor([0.6912])), ('bias', tensor([0.3038]))])\n",
      "Loss : 0.0017880648374557495\n",
      "OrderedDict([('weights', tensor([0.6927])), ('bias', tensor([0.3028]))])\n",
      "Loss : 0.0014518328243866563\n",
      "OrderedDict([('weights', tensor([0.6947])), ('bias', tensor([0.3028]))])\n",
      "Loss : 0.0011887758737429976\n",
      "OrderedDict([('weights', tensor([0.6951])), ('bias', tensor([0.2993]))])\n",
      "Loss : 0.0025885067880153656\n",
      "OrderedDict([('weights', tensor([0.6990])), ('bias', tensor([0.3093]))])\n",
      "Loss : 0.008932482451200485\n",
      "Epochs : 170 | Loss : 0.008932482451200485 | Test Loss: 0.005023092031478882\n",
      "OrderedDict([('weights', tensor([0.6951])), ('bias', tensor([0.2993]))])\n",
      "Loss : 0.0025885067880153656\n",
      "OrderedDict([('weights', tensor([0.6990])), ('bias', tensor([0.3093]))])\n",
      "Loss : 0.008932482451200485\n",
      "OrderedDict([('weights', tensor([0.6951])), ('bias', tensor([0.2993]))])\n",
      "Loss : 0.0025885067880153656\n",
      "OrderedDict([('weights', tensor([0.6990])), ('bias', tensor([0.3093]))])\n",
      "Loss : 0.008932482451200485\n",
      "OrderedDict([('weights', tensor([0.6951])), ('bias', tensor([0.2993]))])\n",
      "Loss : 0.0025885067880153656\n",
      "OrderedDict([('weights', tensor([0.6990])), ('bias', tensor([0.3093]))])\n",
      "Loss : 0.008932482451200485\n",
      "OrderedDict([('weights', tensor([0.6951])), ('bias', tensor([0.2993]))])\n",
      "Loss : 0.0025885067880153656\n",
      "OrderedDict([('weights', tensor([0.6990])), ('bias', tensor([0.3093]))])\n",
      "Loss : 0.008932482451200485\n",
      "OrderedDict([('weights', tensor([0.6951])), ('bias', tensor([0.2993]))])\n",
      "Loss : 0.0025885067880153656\n",
      "OrderedDict([('weights', tensor([0.6990])), ('bias', tensor([0.3093]))])\n",
      "Loss : 0.008932482451200485\n",
      "Epochs : 180 | Loss : 0.008932482451200485 | Test Loss: 0.005023092031478882\n",
      "OrderedDict([('weights', tensor([0.6951])), ('bias', tensor([0.2993]))])\n",
      "Loss : 0.0025885067880153656\n",
      "OrderedDict([('weights', tensor([0.6990])), ('bias', tensor([0.3093]))])\n",
      "Loss : 0.008932482451200485\n",
      "OrderedDict([('weights', tensor([0.6951])), ('bias', tensor([0.2993]))])\n",
      "Loss : 0.0025885067880153656\n",
      "OrderedDict([('weights', tensor([0.6990])), ('bias', tensor([0.3093]))])\n",
      "Loss : 0.008932482451200485\n",
      "OrderedDict([('weights', tensor([0.6951])), ('bias', tensor([0.2993]))])\n",
      "Loss : 0.0025885067880153656\n",
      "OrderedDict([('weights', tensor([0.6990])), ('bias', tensor([0.3093]))])\n",
      "Loss : 0.008932482451200485\n",
      "OrderedDict([('weights', tensor([0.6951])), ('bias', tensor([0.2993]))])\n",
      "Loss : 0.0025885067880153656\n",
      "OrderedDict([('weights', tensor([0.6990])), ('bias', tensor([0.3093]))])\n",
      "Loss : 0.008932482451200485\n",
      "OrderedDict([('weights', tensor([0.6951])), ('bias', tensor([0.2993]))])\n",
      "Loss : 0.0025885067880153656\n",
      "OrderedDict([('weights', tensor([0.6990])), ('bias', tensor([0.3093]))])\n",
      "Loss : 0.008932482451200485\n",
      "Epochs : 190 | Loss : 0.008932482451200485 | Test Loss: 0.005023092031478882\n",
      "OrderedDict([('weights', tensor([0.6951])), ('bias', tensor([0.2993]))])\n",
      "Loss : 0.0025885067880153656\n",
      "OrderedDict([('weights', tensor([0.6990])), ('bias', tensor([0.3093]))])\n",
      "Loss : 0.008932482451200485\n",
      "OrderedDict([('weights', tensor([0.6951])), ('bias', tensor([0.2993]))])\n",
      "Loss : 0.0025885067880153656\n",
      "OrderedDict([('weights', tensor([0.6990])), ('bias', tensor([0.3093]))])\n",
      "Loss : 0.008932482451200485\n",
      "OrderedDict([('weights', tensor([0.6951])), ('bias', tensor([0.2993]))])\n",
      "Loss : 0.0025885067880153656\n",
      "OrderedDict([('weights', tensor([0.6990])), ('bias', tensor([0.3093]))])\n",
      "Loss : 0.008932482451200485\n",
      "OrderedDict([('weights', tensor([0.6951])), ('bias', tensor([0.2993]))])\n",
      "Loss : 0.0025885067880153656\n",
      "OrderedDict([('weights', tensor([0.6990])), ('bias', tensor([0.3093]))])\n",
      "Loss : 0.008932482451200485\n",
      "OrderedDict([('weights', tensor([0.6951])), ('bias', tensor([0.2993]))])\n",
      "Loss : 0.0025885067880153656\n",
      "OrderedDict([('weights', tensor([0.6990])), ('bias', tensor([0.3093]))])\n"
     ]
    }
   ],
   "execution_count": 30
  },
  {
   "metadata": {
    "ExecuteTime": {
     "end_time": "2025-01-29T15:08:55.604639Z",
     "start_time": "2025-01-29T15:08:55.581055Z"
    }
   },
   "cell_type": "code",
   "source": [
    "import numpy as np\n",
    "np.array(torch.tensor(lost_values).cpu().numpy()), lost_values"
   ],
   "outputs": [
    {
     "data": {
      "text/plain": [
       "(array([0.31288138, 0.19767132, 0.08908726, 0.05314853, 0.04543797,\n",
       "        0.04167863, 0.03818933, 0.0347609 , 0.03132383, 0.0278874 ,\n",
       "        0.02445896, 0.02102021, 0.01758547, 0.01415539, 0.01071659,\n",
       "        0.00728353, 0.00385178, 0.00893248, 0.00893248, 0.00893248],\n",
       "       dtype=float32),\n",
       " [tensor(0.3129, grad_fn=<MeanBackward0>),\n",
       "  tensor(0.1977, grad_fn=<MeanBackward0>),\n",
       "  tensor(0.0891, grad_fn=<MeanBackward0>),\n",
       "  tensor(0.0531, grad_fn=<MeanBackward0>),\n",
       "  tensor(0.0454, grad_fn=<MeanBackward0>),\n",
       "  tensor(0.0417, grad_fn=<MeanBackward0>),\n",
       "  tensor(0.0382, grad_fn=<MeanBackward0>),\n",
       "  tensor(0.0348, grad_fn=<MeanBackward0>),\n",
       "  tensor(0.0313, grad_fn=<MeanBackward0>),\n",
       "  tensor(0.0279, grad_fn=<MeanBackward0>),\n",
       "  tensor(0.0245, grad_fn=<MeanBackward0>),\n",
       "  tensor(0.0210, grad_fn=<MeanBackward0>),\n",
       "  tensor(0.0176, grad_fn=<MeanBackward0>),\n",
       "  tensor(0.0142, grad_fn=<MeanBackward0>),\n",
       "  tensor(0.0107, grad_fn=<MeanBackward0>),\n",
       "  tensor(0.0073, grad_fn=<MeanBackward0>),\n",
       "  tensor(0.0039, grad_fn=<MeanBackward0>),\n",
       "  tensor(0.0089, grad_fn=<MeanBackward0>),\n",
       "  tensor(0.0089, grad_fn=<MeanBackward0>),\n",
       "  tensor(0.0089, grad_fn=<MeanBackward0>)])"
      ]
     },
     "execution_count": 31,
     "metadata": {},
     "output_type": "execute_result"
    }
   ],
   "execution_count": 31
  },
  {
   "metadata": {
    "ExecuteTime": {
     "end_time": "2025-01-29T15:08:56.048500Z",
     "start_time": "2025-01-29T15:08:55.707786Z"
    }
   },
   "cell_type": "code",
   "source": [
    "# plot the loss curves\n",
    "plt.plot(epoch_count, np.array(torch.tensor(lost_values).numpy()), label=\"Training Loss\")\n",
    "plt.plot(epoch_count, test_loss_values, label=\"Test Loss\")\n",
    "plt.title(\"Training Loss and Test Loss\")\n",
    "plt.ylabel(\"Loss\")\n",
    "plt.xlabel(\"Epoch\")\n",
    "plt.legend()"
   ],
   "outputs": [
    {
     "data": {
      "text/plain": [
       "<matplotlib.legend.Legend at 0x7f09a50d7880>"
      ]
     },
     "execution_count": 32,
     "metadata": {},
     "output_type": "execute_result"
    },
    {
     "data": {
      "text/plain": [
       "<Figure size 640x480 with 1 Axes>"
      ],
      "image/png": "[encoded data removed]"
     },
     "metadata": {},
     "output_type": "display_data"
    }
   ],
   "execution_count": 32
  },
  {
   "metadata": {
    "ExecuteTime": {
     "end_time": "2025-01-29T15:08:56.064749Z",
     "start_time": "2025-01-29T15:08:56.058280Z"
    }
   },
   "cell_type": "code",
   "source": [
    "with torch.inference_mode():\n",
    "    y_preds_new = model_0(X_test)"
   ],
   "outputs": [],
   "execution_count": 33
  },
  {
   "metadata": {
    "ExecuteTime": {
     "end_time": "2025-01-29T15:08:56.127262Z",
     "start_time": "2025-01-29T15:08:56.117085Z"
    }
   },
   "cell_type": "code",
   "source": "model_0.state_dict()",
   "outputs": [
    {
     "data": {
      "text/plain": [
       "OrderedDict([('weights', tensor([0.6990])), ('bias', tensor([0.3093]))])"
      ]
     },
     "execution_count": 34,
     "metadata": {},
     "output_type": "execute_result"
    }
   ],
   "execution_count": 34
  },
  {
   "metadata": {
    "ExecuteTime": {
     "end_time": "2025-01-29T15:08:56.204096Z",
     "start_time": "2025-01-29T15:08:56.194272Z"
    }
   },
   "cell_type": "code",
   "source": "model_0.state_dict()",
   "outputs": [
    {
     "data": {
      "text/plain": [
       "OrderedDict([('weights', tensor([0.6990])), ('bias', tensor([0.3093]))])"
      ]
     },
     "execution_count": 35,
     "metadata": {},
     "output_type": "execute_result"
    }
   ],
   "execution_count": 35
  },
  {
   "metadata": {
    "ExecuteTime": {
     "end_time": "2025-01-29T15:08:56.265260Z",
     "start_time": "2025-01-29T15:08:56.257776Z"
    }
   },
   "cell_type": "code",
   "source": "weight, bias",
   "outputs": [
    {
     "data": {
      "text/plain": [
       "(0.7, 0.3)"
      ]
     },
     "execution_count": 36,
     "metadata": {},
     "output_type": "execute_result"
    }
   ],
   "execution_count": 36
  },
  {
   "metadata": {
    "ExecuteTime": {
     "end_time": "2025-01-29T15:08:56.659367Z",
     "start_time": "2025-01-29T15:08:56.321474Z"
    }
   },
   "cell_type": "code",
   "source": "plot_predictions(predictions=y_preds)",
   "outputs": [
    {
     "data": {
      "text/plain": [
       "<Figure size 1000x700 with 1 Axes>"
      ],
      "image/png": "[encoded data removed]"
     },
     "metadata": {},
     "output_type": "display_data"
    }
   ],
   "execution_count": 37
  },
  {
   "metadata": {
    "ExecuteTime": {
     "end_time": "2025-01-29T15:08:57.006629Z",
     "start_time": "2025-01-29T15:08:56.731149Z"
    }
   },
   "cell_type": "code",
   "source": "plot_predictions(predictions=y_preds_new)",
   "outputs": [
    {
     "data": {
      "text/plain": [
       "<Figure size 1000x700 with 1 Axes>"
      ],
      "image/png": "[encoded data removed]"
     },
     "metadata": {},
     "output_type": "display_data"
    }
   ],
   "execution_count": 38
  },
  {
   "metadata": {},
   "cell_type": "markdown",
   "source": [
    "## Saving a model in PyTroch\n",
    "\n",
    "They are 3 main methods you should about for saving and loading models in PyTorch\n",
    "1. `torch.save()` - allows you save a PyTorch object in Python's pickle format\n",
    "2. `torch.load()` - allows you load a saved PyTorch object\n",
    "3. `torch.nn.Module.load_state_dict()` - this allows to load to a model's saved state dictionary\n",
    "\n",
    "PyTorch save & load code tutorial :  https://pytorch.org/tutorials/beginner/saving_loading_models.html"
   ]
  },
  {
   "metadata": {
    "ExecuteTime": {
     "end_time": "2025-01-29T15:08:57.050625Z",
     "start_time": "2025-01-29T15:08:57.044197Z"
    }
   },
   "cell_type": "code",
   "source": [
    "# saving PyTorch model\n",
    "from pathlib import Path\n",
    "\n",
    "model_0.state_dict()\n",
    "\n",
    "# 1. create models durectory\n",
    "MODEL_PATH = Path(\"../Models\")\n",
    "MODEL_PATH.mkdir(parents=True, exist_ok=True)\n",
    "\n",
    "# 2. create model savepath\n",
    "MODEL_NAME = '01_Pytorch_workflow.pth'\n",
    "MODEL_SAVE_PATH = MODEL_PATH/MODEL_NAME\n",
    "\n",
    "# 3. save the model state dict\n",
    "print(f\"Saving model to : {MODEL_SAVE_PATH}\")\n",
    "torch.save(obj=model_0.state_dict(), f=MODEL_SAVE_PATH)"
   ],
   "outputs": [
    {
     "name": "stdout",
     "output_type": "stream",
     "text": [
      "Saving model to : ../Models/01_Pytorch_workflow.pth\n"
     ]
    }
   ],
   "execution_count": 39
  },
  {
   "metadata": {},
   "cell_type": "markdown",
   "source": [
    "## 6. Putting it all together\n",
    "\n",
    "let's go back through the steps above and see it all in one place"
   ]
  },
  {
   "metadata": {
    "ExecuteTime": {
     "end_time": "2025-01-31T09:12:41.133198Z",
     "start_time": "2025-01-31T09:12:37.863428Z"
    }
   },
   "cell_type": "code",
   "source": [
    "# Import PyTorch and matplotlib\n",
    "import torch\n",
    "from torch import nn\n",
    "import matplotlib.pyplot as plt\n",
    "import numpy as np\n",
    "\n",
    "#check pytroch version\n",
    "torch.__version__"
   ],
   "outputs": [
    {
     "data": {
      "text/plain": [
       "'2.5.1+cu124'"
      ]
     },
     "execution_count": 2,
     "metadata": {},
     "output_type": "execute_result"
    }
   ],
   "execution_count": 2
  },
  {
   "metadata": {},
   "cell_type": "markdown",
   "source": [
    "create device-agnostic code\n",
    "\n",
    "this means if we've got access to a GPU, out code will use it (for potentially faster computing).\n",
    "\n",
    "If no GPU is available, the code will default to using CPU"
   ]
  },
  {
   "metadata": {
    "ExecuteTime": {
     "end_time": "2025-01-31T16:32:51.734229Z",
     "start_time": "2025-01-31T16:32:51.731883Z"
    }
   },
   "cell_type": "code",
   "source": [
    "# set up device agnostic code\n",
    "devive = \"cuda\" if torch.cuda.is_available() else \"cpu\"\n",
    "print(f\"using device : {devive}\")"
   ],
   "outputs": [
    {
     "name": "stdout",
     "output_type": "stream",
     "text": [
      "using device : cuda\n"
     ]
    }
   ],
   "execution_count": 94
  },
  {
   "metadata": {
    "ExecuteTime": {
     "end_time": "2025-01-29T15:08:57.485405Z",
     "start_time": "2025-01-29T15:08:57.208814Z"
    }
   },
   "cell_type": "code",
   "source": "!nvidia-smi",
   "outputs": [
    {
     "name": "stdout",
     "output_type": "stream",
     "text": [
      "Wed Jan 29 22:08:57 2025       \r\n",
      "+-----------------------------------------------------------------------------------------+\r\n",
      "| NVIDIA-SMI 560.35.05              Driver Version: 550.144.03     CUDA Version: 12.4     |\r\n",
      "|-----------------------------------------+------------------------+----------------------+\r\n",
      "| GPU  Name                 Persistence-M | Bus-Id          Disp.A | Volatile Uncorr. ECC |\r\n",
      "| Fan  Temp   Perf          Pwr:Usage/Cap |           Memory-Usage | GPU-Util  Compute M. |\r\n",
      "|                                         |                        |               MIG M. |\r\n",
      "|=========================================+========================+======================|\r\n",
      "|   0  NVIDIA GeForce RTX 3050 ...    Off |   00000000:01:00.0 Off |                  N/A |\r\n",
      "| N/A   47C    P8              9W /   30W |      10MiB /   4096MiB |      0%      Default |\r\n",
      "|                                         |                        |                  N/A |\r\n",
      "+-----------------------------------------+------------------------+----------------------+\r\n",
      "                                                                                         \r\n",
      "+-----------------------------------------------------------------------------------------+\r\n",
      "| Processes:                                                                              |\r\n",
      "|  GPU   GI   CI        PID   Type   Process name                              GPU Memory |\r\n",
      "|        ID   ID                                                               Usage      |\r\n",
      "|=========================================================================================|\r\n",
      "|    0   N/A  N/A     18531      G   /usr/bin/gnome-shell                            1MiB |\r\n",
      "|    0   N/A  N/A     19679      G   extension-manager                               1MiB |\r\n",
      "+-----------------------------------------------------------------------------------------+\r\n"
     ]
    }
   ],
   "execution_count": 42
  },
  {
   "metadata": {},
   "cell_type": "markdown",
   "source": "### 6.1 Data"
  },
  {
   "metadata": {
    "ExecuteTime": {
     "end_time": "2025-01-29T15:08:57.521640Z",
     "start_time": "2025-01-29T15:08:57.515100Z"
    }
   },
   "cell_type": "code",
   "source": [
    "# create some data using the LR formula of y = weight * X + bias\n",
    "\n",
    "weight = 0.7\n",
    "bias = 0.3\n",
    "\n",
    "# Cerate random values\n",
    "start = 0\n",
    "end = 1\n",
    "step  = 0.02\n",
    "\n",
    "#create X and Y (features and labels)\n",
    "X = torch.arange(start, end, step).unsqueeze(dim=1)\n",
    "y = weight * X + bias\n",
    "X[:10], y[:10]"
   ],
   "outputs": [
    {
     "data": {
      "text/plain": [
       "(tensor([[0.0000],\n",
       "         [0.0200],\n",
       "         [0.0400],\n",
       "         [0.0600],\n",
       "         [0.0800],\n",
       "         [0.1000],\n",
       "         [0.1200],\n",
       "         [0.1400],\n",
       "         [0.1600],\n",
       "         [0.1800]]),\n",
       " tensor([[0.3000],\n",
       "         [0.3140],\n",
       "         [0.3280],\n",
       "         [0.3420],\n",
       "         [0.3560],\n",
       "         [0.3700],\n",
       "         [0.3840],\n",
       "         [0.3980],\n",
       "         [0.4120],\n",
       "         [0.4260]]))"
      ]
     },
     "execution_count": 43,
     "metadata": {},
     "output_type": "execute_result"
    }
   ],
   "execution_count": 43
  },
  {
   "metadata": {
    "ExecuteTime": {
     "end_time": "2025-01-29T15:08:57.572209Z",
     "start_time": "2025-01-29T15:08:57.567083Z"
    }
   },
   "cell_type": "code",
   "source": [
    "# Split data\n",
    "train_split = int(0.8 * len(X))\n",
    "X_train, y_train = X[:train_split], y[:train_split]\n",
    "X_test, y_test = X[train_split:], y[train_split:]\n",
    "len(X_train), len(y_train), len(X_test), len(y_test)"
   ],
   "outputs": [
    {
     "data": {
      "text/plain": [
       "(40, 40, 10, 10)"
      ]
     },
     "execution_count": 44,
     "metadata": {},
     "output_type": "execute_result"
    }
   ],
   "execution_count": 44
  },
  {
   "metadata": {
    "ExecuteTime": {
     "end_time": "2025-01-29T15:08:57.802423Z",
     "start_time": "2025-01-29T15:08:57.622112Z"
    }
   },
   "cell_type": "code",
   "source": [
    "# PLot the data \n",
    "# Note : if you don't have the plot_predictions() function loaded, this will error\n",
    "plot_predictions(X_train, y_train, X_test, y_test)"
   ],
   "outputs": [
    {
     "data": {
      "text/plain": [
       "<Figure size 1000x700 with 1 Axes>"
      ],
      "image/png": "[encoded data removed]"
     },
     "metadata": {},
     "output_type": "display_data"
    }
   ],
   "execution_count": 45
  },
  {
   "metadata": {},
   "cell_type": "markdown",
   "source": "## 6.2 Bulding a PyTorch Linear model\n"
  },
  {
   "metadata": {
    "ExecuteTime": {
     "end_time": "2025-01-29T15:08:57.855508Z",
     "start_time": "2025-01-29T15:08:57.848272Z"
    }
   },
   "cell_type": "code",
   "source": [
    "# create a lin model by subclassing nn module\n",
    "class Linreg2(nn.Module):\n",
    "    def __init__(self):\n",
    "        super().__init__()\n",
    "        # use nn.linear() for creating the model parameters / also called : linear transform, probing layer, fully connected layer, dense layer\n",
    "        self.linear_layer = nn.Linear(in_features=1, out_features=1)\n",
    "        \n",
    "    def forward(self, x: torch.Tensor) -> torch.Tensor:\n",
    "        return self.linear_layer(x)\n",
    "    \n",
    "#set the manual seed\n",
    "torch.manual_seed(42)\n",
    "model_1 = Linreg2()\n",
    "model_1, model_1.state_dict()"
   ],
   "outputs": [
    {
     "data": {
      "text/plain": [
       "(Linreg2(\n",
       "   (linear_layer): Linear(in_features=1, out_features=1, bias=True)\n",
       " ),\n",
       " OrderedDict([('linear_layer.weight', tensor([[0.7645]])),\n",
       "              ('linear_layer.bias', tensor([0.8300]))]))"
      ]
     },
     "execution_count": 46,
     "metadata": {},
     "output_type": "execute_result"
    }
   ],
   "execution_count": 46
  },
  {
   "metadata": {
    "ExecuteTime": {
     "end_time": "2025-01-29T15:08:57.886684Z",
     "start_time": "2025-01-29T15:08:57.881011Z"
    }
   },
   "cell_type": "code",
   "source": "X_train[:5], y_train[:5]",
   "outputs": [
    {
     "data": {
      "text/plain": [
       "(tensor([[0.0000],\n",
       "         [0.0200],\n",
       "         [0.0400],\n",
       "         [0.0600],\n",
       "         [0.0800]]),\n",
       " tensor([[0.3000],\n",
       "         [0.3140],\n",
       "         [0.3280],\n",
       "         [0.3420],\n",
       "         [0.3560]]))"
      ]
     },
     "execution_count": 47,
     "metadata": {},
     "output_type": "execute_result"
    }
   ],
   "execution_count": 47
  },
  {
   "metadata": {
    "ExecuteTime": {
     "end_time": "2025-01-29T15:08:57.939707Z",
     "start_time": "2025-01-29T15:08:57.935402Z"
    }
   },
   "cell_type": "code",
   "source": [
    "# Set the model to use the target device\n",
    "next(model_1.parameters()).device"
   ],
   "outputs": [
    {
     "data": {
      "text/plain": [
       "device(type='cpu')"
      ]
     },
     "execution_count": 48,
     "metadata": {},
     "output_type": "execute_result"
    }
   ],
   "execution_count": 48
  },
  {
   "metadata": {
    "ExecuteTime": {
     "end_time": "2025-01-29T15:08:58.114344Z",
     "start_time": "2025-01-29T15:08:57.990500Z"
    }
   },
   "cell_type": "code",
   "source": [
    "model_1.to(devive)\n",
    "next(model_1.parameters()).device"
   ],
   "outputs": [
    {
     "data": {
      "text/plain": [
       "device(type='cuda', index=0)"
      ]
     },
     "execution_count": 49,
     "metadata": {},
     "output_type": "execute_result"
    }
   ],
   "execution_count": 49
  },
  {
   "metadata": {
    "ExecuteTime": {
     "end_time": "2025-01-29T15:08:58.287580Z",
     "start_time": "2025-01-29T15:08:58.156436Z"
    }
   },
   "cell_type": "code",
   "source": "model_1.state_dict()",
   "outputs": [
    {
     "data": {
      "text/plain": [
       "OrderedDict([('linear_layer.weight', tensor([[0.7645]], device='cuda:0')),\n",
       "             ('linear_layer.bias', tensor([0.8300], device='cuda:0'))])"
      ]
     },
     "execution_count": 50,
     "metadata": {},
     "output_type": "execute_result"
    }
   ],
   "execution_count": 50
  },
  {
   "metadata": {},
   "cell_type": "markdown",
   "source": [
    "## 6.3 Training\n",
    "\n",
    "for training we need : \n",
    "* loss function\n",
    "* opt\n",
    "* training loop\n",
    "* testing loop"
   ]
  },
  {
   "metadata": {
    "ExecuteTime": {
     "end_time": "2025-01-29T15:08:58.319102Z",
     "start_time": "2025-01-29T15:08:58.316231Z"
    }
   },
   "cell_type": "code",
   "source": [
    "# set up loss function\n",
    "\n",
    "loss_func = nn.L1Loss()\n",
    "\n",
    "#set up opt\n",
    "optimizer = optim.SGD(params=model_1.parameters(), lr = 0.01)\n",
    "\n"
   ],
   "outputs": [],
   "execution_count": 51
  },
  {
   "metadata": {
    "ExecuteTime": {
     "end_time": "2025-01-29T15:08:58.821819Z",
     "start_time": "2025-01-29T15:08:58.363226Z"
    }
   },
   "cell_type": "code",
   "source": [
    "#write a training loop\n",
    "torch.manual_seed(42)\n",
    "\n",
    "epochsss = 200\n",
    "\n",
    "# put data on the target device (device agnostic code for data)\n",
    "X_train = X_train.to(devive)\n",
    "X_test = X_test.to(devive)\n",
    "y_train = y_train.to(devive)\n",
    "y_test = y_test.to(devive)\n",
    "\n",
    "for epoch in range(epochsss):\n",
    "    model_1.train()\n",
    "    \n",
    "    #1. do the forward pass\n",
    "    y_predd = model_1(X_train)\n",
    "    \n",
    "    #2. calculate the loss\n",
    "    loss = loss_func(y_predd, y_train)\n",
    "    \n",
    "    #3. Opti zero grad\n",
    "    optimizer.zero_grad()\n",
    "    \n",
    "    #4. perform backprop\n",
    "    loss.backward()\n",
    "    \n",
    "    #5. opti step\n",
    "    optimizer.step()\n",
    "    \n",
    "    ### testing\n",
    "    model_1.eval()\n",
    "    with torch.inference_mode():\n",
    "        test_pred = model_1(X_test)\n",
    "        \n",
    "        test_loss = loss_func(test_pred, y_test)\n",
    "        \n",
    "    #Print out what's happening\n",
    "    if epoch % 10 == 0:\n",
    "        print(f\"Epoch : {epoch} | Loss : {loss} | Test Loss: {test_loss}\")"
   ],
   "outputs": [
    {
     "name": "stdout",
     "output_type": "stream",
     "text": [
      "Epoch : 0 | Loss : 0.5551779866218567 | Test Loss: 0.5739762187004089\n",
      "Epoch : 10 | Loss : 0.439968079328537 | Test Loss: 0.4392664134502411\n",
      "Epoch : 20 | Loss : 0.3247582018375397 | Test Loss: 0.30455657839775085\n",
      "Epoch : 30 | Loss : 0.20954833924770355 | Test Loss: 0.16984669864177704\n",
      "Epoch : 40 | Loss : 0.09433845430612564 | Test Loss: 0.03513690456748009\n",
      "Epoch : 50 | Loss : 0.023886388167738914 | Test Loss: 0.04784907028079033\n",
      "Epoch : 60 | Loss : 0.019956795498728752 | Test Loss: 0.045803118497133255\n",
      "Epoch : 70 | Loss : 0.016517987474799156 | Test Loss: 0.037530567497015\n",
      "Epoch : 80 | Loss : 0.013089174404740334 | Test Loss: 0.02994490973651409\n",
      "Epoch : 90 | Loss : 0.009653178043663502 | Test Loss: 0.02167237363755703\n",
      "Epoch : 100 | Loss : 0.006215683650225401 | Test Loss: 0.014086711220443249\n",
      "Epoch : 110 | Loss : 0.00278724217787385 | Test Loss: 0.005814164876937866\n",
      "Epoch : 120 | Loss : 0.0012645035749301314 | Test Loss: 0.013801801018416882\n",
      "Epoch : 130 | Loss : 0.0012645035749301314 | Test Loss: 0.013801801018416882\n",
      "Epoch : 140 | Loss : 0.0012645035749301314 | Test Loss: 0.013801801018416882\n",
      "Epoch : 150 | Loss : 0.0012645035749301314 | Test Loss: 0.013801801018416882\n",
      "Epoch : 160 | Loss : 0.0012645035749301314 | Test Loss: 0.013801801018416882\n",
      "Epoch : 170 | Loss : 0.0012645035749301314 | Test Loss: 0.013801801018416882\n",
      "Epoch : 180 | Loss : 0.0012645035749301314 | Test Loss: 0.013801801018416882\n",
      "Epoch : 190 | Loss : 0.0012645035749301314 | Test Loss: 0.013801801018416882\n"
     ]
    }
   ],
   "execution_count": 52
  },
  {
   "metadata": {
    "ExecuteTime": {
     "end_time": "2025-01-29T15:08:58.886503Z",
     "start_time": "2025-01-29T15:08:58.881587Z"
    }
   },
   "cell_type": "code",
   "source": "model_1.state_dict()",
   "outputs": [
    {
     "data": {
      "text/plain": [
       "OrderedDict([('linear_layer.weight', tensor([[0.6968]], device='cuda:0')),\n",
       "             ('linear_layer.bias', tensor([0.3025], device='cuda:0'))])"
      ]
     },
     "execution_count": 53,
     "metadata": {},
     "output_type": "execute_result"
    }
   ],
   "execution_count": 53
  },
  {
   "metadata": {
    "ExecuteTime": {
     "end_time": "2025-01-29T15:08:59.106977Z",
     "start_time": "2025-01-29T15:08:58.933733Z"
    }
   },
   "cell_type": "code",
   "source": [
    "X_train_cpu = X_train.detach().cpu().numpy()\n",
    "X_test_cpu = X_test.detach().cpu().numpy()\n",
    "y_train_cpu = y_train.detach().cpu().numpy()\n",
    "y_test_cpu = y_test.detach().cpu().numpy()\n",
    "test_pred_cpu = test_pred.detach().cpu().numpy()\n",
    "\n",
    "plot_predictions(train_data=X_train_cpu,\n",
    "                 train_labels=y_train_cpu,\n",
    "                 test_data=X_test_cpu,\n",
    "                 test_labels=y_test_cpu,\n",
    "                 predictions=test_pred_cpu)"
   ],
   "outputs": [
    {
     "data": {
      "text/plain": [
       "<Figure size 1000x700 with 1 Axes>"
      ],
      "image/png": "[encoded data removed]"
     },
     "metadata": {},
     "output_type": "display_data"
    }
   ],
   "execution_count": 54
  },
  {
   "metadata": {
    "ExecuteTime": {
     "end_time": "2025-01-29T15:08:59.122389Z",
     "start_time": "2025-01-29T15:08:59.116667Z"
    }
   },
   "cell_type": "code",
   "source": [
    "# 6.5 saving and loading a trained model\n",
    "model_1.state_dict()\n",
    "\n",
    "latihan_model_path = Path(\"../Models\")\n",
    "latihan_model_path.mkdir(parents=True, exist_ok=True)\n",
    "\n",
    "nama_model = 'eak model.pth'\n",
    "nama_simpen_model = latihan_model_path/nama_model\n",
    "\n",
    "print(f\"Saving model to : {nama_simpen_model}\")\n",
    "torch.save(obj=model_1.state_dict(), f=nama_simpen_model)"
   ],
   "outputs": [
    {
     "name": "stdout",
     "output_type": "stream",
     "text": [
      "Saving model to : ../Models/eak model.pth\n"
     ]
    }
   ],
   "execution_count": 55
  },
  {
   "metadata": {
    "ExecuteTime": {
     "end_time": "2025-01-29T15:08:59.179157Z",
     "start_time": "2025-01-29T15:08:59.172158Z"
    }
   },
   "cell_type": "code",
   "source": [
    "# load a PyTorch model\n",
    "\n",
    "# create an instance of linreg2\n",
    "ngambil_model = Linreg2()\n",
    "\n",
    "# load the model model_1 state dict\n",
    "ngambil_model.load_state_dict(torch.load(nama_simpen_model))\n",
    "\n",
    "# put the target / loaded model to device\n",
    "ngambil_model.to(devive)"
   ],
   "outputs": [
    {
     "name": "stderr",
     "output_type": "stream",
     "text": [
      "/tmp/ipykernel_26675/1956801586.py:7: FutureWarning: You are using `torch.load` with `weights_only=False` (the current default value), which uses the default pickle module implicitly. It is possible to construct malicious pickle data which will execute arbitrary code during unpickling (See https://github.com/pytorch/pytorch/blob/main/SECURITY.md#untrusted-models for more details). In a future release, the default value for `weights_only` will be flipped to `True`. This limits the functions that could be executed during unpickling. Arbitrary objects will no longer be allowed to be loaded via this mode unless they are explicitly allowlisted by the user via `torch.serialization.add_safe_globals`. We recommend you start setting `weights_only=True` for any use case where you don't have full control of the loaded file. Please open an issue on GitHub for any issues related to this experimental feature.\n",
      "  ngambil_model.load_state_dict(torch.load(nama_simpen_model))\n"
     ]
    },
    {
     "data": {
      "text/plain": [
       "Linreg2(\n",
       "  (linear_layer): Linear(in_features=1, out_features=1, bias=True)\n",
       ")"
      ]
     },
     "execution_count": 56,
     "metadata": {},
     "output_type": "execute_result"
    }
   ],
   "execution_count": 56
  },
  {
   "metadata": {
    "ExecuteTime": {
     "end_time": "2025-01-29T15:08:59.231235Z",
     "start_time": "2025-01-29T15:08:59.226994Z"
    }
   },
   "cell_type": "code",
   "source": "next(ngambil_model.parameters()).device",
   "outputs": [
    {
     "data": {
      "text/plain": [
       "device(type='cuda', index=0)"
      ]
     },
     "execution_count": 57,
     "metadata": {},
     "output_type": "execute_result"
    }
   ],
   "execution_count": 57
  },
  {
   "metadata": {
    "ExecuteTime": {
     "end_time": "2025-01-29T15:08:59.285818Z",
     "start_time": "2025-01-29T15:08:59.279784Z"
    }
   },
   "cell_type": "code",
   "source": "ngambil_model.state_dict()",
   "outputs": [
    {
     "data": {
      "text/plain": [
       "OrderedDict([('linear_layer.weight', tensor([[0.6968]], device='cuda:0')),\n",
       "             ('linear_layer.bias', tensor([0.3025], device='cuda:0'))])"
      ]
     },
     "execution_count": 58,
     "metadata": {},
     "output_type": "execute_result"
    }
   ],
   "execution_count": 58
  },
  {
   "metadata": {
    "ExecuteTime": {
     "end_time": "2025-01-29T15:08:59.455252Z",
     "start_time": "2025-01-29T15:08:59.449983Z"
    }
   },
   "cell_type": "code",
   "source": [
    "# evaluate loaded model\n",
    "ngambil_model.eval()\n",
    "with torch.inference_mode():\n",
    "    preds_ngambil_model_1 = ngambil_model(X_test)\n",
    "test_pred == preds_ngambil_model_1"
   ],
   "outputs": [
    {
     "data": {
      "text/plain": [
       "tensor([[True],\n",
       "        [True],\n",
       "        [True],\n",
       "        [True],\n",
       "        [True],\n",
       "        [True],\n",
       "        [True],\n",
       "        [True],\n",
       "        [True],\n",
       "        [True]], device='cuda:0')"
      ]
     },
     "execution_count": 59,
     "metadata": {},
     "output_type": "execute_result"
    }
   ],
   "execution_count": 59
  },
  {
   "metadata": {},
   "cell_type": "markdown",
   "source": [
    "## Exercises & extra curriculum \n",
    "\n",
    "For Exercise and extra curriculum, refer to : https://www.learnpytorch.io/01_pytorch_workflow/#exercises\n",
    "\n"
   ]
  },
  {
   "metadata": {
    "ExecuteTime": {
     "end_time": "2025-01-31T16:37:36.614538Z",
     "start_time": "2025-01-31T16:37:36.612039Z"
    }
   },
   "cell_type": "code",
   "source": [
    "import numpy as np\n",
    "import pandas as pd\n",
    "import matplotlib.pyplot as plt\n",
    "\n",
    "from sklearn.model_selection import train_test_split\n",
    "#testing on linux env"
   ],
   "outputs": [],
   "execution_count": 141
  },
  {
   "metadata": {},
   "cell_type": "markdown",
   "source": "### Build the dataset"
  },
  {
   "metadata": {
    "ExecuteTime": {
     "end_time": "2025-01-31T16:37:36.628921Z",
     "start_time": "2025-01-31T16:37:36.623433Z"
    }
   },
   "cell_type": "code",
   "source": [
    "# Latiann\n",
    "l_weight = 0.9\n",
    "l_bias = 0.3\n",
    "\n",
    "# create some data\n",
    "start = 0\n",
    "end = 1\n",
    "step = 0.02\n",
    "X = torch.arange(start, end, step).unsqueeze(dim=1)\n",
    "y = l_weight * X + l_bias\n",
    "\n",
    "X[:10], y[:10], len(X), len(y)"
   ],
   "outputs": [
    {
     "data": {
      "text/plain": [
       "(tensor([[0.0000],\n",
       "         [0.0200],\n",
       "         [0.0400],\n",
       "         [0.0600],\n",
       "         [0.0800],\n",
       "         [0.1000],\n",
       "         [0.1200],\n",
       "         [0.1400],\n",
       "         [0.1600],\n",
       "         [0.1800]]),\n",
       " tensor([[0.3000],\n",
       "         [0.3180],\n",
       "         [0.3360],\n",
       "         [0.3540],\n",
       "         [0.3720],\n",
       "         [0.3900],\n",
       "         [0.4080],\n",
       "         [0.4260],\n",
       "         [0.4440],\n",
       "         [0.4620]]),\n",
       " 50,\n",
       " 50)"
      ]
     },
     "execution_count": 142,
     "metadata": {},
     "output_type": "execute_result"
    }
   ],
   "execution_count": 142
  },
  {
   "metadata": {},
   "cell_type": "markdown",
   "source": "### Split it"
  },
  {
   "metadata": {
    "ExecuteTime": {
     "end_time": "2025-01-31T16:37:36.675178Z",
     "start_time": "2025-01-31T16:37:36.672078Z"
    }
   },
   "cell_type": "code",
   "source": [
    "train_split1 = int(0.8 * len(X)) # 80% of data used for training set, 20% for testing\n",
    "X_train, y_train = X[:train_split1], y[:train_split1]\n",
    "X_test, y_test = X[train_split1:], y[train_split1:]"
   ],
   "outputs": [],
   "execution_count": 143
  },
  {
   "metadata": {
    "ExecuteTime": {
     "end_time": "2025-01-31T16:37:36.724105Z",
     "start_time": "2025-01-31T16:37:36.720045Z"
    }
   },
   "cell_type": "code",
   "source": "len(X_train), len(y_train), len(X_test), len(y_test)",
   "outputs": [
    {
     "data": {
      "text/plain": [
       "(40, 40, 10, 10)"
      ]
     },
     "execution_count": 144,
     "metadata": {},
     "output_type": "execute_result"
    }
   ],
   "execution_count": 144
  },
  {
   "metadata": {},
   "cell_type": "markdown",
   "source": "### Visualize the dataset"
  },
  {
   "metadata": {
    "ExecuteTime": {
     "end_time": "2025-01-31T16:37:36.773036Z",
     "start_time": "2025-01-31T16:37:36.768726Z"
    }
   },
   "cell_type": "code",
   "source": [
    "def plot_predictions(train_data=X_train,\n",
    "                     train_labels=y_train,\n",
    "                     test_data=X_test,\n",
    "                     test_labels=y_test,\n",
    "                     predictions=None):\n",
    "\n",
    "    \"\"\"\n",
    "    Plots training data, test data and compares predictions.\n",
    "    \"\"\"\n",
    "    plt.figure(figsize=(10, 7))\n",
    "\n",
    "    #Plot training data in blue\n",
    "    plt.scatter(train_data, train_labels, c=\"b\", s=4, label=\"Training data1\")\n",
    "\n",
    "    #Plot test data in green\n",
    "    plt.scatter(test_data, test_labels, c=\"g\", s=4, label=\"Testing data1\")\n",
    "\n",
    "    #Are there predictions\n",
    "    if predictions is not None:\n",
    "        #Plot predictions in red (predictions in green aren't ideal)\n",
    "        plt.scatter(test_data, predictions, c=\"r\", s=4, label=\"Predictions1\")\n",
    "\n",
    "    #show legend\n",
    "    plt.legend(prop={\"size\": 14});"
   ],
   "outputs": [],
   "execution_count": 145
  },
  {
   "metadata": {
    "ExecuteTime": {
     "end_time": "2025-01-31T16:37:36.945888Z",
     "start_time": "2025-01-31T16:37:36.816693Z"
    }
   },
   "cell_type": "code",
   "source": "plot_predictions()",
   "outputs": [
    {
     "data": {
      "text/plain": [
       "<Figure size 1000x700 with 1 Axes>"
      ],
      "image/png": "[encoded data removed]"
     },
     "metadata": {},
     "output_type": "display_data"
    }
   ],
   "execution_count": 146
  },
  {
   "metadata": {},
   "cell_type": "markdown",
   "source": "### Create the model"
  },
  {
   "metadata": {
    "ExecuteTime": {
     "end_time": "2025-01-31T16:37:36.964697Z",
     "start_time": "2025-01-31T16:37:36.961388Z"
    }
   },
   "cell_type": "code",
   "source": [
    "class ModelGacorLR(nn.Module):\n",
    "    def __init__(self):\n",
    "        super().__init__()\n",
    "        self.weights = nn.Parameter(torch.randn(1,\n",
    "                                                      requires_grad=True,\n",
    "                                                dtype=torch.float))\n",
    "        self.bias = nn.Parameter(torch.randn(1,\n",
    "                                                requires_grad=True,\n",
    "                                                dtype=torch.float))\n",
    "\n",
    "    def forward(self, x:torch.Tensor)->torch.Tensor:\n",
    "        return self.weights * x + self.bias"
   ],
   "outputs": [],
   "execution_count": 147
  },
  {
   "metadata": {
    "ExecuteTime": {
     "end_time": "2025-01-31T16:37:37.023249Z",
     "start_time": "2025-01-31T16:37:37.019056Z"
    }
   },
   "cell_type": "code",
   "source": [
    "torch.manual_seed(42)\n",
    "\n",
    "modelsaya = ModelGacorLR()\n",
    "\n",
    "list(modelsaya.parameters())"
   ],
   "outputs": [
    {
     "data": {
      "text/plain": [
       "[Parameter containing:\n",
       " tensor([0.3367], requires_grad=True),\n",
       " Parameter containing:\n",
       " tensor([0.1288], requires_grad=True)]"
      ]
     },
     "execution_count": 148,
     "metadata": {},
     "output_type": "execute_result"
    }
   ],
   "execution_count": 148
  },
  {
   "metadata": {
    "ExecuteTime": {
     "end_time": "2025-01-31T16:37:37.069854Z",
     "start_time": "2025-01-31T16:37:37.065827Z"
    }
   },
   "cell_type": "code",
   "source": "modelsaya.state_dict()",
   "outputs": [
    {
     "data": {
      "text/plain": [
       "OrderedDict([('weights', tensor([0.3367])), ('bias', tensor([0.1288]))])"
      ]
     },
     "execution_count": 149,
     "metadata": {},
     "output_type": "execute_result"
    }
   ],
   "execution_count": 149
  },
  {
   "metadata": {},
   "cell_type": "markdown",
   "source": "### Create a loss function and the optimizer"
  },
  {
   "metadata": {
    "ExecuteTime": {
     "end_time": "2025-01-31T16:37:37.116480Z",
     "start_time": "2025-01-31T16:37:37.113941Z"
    }
   },
   "cell_type": "code",
   "source": [
    "loss_function = nn.L1Loss()\n",
    "\n",
    "opt = torch.optim.SGD(params=modelsaya.parameters(), lr = 0.01)"
   ],
   "outputs": [],
   "execution_count": 150
  },
  {
   "metadata": {},
   "cell_type": "markdown",
   "source": "### Build a training loop"
  },
  {
   "metadata": {
    "ExecuteTime": {
     "end_time": "2025-01-31T16:37:37.372915Z",
     "start_time": "2025-01-31T16:37:37.163719Z"
    }
   },
   "cell_type": "code",
   "source": [
    "torch.manual_seed(42)\n",
    "\n",
    "epochnya = 300\n",
    "\n",
    "# track different values\n",
    "itung_epoch = []\n",
    "loss_valuenya = []\n",
    "ngetes_loss_valuenya = []\n",
    "\n",
    "# training\n",
    "\n",
    "# loop through the data\n",
    "for epoch in range(epochnya):\n",
    "    #set the model to training mode\n",
    "    modelsaya.train() # train mode in PyTorch set all parameters that require gradients to require gradients\n",
    "\n",
    "    # forward pass\n",
    "    y_pred = modelsaya(X_train)\n",
    "\n",
    "    # calculate the loss\n",
    "    loss = loss_function(y_pred, y_train)\n",
    "    print(f\"loss : {loss}\")\n",
    "\n",
    "    # optimizer zero grad\n",
    "    opt.zero_grad()\n",
    "\n",
    "    # Perform backprop on the loss with respect to parameters to the model\n",
    "    loss.backward()\n",
    "\n",
    "    # the optimizer performing grad desc\n",
    "    opt.step() # by default how the optimizer changes will accumulate through the loop so.. we have to zero them above insetp 3 form the next iteration of the loop\n",
    "\n",
    "    #tesing\n",
    "    modelsaya.eval() # <- turns off different settings in the model not needed for evaluation/testing (dropout/batch norm layers)\n",
    "    with torch.inference_mode(): # <- turns off gradient tracking and a couple more things behind the scenes\n",
    "        # forward pass\n",
    "        test_pred = modelsaya(X_test)\n",
    "        # calculate the loss\n",
    "        test_loss = loss_function(test_pred, y_test)\n",
    "\n",
    "    # print what's happening\n",
    "    if epoch % 20 == 0:\n",
    "        itung_epoch.append(epoch)\n",
    "        loss_valuenya.append(loss)\n",
    "        ngetes_loss_valuenya.append(test_loss)\n",
    "        print(f\"Epoch : {epoch} | Loss : {loss} | Test Loss: {test_loss}\")\n",
    "\n",
    "    print(modelsaya.state_dict())"
   ],
   "outputs": [
    {
     "name": "stdout",
     "output_type": "stream",
     "text": [
      "loss : 0.39088135957717896\n",
      "Epoch : 0 | Loss : 0.39088135957717896 | Test Loss: 0.6590651273727417\n",
      "OrderedDict([('weights', tensor([0.3406])), ('bias', tensor([0.1388]))])\n",
      "loss : 0.3793603479862213\n",
      "OrderedDict([('weights', tensor([0.3445])), ('bias', tensor([0.1488]))])\n",
      "loss : 0.36783933639526367\n",
      "OrderedDict([('weights', tensor([0.3484])), ('bias', tensor([0.1588]))])\n",
      "loss : 0.35631832480430603\n",
      "OrderedDict([('weights', tensor([0.3523])), ('bias', tensor([0.1688]))])\n",
      "loss : 0.3447973132133484\n",
      "OrderedDict([('weights', tensor([0.3562])), ('bias', tensor([0.1788]))])\n",
      "loss : 0.33327633142471313\n",
      "OrderedDict([('weights', tensor([0.3601])), ('bias', tensor([0.1888]))])\n",
      "loss : 0.3217553496360779\n",
      "OrderedDict([('weights', tensor([0.3640])), ('bias', tensor([0.1988]))])\n",
      "loss : 0.31023433804512024\n",
      "OrderedDict([('weights', tensor([0.3679])), ('bias', tensor([0.2088]))])\n",
      "loss : 0.2987133264541626\n",
      "OrderedDict([('weights', tensor([0.3718])), ('bias', tensor([0.2188]))])\n",
      "loss : 0.28719234466552734\n",
      "OrderedDict([('weights', tensor([0.3757])), ('bias', tensor([0.2288]))])\n",
      "loss : 0.2756713330745697\n",
      "OrderedDict([('weights', tensor([0.3796])), ('bias', tensor([0.2388]))])\n",
      "loss : 0.26415035128593445\n",
      "OrderedDict([('weights', tensor([0.3835])), ('bias', tensor([0.2488]))])\n",
      "loss : 0.2526293098926544\n",
      "OrderedDict([('weights', tensor([0.3874])), ('bias', tensor([0.2588]))])\n",
      "loss : 0.24110834300518036\n",
      "OrderedDict([('weights', tensor([0.3913])), ('bias', tensor([0.2688]))])\n",
      "loss : 0.2295873463153839\n",
      "OrderedDict([('weights', tensor([0.3952])), ('bias', tensor([0.2788]))])\n",
      "loss : 0.21806636452674866\n",
      "OrderedDict([('weights', tensor([0.3991])), ('bias', tensor([0.2888]))])\n",
      "loss : 0.20654535293579102\n",
      "OrderedDict([('weights', tensor([0.4030])), ('bias', tensor([0.2988]))])\n",
      "loss : 0.19502437114715576\n",
      "OrderedDict([('weights', tensor([0.4069])), ('bias', tensor([0.3088]))])\n",
      "loss : 0.18394383788108826\n",
      "OrderedDict([('weights', tensor([0.4108])), ('bias', tensor([0.3183]))])\n",
      "loss : 0.17382411658763885\n",
      "OrderedDict([('weights', tensor([0.4147])), ('bias', tensor([0.3273]))])\n",
      "loss : 0.16460572183132172\n",
      "Epoch : 20 | Loss : 0.16460572183132172 | Test Loss: 0.3926808834075928\n",
      "OrderedDict([('weights', tensor([0.4186])), ('bias', tensor([0.3358]))])\n",
      "loss : 0.156229168176651\n",
      "OrderedDict([('weights', tensor([0.4224])), ('bias', tensor([0.3438]))])\n",
      "loss : 0.1486346274614334\n",
      "OrderedDict([('weights', tensor([0.4262])), ('bias', tensor([0.3513]))])\n",
      "loss : 0.14176206290721893\n",
      "OrderedDict([('weights', tensor([0.4299])), ('bias', tensor([0.3583]))])\n",
      "loss : 0.13555094599723816\n",
      "OrderedDict([('weights', tensor([0.4336])), ('bias', tensor([0.3648]))])\n",
      "loss : 0.12996432185173035\n",
      "OrderedDict([('weights', tensor([0.4373])), ('bias', tensor([0.3713]))])\n",
      "loss : 0.12470440566539764\n",
      "OrderedDict([('weights', tensor([0.4409])), ('bias', tensor([0.3773]))])\n",
      "loss : 0.11998696625232697\n",
      "OrderedDict([('weights', tensor([0.4445])), ('bias', tensor([0.3828]))])\n",
      "loss : 0.11574959754943848\n",
      "OrderedDict([('weights', tensor([0.4479])), ('bias', tensor([0.3878]))])\n",
      "loss : 0.11205935478210449\n",
      "OrderedDict([('weights', tensor([0.4514])), ('bias', tensor([0.3928]))])\n",
      "loss : 0.10852336883544922\n",
      "OrderedDict([('weights', tensor([0.4547])), ('bias', tensor([0.3973]))])\n",
      "loss : 0.10537612438201904\n",
      "OrderedDict([('weights', tensor([0.4581])), ('bias', tensor([0.4018]))])\n",
      "loss : 0.10245823860168457\n",
      "OrderedDict([('weights', tensor([0.4613])), ('bias', tensor([0.4058]))])\n",
      "loss : 0.09983478486537933\n",
      "OrderedDict([('weights', tensor([0.4644])), ('bias', tensor([0.4093]))])\n",
      "loss : 0.09763632714748383\n",
      "OrderedDict([('weights', tensor([0.4676])), ('bias', tensor([0.4128]))])\n",
      "loss : 0.09545665234327316\n",
      "OrderedDict([('weights', tensor([0.4706])), ('bias', tensor([0.4158]))])\n",
      "loss : 0.09366263449192047\n",
      "OrderedDict([('weights', tensor([0.4735])), ('bias', tensor([0.4188]))])\n",
      "loss : 0.09186862409114838\n",
      "OrderedDict([('weights', tensor([0.4765])), ('bias', tensor([0.4218]))])\n",
      "loss : 0.09023650735616684\n",
      "OrderedDict([('weights', tensor([0.4794])), ('bias', tensor([0.4243]))])\n",
      "loss : 0.08879926055669785\n",
      "OrderedDict([('weights', tensor([0.4822])), ('bias', tensor([0.4268]))])\n",
      "loss : 0.08743593096733093\n",
      "Epoch : 40 | Loss : 0.08743593096733093 | Test Loss: 0.24060264229774475\n",
      "OrderedDict([('weights', tensor([0.4849])), ('bias', tensor([0.4288]))])\n",
      "loss : 0.08630693703889847\n",
      "OrderedDict([('weights', tensor([0.4876])), ('bias', tensor([0.4308]))])\n",
      "loss : 0.0851779356598854\n",
      "OrderedDict([('weights', tensor([0.4903])), ('bias', tensor([0.4328]))])\n",
      "loss : 0.08413468301296234\n",
      "OrderedDict([('weights', tensor([0.4929])), ('bias', tensor([0.4343]))])\n",
      "loss : 0.08326452225446701\n",
      "OrderedDict([('weights', tensor([0.4954])), ('bias', tensor([0.4358]))])\n",
      "loss : 0.08239437639713287\n",
      "OrderedDict([('weights', tensor([0.4980])), ('bias', tensor([0.4373]))])\n",
      "loss : 0.0815548375248909\n",
      "OrderedDict([('weights', tensor([0.5003])), ('bias', tensor([0.4383]))])\n",
      "loss : 0.0808931440114975\n",
      "OrderedDict([('weights', tensor([0.5027])), ('bias', tensor([0.4393]))])\n",
      "loss : 0.0802314504981041\n",
      "OrderedDict([('weights', tensor([0.5051])), ('bias', tensor([0.4403]))])\n",
      "loss : 0.07956977188587189\n",
      "OrderedDict([('weights', tensor([0.5074])), ('bias', tensor([0.4413]))])\n",
      "loss : 0.07890807092189789\n",
      "OrderedDict([('weights', tensor([0.5098])), ('bias', tensor([0.4423]))])\n",
      "loss : 0.07833826541900635\n",
      "OrderedDict([('weights', tensor([0.5120])), ('bias', tensor([0.4428]))])\n",
      "loss : 0.07783365249633789\n",
      "OrderedDict([('weights', tensor([0.5142])), ('bias', tensor([0.4433]))])\n",
      "loss : 0.07732905447483063\n",
      "OrderedDict([('weights', tensor([0.5164])), ('bias', tensor([0.4438]))])\n",
      "loss : 0.07682444155216217\n",
      "OrderedDict([('weights', tensor([0.5186])), ('bias', tensor([0.4443]))])\n",
      "loss : 0.07631983608007431\n",
      "OrderedDict([('weights', tensor([0.5208])), ('bias', tensor([0.4448]))])\n",
      "loss : 0.07584994286298752\n",
      "OrderedDict([('weights', tensor([0.5228])), ('bias', tensor([0.4448]))])\n",
      "loss : 0.07544995844364166\n",
      "OrderedDict([('weights', tensor([0.5248])), ('bias', tensor([0.4448]))])\n",
      "loss : 0.07504995167255402\n",
      "OrderedDict([('weights', tensor([0.5268])), ('bias', tensor([0.4448]))])\n",
      "loss : 0.07464994490146637\n",
      "OrderedDict([('weights', tensor([0.5288])), ('bias', tensor([0.4448]))])\n",
      "loss : 0.07424996793270111\n",
      "Epoch : 60 | Loss : 0.07424996793270111 | Test Loss: 0.18382300436496735\n",
      "OrderedDict([('weights', tensor([0.5308])), ('bias', tensor([0.4448]))])\n",
      "loss : 0.07384996861219406\n",
      "OrderedDict([('weights', tensor([0.5328])), ('bias', tensor([0.4448]))])\n",
      "loss : 0.0734499841928482\n",
      "OrderedDict([('weights', tensor([0.5348])), ('bias', tensor([0.4448]))])\n",
      "loss : 0.07304998487234116\n",
      "OrderedDict([('weights', tensor([0.5368])), ('bias', tensor([0.4448]))])\n",
      "loss : 0.0726499855518341\n",
      "OrderedDict([('weights', tensor([0.5387])), ('bias', tensor([0.4448]))])\n",
      "loss : 0.07226546108722687\n",
      "OrderedDict([('weights', tensor([0.5405])), ('bias', tensor([0.4443]))])\n",
      "loss : 0.07191647589206696\n",
      "OrderedDict([('weights', tensor([0.5423])), ('bias', tensor([0.4438]))])\n",
      "loss : 0.07156746089458466\n",
      "OrderedDict([('weights', tensor([0.5441])), ('bias', tensor([0.4433]))])\n",
      "loss : 0.07121846079826355\n",
      "OrderedDict([('weights', tensor([0.5459])), ('bias', tensor([0.4428]))])\n",
      "loss : 0.07086946070194244\n",
      "OrderedDict([('weights', tensor([0.5477])), ('bias', tensor([0.4423]))])\n",
      "loss : 0.07052046060562134\n",
      "OrderedDict([('weights', tensor([0.5495])), ('bias', tensor([0.4418]))])\n",
      "loss : 0.07017146795988083\n",
      "OrderedDict([('weights', tensor([0.5513])), ('bias', tensor([0.4413]))])\n",
      "loss : 0.06982246786355972\n",
      "OrderedDict([('weights', tensor([0.5531])), ('bias', tensor([0.4408]))])\n",
      "loss : 0.06947346031665802\n",
      "OrderedDict([('weights', tensor([0.5549])), ('bias', tensor([0.4403]))])\n",
      "loss : 0.06912446767091751\n",
      "OrderedDict([('weights', tensor([0.5567])), ('bias', tensor([0.4398]))])\n",
      "loss : 0.06877546012401581\n",
      "OrderedDict([('weights', tensor([0.5586])), ('bias', tensor([0.4393]))])\n",
      "loss : 0.0684264749288559\n",
      "OrderedDict([('weights', tensor([0.5604])), ('bias', tensor([0.4388]))])\n",
      "loss : 0.0680774673819542\n",
      "OrderedDict([('weights', tensor([0.5622])), ('bias', tensor([0.4383]))])\n",
      "loss : 0.06772847473621368\n",
      "OrderedDict([('weights', tensor([0.5640])), ('bias', tensor([0.4378]))])\n",
      "loss : 0.06737945973873138\n",
      "OrderedDict([('weights', tensor([0.5658])), ('bias', tensor([0.4373]))])\n",
      "loss : 0.06703047454357147\n",
      "Epoch : 80 | Loss : 0.06703047454357147 | Test Loss: 0.15907101333141327\n",
      "OrderedDict([('weights', tensor([0.5676])), ('bias', tensor([0.4368]))])\n",
      "loss : 0.06668146699666977\n",
      "OrderedDict([('weights', tensor([0.5694])), ('bias', tensor([0.4363]))])\n",
      "loss : 0.06633247435092926\n",
      "OrderedDict([('weights', tensor([0.5712])), ('bias', tensor([0.4358]))])\n",
      "loss : 0.06598345935344696\n",
      "OrderedDict([('weights', tensor([0.5730])), ('bias', tensor([0.4353]))])\n",
      "loss : 0.06563446670770645\n",
      "OrderedDict([('weights', tensor([0.5748])), ('bias', tensor([0.4348]))])\n",
      "loss : 0.06528546661138535\n",
      "OrderedDict([('weights', tensor([0.5766])), ('bias', tensor([0.4343]))])\n",
      "loss : 0.06493647396564484\n",
      "OrderedDict([('weights', tensor([0.5784])), ('bias', tensor([0.4338]))])\n",
      "loss : 0.06458746641874313\n",
      "OrderedDict([('weights', tensor([0.5802])), ('bias', tensor([0.4333]))])\n",
      "loss : 0.06423847377300262\n",
      "OrderedDict([('weights', tensor([0.5820])), ('bias', tensor([0.4328]))])\n",
      "loss : 0.06388945877552032\n",
      "OrderedDict([('weights', tensor([0.5838])), ('bias', tensor([0.4323]))])\n",
      "loss : 0.06354047358036041\n",
      "OrderedDict([('weights', tensor([0.5856])), ('bias', tensor([0.4318]))])\n",
      "loss : 0.06319146603345871\n",
      "OrderedDict([('weights', tensor([0.5874])), ('bias', tensor([0.4313]))])\n",
      "loss : 0.0628424733877182\n",
      "OrderedDict([('weights', tensor([0.5892])), ('bias', tensor([0.4308]))])\n",
      "loss : 0.06250609457492828\n",
      "OrderedDict([('weights', tensor([0.5907])), ('bias', tensor([0.4298]))])\n",
      "loss : 0.062157273292541504\n",
      "OrderedDict([('weights', tensor([0.5925])), ('bias', tensor([0.4293]))])\n",
      "loss : 0.06181709095835686\n",
      "OrderedDict([('weights', tensor([0.5941])), ('bias', tensor([0.4283]))])\n",
      "loss : 0.06147206947207451\n",
      "OrderedDict([('weights', tensor([0.5959])), ('bias', tensor([0.4278]))])\n",
      "loss : 0.061128079891204834\n",
      "OrderedDict([('weights', tensor([0.5975])), ('bias', tensor([0.4268]))])\n",
      "loss : 0.06078686565160751\n",
      "OrderedDict([('weights', tensor([0.5993])), ('bias', tensor([0.4263]))])\n",
      "loss : 0.06043906882405281\n",
      "OrderedDict([('weights', tensor([0.6009])), ('bias', tensor([0.4253]))])\n",
      "loss : 0.06010167673230171\n",
      "Epoch : 100 | Loss : 0.06010167673230171 | Test Loss: 0.13977840542793274\n",
      "OrderedDict([('weights', tensor([0.6027])), ('bias', tensor([0.4248]))])\n",
      "loss : 0.05975266173481941\n",
      "OrderedDict([('weights', tensor([0.6045])), ('bias', tensor([0.4243]))])\n",
      "loss : 0.059413861483335495\n",
      "OrderedDict([('weights', tensor([0.6061])), ('bias', tensor([0.4233]))])\n",
      "loss : 0.059067465364933014\n",
      "OrderedDict([('weights', tensor([0.6079])), ('bias', tensor([0.4228]))])\n",
      "loss : 0.058724842965602875\n",
      "OrderedDict([('weights', tensor([0.6095])), ('bias', tensor([0.4218]))])\n",
      "loss : 0.05838226154446602\n",
      "OrderedDict([('weights', tensor([0.6113])), ('bias', tensor([0.4213]))])\n",
      "loss : 0.05803583189845085\n",
      "OrderedDict([('weights', tensor([0.6129])), ('bias', tensor([0.4203]))])\n",
      "loss : 0.057697050273418427\n",
      "OrderedDict([('weights', tensor([0.6147])), ('bias', tensor([0.4198]))])\n",
      "loss : 0.057348061352968216\n",
      "OrderedDict([('weights', tensor([0.6165])), ('bias', tensor([0.4193]))])\n",
      "loss : 0.05701063200831413\n",
      "OrderedDict([('weights', tensor([0.6181])), ('bias', tensor([0.4183]))])\n",
      "loss : 0.05666285753250122\n",
      "OrderedDict([('weights', tensor([0.6199])), ('bias', tensor([0.4178]))])\n",
      "loss : 0.05632162094116211\n",
      "OrderedDict([('weights', tensor([0.6215])), ('bias', tensor([0.4168]))])\n",
      "loss : 0.055977653712034225\n",
      "OrderedDict([('weights', tensor([0.6233])), ('bias', tensor([0.4163]))])\n",
      "loss : 0.055632609874010086\n",
      "OrderedDict([('weights', tensor([0.6249])), ('bias', tensor([0.4153]))])\n",
      "loss : 0.05529244989156723\n",
      "OrderedDict([('weights', tensor([0.6267])), ('bias', tensor([0.4148]))])\n",
      "loss : 0.05494359880685806\n",
      "OrderedDict([('weights', tensor([0.6282])), ('bias', tensor([0.4138]))])\n",
      "loss : 0.05460725352168083\n",
      "OrderedDict([('weights', tensor([0.6300])), ('bias', tensor([0.4133]))])\n",
      "loss : 0.05425824970006943\n",
      "OrderedDict([('weights', tensor([0.6318])), ('bias', tensor([0.4128]))])\n",
      "loss : 0.05391838401556015\n",
      "OrderedDict([('weights', tensor([0.6334])), ('bias', tensor([0.4118]))])\n",
      "loss : 0.05357304960489273\n",
      "OrderedDict([('weights', tensor([0.6352])), ('bias', tensor([0.4113]))])\n",
      "loss : 0.053229380398988724\n",
      "Epoch : 120 | Loss : 0.053229380398988724 | Test Loss: 0.12392017990350723\n",
      "OrderedDict([('weights', tensor([0.6368])), ('bias', tensor([0.4103]))])\n",
      "loss : 0.052887845784425735\n",
      "OrderedDict([('weights', tensor([0.6386])), ('bias', tensor([0.4098]))])\n",
      "loss : 0.0525403693318367\n",
      "OrderedDict([('weights', tensor([0.6402])), ('bias', tensor([0.4088]))])\n",
      "loss : 0.05220264196395874\n",
      "OrderedDict([('weights', tensor([0.6420])), ('bias', tensor([0.4083]))])\n",
      "loss : 0.05185365676879883\n",
      "OrderedDict([('weights', tensor([0.6438])), ('bias', tensor([0.4078]))])\n",
      "loss : 0.051515161991119385\n",
      "OrderedDict([('weights', tensor([0.6454])), ('bias', tensor([0.4068]))])\n",
      "loss : 0.051168449223041534\n",
      "OrderedDict([('weights', tensor([0.6472])), ('bias', tensor([0.4063]))])\n",
      "loss : 0.05082615092396736\n",
      "OrderedDict([('weights', tensor([0.6488])), ('bias', tensor([0.4053]))])\n",
      "loss : 0.05048324540257454\n",
      "OrderedDict([('weights', tensor([0.6506])), ('bias', tensor([0.4048]))])\n",
      "loss : 0.05013713985681534\n",
      "OrderedDict([('weights', tensor([0.6522])), ('bias', tensor([0.4038]))])\n",
      "loss : 0.049798037856817245\n",
      "OrderedDict([('weights', tensor([0.6540])), ('bias', tensor([0.4033]))])\n",
      "loss : 0.049449045211076736\n",
      "OrderedDict([('weights', tensor([0.6558])), ('bias', tensor([0.4028]))])\n",
      "loss : 0.049111925065517426\n",
      "OrderedDict([('weights', tensor([0.6574])), ('bias', tensor([0.4018]))])\n",
      "loss : 0.04876384511590004\n",
      "OrderedDict([('weights', tensor([0.6592])), ('bias', tensor([0.4013]))])\n",
      "loss : 0.0484229177236557\n",
      "OrderedDict([('weights', tensor([0.6608])), ('bias', tensor([0.4003]))])\n",
      "loss : 0.048078637570142746\n",
      "OrderedDict([('weights', tensor([0.6626])), ('bias', tensor([0.3998]))])\n",
      "loss : 0.04773390665650368\n",
      "OrderedDict([('weights', tensor([0.6642])), ('bias', tensor([0.3988]))])\n",
      "loss : 0.04739344120025635\n",
      "OrderedDict([('weights', tensor([0.6660])), ('bias', tensor([0.3983]))])\n",
      "loss : 0.04704490303993225\n",
      "OrderedDict([('weights', tensor([0.6675])), ('bias', tensor([0.3973]))])\n",
      "loss : 0.046708233654499054\n",
      "OrderedDict([('weights', tensor([0.6693])), ('bias', tensor([0.3968]))])\n",
      "loss : 0.046359241008758545\n",
      "Epoch : 140 | Loss : 0.046359241008758545 | Test Loss: 0.10737510025501251\n",
      "OrderedDict([('weights', tensor([0.6711])), ('bias', tensor([0.3963]))])\n",
      "loss : 0.04601968824863434\n",
      "OrderedDict([('weights', tensor([0.6727])), ('bias', tensor([0.3953]))])\n",
      "loss : 0.04567403718829155\n",
      "OrderedDict([('weights', tensor([0.6745])), ('bias', tensor([0.3948]))])\n",
      "loss : 0.045330680906772614\n",
      "OrderedDict([('weights', tensor([0.6761])), ('bias', tensor([0.3938]))])\n",
      "loss : 0.04498883709311485\n",
      "OrderedDict([('weights', tensor([0.6779])), ('bias', tensor([0.3933]))])\n",
      "loss : 0.04464166611433029\n",
      "OrderedDict([('weights', tensor([0.6795])), ('bias', tensor([0.3923]))])\n",
      "loss : 0.044303640723228455\n",
      "OrderedDict([('weights', tensor([0.6813])), ('bias', tensor([0.3918]))])\n",
      "loss : 0.04395463317632675\n",
      "OrderedDict([('weights', tensor([0.6831])), ('bias', tensor([0.3913]))])\n",
      "loss : 0.043616462498903275\n",
      "OrderedDict([('weights', tensor([0.6847])), ('bias', tensor([0.3903]))])\n",
      "loss : 0.043269433081150055\n",
      "OrderedDict([('weights', tensor([0.6865])), ('bias', tensor([0.3898]))])\n",
      "loss : 0.04292744770646095\n",
      "OrderedDict([('weights', tensor([0.6881])), ('bias', tensor([0.3888]))])\n",
      "loss : 0.04258422926068306\n",
      "OrderedDict([('weights', tensor([0.6899])), ('bias', tensor([0.3883]))])\n",
      "loss : 0.04223843663930893\n",
      "OrderedDict([('weights', tensor([0.6915])), ('bias', tensor([0.3873]))])\n",
      "loss : 0.04189903289079666\n",
      "OrderedDict([('weights', tensor([0.6933])), ('bias', tensor([0.3868]))])\n",
      "loss : 0.04155002534389496\n",
      "OrderedDict([('weights', tensor([0.6951])), ('bias', tensor([0.3863]))])\n",
      "loss : 0.041213225573301315\n",
      "OrderedDict([('weights', tensor([0.6967])), ('bias', tensor([0.3853]))])\n",
      "loss : 0.04086482897400856\n",
      "OrderedDict([('weights', tensor([0.6985])), ('bias', tensor([0.3848]))])\n",
      "loss : 0.04052421450614929\n",
      "OrderedDict([('weights', tensor([0.7001])), ('bias', tensor([0.3838]))])\n",
      "loss : 0.04017962887883186\n",
      "OrderedDict([('weights', tensor([0.7019])), ('bias', tensor([0.3833]))])\n",
      "loss : 0.03983520343899727\n",
      "OrderedDict([('weights', tensor([0.7035])), ('bias', tensor([0.3823]))])\n",
      "loss : 0.03949442133307457\n",
      "Epoch : 160 | Loss : 0.03949442133307457 | Test Loss: 0.0915168970823288\n",
      "OrderedDict([('weights', tensor([0.7053])), ('bias', tensor([0.3818]))])\n",
      "loss : 0.039146196097135544\n",
      "OrderedDict([('weights', tensor([0.7068])), ('bias', tensor([0.3808]))])\n",
      "loss : 0.03880922496318817\n",
      "OrderedDict([('weights', tensor([0.7086])), ('bias', tensor([0.3803]))])\n",
      "loss : 0.038460224866867065\n",
      "OrderedDict([('weights', tensor([0.7104])), ('bias', tensor([0.3798]))])\n",
      "loss : 0.03812098503112793\n",
      "OrderedDict([('weights', tensor([0.7120])), ('bias', tensor([0.3788]))])\n",
      "loss : 0.03777502104640007\n",
      "OrderedDict([('weights', tensor([0.7138])), ('bias', tensor([0.3783]))])\n",
      "loss : 0.037431977689266205\n",
      "OrderedDict([('weights', tensor([0.7154])), ('bias', tensor([0.3773]))])\n",
      "loss : 0.03708982095122337\n",
      "OrderedDict([('weights', tensor([0.7172])), ('bias', tensor([0.3768]))])\n",
      "loss : 0.03674297034740448\n",
      "OrderedDict([('weights', tensor([0.7188])), ('bias', tensor([0.3758]))])\n",
      "loss : 0.03640462085604668\n",
      "OrderedDict([('weights', tensor([0.7206])), ('bias', tensor([0.3753]))])\n",
      "loss : 0.036055613309144974\n",
      "OrderedDict([('weights', tensor([0.7224])), ('bias', tensor([0.3748]))])\n",
      "loss : 0.03571775555610657\n",
      "OrderedDict([('weights', tensor([0.7240])), ('bias', tensor([0.3738]))])\n",
      "loss : 0.03537041321396828\n",
      "OrderedDict([('weights', tensor([0.7258])), ('bias', tensor([0.3733]))])\n",
      "loss : 0.035028744488954544\n",
      "OrderedDict([('weights', tensor([0.7274])), ('bias', tensor([0.3723]))])\n",
      "loss : 0.03468521684408188\n",
      "OrderedDict([('weights', tensor([0.7292])), ('bias', tensor([0.3718]))])\n",
      "loss : 0.03433973342180252\n",
      "OrderedDict([('weights', tensor([0.7308])), ('bias', tensor([0.3708]))])\n",
      "loss : 0.03400001674890518\n",
      "OrderedDict([('weights', tensor([0.7326])), ('bias', tensor([0.3703]))])\n",
      "loss : 0.033651016652584076\n",
      "OrderedDict([('weights', tensor([0.7344])), ('bias', tensor([0.3698]))])\n",
      "loss : 0.033314526081085205\n",
      "OrderedDict([('weights', tensor([0.7360])), ('bias', tensor([0.3688]))])\n",
      "loss : 0.03296581655740738\n",
      "OrderedDict([('weights', tensor([0.7378])), ('bias', tensor([0.3683]))])\n",
      "loss : 0.032625507563352585\n",
      "Epoch : 180 | Loss : 0.032625507563352585 | Test Loss: 0.07565870136022568\n",
      "OrderedDict([('weights', tensor([0.7394])), ('bias', tensor([0.3673]))])\n",
      "loss : 0.032280612736940384\n",
      "OrderedDict([('weights', tensor([0.7412])), ('bias', tensor([0.3668]))])\n",
      "loss : 0.03193650394678116\n",
      "OrderedDict([('weights', tensor([0.7428])), ('bias', tensor([0.3658]))])\n",
      "loss : 0.03159541264176369\n",
      "OrderedDict([('weights', tensor([0.7446])), ('bias', tensor([0.3653]))])\n",
      "loss : 0.031247491016983986\n",
      "OrderedDict([('weights', tensor([0.7461])), ('bias', tensor([0.3643]))])\n",
      "loss : 0.030910208821296692\n",
      "OrderedDict([('weights', tensor([0.7479])), ('bias', tensor([0.3638]))])\n",
      "loss : 0.030561204999685287\n",
      "OrderedDict([('weights', tensor([0.7497])), ('bias', tensor([0.3633]))])\n",
      "loss : 0.03022228553891182\n",
      "OrderedDict([('weights', tensor([0.7513])), ('bias', tensor([0.3623]))])\n",
      "loss : 0.029875999316573143\n",
      "OrderedDict([('weights', tensor([0.7531])), ('bias', tensor([0.3618]))])\n",
      "loss : 0.029533272609114647\n",
      "OrderedDict([('weights', tensor([0.7547])), ('bias', tensor([0.3608]))])\n",
      "loss : 0.029190804809331894\n",
      "OrderedDict([('weights', tensor([0.7565])), ('bias', tensor([0.3603]))])\n",
      "loss : 0.028844255954027176\n",
      "OrderedDict([('weights', tensor([0.7581])), ('bias', tensor([0.3593]))])\n",
      "loss : 0.028505602851510048\n",
      "OrderedDict([('weights', tensor([0.7599])), ('bias', tensor([0.3588]))])\n",
      "loss : 0.028156602755188942\n",
      "OrderedDict([('weights', tensor([0.7617])), ('bias', tensor([0.3583]))])\n",
      "loss : 0.02781904861330986\n",
      "OrderedDict([('weights', tensor([0.7633])), ('bias', tensor([0.3573]))])\n",
      "loss : 0.027471404522657394\n",
      "OrderedDict([('weights', tensor([0.7651])), ('bias', tensor([0.3568]))])\n",
      "loss : 0.027130041271448135\n",
      "OrderedDict([('weights', tensor([0.7667])), ('bias', tensor([0.3558]))])\n",
      "loss : 0.02678619883954525\n",
      "OrderedDict([('weights', tensor([0.7685])), ('bias', tensor([0.3553]))])\n",
      "loss : 0.02644103206694126\n",
      "OrderedDict([('weights', tensor([0.7701])), ('bias', tensor([0.3543]))])\n",
      "loss : 0.026100993156433105\n",
      "OrderedDict([('weights', tensor([0.7719])), ('bias', tensor([0.3538]))])\n",
      "loss : 0.02575201913714409\n",
      "Epoch : 200 | Loss : 0.02575201913714409 | Test Loss: 0.05980048328638077\n",
      "OrderedDict([('weights', tensor([0.7735])), ('bias', tensor([0.3528]))])\n",
      "loss : 0.025415796786546707\n",
      "OrderedDict([('weights', tensor([0.7753])), ('bias', tensor([0.3523]))])\n",
      "loss : 0.025066792964935303\n",
      "OrderedDict([('weights', tensor([0.7771])), ('bias', tensor([0.3518]))])\n",
      "loss : 0.024726813659071922\n",
      "OrderedDict([('weights', tensor([0.7787])), ('bias', tensor([0.3508]))])\n",
      "loss : 0.024381596595048904\n",
      "OrderedDict([('weights', tensor([0.7805])), ('bias', tensor([0.3503]))])\n",
      "loss : 0.0240378025919199\n",
      "OrderedDict([('weights', tensor([0.7821])), ('bias', tensor([0.3493]))])\n",
      "loss : 0.02369639091193676\n",
      "OrderedDict([('weights', tensor([0.7839])), ('bias', tensor([0.3488]))])\n",
      "loss : 0.023348789662122726\n",
      "OrderedDict([('weights', tensor([0.7854])), ('bias', tensor([0.3478]))])\n",
      "loss : 0.023011192679405212\n",
      "OrderedDict([('weights', tensor([0.7872])), ('bias', tensor([0.3473]))])\n",
      "loss : 0.022662192583084106\n",
      "OrderedDict([('weights', tensor([0.7890])), ('bias', tensor([0.3468]))])\n",
      "loss : 0.02232358604669571\n",
      "OrderedDict([('weights', tensor([0.7906])), ('bias', tensor([0.3458]))])\n",
      "loss : 0.02197699248790741\n",
      "OrderedDict([('weights', tensor([0.7924])), ('bias', tensor([0.3453]))])\n",
      "loss : 0.021634569391608238\n",
      "OrderedDict([('weights', tensor([0.7940])), ('bias', tensor([0.3443]))])\n",
      "loss : 0.021291792392730713\n",
      "OrderedDict([('weights', tensor([0.7958])), ('bias', tensor([0.3438]))])\n",
      "loss : 0.020945562049746513\n",
      "OrderedDict([('weights', tensor([0.7974])), ('bias', tensor([0.3428]))])\n",
      "loss : 0.020606588572263718\n",
      "OrderedDict([('weights', tensor([0.7992])), ('bias', tensor([0.3423]))])\n",
      "loss : 0.02025759220123291\n",
      "OrderedDict([('weights', tensor([0.8010])), ('bias', tensor([0.3418]))])\n",
      "loss : 0.01992034912109375\n",
      "OrderedDict([('weights', tensor([0.8026])), ('bias', tensor([0.3408]))])\n",
      "loss : 0.019572390243411064\n",
      "OrderedDict([('weights', tensor([0.8044])), ('bias', tensor([0.3403]))])\n",
      "loss : 0.019231343641877174\n",
      "OrderedDict([('weights', tensor([0.8060])), ('bias', tensor([0.3393]))])\n",
      "loss : 0.01888718269765377\n",
      "Epoch : 220 | Loss : 0.01888718269765377 | Test Loss: 0.04325542598962784\n",
      "OrderedDict([('weights', tensor([0.8078])), ('bias', tensor([0.3388]))])\n",
      "loss : 0.018542330712080002\n",
      "OrderedDict([('weights', tensor([0.8094])), ('bias', tensor([0.3378]))])\n",
      "loss : 0.018201986327767372\n",
      "OrderedDict([('weights', tensor([0.8112])), ('bias', tensor([0.3373]))])\n",
      "loss : 0.01785331964492798\n",
      "OrderedDict([('weights', tensor([0.8128])), ('bias', tensor([0.3363]))])\n",
      "loss : 0.017516786232590675\n",
      "OrderedDict([('weights', tensor([0.8146])), ('bias', tensor([0.3358]))])\n",
      "loss : 0.01716778054833412\n",
      "OrderedDict([('weights', tensor([0.8164])), ('bias', tensor([0.3353]))])\n",
      "loss : 0.01682811975479126\n",
      "OrderedDict([('weights', tensor([0.8180])), ('bias', tensor([0.3343]))])\n",
      "loss : 0.016482580453157425\n",
      "OrderedDict([('weights', tensor([0.8198])), ('bias', tensor([0.3338]))])\n",
      "loss : 0.016139106824994087\n",
      "OrderedDict([('weights', tensor([0.8214])), ('bias', tensor([0.3328]))])\n",
      "loss : 0.015797380357980728\n",
      "OrderedDict([('weights', tensor([0.8232])), ('bias', tensor([0.3323]))])\n",
      "loss : 0.015450092032551765\n",
      "OrderedDict([('weights', tensor([0.8247])), ('bias', tensor([0.3313]))])\n",
      "loss : 0.015112176537513733\n",
      "OrderedDict([('weights', tensor([0.8265])), ('bias', tensor([0.3308]))])\n",
      "loss : 0.014763174578547478\n",
      "OrderedDict([('weights', tensor([0.8283])), ('bias', tensor([0.3303]))])\n",
      "loss : 0.0144248828291893\n",
      "OrderedDict([('weights', tensor([0.8299])), ('bias', tensor([0.3293]))])\n",
      "loss : 0.014077985659241676\n",
      "OrderedDict([('weights', tensor([0.8317])), ('bias', tensor([0.3288]))])\n",
      "loss : 0.013735865242779255\n",
      "OrderedDict([('weights', tensor([0.8333])), ('bias', tensor([0.3278]))])\n",
      "loss : 0.013392781838774681\n",
      "OrderedDict([('weights', tensor([0.8351])), ('bias', tensor([0.3273]))])\n",
      "loss : 0.013046853244304657\n",
      "OrderedDict([('weights', tensor([0.8367])), ('bias', tensor([0.3263]))])\n",
      "loss : 0.012707573361694813\n",
      "OrderedDict([('weights', tensor([0.8385])), ('bias', tensor([0.3258]))])\n",
      "loss : 0.012358573265373707\n",
      "OrderedDict([('weights', tensor([0.8403])), ('bias', tensor([0.3253]))])\n",
      "loss : 0.012021650560200214\n",
      "Epoch : 240 | Loss : 0.012021650560200214 | Test Loss: 0.02739720419049263\n",
      "OrderedDict([('weights', tensor([0.8419])), ('bias', tensor([0.3243]))])\n",
      "loss : 0.011673374101519585\n",
      "OrderedDict([('weights', tensor([0.8437])), ('bias', tensor([0.3238]))])\n",
      "loss : 0.01133264135569334\n",
      "OrderedDict([('weights', tensor([0.8453])), ('bias', tensor([0.3228]))])\n",
      "loss : 0.010988165624439716\n",
      "OrderedDict([('weights', tensor([0.8471])), ('bias', tensor([0.3223]))])\n",
      "loss : 0.010643631219863892\n",
      "OrderedDict([('weights', tensor([0.8487])), ('bias', tensor([0.3213]))])\n",
      "loss : 0.010302962735295296\n",
      "OrderedDict([('weights', tensor([0.8505])), ('bias', tensor([0.3208]))])\n",
      "loss : 0.009954625740647316\n",
      "OrderedDict([('weights', tensor([0.8521])), ('bias', tensor([0.3198]))])\n",
      "loss : 0.009617766365408897\n",
      "OrderedDict([('weights', tensor([0.8539])), ('bias', tensor([0.3193]))])\n",
      "loss : 0.00926876813173294\n",
      "OrderedDict([('weights', tensor([0.8557])), ('bias', tensor([0.3188]))])\n",
      "loss : 0.008929407224059105\n",
      "OrderedDict([('weights', tensor([0.8573])), ('bias', tensor([0.3178]))])\n",
      "loss : 0.008583569899201393\n",
      "OrderedDict([('weights', tensor([0.8591])), ('bias', tensor([0.3173]))])\n",
      "loss : 0.008240403607487679\n",
      "OrderedDict([('weights', tensor([0.8607])), ('bias', tensor([0.3163]))])\n",
      "loss : 0.007898366078734398\n",
      "OrderedDict([('weights', tensor([0.8625])), ('bias', tensor([0.3158]))])\n",
      "loss : 0.0075513883493840694\n",
      "OrderedDict([('weights', tensor([0.8640])), ('bias', tensor([0.3148]))])\n",
      "loss : 0.007213170640170574\n",
      "OrderedDict([('weights', tensor([0.8658])), ('bias', tensor([0.3143]))])\n",
      "loss : 0.006864155642688274\n",
      "OrderedDict([('weights', tensor([0.8676])), ('bias', tensor([0.3138]))])\n",
      "loss : 0.006526177283376455\n",
      "OrderedDict([('weights', tensor([0.8692])), ('bias', tensor([0.3128]))])\n",
      "loss : 0.006178961601108313\n",
      "OrderedDict([('weights', tensor([0.8710])), ('bias', tensor([0.3123]))])\n",
      "loss : 0.005837170872837305\n",
      "OrderedDict([('weights', tensor([0.8726])), ('bias', tensor([0.3113]))])\n",
      "loss : 0.005493764765560627\n",
      "OrderedDict([('weights', tensor([0.8744])), ('bias', tensor([0.3108]))])\n",
      "loss : 0.005148153752088547\n",
      "Epoch : 260 | Loss : 0.005148153752088547 | Test Loss: 0.011539006605744362\n",
      "OrderedDict([('weights', tensor([0.8760])), ('bias', tensor([0.3098]))])\n",
      "loss : 0.004808558616787195\n",
      "OrderedDict([('weights', tensor([0.8778])), ('bias', tensor([0.3093]))])\n",
      "loss : 0.004459558520466089\n",
      "OrderedDict([('weights', tensor([0.8796])), ('bias', tensor([0.3088]))])\n",
      "loss : 0.004122947342693806\n",
      "OrderedDict([('weights', tensor([0.8812])), ('bias', tensor([0.3078]))])\n",
      "loss : 0.003774356096982956\n",
      "OrderedDict([('weights', tensor([0.8830])), ('bias', tensor([0.3073]))])\n",
      "loss : 0.003433933947235346\n",
      "OrderedDict([('weights', tensor([0.8846])), ('bias', tensor([0.3063]))])\n",
      "loss : 0.0030891583301126957\n",
      "OrderedDict([('weights', tensor([0.8864])), ('bias', tensor([0.3058]))])\n",
      "loss : 0.002744928002357483\n",
      "OrderedDict([('weights', tensor([0.8880])), ('bias', tensor([0.3048]))])\n",
      "loss : 0.0024039498530328274\n",
      "OrderedDict([('weights', tensor([0.8898])), ('bias', tensor([0.3043]))])\n",
      "loss : 0.002055914606899023\n",
      "OrderedDict([('weights', tensor([0.8914])), ('bias', tensor([0.3033]))])\n",
      "loss : 0.0017257675062865019\n",
      "OrderedDict([('weights', tensor([0.8934])), ('bias', tensor([0.3033]))])\n",
      "loss : 0.0014243967598304152\n",
      "OrderedDict([('weights', tensor([0.8943])), ('bias', tensor([0.3008]))])\n",
      "loss : 0.0015871509676799178\n",
      "OrderedDict([('weights', tensor([0.8979])), ('bias', tensor([0.3068]))])\n",
      "loss : 0.005988742224872112\n",
      "OrderedDict([('weights', tensor([0.8940])), ('bias', tensor([0.2968]))])\n",
      "loss : 0.00553224328905344\n",
      "OrderedDict([('weights', tensor([0.8979])), ('bias', tensor([0.3068]))])\n",
      "loss : 0.005988742224872112\n",
      "OrderedDict([('weights', tensor([0.8940])), ('bias', tensor([0.2968]))])\n",
      "loss : 0.00553224328905344\n",
      "OrderedDict([('weights', tensor([0.8979])), ('bias', tensor([0.3068]))])\n",
      "loss : 0.005988742224872112\n",
      "OrderedDict([('weights', tensor([0.8940])), ('bias', tensor([0.2968]))])\n",
      "loss : 0.00553224328905344\n",
      "OrderedDict([('weights', tensor([0.8979])), ('bias', tensor([0.3068]))])\n",
      "loss : 0.005988742224872112\n",
      "OrderedDict([('weights', tensor([0.8940])), ('bias', tensor([0.2968]))])\n",
      "loss : 0.00553224328905344\n",
      "Epoch : 280 | Loss : 0.00553224328905344 | Test Loss: 0.0049342988058924675\n",
      "OrderedDict([('weights', tensor([0.8979])), ('bias', tensor([0.3068]))])\n",
      "loss : 0.005988742224872112\n",
      "OrderedDict([('weights', tensor([0.8940])), ('bias', tensor([0.2968]))])\n",
      "loss : 0.00553224328905344\n",
      "OrderedDict([('weights', tensor([0.8979])), ('bias', tensor([0.3068]))])\n",
      "loss : 0.005988742224872112\n",
      "OrderedDict([('weights', tensor([0.8940])), ('bias', tensor([0.2968]))])\n",
      "loss : 0.00553224328905344\n",
      "OrderedDict([('weights', tensor([0.8979])), ('bias', tensor([0.3068]))])\n",
      "loss : 0.005988742224872112\n",
      "OrderedDict([('weights', tensor([0.8940])), ('bias', tensor([0.2968]))])\n",
      "loss : 0.00553224328905344\n",
      "OrderedDict([('weights', tensor([0.8979])), ('bias', tensor([0.3068]))])\n",
      "loss : 0.005988742224872112\n",
      "OrderedDict([('weights', tensor([0.8940])), ('bias', tensor([0.2968]))])\n",
      "loss : 0.00553224328905344\n",
      "OrderedDict([('weights', tensor([0.8979])), ('bias', tensor([0.3068]))])\n",
      "loss : 0.005988742224872112\n",
      "OrderedDict([('weights', tensor([0.8940])), ('bias', tensor([0.2968]))])\n",
      "loss : 0.00553224328905344\n",
      "OrderedDict([('weights', tensor([0.8979])), ('bias', tensor([0.3068]))])\n",
      "loss : 0.005988742224872112\n",
      "OrderedDict([('weights', tensor([0.8940])), ('bias', tensor([0.2968]))])\n",
      "loss : 0.00553224328905344\n",
      "OrderedDict([('weights', tensor([0.8979])), ('bias', tensor([0.3068]))])\n",
      "loss : 0.005988742224872112\n",
      "OrderedDict([('weights', tensor([0.8940])), ('bias', tensor([0.2968]))])\n",
      "loss : 0.00553224328905344\n",
      "OrderedDict([('weights', tensor([0.8979])), ('bias', tensor([0.3068]))])\n",
      "loss : 0.005988742224872112\n",
      "OrderedDict([('weights', tensor([0.8940])), ('bias', tensor([0.2968]))])\n",
      "loss : 0.00553224328905344\n",
      "OrderedDict([('weights', tensor([0.8979])), ('bias', tensor([0.3068]))])\n",
      "loss : 0.005988742224872112\n",
      "OrderedDict([('weights', tensor([0.8940])), ('bias', tensor([0.2968]))])\n",
      "loss : 0.00553224328905344\n",
      "OrderedDict([('weights', tensor([0.8979])), ('bias', tensor([0.3068]))])\n",
      "loss : 0.005988742224872112\n",
      "OrderedDict([('weights', tensor([0.8940])), ('bias', tensor([0.2968]))])\n"
     ]
    }
   ],
   "execution_count": 151
  },
  {
   "metadata": {
    "ExecuteTime": {
     "end_time": "2025-01-31T16:40:21.276822Z",
     "start_time": "2025-01-31T16:40:21.273788Z"
    }
   },
   "cell_type": "code",
   "source": "print(modelsaya.state_dict())",
   "outputs": [
    {
     "name": "stdout",
     "output_type": "stream",
     "text": [
      "OrderedDict([('weights', tensor([0.8940])), ('bias', tensor([0.2968]))])\n"
     ]
    }
   ],
   "execution_count": 161
  },
  {
   "metadata": {},
   "cell_type": "markdown",
   "source": "### Visualize the preds"
  },
  {
   "metadata": {
    "ExecuteTime": {
     "end_time": "2025-01-31T16:37:37.497835Z",
     "start_time": "2025-01-31T16:37:37.388869Z"
    }
   },
   "cell_type": "code",
   "source": [
    "# plot the loss curves\n",
    "plt.plot(itung_epoch, np.array(torch.tensor(loss_valuenya).numpy()), label=\"Training Loss\")\n",
    "plt.plot(itung_epoch, ngetes_loss_valuenya, label=\"Test Loss\")\n",
    "plt.title(\"Training Loss and Test Loss\")\n",
    "plt.ylabel(\"Loss\")\n",
    "plt.xlabel(\"Epoch\")\n",
    "plt.legend()"
   ],
   "outputs": [
    {
     "data": {
      "text/plain": [
       "<matplotlib.legend.Legend at 0x7fd55d2f2440>"
      ]
     },
     "execution_count": 152,
     "metadata": {},
     "output_type": "execute_result"
    },
    {
     "data": {
      "text/plain": [
       "<Figure size 640x480 with 1 Axes>"
      ],
      "image/png": "[encoded data removed]"
     },
     "metadata": {},
     "output_type": "display_data"
    }
   ],
   "execution_count": 152
  },
  {
   "metadata": {
    "ExecuteTime": {
     "end_time": "2025-01-31T16:37:37.658909Z",
     "start_time": "2025-01-31T16:37:37.512403Z"
    }
   },
   "cell_type": "code",
   "source": "plot_predictions(predictions=test_pred)",
   "outputs": [
    {
     "data": {
      "text/plain": [
       "<Figure size 1000x700 with 1 Axes>"
      ],
      "image/png": "[encoded data removed]"
     },
     "metadata": {},
     "output_type": "display_data"
    }
   ],
   "execution_count": 153
  },
  {
   "metadata": {},
   "cell_type": "markdown",
   "source": "### Save the model"
  },
  {
   "metadata": {
    "ExecuteTime": {
     "end_time": "2025-01-31T16:37:37.678472Z",
     "start_time": "2025-01-31T16:37:37.674355Z"
    }
   },
   "cell_type": "code",
   "source": [
    "from pathlib import Path\n",
    "\n",
    "modelsaya.state_dict()\n",
    "\n",
    "# bikin direktori model\n",
    "PATHNYA_MODEL = Path(\"../Models\")\n",
    "PATHNYA_MODEL.mkdir(parents=True, exist_ok=True)\n",
    "\n",
    "# create model savepath\n",
    "MODEL_NAME = \"model-coba-coba.pth\"\n",
    "MODEL_SAVE_PATH = PATHNYA_MODEL/MODEL_NAME\n",
    "\n",
    "# save the model\n",
    "print(f\"Saving model to : {MODEL_SAVE_PATH}\")\n",
    "torch.save(obj=modelsaya.state_dict(), f=MODEL_SAVE_PATH)"
   ],
   "outputs": [
    {
     "name": "stdout",
     "output_type": "stream",
     "text": [
      "Saving model to : ../Models/model-coba-coba.pth\n"
     ]
    }
   ],
   "execution_count": 154
  },
  {
   "metadata": {},
   "cell_type": "markdown",
   "source": "### load the model and make predictions to it"
  },
  {
   "metadata": {
    "ExecuteTime": {
     "end_time": "2025-01-31T16:37:37.736138Z",
     "start_time": "2025-01-31T16:37:37.724303Z"
    }
   },
   "cell_type": "code",
   "source": [
    "# bikinn instance of linreg2\n",
    "nyopet_model = ModelGacorLR()\n",
    "\n",
    "# load the model modelgacor statedict\n",
    "nyopet_model.load_state_dict(torch.load(MODEL_SAVE_PATH))\n",
    "\n",
    "# put the target / loaded model to device\n",
    "nyopet_model.to(devive)"
   ],
   "outputs": [
    {
     "name": "stderr",
     "output_type": "stream",
     "text": [
      "/tmp/ipykernel_24616/1906930165.py:5: FutureWarning: You are using `torch.load` with `weights_only=False` (the current default value), which uses the default pickle module implicitly. It is possible to construct malicious pickle data which will execute arbitrary code during unpickling (See https://github.com/pytorch/pytorch/blob/main/SECURITY.md#untrusted-models for more details). In a future release, the default value for `weights_only` will be flipped to `True`. This limits the functions that could be executed during unpickling. Arbitrary objects will no longer be allowed to be loaded via this mode unless they are explicitly allowlisted by the user via `torch.serialization.add_safe_globals`. We recommend you start setting `weights_only=True` for any use case where you don't have full control of the loaded file. Please open an issue on GitHub for any issues related to this experimental feature.\n",
      "  nyopet_model.load_state_dict(torch.load(MODEL_SAVE_PATH))\n"
     ]
    },
    {
     "data": {
      "text/plain": [
       "ModelGacorLR()"
      ]
     },
     "execution_count": 155,
     "metadata": {},
     "output_type": "execute_result"
    }
   ],
   "execution_count": 155
  },
  {
   "metadata": {
    "ExecuteTime": {
     "end_time": "2025-01-31T16:37:37.777334Z",
     "start_time": "2025-01-31T16:37:37.774060Z"
    }
   },
   "cell_type": "code",
   "source": "next(nyopet_model.parameters()).device",
   "outputs": [
    {
     "data": {
      "text/plain": [
       "device(type='cuda', index=0)"
      ]
     },
     "execution_count": 156,
     "metadata": {},
     "output_type": "execute_result"
    }
   ],
   "execution_count": 156
  },
  {
   "metadata": {
    "ExecuteTime": {
     "end_time": "2025-01-31T16:37:37.830321Z",
     "start_time": "2025-01-31T16:37:37.825564Z"
    }
   },
   "cell_type": "code",
   "source": "nyopet_model.state_dict()",
   "outputs": [
    {
     "data": {
      "text/plain": [
       "OrderedDict([('weights', tensor([0.8940], device='cuda:0')),\n",
       "             ('bias', tensor([0.2968], device='cuda:0'))])"
      ]
     },
     "execution_count": 157,
     "metadata": {},
     "output_type": "execute_result"
    }
   ],
   "execution_count": 157
  },
  {
   "metadata": {
    "ExecuteTime": {
     "end_time": "2025-01-31T16:37:37.912156Z",
     "start_time": "2025-01-31T16:37:37.877690Z"
    }
   },
   "cell_type": "code",
   "source": [
    "# evaluate loaded model\n",
    "nyopet_model.eval()\n",
    "with torch.inference_mode():\n",
    "    prediksi_model_comot = nyopet_model(X_test)\n",
    "test_pred == prediksi_model_comot"
   ],
   "outputs": [
    {
     "ename": "RuntimeError",
     "evalue": "Expected all tensors to be on the same device, but found at least two devices, cuda:0 and cpu!",
     "output_type": "error",
     "traceback": [
      "\u001B[0;31m---------------------------------------------------------------------------\u001B[0m",
      "\u001B[0;31mRuntimeError\u001B[0m                              Traceback (most recent call last)",
      "Cell \u001B[0;32mIn[158], line 4\u001B[0m\n\u001B[1;32m      2\u001B[0m nyopet_model\u001B[38;5;241m.\u001B[39meval()\n\u001B[1;32m      3\u001B[0m \u001B[38;5;28;01mwith\u001B[39;00m torch\u001B[38;5;241m.\u001B[39minference_mode():\n\u001B[0;32m----> 4\u001B[0m     prediksi_model_comot \u001B[38;5;241m=\u001B[39m \u001B[43mnyopet_model\u001B[49m\u001B[43m(\u001B[49m\u001B[43mX_test\u001B[49m\u001B[43m)\u001B[49m\n\u001B[1;32m      5\u001B[0m test_pred \u001B[38;5;241m==\u001B[39m prediksi_model_comot\n",
      "File \u001B[0;32m~/.conda/envs/test/lib/python3.10/site-packages/torch/nn/modules/module.py:1736\u001B[0m, in \u001B[0;36mModule._wrapped_call_impl\u001B[0;34m(self, *args, **kwargs)\u001B[0m\n\u001B[1;32m   1734\u001B[0m     \u001B[38;5;28;01mreturn\u001B[39;00m \u001B[38;5;28mself\u001B[39m\u001B[38;5;241m.\u001B[39m_compiled_call_impl(\u001B[38;5;241m*\u001B[39margs, \u001B[38;5;241m*\u001B[39m\u001B[38;5;241m*\u001B[39mkwargs)  \u001B[38;5;66;03m# type: ignore[misc]\u001B[39;00m\n\u001B[1;32m   1735\u001B[0m \u001B[38;5;28;01melse\u001B[39;00m:\n\u001B[0;32m-> 1736\u001B[0m     \u001B[38;5;28;01mreturn\u001B[39;00m \u001B[38;5;28;43mself\u001B[39;49m\u001B[38;5;241;43m.\u001B[39;49m\u001B[43m_call_impl\u001B[49m\u001B[43m(\u001B[49m\u001B[38;5;241;43m*\u001B[39;49m\u001B[43margs\u001B[49m\u001B[43m,\u001B[49m\u001B[43m \u001B[49m\u001B[38;5;241;43m*\u001B[39;49m\u001B[38;5;241;43m*\u001B[39;49m\u001B[43mkwargs\u001B[49m\u001B[43m)\u001B[49m\n",
      "File \u001B[0;32m~/.conda/envs/test/lib/python3.10/site-packages/torch/nn/modules/module.py:1747\u001B[0m, in \u001B[0;36mModule._call_impl\u001B[0;34m(self, *args, **kwargs)\u001B[0m\n\u001B[1;32m   1742\u001B[0m \u001B[38;5;66;03m# If we don't have any hooks, we want to skip the rest of the logic in\u001B[39;00m\n\u001B[1;32m   1743\u001B[0m \u001B[38;5;66;03m# this function, and just call forward.\u001B[39;00m\n\u001B[1;32m   1744\u001B[0m \u001B[38;5;28;01mif\u001B[39;00m \u001B[38;5;129;01mnot\u001B[39;00m (\u001B[38;5;28mself\u001B[39m\u001B[38;5;241m.\u001B[39m_backward_hooks \u001B[38;5;129;01mor\u001B[39;00m \u001B[38;5;28mself\u001B[39m\u001B[38;5;241m.\u001B[39m_backward_pre_hooks \u001B[38;5;129;01mor\u001B[39;00m \u001B[38;5;28mself\u001B[39m\u001B[38;5;241m.\u001B[39m_forward_hooks \u001B[38;5;129;01mor\u001B[39;00m \u001B[38;5;28mself\u001B[39m\u001B[38;5;241m.\u001B[39m_forward_pre_hooks\n\u001B[1;32m   1745\u001B[0m         \u001B[38;5;129;01mor\u001B[39;00m _global_backward_pre_hooks \u001B[38;5;129;01mor\u001B[39;00m _global_backward_hooks\n\u001B[1;32m   1746\u001B[0m         \u001B[38;5;129;01mor\u001B[39;00m _global_forward_hooks \u001B[38;5;129;01mor\u001B[39;00m _global_forward_pre_hooks):\n\u001B[0;32m-> 1747\u001B[0m     \u001B[38;5;28;01mreturn\u001B[39;00m \u001B[43mforward_call\u001B[49m\u001B[43m(\u001B[49m\u001B[38;5;241;43m*\u001B[39;49m\u001B[43margs\u001B[49m\u001B[43m,\u001B[49m\u001B[43m \u001B[49m\u001B[38;5;241;43m*\u001B[39;49m\u001B[38;5;241;43m*\u001B[39;49m\u001B[43mkwargs\u001B[49m\u001B[43m)\u001B[49m\n\u001B[1;32m   1749\u001B[0m result \u001B[38;5;241m=\u001B[39m \u001B[38;5;28;01mNone\u001B[39;00m\n\u001B[1;32m   1750\u001B[0m called_always_called_hooks \u001B[38;5;241m=\u001B[39m \u001B[38;5;28mset\u001B[39m()\n",
      "Cell \u001B[0;32mIn[147], line 12\u001B[0m, in \u001B[0;36mModelGacorLR.forward\u001B[0;34m(self, x)\u001B[0m\n\u001B[1;32m     11\u001B[0m \u001B[38;5;28;01mdef\u001B[39;00m \u001B[38;5;21mforward\u001B[39m(\u001B[38;5;28mself\u001B[39m, x:torch\u001B[38;5;241m.\u001B[39mTensor)\u001B[38;5;241m-\u001B[39m\u001B[38;5;241m>\u001B[39mtorch\u001B[38;5;241m.\u001B[39mTensor:\n\u001B[0;32m---> 12\u001B[0m     \u001B[38;5;28;01mreturn\u001B[39;00m \u001B[38;5;28;43mself\u001B[39;49m\u001B[38;5;241;43m.\u001B[39;49m\u001B[43mweights\u001B[49m\u001B[43m \u001B[49m\u001B[38;5;241;43m*\u001B[39;49m\u001B[43m \u001B[49m\u001B[43mx\u001B[49m \u001B[38;5;241m+\u001B[39m \u001B[38;5;28mself\u001B[39m\u001B[38;5;241m.\u001B[39mbias\n",
      "\u001B[0;31mRuntimeError\u001B[0m: Expected all tensors to be on the same device, but found at least two devices, cuda:0 and cpu!"
     ]
    }
   ],
   "execution_count": 158
  }
 ],
 "metadata": {
  "accelerator": "GPU",
  "colab": {
   "gpuType": "T4",
   "provenance": []
  },
  "kernelspec": {
   "display_name": "Python 3 (ipykernel)",
   "name": "python3",
   "language": "python"
  },
  "language_info": {
   "name": "python"
  }
 },
 "nbformat": 4,
 "nbformat_minor": 0
}
