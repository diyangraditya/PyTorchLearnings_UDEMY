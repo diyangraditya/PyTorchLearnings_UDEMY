{
 "cells": [
  {
   "cell_type": "markdown",
   "metadata": {
    "id": "u__4NSfxfYye"
   },
   "source": [
    "# Pytorch workflow\n",
    "\n",
    "let's explore an example ptroch end-to-end workflow.\n",
    "\n",
    "resources = https://github.com/mrdbourke/pytorch-deep-learning/blob/main/01_pytorch_workflow.ipynb\n",
    "\n",
    "https://www.learnpytorch.io/01_pytorch_workflow/\n",
    "\n",
    "ask questions = https://github.com/mrdbourke/pytorch-deep-learning/discussions"
   ]
  },
  {
   "cell_type": "code",
   "metadata": {
    "id": "9XMdbZIrgGlg",
    "colab": {
     "base_uri": "https://localhost:8080/"
    },
    "outputId": "e2280c5a-d034-402b-d186-b22b442d7f49",
    "ExecuteTime": {
     "end_time": "2024-10-21T17:17:28.891222Z",
     "start_time": "2024-10-21T17:17:28.882006Z"
    }
   },
   "source": [
    "what_were_covering = {\n",
    "    1: \"data prep and load\",\n",
    "    2: \"bulid and train model\",\n",
    "    3: \"fitting the model to data (training)\",\n",
    "    4: \"saving and loading the model\",\n",
    "    5: \"putting it all together\"\n",
    "}\n",
    "\n",
    "what_were_covering"
   ],
   "outputs": [
    {
     "data": {
      "text/plain": [
       "{1: 'data prep and load',\n",
       " 2: 'bulid and train model',\n",
       " 3: 'fitting the model to data (training)',\n",
       " 4: 'saving and loading the model',\n",
       " 5: 'putting it all together'}"
      ]
     },
     "execution_count": 1,
     "metadata": {},
     "output_type": "execute_result"
    }
   ],
   "execution_count": 1
  },
  {
   "cell_type": "code",
   "metadata": {
    "colab": {
     "base_uri": "https://localhost:8080/",
     "height": 36
    },
    "id": "YSBbDe5thNlU",
    "outputId": "67e49178-cb60-4a17-bb27-e27ab4efb523",
    "ExecuteTime": {
     "end_time": "2024-10-21T17:17:34.883322Z",
     "start_time": "2024-10-21T17:17:28.892463Z"
    }
   },
   "source": [
    "import torch\n",
    "from torch import nn, optim  # nn contains all of PyTorch's building blocks for neural networks\n",
    "import matplotlib.pyplot as plt\n",
    "\n",
    "# check PyTorch version\n",
    "torch.__version__"
   ],
   "outputs": [
    {
     "data": {
      "text/plain": [
       "'2.4.1+cu124'"
      ]
     },
     "execution_count": 2,
     "metadata": {},
     "output_type": "execute_result"
    }
   ],
   "execution_count": 2
  },
  {
   "cell_type": "markdown",
   "metadata": {
    "id": "7LN-i3ZfhLjo"
   },
   "source": [
    "# 1. Data prep and loading\n",
    "\n",
    "Dat acan be almost anything.. in ML\n",
    "- Excel spreasheets\n",
    "- images of any kind\n",
    "- Videos (yt has a lot of data)\n",
    "- Audio like songs or podcasts\n",
    "- DNA\n",
    "- Text\n",
    "\n",
    "Machine learning is a game of 2 parts :\n",
    "1. get data into numerical representation\n",
    "2. Build a model to learn patterns in that numerical representation\n",
    "\n",
    "to showcase this, lets create some *known* data using the LinReg formula.\n",
    "\n",
    "we'll use a linear regerssion formula to make a straight line with *known* **parameters**"
   ]
  },
  {
   "cell_type": "code",
   "metadata": {
    "colab": {
     "base_uri": "https://localhost:8080/"
    },
    "id": "BLwzeBufIh4i",
    "outputId": "ad1fbbcb-99d8-4e62-ef0f-244e055804da",
    "ExecuteTime": {
     "end_time": "2024-10-21T17:17:34.939358Z",
     "start_time": "2024-10-21T17:17:34.884329Z"
    }
   },
   "source": [
    "# Create *known* parameters\n",
    "weight = 0.7\n",
    "bias = 0.3\n",
    "\n",
    "# create some data\n",
    "start = 0\n",
    "end = 1\n",
    "step = 0.02\n",
    "X = torch.arange(start, end, step).unsqueeze(dim=1)\n",
    "y = weight * X + bias\n",
    "\n",
    "X[:10], y[:10], len(X), len(y)"
   ],
   "outputs": [
    {
     "data": {
      "text/plain": [
       "(tensor([[0.0000],\n",
       "         [0.0200],\n",
       "         [0.0400],\n",
       "         [0.0600],\n",
       "         [0.0800],\n",
       "         [0.1000],\n",
       "         [0.1200],\n",
       "         [0.1400],\n",
       "         [0.1600],\n",
       "         [0.1800]]),\n",
       " tensor([[0.3000],\n",
       "         [0.3140],\n",
       "         [0.3280],\n",
       "         [0.3420],\n",
       "         [0.3560],\n",
       "         [0.3700],\n",
       "         [0.3840],\n",
       "         [0.3980],\n",
       "         [0.4120],\n",
       "         [0.4260]]),\n",
       " 50,\n",
       " 50)"
      ]
     },
     "execution_count": 3,
     "metadata": {},
     "output_type": "execute_result"
    }
   ],
   "execution_count": 3
  },
  {
   "cell_type": "code",
   "metadata": {
    "colab": {
     "base_uri": "https://localhost:8080/"
    },
    "id": "K8_aVhBaKouJ",
    "outputId": "360dcaaa-29a7-4710-b515-aaaa46286e18",
    "ExecuteTime": {
     "end_time": "2024-10-21T17:17:34.944288Z",
     "start_time": "2024-10-21T17:17:34.940366Z"
    }
   },
   "source": [
    "len(X), len(y)"
   ],
   "outputs": [
    {
     "data": {
      "text/plain": [
       "(50, 50)"
      ]
     },
     "execution_count": 4,
     "metadata": {},
     "output_type": "execute_result"
    }
   ],
   "execution_count": 4
  },
  {
   "cell_type": "markdown",
   "metadata": {
    "id": "CHz0aVxgLpsv"
   },
   "source": [
    "### Splittin data into training and test data (one of the most important concepts in ML general)\n",
    "\n",
    "lets create a training and test set with our data"
   ]
  },
  {
   "cell_type": "code",
   "metadata": {
    "colab": {
     "base_uri": "https://localhost:8080/"
    },
    "id": "cqk6QlnPTTKl",
    "outputId": "43600e0c-c6a5-4d75-81a2-4937f623d542",
    "ExecuteTime": {
     "end_time": "2024-10-21T17:17:34.950355Z",
     "start_time": "2024-10-21T17:17:34.946003Z"
    }
   },
   "source": [
    "# Create a train/test split\n",
    "train_split = int(0.8 * len(X)) # 80% of data used for training set, 20% for testing\n",
    "X_train, y_train = X[:train_split], y[:train_split]\n",
    "X_test, y_test = X[train_split:], y[train_split:]\n",
    "\n",
    "len(X_train), len(y_train), len(X_test), len(y_test)"
   ],
   "outputs": [
    {
     "data": {
      "text/plain": [
       "(40, 40, 10, 10)"
      ]
     },
     "execution_count": 5,
     "metadata": {},
     "output_type": "execute_result"
    }
   ],
   "execution_count": 5
  },
  {
   "cell_type": "markdown",
   "metadata": {
    "id": "qwkcF5DwV0_s"
   },
   "source": [
    "How might we better visualize our data?\n",
    "\n",
    "This is where the data explorer's motto comes in!\n",
    "\n",
    "\"Visualize, visualize, visualize!\""
   ]
  },
  {
   "cell_type": "code",
   "metadata": {
    "id": "xfua72zvWC-U",
    "ExecuteTime": {
     "end_time": "2024-10-21T17:17:34.955843Z",
     "start_time": "2024-10-21T17:17:34.951560Z"
    }
   },
   "source": [
    "def plot_predictions(train_data=X_train,\n",
    "                      train_labels=y_train,\n",
    "                      test_data=X_test,\n",
    "                      test_labels=y_test,\n",
    "                      predictions=None):\n",
    "\n",
    "  \"\"\"\n",
    "  Plots training data, test data and compares predictions.\n",
    "  \"\"\"\n",
    "  plt.figure(figsize=(10, 7))\n",
    "\n",
    "  #Plot training data in blue\n",
    "  plt.scatter(train_data, train_labels, c=\"b\", s=4, label=\"Training data\")\n",
    "\n",
    "  #Plot test data in green\n",
    "  plt.scatter(test_data, test_labels, c=\"g\", s=4, label=\"Testing data\")\n",
    "\n",
    "  #Are there predictions\n",
    "  if predictions is not None:\n",
    "    #Plot predictions in red (predictions in green aren't ideal)\n",
    "    plt.scatter(test_data, predictions, c=\"r\", s=4, label=\"Predictions\")\n",
    "\n",
    "  #show legend\n",
    "  plt.legend(prop={\"size\": 14});"
   ],
   "outputs": [],
   "execution_count": 6
  },
  {
   "cell_type": "code",
   "metadata": {
    "colab": {
     "base_uri": "https://localhost:8080/",
     "height": 599
    },
    "id": "kuYi92rpXa4n",
    "outputId": "23d0c77b-aa3c-4c0b-b4e7-151bb6c71ae4",
    "ExecuteTime": {
     "end_time": "2024-10-21T17:17:35.230496Z",
     "start_time": "2024-10-21T17:17:34.956851Z"
    }
   },
   "source": [
    "plot_predictions()"
   ],
   "outputs": [
    {
     "data": {
      "text/plain": [
       "<Figure size 1000x700 with 1 Axes>"
      ],
      "image/png": "[encoded data removed]"
     },
     "metadata": {},
     "output_type": "display_data"
    }
   ],
   "execution_count": 7
  },
  {
   "cell_type": "code",
   "metadata": {
    "colab": {
     "base_uri": "https://localhost:8080/"
    },
    "id": "-Xun8buBVHk4",
    "outputId": "2c2632a1-ba4f-4a78-bc3c-79a74d85e41a",
    "ExecuteTime": {
     "end_time": "2024-10-21T17:17:35.237793Z",
     "start_time": "2024-10-21T17:17:35.231515Z"
    }
   },
   "source": [
    "X_train, y_train"
   ],
   "outputs": [
    {
     "data": {
      "text/plain": [
       "(tensor([[0.0000],\n",
       "         [0.0200],\n",
       "         [0.0400],\n",
       "         [0.0600],\n",
       "         [0.0800],\n",
       "         [0.1000],\n",
       "         [0.1200],\n",
       "         [0.1400],\n",
       "         [0.1600],\n",
       "         [0.1800],\n",
       "         [0.2000],\n",
       "         [0.2200],\n",
       "         [0.2400],\n",
       "         [0.2600],\n",
       "         [0.2800],\n",
       "         [0.3000],\n",
       "         [0.3200],\n",
       "         [0.3400],\n",
       "         [0.3600],\n",
       "         [0.3800],\n",
       "         [0.4000],\n",
       "         [0.4200],\n",
       "         [0.4400],\n",
       "         [0.4600],\n",
       "         [0.4800],\n",
       "         [0.5000],\n",
       "         [0.5200],\n",
       "         [0.5400],\n",
       "         [0.5600],\n",
       "         [0.5800],\n",
       "         [0.6000],\n",
       "         [0.6200],\n",
       "         [0.6400],\n",
       "         [0.6600],\n",
       "         [0.6800],\n",
       "         [0.7000],\n",
       "         [0.7200],\n",
       "         [0.7400],\n",
       "         [0.7600],\n",
       "         [0.7800]]),\n",
       " tensor([[0.3000],\n",
       "         [0.3140],\n",
       "         [0.3280],\n",
       "         [0.3420],\n",
       "         [0.3560],\n",
       "         [0.3700],\n",
       "         [0.3840],\n",
       "         [0.3980],\n",
       "         [0.4120],\n",
       "         [0.4260],\n",
       "         [0.4400],\n",
       "         [0.4540],\n",
       "         [0.4680],\n",
       "         [0.4820],\n",
       "         [0.4960],\n",
       "         [0.5100],\n",
       "         [0.5240],\n",
       "         [0.5380],\n",
       "         [0.5520],\n",
       "         [0.5660],\n",
       "         [0.5800],\n",
       "         [0.5940],\n",
       "         [0.6080],\n",
       "         [0.6220],\n",
       "         [0.6360],\n",
       "         [0.6500],\n",
       "         [0.6640],\n",
       "         [0.6780],\n",
       "         [0.6920],\n",
       "         [0.7060],\n",
       "         [0.7200],\n",
       "         [0.7340],\n",
       "         [0.7480],\n",
       "         [0.7620],\n",
       "         [0.7760],\n",
       "         [0.7900],\n",
       "         [0.8040],\n",
       "         [0.8180],\n",
       "         [0.8320],\n",
       "         [0.8460]]))"
      ]
     },
     "execution_count": 8,
     "metadata": {},
     "output_type": "execute_result"
    }
   ],
   "execution_count": 8
  },
  {
   "cell_type": "code",
   "metadata": {
    "colab": {
     "base_uri": "https://localhost:8080/",
     "height": 463
    },
    "id": "vsoix2VKURsu",
    "outputId": "3004a04c-ae72-41c1-9c3b-e275f8b6e3f6",
    "ExecuteTime": {
     "end_time": "2024-10-21T17:17:35.377669Z",
     "start_time": "2024-10-21T17:17:35.238800Z"
    }
   },
   "source": [
    "plt.figure(figsize=(8, 5))\n",
    "plt.scatter(X_train, y_train, c=\"b\", s=4, label=\"training data\")\n",
    "plt.scatter(X_test, y_test, c=\"g\", s=4, label=\"testing data\")\n",
    "plt.legend(prop={\"size\": 14})"
   ],
   "outputs": [
    {
     "data": {
      "text/plain": [
       "<matplotlib.legend.Legend at 0x2813b6c9890>"
      ]
     },
     "execution_count": 9,
     "metadata": {},
     "output_type": "execute_result"
    },
    {
     "data": {
      "text/plain": [
       "<Figure size 800x500 with 1 Axes>"
      ],
      "image/png": "[encoded data removed]"
     },
     "metadata": {},
     "output_type": "display_data"
    }
   ],
   "execution_count": 9
  },
  {
   "cell_type": "markdown",
   "metadata": {
    "id": "HM5RfM9wXya1"
   },
   "source": [
    "## 2. Build model\n",
    "\n",
    "Our first pytorch model\n",
    "\n",
    "Because we're going to building classes troughout the course, i'd recommend getting familiar with OOP in python, to do so you can use the following resource from Real Python : https://realpython.com/python-classes/\n",
    "\n",
    "What the model does :\n",
    "* Start with random values (weight & bias)\n",
    "* Look at training data and adjust the random values to better represent (or get closer to) the ideal values (the weight & bias values we used to create the data)\n",
    "\n",
    "How does it so?\n",
    "\n",
    "Through this 2 main algo:\n",
    "- Gradient descent - https://www.youtube.com/watch?v=IHZwWFHWa-w&pp=ygUcM2JsdWUxYnJvd24gZ3JhZGllbnQgZGVzY2VudA%3D%3D\n",
    "- Backpropagation -"
   ]
  },
  {
   "cell_type": "code",
   "metadata": {
    "id": "Auy5HP_qYVYO",
    "ExecuteTime": {
     "end_time": "2024-10-21T17:20:57.390071Z",
     "start_time": "2024-10-21T17:20:57.385162Z"
    }
   },
   "source": [
    "# Create a linreg model class\n",
    "class LinRegModelV1(nn.Module):# <- almost everything in pytorch inherit from nn.Module\n",
    "  def __init__(self):\n",
    "    super().__init__()\n",
    "    self.weights = nn.Parameter(torch.randn(1, # <- start with random weights (this will get adjusted as the model learns)\n",
    "                                        requires_grad=True, # <- can we update this value with gradient descent?\n",
    "                                        dtype=torch.float)) # <- data type of values inside the tensor\n",
    "    self.bias = nn.Parameter(torch.randn(1, # <- start with a random bias and try to adjust it to the ideal bias\n",
    "                                        requires_grad=True, # <- can this parameter be updated via gradient descent?\n",
    "                                         dtype=torch.float)) # <- Pytorch loves the datatype torch.float32\n",
    "\n",
    "    #Forward method to define computation in the model\n",
    "  def forward(self, x: torch.Tensor) -> torch.Tensor: # <- \"x\" is the input data (also called the features)\n",
    "    return self.weights * x + self.bias # this is the linreg formula"
   ],
   "outputs": [],
   "execution_count": 24
  },
  {
   "cell_type": "markdown",
   "source": [
    "## Pytorch model building essentials\n",
    "- torch.nn - containes all of the buildings for computational graphs (a neural network can be considered a computational graph)\n",
    "- torch.nn.Parameter - what parameters should our model try and learn, often a PyTorch layer from torch.nn will set these for us\n",
    "- torch.nn.Module - The base class for all nn modules, if you subclass it, you sould overwrite forward()\n",
    "- torch.optim - this where the optimizers in pytorch live, they will help with gradient descent\n",
    "- def forward() - All nn.Module subclasses require you to overwrite forward(), this method defines what happens in the forward computation\n",
    "\n",
    "pytorch cheadsheet = https://pytorch.org/tutorials/beginner/ptcheat.html"
   ],
   "metadata": {
    "id": "QWHpgEgSe6NB"
   }
  },
  {
   "cell_type": "markdown",
   "source": [
    "### Checking the contenst of or pytorch model\n",
    "\n",
    "Now weve created a model, lets see whats inside...\n",
    "\n",
    "So we can check our model parameters or whats inside our model using `.parameters()`"
   ],
   "metadata": {
    "id": "QYcN7cfff3jZ"
   }
  },
  {
   "cell_type": "code",
   "source": [
    "# Create a random seed\n",
    "torch.manual_seed(42)\n",
    "\n",
    "# Create an instance of the model (this is a subclass of nn.Module)\n",
    "model_0 = LinRegModelV1()\n",
    "\n",
    "# Check out the parameters\n",
    "list(model_0.parameters())"
   ],
   "metadata": {
    "colab": {
     "base_uri": "https://localhost:8080/"
    },
    "id": "PuD__HoCg2e_",
    "outputId": "09c22ec7-231e-4f4c-9104-4b53142ead19",
    "ExecuteTime": {
     "end_time": "2024-10-21T17:21:31.041889Z",
     "start_time": "2024-10-21T17:21:31.019996Z"
    }
   },
   "outputs": [
    {
     "data": {
      "text/plain": [
       "[Parameter containing:\n",
       " tensor([0.3367], requires_grad=True),\n",
       " Parameter containing:\n",
       " tensor([0.1288], requires_grad=True)]"
      ]
     },
     "execution_count": 26,
     "metadata": {},
     "output_type": "execute_result"
    }
   ],
   "execution_count": 26
  },
  {
   "cell_type": "code",
   "source": [
    "# List named parameters\n",
    "\n",
    "model_0.state_dict(\n",
    ")"
   ],
   "metadata": {
    "colab": {
     "base_uri": "https://localhost:8080/"
    },
    "id": "TfubSP02iN56",
    "outputId": "64980612-11c4-436d-b4ac-7056948eb97f",
    "ExecuteTime": {
     "end_time": "2024-10-21T17:21:05.899882Z",
     "start_time": "2024-10-21T17:21:05.894396Z"
    }
   },
   "outputs": [
    {
     "data": {
      "text/plain": [
       "OrderedDict([('weights', tensor([0.3757])), ('bias', tensor([0.2288]))])"
      ]
     },
     "execution_count": 25,
     "metadata": {},
     "output_type": "execute_result"
    }
   ],
   "execution_count": 25
  },
  {
   "cell_type": "markdown",
   "source": [
    "### Making predicton using `torch.inference_mode()`\n",
    "\n",
    "to check our models predictive power, let see how well it predicts `y_test` based on `X_test`.\n",
    "\n",
    "when we pass data through our model, it's going to run it through the `forward()` method."
   ],
   "metadata": {
    "id": "HHE46ox9icJS"
   }
  },
  {
   "cell_type": "code",
   "source": [
    "X_test, y_test"
   ],
   "metadata": {
    "colab": {
     "base_uri": "https://localhost:8080/"
    },
    "id": "uU0wr2evmag4",
    "outputId": "a154480a-af85-4604-f4aa-9c12a2612e16",
    "ExecuteTime": {
     "end_time": "2024-10-21T17:17:35.412754Z",
     "start_time": "2024-10-21T17:17:35.407227Z"
    }
   },
   "outputs": [
    {
     "data": {
      "text/plain": [
       "(tensor([[0.8000],\n",
       "         [0.8200],\n",
       "         [0.8400],\n",
       "         [0.8600],\n",
       "         [0.8800],\n",
       "         [0.9000],\n",
       "         [0.9200],\n",
       "         [0.9400],\n",
       "         [0.9600],\n",
       "         [0.9800]]),\n",
       " tensor([[0.8600],\n",
       "         [0.8740],\n",
       "         [0.8880],\n",
       "         [0.9020],\n",
       "         [0.9160],\n",
       "         [0.9300],\n",
       "         [0.9440],\n",
       "         [0.9580],\n",
       "         [0.9720],\n",
       "         [0.9860]]))"
      ]
     },
     "execution_count": 13,
     "metadata": {},
     "output_type": "execute_result"
    }
   ],
   "execution_count": 13
  },
  {
   "cell_type": "code",
   "source": [
    "# make prediction with model\n",
    "\n",
    "with torch.inference_mode():\n",
    "  y_preds = model_0(X_test)\n",
    "\n",
    "# we can also do seomthing similar with torch.no_grad(), however, torch.inference_mode() is preffered\n",
    "# with torch.no_grad():\n",
    "#   y_preds = model_0(X_test)\n",
    "\n",
    "y_preds"
   ],
   "metadata": {
    "colab": {
     "base_uri": "https://localhost:8080/"
    },
    "id": "nYwIhwaxjrDn",
    "outputId": "8b3635d2-0888-4f3b-b0b2-677af4a560cc",
    "ExecuteTime": {
     "end_time": "2024-10-21T17:17:35.421102Z",
     "start_time": "2024-10-21T17:17:35.414811Z"
    }
   },
   "outputs": [
    {
     "data": {
      "text/plain": [
       "tensor([[0.3982],\n",
       "        [0.4049],\n",
       "        [0.4116],\n",
       "        [0.4184],\n",
       "        [0.4251],\n",
       "        [0.4318],\n",
       "        [0.4386],\n",
       "        [0.4453],\n",
       "        [0.4520],\n",
       "        [0.4588]])"
      ]
     },
     "execution_count": 14,
     "metadata": {},
     "output_type": "execute_result"
    }
   ],
   "execution_count": 14
  },
  {
   "cell_type": "code",
   "source": [
    "y_test"
   ],
   "metadata": {
    "colab": {
     "base_uri": "https://localhost:8080/"
    },
    "id": "MHJc8zVmnMI3",
    "outputId": "e775ddfd-f3a0-4db4-9e35-777f2eed28b5",
    "ExecuteTime": {
     "end_time": "2024-10-21T17:17:35.426692Z",
     "start_time": "2024-10-21T17:17:35.421102Z"
    }
   },
   "outputs": [
    {
     "data": {
      "text/plain": [
       "tensor([[0.8600],\n",
       "        [0.8740],\n",
       "        [0.8880],\n",
       "        [0.9020],\n",
       "        [0.9160],\n",
       "        [0.9300],\n",
       "        [0.9440],\n",
       "        [0.9580],\n",
       "        [0.9720],\n",
       "        [0.9860]])"
      ]
     },
     "execution_count": 15,
     "metadata": {},
     "output_type": "execute_result"
    }
   ],
   "execution_count": 15
  },
  {
   "cell_type": "markdown",
   "source": [
    "inference mode -- https://x.com/PyTorch/status/1437838231505096708"
   ],
   "metadata": {
    "id": "E-WfYGG6pTpR"
   }
  },
  {
   "cell_type": "code",
   "source": [
    "plot_predictions(predictions=y_preds)"
   ],
   "metadata": {
    "colab": {
     "base_uri": "https://localhost:8080/",
     "height": 599
    },
    "id": "9lNBHsRsnTdA",
    "outputId": "cc82de53-a0c2-43b4-960c-4b94996bec6b",
    "ExecuteTime": {
     "end_time": "2024-10-21T17:17:35.593786Z",
     "start_time": "2024-10-21T17:17:35.426692Z"
    }
   },
   "outputs": [
    {
     "data": {
      "text/plain": [
       "<Figure size 1000x700 with 1 Axes>"
      ],
      "image/png": "[encoded data removed]"
     },
     "metadata": {},
     "output_type": "display_data"
    }
   ],
   "execution_count": 16
  },
  {
   "metadata": {},
   "cell_type": "markdown",
   "source": [
    "## 3. Train model\n",
    "\n",
    "The whole idea of this training is for a model to move from some *unknown* parameters (these maybe be random) to some known parameters\n",
    "    \n",
    "Or in other words from a poor representation of the data to a better representation of the data\n",
    "\n",
    "One way to measure how poor or how wrong your models predictions are is to use a loss function\n",
    "\n",
    "* note : loss function may alo be called cost function or criterion in different areas. For our case, we're going to refer to it as a loss function\n",
    "\n",
    "Thins we need to train :\n",
    "\n",
    "* **loss function :** A function to meassure how wrong your model's predictions are to the ideal outputs, lower is better.\n",
    "* **Optimizer :** Takes into account the loss of a model and adjusts the model's parameters (e.g weight & bias) to improve the loss function -> https://pytorch.org/docs/stable/optim.html\n",
    "    * Iniside the optimizer you'll often have to set 2 parameters:\n",
    "        * `params` - the model parameters you'd like to optimize, for example `model_0.parameters()`\n",
    "        * `lr` (learning rate) - the learning rate is a hyperparameter that defines how big/small the optimizer changes the parameters with each step (a small `lr` result in small changes, a large `lr` results in large changes)\n",
    "\n",
    "And specifically for PyTorch, we need:\n",
    "* A training loop\n",
    "* A testing loop"
   ]
  },
  {
   "metadata": {
    "ExecuteTime": {
     "end_time": "2024-10-21T17:17:35.599418Z",
     "start_time": "2024-10-21T17:17:35.594796Z"
    }
   },
   "cell_type": "code",
   "source": "list(model_0.parameters())",
   "outputs": [
    {
     "data": {
      "text/plain": [
       "[Parameter containing:\n",
       " tensor([0.3367], requires_grad=True),\n",
       " Parameter containing:\n",
       " tensor([0.1288], requires_grad=True)]"
      ]
     },
     "execution_count": 17,
     "metadata": {},
     "output_type": "execute_result"
    }
   ],
   "execution_count": 17
  },
  {
   "metadata": {
    "ExecuteTime": {
     "end_time": "2024-10-21T17:22:24.176031Z",
     "start_time": "2024-10-21T17:22:24.169613Z"
    }
   },
   "cell_type": "code",
   "source": [
    "# check out the model parameters (a parameter is a value that the model sets itself)\n",
    "model_0.state_dict()"
   ],
   "outputs": [
    {
     "data": {
      "text/plain": [
       "OrderedDict([('weights', tensor([0.3367])), ('bias', tensor([0.1288]))])"
      ]
     },
     "execution_count": 27,
     "metadata": {},
     "output_type": "execute_result"
    }
   ],
   "execution_count": 27
  },
  {
   "metadata": {
    "ExecuteTime": {
     "end_time": "2024-10-21T17:22:25.180762Z",
     "start_time": "2024-10-21T17:22:25.176913Z"
    }
   },
   "cell_type": "code",
   "source": [
    "# set up a loss function\n",
    "loss_fn = nn.L1Loss()\n",
    "\n",
    "# set up an opptimizer\n",
    "optimizer = optim.SGD(params=model_0.parameters(),\n",
    "                      lr=0.01) # learning rate = possibly the most important hyperparameter you can set"
   ],
   "outputs": [],
   "execution_count": 28
  },
  {
   "metadata": {
    "ExecuteTime": {
     "end_time": "2024-10-21T17:17:37.744452Z",
     "start_time": "2024-10-21T17:17:37.740715Z"
    }
   },
   "cell_type": "code",
   "source": "loss_fn",
   "outputs": [
    {
     "data": {
      "text/plain": [
       "L1Loss()"
      ]
     },
     "execution_count": 20,
     "metadata": {},
     "output_type": "execute_result"
    }
   ],
   "execution_count": 20
  },
  {
   "metadata": {},
   "cell_type": "markdown",
   "source": [
    "**Q** : Which loss function and optimizer should i use?\n",
    "**A** : This will be problem specific. But with experience, you'll get an idea of what works and what doesn't with your particular problem set.\n",
    "\n",
    "For example, for a regression problem (like this), a loss function of `nn.Loss()` and an optimizer like `torch.optim.SGD()` will suffice\n",
    "But for a classfication problem like classifying whether a photo is a dog or cat, you'll likely want to use a loss function of `nn.BCELoss()` (binary cross entropy loss) "
   ]
  },
  {
   "metadata": {},
   "cell_type": "markdown",
   "source": [
    "### Building a training loop (and testing loop) in PyTorch\n",
    "\n",
    "A couple things we need in a training loop:\n",
    "0. Loop through the data and do...\n",
    "1. Forward pass (this involves data moving through our model's `forward()` functions) to make predictions on data - also called forward propagation\n",
    "2. Calculate the loss (compare forward pass predictions to ground truth labels)\n",
    "3. Optimizer zero grad\n",
    "4. Loss backward - move backwards throuh the network to calculate the gradients of each of parameters of our model with respect to the loss (**backpropagation**)\n",
    "5. Optimizer step - use the optimizer to adjust the model's parameters to try and improve the loss (**gradient descent**)"
   ]
  },
  {
   "metadata": {
    "ExecuteTime": {
     "end_time": "2024-10-21T17:17:37.749555Z",
     "start_time": "2024-10-21T17:17:37.745460Z"
    }
   },
   "cell_type": "code",
   "source": "list(model_0.parameters())",
   "outputs": [
    {
     "data": {
      "text/plain": [
       "[Parameter containing:\n",
       " tensor([0.3367], requires_grad=True),\n",
       " Parameter containing:\n",
       " tensor([0.1288], requires_grad=True)]"
      ]
     },
     "execution_count": 21,
     "metadata": {},
     "output_type": "execute_result"
    }
   ],
   "execution_count": 21
  },
  {
   "metadata": {
    "ExecuteTime": {
     "end_time": "2024-10-21T17:17:37.754811Z",
     "start_time": "2024-10-21T17:17:37.750060Z"
    }
   },
   "cell_type": "code",
   "source": "X_test, y_test",
   "outputs": [
    {
     "data": {
      "text/plain": [
       "(tensor([[0.8000],\n",
       "         [0.8200],\n",
       "         [0.8400],\n",
       "         [0.8600],\n",
       "         [0.8800],\n",
       "         [0.9000],\n",
       "         [0.9200],\n",
       "         [0.9400],\n",
       "         [0.9600],\n",
       "         [0.9800]]),\n",
       " tensor([[0.8600],\n",
       "         [0.8740],\n",
       "         [0.8880],\n",
       "         [0.9020],\n",
       "         [0.9160],\n",
       "         [0.9300],\n",
       "         [0.9440],\n",
       "         [0.9580],\n",
       "         [0.9720],\n",
       "         [0.9860]]))"
      ]
     },
     "execution_count": 22,
     "metadata": {},
     "output_type": "execute_result"
    }
   ],
   "execution_count": 22
  },
  {
   "metadata": {
    "ExecuteTime": {
     "end_time": "2024-10-21T17:30:12.911639Z",
     "start_time": "2024-10-21T17:30:12.841761Z"
    }
   },
   "cell_type": "code",
   "source": [
    "# A epoch is a loop through the data... (this is a hyperparameter because set it ourselves)\n",
    "torch.manual_seed(42)\n",
    "\n",
    "epochs = 100\n",
    "\n",
    "#Training\n",
    "# 0. loop through the data\n",
    "for epoch in range(epochs):\n",
    "    # set the model to training mode\n",
    "    model_0.train() # train mode in PyTorch set all parameters that require gradients to require gradients\n",
    "    \n",
    "    # 1. Forward passs\n",
    "    y_pred = model_0(X_train)\n",
    "    \n",
    "    # 2. Calculate the loss \n",
    "    loss = loss_fn(y_pred, y_train)\n",
    "    print(f\"Loss : {loss}\")\n",
    "    \n",
    "    # 3. Optimizer seero grad\n",
    "    optimizer.zero_grad()\n",
    "    \n",
    "    # 4. Perform backprop on the loss with respect to parameters to the model\n",
    "    loss.backward()\n",
    "    \n",
    "    # 5. Step theoptimizer (perform gradient descent)\n",
    "    optimizer.step() #by default how the optimizer changes will accumulate through the loop so.. we have to zero them above insetp 3 form the next iteration of the loop\n",
    "    \n",
    "    #testing\n",
    "    model_0.eval() # turns off gradient tracking\n",
    "    \n",
    "    print(model_0.state_dict())\n",
    "    "
   ],
   "outputs": [
    {
     "name": "stdout",
     "output_type": "stream",
     "text": [
      "Loss : 0.05845819041132927\n",
      "OrderedDict([('weights', tensor([0.4425])), ('bias', tensor([0.3688]))])\n",
      "Loss : 0.05635259300470352\n",
      "OrderedDict([('weights', tensor([0.4455])), ('bias', tensor([0.3718]))])\n",
      "Loss : 0.0545857772231102\n",
      "OrderedDict([('weights', tensor([0.4483])), ('bias', tensor([0.3743]))])\n",
      "Loss : 0.053148526698350906\n",
      "OrderedDict([('weights', tensor([0.4512])), ('bias', tensor([0.3768]))])\n",
      "Loss : 0.05181945487856865\n",
      "OrderedDict([('weights', tensor([0.4539])), ('bias', tensor([0.3788]))])\n",
      "Loss : 0.05069301277399063\n",
      "OrderedDict([('weights', tensor([0.4564])), ('bias', tensor([0.3803]))])\n",
      "Loss : 0.0498228520154953\n",
      "OrderedDict([('weights', tensor([0.4590])), ('bias', tensor([0.3818]))])\n",
      "Loss : 0.04895269125699997\n",
      "OrderedDict([('weights', tensor([0.4615])), ('bias', tensor([0.3833]))])\n",
      "Loss : 0.04819351062178612\n",
      "OrderedDict([('weights', tensor([0.4639])), ('bias', tensor([0.3843]))])\n",
      "Loss : 0.047531817108392715\n",
      "OrderedDict([('weights', tensor([0.4662])), ('bias', tensor([0.3853]))])\n",
      "Loss : 0.04692792519927025\n",
      "OrderedDict([('weights', tensor([0.4684])), ('bias', tensor([0.3858]))])\n",
      "Loss : 0.04642331600189209\n",
      "OrderedDict([('weights', tensor([0.4706])), ('bias', tensor([0.3863]))])\n",
      "Loss : 0.04591871052980423\n",
      "OrderedDict([('weights', tensor([0.4728])), ('bias', tensor([0.3868]))])\n",
      "Loss : 0.04543796554207802\n",
      "OrderedDict([('weights', tensor([0.4748])), ('bias', tensor([0.3868]))])\n",
      "Loss : 0.04503796249628067\n",
      "OrderedDict([('weights', tensor([0.4768])), ('bias', tensor([0.3868]))])\n",
      "Loss : 0.04463795945048332\n",
      "OrderedDict([('weights', tensor([0.4788])), ('bias', tensor([0.3868]))])\n",
      "Loss : 0.04423796385526657\n",
      "OrderedDict([('weights', tensor([0.4808])), ('bias', tensor([0.3868]))])\n",
      "Loss : 0.04383796453475952\n",
      "OrderedDict([('weights', tensor([0.4828])), ('bias', tensor([0.3868]))])\n",
      "Loss : 0.04343796148896217\n",
      "OrderedDict([('weights', tensor([0.4848])), ('bias', tensor([0.3868]))])\n",
      "Loss : 0.043074630200862885\n",
      "OrderedDict([('weights', tensor([0.4866])), ('bias', tensor([0.3863]))])\n",
      "Loss : 0.04272563382983208\n",
      "OrderedDict([('weights', tensor([0.4884])), ('bias', tensor([0.3858]))])\n",
      "Loss : 0.04237663000822067\n",
      "OrderedDict([('weights', tensor([0.4902])), ('bias', tensor([0.3853]))])\n",
      "Loss : 0.04202762991189957\n",
      "OrderedDict([('weights', tensor([0.4920])), ('bias', tensor([0.3848]))])\n",
      "Loss : 0.04167863354086876\n",
      "OrderedDict([('weights', tensor([0.4938])), ('bias', tensor([0.3843]))])\n",
      "Loss : 0.04132963344454765\n",
      "OrderedDict([('weights', tensor([0.4956])), ('bias', tensor([0.3838]))])\n",
      "Loss : 0.04098063334822655\n",
      "OrderedDict([('weights', tensor([0.4974])), ('bias', tensor([0.3833]))])\n",
      "Loss : 0.04063162952661514\n",
      "OrderedDict([('weights', tensor([0.4992])), ('bias', tensor([0.3828]))])\n",
      "Loss : 0.040282636880874634\n",
      "OrderedDict([('weights', tensor([0.5010])), ('bias', tensor([0.3823]))])\n",
      "Loss : 0.039933640509843826\n",
      "OrderedDict([('weights', tensor([0.5028])), ('bias', tensor([0.3818]))])\n",
      "Loss : 0.03958464413881302\n",
      "OrderedDict([('weights', tensor([0.5046])), ('bias', tensor([0.3813]))])\n",
      "Loss : 0.03923564404249191\n",
      "OrderedDict([('weights', tensor([0.5064])), ('bias', tensor([0.3808]))])\n",
      "Loss : 0.03888664394617081\n",
      "OrderedDict([('weights', tensor([0.5082])), ('bias', tensor([0.3803]))])\n",
      "Loss : 0.0385376438498497\n",
      "OrderedDict([('weights', tensor([0.5100])), ('bias', tensor([0.3798]))])\n",
      "Loss : 0.03818932920694351\n",
      "OrderedDict([('weights', tensor([0.5116])), ('bias', tensor([0.3788]))])\n",
      "Loss : 0.03785243630409241\n",
      "OrderedDict([('weights', tensor([0.5134])), ('bias', tensor([0.3783]))])\n",
      "Loss : 0.0375034399330616\n",
      "OrderedDict([('weights', tensor([0.5152])), ('bias', tensor([0.3778]))])\n",
      "Loss : 0.037164121866226196\n",
      "OrderedDict([('weights', tensor([0.5168])), ('bias', tensor([0.3768]))])\n",
      "Loss : 0.03681822493672371\n",
      "OrderedDict([('weights', tensor([0.5186])), ('bias', tensor([0.3763]))])\n",
      "Loss : 0.03647511452436447\n",
      "OrderedDict([('weights', tensor([0.5202])), ('bias', tensor([0.3753]))])\n",
      "Loss : 0.03613303601741791\n",
      "OrderedDict([('weights', tensor([0.5220])), ('bias', tensor([0.3748]))])\n",
      "Loss : 0.03578609973192215\n",
      "OrderedDict([('weights', tensor([0.5236])), ('bias', tensor([0.3738]))])\n",
      "Loss : 0.03544783592224121\n",
      "OrderedDict([('weights', tensor([0.5254])), ('bias', tensor([0.3733]))])\n",
      "Loss : 0.035098835825920105\n",
      "OrderedDict([('weights', tensor([0.5272])), ('bias', tensor([0.3728]))])\n",
      "Loss : 0.03476089984178543\n",
      "OrderedDict([('weights', tensor([0.5288])), ('bias', tensor([0.3718]))])\n",
      "Loss : 0.03441363573074341\n",
      "OrderedDict([('weights', tensor([0.5306])), ('bias', tensor([0.3713]))])\n",
      "Loss : 0.03407188132405281\n",
      "OrderedDict([('weights', tensor([0.5322])), ('bias', tensor([0.3703]))])\n",
      "Loss : 0.03372843936085701\n",
      "OrderedDict([('weights', tensor([0.5340])), ('bias', tensor([0.3698]))])\n",
      "Loss : 0.03338287025690079\n",
      "OrderedDict([('weights', tensor([0.5355])), ('bias', tensor([0.3688]))])\n",
      "Loss : 0.033043231815099716\n",
      "OrderedDict([('weights', tensor([0.5373])), ('bias', tensor([0.3683]))])\n",
      "Loss : 0.03269423171877861\n",
      "OrderedDict([('weights', tensor([0.5391])), ('bias', tensor([0.3678]))])\n",
      "Loss : 0.032357655465602875\n",
      "OrderedDict([('weights', tensor([0.5407])), ('bias', tensor([0.3668]))])\n",
      "Loss : 0.03200903534889221\n",
      "OrderedDict([('weights', tensor([0.5425])), ('bias', tensor([0.3663]))])\n",
      "Loss : 0.03166864812374115\n",
      "OrderedDict([('weights', tensor([0.5441])), ('bias', tensor([0.3653]))])\n",
      "Loss : 0.03132382780313492\n",
      "OrderedDict([('weights', tensor([0.5459])), ('bias', tensor([0.3648]))])\n",
      "Loss : 0.030979642644524574\n",
      "OrderedDict([('weights', tensor([0.5475])), ('bias', tensor([0.3638]))])\n",
      "Loss : 0.030638623982667923\n",
      "OrderedDict([('weights', tensor([0.5493])), ('bias', tensor([0.3633]))])\n",
      "Loss : 0.0302906334400177\n",
      "OrderedDict([('weights', tensor([0.5509])), ('bias', tensor([0.3623]))])\n",
      "Loss : 0.029953425750136375\n",
      "OrderedDict([('weights', tensor([0.5527])), ('bias', tensor([0.3618]))])\n",
      "Loss : 0.02960442565381527\n",
      "OrderedDict([('weights', tensor([0.5545])), ('bias', tensor([0.3613]))])\n",
      "Loss : 0.029265418648719788\n",
      "OrderedDict([('weights', tensor([0.5561])), ('bias', tensor([0.3603]))])\n",
      "Loss : 0.028919223695993423\n",
      "OrderedDict([('weights', tensor([0.5579])), ('bias', tensor([0.3598]))])\n",
      "Loss : 0.028576409444212914\n",
      "OrderedDict([('weights', tensor([0.5595])), ('bias', tensor([0.3588]))])\n",
      "Loss : 0.028234025463461876\n",
      "OrderedDict([('weights', tensor([0.5613])), ('bias', tensor([0.3583]))])\n",
      "Loss : 0.02788739837706089\n",
      "OrderedDict([('weights', tensor([0.5629])), ('bias', tensor([0.3573]))])\n",
      "Loss : 0.02754882536828518\n",
      "OrderedDict([('weights', tensor([0.5647])), ('bias', tensor([0.3568]))])\n",
      "Loss : 0.027199819684028625\n",
      "OrderedDict([('weights', tensor([0.5665])), ('bias', tensor([0.3563]))])\n",
      "Loss : 0.026862185448408127\n",
      "OrderedDict([('weights', tensor([0.5681])), ('bias', tensor([0.3553]))])\n",
      "Loss : 0.02651461586356163\n",
      "OrderedDict([('weights', tensor([0.5699])), ('bias', tensor([0.3548]))])\n",
      "Loss : 0.026173178106546402\n",
      "OrderedDict([('weights', tensor([0.5715])), ('bias', tensor([0.3538]))])\n",
      "Loss : 0.025829419493675232\n",
      "OrderedDict([('weights', tensor([0.5733])), ('bias', tensor([0.3533]))])\n",
      "Loss : 0.02548416517674923\n",
      "OrderedDict([('weights', tensor([0.5748])), ('bias', tensor([0.3523]))])\n",
      "Loss : 0.025144213810563087\n",
      "OrderedDict([('weights', tensor([0.5766])), ('bias', tensor([0.3518]))])\n",
      "Loss : 0.02479521557688713\n",
      "OrderedDict([('weights', tensor([0.5784])), ('bias', tensor([0.3513]))])\n",
      "Loss : 0.024458957836031914\n",
      "OrderedDict([('weights', tensor([0.5800])), ('bias', tensor([0.3503]))])\n",
      "Loss : 0.024110013619065285\n",
      "OrderedDict([('weights', tensor([0.5818])), ('bias', tensor([0.3498]))])\n",
      "Loss : 0.02376994863152504\n",
      "OrderedDict([('weights', tensor([0.5834])), ('bias', tensor([0.3488]))])\n",
      "Loss : 0.02342480979859829\n",
      "OrderedDict([('weights', tensor([0.5852])), ('bias', tensor([0.3483]))])\n",
      "Loss : 0.023080935701727867\n",
      "OrderedDict([('weights', tensor([0.5868])), ('bias', tensor([0.3473]))])\n",
      "Loss : 0.022739607840776443\n",
      "OrderedDict([('weights', tensor([0.5886])), ('bias', tensor([0.3468]))])\n",
      "Loss : 0.022391926497220993\n",
      "OrderedDict([('weights', tensor([0.5902])), ('bias', tensor([0.3458]))])\n",
      "Loss : 0.022054409608244896\n",
      "OrderedDict([('weights', tensor([0.5920])), ('bias', tensor([0.3453]))])\n",
      "Loss : 0.02170540764927864\n",
      "OrderedDict([('weights', tensor([0.5938])), ('bias', tensor([0.3448]))])\n",
      "Loss : 0.021366719156503677\n",
      "OrderedDict([('weights', tensor([0.5954])), ('bias', tensor([0.3438]))])\n",
      "Loss : 0.021020207554101944\n",
      "OrderedDict([('weights', tensor([0.5972])), ('bias', tensor([0.3433]))])\n",
      "Loss : 0.020677709951996803\n",
      "OrderedDict([('weights', tensor([0.5988])), ('bias', tensor([0.3423]))])\n",
      "Loss : 0.02033500373363495\n",
      "OrderedDict([('weights', tensor([0.6006])), ('bias', tensor([0.3418]))])\n",
      "Loss : 0.01998869702219963\n",
      "OrderedDict([('weights', tensor([0.6022])), ('bias', tensor([0.3408]))])\n",
      "Loss : 0.019649803638458252\n",
      "OrderedDict([('weights', tensor([0.6040])), ('bias', tensor([0.3403]))])\n",
      "Loss : 0.019300809130072594\n",
      "OrderedDict([('weights', tensor([0.6058])), ('bias', tensor([0.3398]))])\n",
      "Loss : 0.018963487818837166\n",
      "OrderedDict([('weights', tensor([0.6074])), ('bias', tensor([0.3388]))])\n",
      "Loss : 0.01861560344696045\n",
      "OrderedDict([('weights', tensor([0.6092])), ('bias', tensor([0.3383]))])\n",
      "Loss : 0.018274478614330292\n",
      "OrderedDict([('weights', tensor([0.6108])), ('bias', tensor([0.3373]))])\n",
      "Loss : 0.017930403351783752\n",
      "OrderedDict([('weights', tensor([0.6126])), ('bias', tensor([0.3368]))])\n",
      "Loss : 0.01758546568453312\n",
      "OrderedDict([('weights', tensor([0.6141])), ('bias', tensor([0.3358]))])\n",
      "Loss : 0.017245199531316757\n",
      "OrderedDict([('weights', tensor([0.6159])), ('bias', tensor([0.3353]))])\n",
      "Loss : 0.016896454617381096\n",
      "OrderedDict([('weights', tensor([0.6175])), ('bias', tensor([0.3343]))])\n",
      "Loss : 0.01656000316143036\n",
      "OrderedDict([('weights', tensor([0.6193])), ('bias', tensor([0.3338]))])\n",
      "Loss : 0.016210997477173805\n",
      "OrderedDict([('weights', tensor([0.6211])), ('bias', tensor([0.3333]))])\n",
      "Loss : 0.01587124727666378\n",
      "OrderedDict([('weights', tensor([0.6227])), ('bias', tensor([0.3323]))])\n",
      "Loss : 0.015525798313319683\n",
      "OrderedDict([('weights', tensor([0.6245])), ('bias', tensor([0.3318]))])\n"
     ]
    }
   ],
   "execution_count": 55
  },
  {
   "metadata": {
    "ExecuteTime": {
     "end_time": "2024-10-21T17:30:21.877349Z",
     "start_time": "2024-10-21T17:30:21.874663Z"
    }
   },
   "cell_type": "code",
   "source": [
    "with torch.inference_mode():\n",
    "    y_preds_new = model_0(X_test)"
   ],
   "outputs": [],
   "execution_count": 56
  },
  {
   "metadata": {
    "ExecuteTime": {
     "end_time": "2024-10-21T17:25:23.653900Z",
     "start_time": "2024-10-21T17:25:23.648401Z"
    }
   },
   "cell_type": "code",
   "source": "model_0.state_dict()",
   "outputs": [
    {
     "data": {
      "text/plain": [
       "OrderedDict([('weights', tensor([0.4030])), ('bias', tensor([0.2988]))])"
      ]
     },
     "execution_count": 41,
     "metadata": {},
     "output_type": "execute_result"
    }
   ],
   "execution_count": 41
  },
  {
   "metadata": {
    "ExecuteTime": {
     "end_time": "2024-10-21T17:23:18.667389Z",
     "start_time": "2024-10-21T17:23:18.662621Z"
    }
   },
   "cell_type": "code",
   "source": "model_0.state_dict()",
   "outputs": [
    {
     "data": {
      "text/plain": [
       "OrderedDict([('weights', tensor([0.3913])), ('bias', tensor([0.2688]))])"
      ]
     },
     "execution_count": 34,
     "metadata": {},
     "output_type": "execute_result"
    }
   ],
   "execution_count": 34
  },
  {
   "metadata": {
    "ExecuteTime": {
     "end_time": "2024-10-21T17:23:44.218931Z",
     "start_time": "2024-10-21T17:23:44.214Z"
    }
   },
   "cell_type": "code",
   "source": "weight, bias",
   "outputs": [
    {
     "data": {
      "text/plain": [
       "(0.7, 0.3)"
      ]
     },
     "execution_count": 35,
     "metadata": {},
     "output_type": "execute_result"
    }
   ],
   "execution_count": 35
  },
  {
   "metadata": {
    "ExecuteTime": {
     "end_time": "2024-10-21T17:28:55.030383Z",
     "start_time": "2024-10-21T17:28:54.883041Z"
    }
   },
   "cell_type": "code",
   "source": "plot_predictions(predictions=y_preds)",
   "outputs": [
    {
     "data": {
      "text/plain": [
       "<Figure size 1000x700 with 1 Axes>"
      ],
      "image/png": "[encoded data removed]"
     },
     "metadata": {},
     "output_type": "display_data"
    }
   ],
   "execution_count": 52
  },
  {
   "metadata": {
    "ExecuteTime": {
     "end_time": "2024-10-21T17:30:25.948089Z",
     "start_time": "2024-10-21T17:30:25.800332Z"
    }
   },
   "cell_type": "code",
   "source": "plot_predictions(predictions=y_preds_new)",
   "outputs": [
    {
     "data": {
      "text/plain": [
       "<Figure size 1000x700 with 1 Axes>"
      ],
      "image/png": "[encoded data removed]"
     },
     "metadata": {},
     "output_type": "display_data"
    }
   ],
   "execution_count": 57
  }
 ],
 "metadata": {
  "accelerator": "GPU",
  "colab": {
   "gpuType": "T4",
   "provenance": []
  },
  "kernelspec": {
   "display_name": "Python 3 (ipykernel)",
   "name": "python3",
   "language": "python"
  },
  "language_info": {
   "name": "python"
  }
 },
 "nbformat": 4,
 "nbformat_minor": 0
}
