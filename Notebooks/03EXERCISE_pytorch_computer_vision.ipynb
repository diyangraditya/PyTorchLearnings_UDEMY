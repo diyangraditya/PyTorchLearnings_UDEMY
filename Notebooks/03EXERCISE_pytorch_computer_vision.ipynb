{
 "nbformat": 4,
 "nbformat_minor": 0,
 "metadata": {
  "colab": {
   "name": "03_pytorch_computer_vision_exercises.ipynb",
   "provenance": [],
   "collapsed_sections": [],
   "authorship_tag": "ABX9TyMUsDcN/+FAm9Pf7Ifqs6AZ",
   "include_colab_link": true
  },
  "kernelspec": {
   "name": "python3",
   "display_name": "Python 3"
  },
  "language_info": {
   "name": "python"
  },
  "accelerator": "GPU"
 },
 "cells": [
  {
   "cell_type": "markdown",
   "metadata": {
    "id": "view-in-github",
    "colab_type": "text"
   },
   "source": [
    "<a href=\"https://colab.research.google.com/github/mrdbourke/pytorch-deep-learning/blob/main/extras/exercises/03_pytorch_computer_vision_exercises.ipynb\" target=\"_parent\"><img src=\"https://colab.research.google.com/assets/colab-badge.svg\" alt=\"Open In Colab\"/></a>"
   ]
  },
  {
   "cell_type": "markdown",
   "source": [
    "# 03. PyTorch Computer Vision Exercises\n",
    "\n",
    "The following is a collection of exercises based on computer vision fundamentals in PyTorch.\n",
    "\n",
    "They're a bunch of fun.\n",
    "\n",
    "You're going to get to write plenty of code!\n",
    "\n",
    "## Resources\n",
    "\n",
    "1. These exercises are based on [notebook 03 of the Learn PyTorch for Deep Learning course](https://www.learnpytorch.io/03_pytorch_computer_vision/). \n",
    "2. See a live [walkthrough of the solutions (errors and all) on YouTube](https://youtu.be/_PibmqpEyhA). \n",
    "  * **Note:** Going through these exercises took me just over 3 hours of solid coding, so you should expect around the same.\n",
    "3. See [other solutions on the course GitHub](https://github.com/mrdbourke/pytorch-deep-learning/tree/main/extras/solutions)."
   ],
   "metadata": {
    "id": "Vex99np2wFVt"
   }
  },
  {
   "cell_type": "code",
   "source": [
    "# Check for GPU\n",
    "!nvidia-smi"
   ],
   "metadata": {
    "colab": {
     "base_uri": "https://localhost:8080/"
    },
    "id": "GaeYzOTLwWh2",
    "outputId": "17dd5453-9639-4b01-aa18-7ddbfd5c3253",
    "ExecuteTime": {
     "end_time": "2025-08-01T13:53:47.223459Z",
     "start_time": "2025-08-01T13:53:46.972910Z"
    }
   },
   "outputs": [
    {
     "name": "stdout",
     "output_type": "stream",
     "text": [
      "Fri Aug  1 20:53:47 2025       \r\n",
      "+-----------------------------------------------------------------------------------------+\r\n",
      "| NVIDIA-SMI 570.153.02             Driver Version: 570.153.02     CUDA Version: 12.8     |\r\n",
      "|-----------------------------------------+------------------------+----------------------+\r\n",
      "| GPU  Name                 Persistence-M | Bus-Id          Disp.A | Volatile Uncorr. ECC |\r\n",
      "| Fan  Temp   Perf          Pwr:Usage/Cap |           Memory-Usage | GPU-Util  Compute M. |\r\n",
      "|                                         |                        |               MIG M. |\r\n",
      "|=========================================+========================+======================|\r\n",
      "|   0  NVIDIA GeForce RTX 3050 ...    Off |   00000000:01:00.0 Off |                  N/A |\r\n",
      "| N/A   52C    P8              9W /   35W |      54MiB /   4096MiB |      0%      Default |\r\n",
      "|                                         |                        |                  N/A |\r\n",
      "+-----------------------------------------+------------------------+----------------------+\r\n",
      "                                                                                         \r\n",
      "+-----------------------------------------------------------------------------------------+\r\n",
      "| Processes:                                                                              |\r\n",
      "|  GPU   GI   CI              PID   Type   Process name                        GPU Memory |\r\n",
      "|        ID   ID                                                               Usage      |\r\n",
      "|=========================================================================================|\r\n",
      "|    0   N/A  N/A           28963      G   ...ess --variations-seed-version         41MiB |\r\n",
      "+-----------------------------------------------------------------------------------------+\r\n"
     ]
    }
   ],
   "execution_count": 1
  },
  {
   "cell_type": "code",
   "source": [
    "# Import torch\n",
    "import torch\n",
    "\n",
    "# Exercises require PyTorch > 1.10.0\n",
    "print(torch.__version__)\n",
    "\n",
    "# TODO: Setup device agnostic code\n",
    "device = \"cuda\" if torch.cuda.is_available() else \"cpu\"\n",
    "print(device)"
   ],
   "metadata": {
    "colab": {
     "base_uri": "https://localhost:8080/",
     "height": 53
    },
    "id": "DNwZLMbCzJLk",
    "outputId": "9c150c50-a092-4f34-9d33-b45247fb080d",
    "ExecuteTime": {
     "end_time": "2025-08-01T13:53:48.961584Z",
     "start_time": "2025-08-01T13:53:47.238094Z"
    }
   },
   "outputs": [
    {
     "name": "stdout",
     "output_type": "stream",
     "text": [
      "2.5.1+cu124\n",
      "cuda\n"
     ]
    }
   ],
   "execution_count": 2
  },
  {
   "cell_type": "markdown",
   "source": [
    "## 1. What are 3 areas in industry where computer vision is currently being used?"
   ],
   "metadata": {
    "id": "FSFX7tc1w-en"
   }
  },
  {
   "cell_type": "code",
   "source": [
    "# health\n",
    "# robotics\n",
    "# vehicles"
   ],
   "metadata": {
    "id": "VyWRkvWGbCXj",
    "ExecuteTime": {
     "end_time": "2025-08-01T13:53:49.056192Z",
     "start_time": "2025-08-01T13:53:49.054476Z"
    }
   },
   "outputs": [],
   "execution_count": 3
  },
  {
   "cell_type": "markdown",
   "source": [
    "## 2. Search \"what is overfitting in machine learning\" and write down a sentence about what you find. "
   ],
   "metadata": {
    "id": "oBK-WI6YxDYa"
   }
  },
  {
   "cell_type": "code",
   "source": "# overfitting is a situation that a machine learning model fits too well to the training data and performs bad (low accuracy) on the test data",
   "metadata": {
    "id": "d1rxD6GObCqh",
    "ExecuteTime": {
     "end_time": "2025-08-01T13:53:49.110080Z",
     "start_time": "2025-08-01T13:53:49.107156Z"
    }
   },
   "outputs": [],
   "execution_count": 4
  },
  {
   "cell_type": "markdown",
   "source": [
    "## 3. Search \"ways to prevent overfitting in machine learning\", write down 3 of the things you find and a sentence about each. \n",
    "> **Note:** there are lots of these, so don't worry too much about all of them, just pick 3 and start with those."
   ],
   "metadata": {
    "id": "XeYFEqw8xK26"
   }
  },
  {
   "cell_type": "code",
   "source": [
    "# feature selection\n",
    "# use more/less complex models\n",
    "# feature engineering\n",
    "# oversampling\n",
    "# dimensionality resuction\n",
    "# cross val\n",
    "# early stopping"
   ],
   "metadata": {
    "id": "ocvOdWKcbEKr",
    "ExecuteTime": {
     "end_time": "2025-08-01T13:53:49.177648Z",
     "start_time": "2025-08-01T13:53:49.174842Z"
    }
   },
   "outputs": [],
   "execution_count": 5
  },
  {
   "cell_type": "markdown",
   "source": [
    "## 4. Spend 20-minutes reading and clicking through the [CNN Explainer website](https://poloclub.github.io/cnn-explainer/).\n",
    "\n",
    "* Upload your own example image using the \"upload\" button on the website and see what happens in each layer of a CNN as your image passes through it."
   ],
   "metadata": {
    "id": "DKdEEFEqxM-8"
   }
  },
  {
   "cell_type": "code",
   "source": "# done",
   "metadata": {
    "id": "TqZaJIRMbFtS",
    "ExecuteTime": {
     "end_time": "2025-08-01T13:53:49.227527Z",
     "start_time": "2025-08-01T13:53:49.224959Z"
    }
   },
   "outputs": [],
   "execution_count": 6
  },
  {
   "cell_type": "markdown",
   "source": [
    "## 5. Load the [`torchvision.datasets.MNIST()`](https://pytorch.org/vision/stable/generated/torchvision.datasets.MNIST.html#torchvision.datasets.MNIST) train and test datasets."
   ],
   "metadata": {
    "id": "lvf-3pODxXYI"
   }
  },
  {
   "cell_type": "code",
   "source": [
    "import torchvision\n",
    "from torchvision import transforms\n",
    "\n",
    "train = torchvision.datasets.MNIST(\n",
    "    root=\"../CV_Practice/train\", # where to download data to?\n",
    "    train=True, # do we want the training dataset?\n",
    "    download=True, # do we want to download yes/no?\n",
    "    transform=transforms.ToTensor(), # how do we want to transform the data?\n",
    "    target_transform=None # how do we want to transform the target\n",
    ")\n",
    "\n",
    "test = torchvision.datasets.MNIST(\n",
    "    root=\"../CV_Practice/test\", # where to download data to?\n",
    "    train=False, # do we want the training dataset?\n",
    "    download=True, # do we want to download yes/no?\n",
    "    transform=transforms.ToTensor(), # how do we want to transform the data?\n",
    "    target_transform=None # how do we want to transform the target\n",
    ")"
   ],
   "metadata": {
    "id": "SHjeuN81bHza",
    "ExecuteTime": {
     "end_time": "2025-08-01T13:53:50.490563Z",
     "start_time": "2025-08-01T13:53:49.275561Z"
    }
   },
   "outputs": [],
   "execution_count": 7
  },
  {
   "metadata": {
    "ExecuteTime": {
     "end_time": "2025-08-01T13:53:50.506095Z",
     "start_time": "2025-08-01T13:53:50.501371Z"
    }
   },
   "cell_type": "code",
   "source": "len(train)",
   "outputs": [
    {
     "data": {
      "text/plain": [
       "60000"
      ]
     },
     "execution_count": 8,
     "metadata": {},
     "output_type": "execute_result"
    }
   ],
   "execution_count": 8
  },
  {
   "metadata": {
    "ExecuteTime": {
     "end_time": "2025-08-01T13:53:50.556664Z",
     "start_time": "2025-08-01T13:53:50.553929Z"
    }
   },
   "cell_type": "code",
   "source": "len(test)",
   "outputs": [
    {
     "data": {
      "text/plain": [
       "10000"
      ]
     },
     "execution_count": 9,
     "metadata": {},
     "output_type": "execute_result"
    }
   ],
   "execution_count": 9
  },
  {
   "cell_type": "markdown",
   "source": [
    "## 6. Visualize at least 5 different samples of the MNIST training dataset."
   ],
   "metadata": {
    "id": "qxZW-uAbxe_F"
   }
  },
  {
   "metadata": {
    "ExecuteTime": {
     "end_time": "2025-08-01T13:53:50.608474Z",
     "start_time": "2025-08-01T13:53:50.606655Z"
    }
   },
   "cell_type": "code",
   "source": [
    "class_names = train.classes\n",
    "train_idx = train.class_to_idx"
   ],
   "outputs": [],
   "execution_count": 10
  },
  {
   "cell_type": "code",
   "source": [
    "import matplotlib.pyplot as plt\n",
    "\n",
    "torch.manual_seed(42)\n",
    "\n",
    "fig = plt.figure(figsize=(6, 6))\n",
    "rows, cols = 5, 1\n",
    "\n",
    "for i in range(1, rows*cols+1):\n",
    "    random_idx = torch.randint(0, len(train), size=[1]).item()\n",
    "    # print(random_idx)\n",
    "    img, label = train[random_idx]\n",
    "    fig.add_subplot(cols, rows, i)\n",
    "    plt.imshow(img.squeeze(), cmap=\"gray\")\n",
    "    plt.title(class_names[label])\n",
    "    plt.axis(False)"
   ],
   "metadata": {
    "id": "QVFsYi1PbItE",
    "ExecuteTime": {
     "end_time": "2025-08-01T13:53:51.179068Z",
     "start_time": "2025-08-01T13:53:50.657219Z"
    }
   },
   "outputs": [
    {
     "data": {
      "text/plain": [
       "<Figure size 600x600 with 5 Axes>"
      ],
      "image/png": "[encoded data removed]"
     },
     "metadata": {},
     "output_type": "display_data"
    }
   ],
   "execution_count": 11
  },
  {
   "cell_type": "markdown",
   "source": [
    "## 7. Turn the MNIST train and test datasets into dataloaders using `torch.utils.data.DataLoader`, set the `batch_size=32`."
   ],
   "metadata": {
    "id": "JAPDzW0wxhi3"
   }
  },
  {
   "metadata": {
    "ExecuteTime": {
     "end_time": "2025-08-01T13:53:51.200077Z",
     "start_time": "2025-08-01T13:53:51.196913Z"
    }
   },
   "cell_type": "code",
   "source": "train, test",
   "outputs": [
    {
     "data": {
      "text/plain": [
       "(Dataset MNIST\n",
       "     Number of datapoints: 60000\n",
       "     Root location: ../CV_Practice/train\n",
       "     Split: Train\n",
       "     StandardTransform\n",
       " Transform: ToTensor(),\n",
       " Dataset MNIST\n",
       "     Number of datapoints: 10000\n",
       "     Root location: ../CV_Practice/test\n",
       "     Split: Test\n",
       "     StandardTransform\n",
       " Transform: ToTensor())"
      ]
     },
     "execution_count": 12,
     "metadata": {},
     "output_type": "execute_result"
    }
   ],
   "execution_count": 12
  },
  {
   "cell_type": "code",
   "source": [
    "BATCH_SIZE = 32\n",
    "\n",
    "from torch.utils.data import DataLoader\n",
    "\n",
    "train_loader = DataLoader(dataset=train, batch_size=BATCH_SIZE, shuffle=True)\n",
    "\n",
    "test_loader = DataLoader(dataset=test, batch_size=BATCH_SIZE, shuffle=False)"
   ],
   "metadata": {
    "id": "ALA6MPcFbJXQ",
    "ExecuteTime": {
     "end_time": "2025-08-01T13:53:51.253244Z",
     "start_time": "2025-08-01T13:53:51.250698Z"
    }
   },
   "outputs": [],
   "execution_count": 13
  },
  {
   "cell_type": "markdown",
   "source": [
    "## 8. Recreate `model_2` used in notebook 03 (the same model from the [CNN Explainer website](https://poloclub.github.io/cnn-explainer/), also known as TinyVGG) capable of fitting on the MNIST dataset."
   ],
   "metadata": {
    "id": "bCCVfXk5xjYS"
   }
  },
  {
   "cell_type": "code",
   "source": [
    "from torch import nn\n",
    "\n",
    "class MNISTModel(nn.Module):\n",
    "    \"\"\"\n",
    "    Model architecture copying TinyVGG from:\n",
    "    https://poloclub.github.io/cnn-explainer/\n",
    "    \"\"\"\n",
    "    def __init__(self, input_shape: int, hidden_units: int, output_shape: int):\n",
    "        super().__init__()\n",
    "        self.block_1 = nn.Sequential(\n",
    "            nn.Conv2d(in_channels=input_shape,\n",
    "                      out_channels=hidden_units,\n",
    "                      kernel_size=3, # how big is the square that's going over the image?\n",
    "                      stride=1, # default\n",
    "                      padding=1),# options = \"valid\" (no padding) or \"same\" (output has same shape as input) or int for specific number\n",
    "            nn.ReLU(),\n",
    "            nn.Conv2d(in_channels=hidden_units,\n",
    "                      out_channels=hidden_units,\n",
    "                      kernel_size=3,\n",
    "                      stride=1,\n",
    "                      padding=1),\n",
    "            nn.ReLU(),\n",
    "            nn.MaxPool2d(kernel_size=2) # default stride value is same as kernel_size\n",
    "        )\n",
    "        self.block_2 = nn.Sequential(\n",
    "            nn.Conv2d(hidden_units, hidden_units, 3, padding=1),\n",
    "            nn.ReLU(),\n",
    "            nn.Conv2d(hidden_units, hidden_units, 3, padding=1),\n",
    "            nn.ReLU(),\n",
    "            nn.MaxPool2d(kernel_size=2)\n",
    "        )\n",
    "        self.classifier = nn.Sequential(\n",
    "            nn.Flatten(),\n",
    "            # Where did this in_features shape come from?\n",
    "            # It's because each layer of our network compresses and changes the shape of our input data.\n",
    "            nn.Linear(in_features=hidden_units*7*7,\n",
    "                      out_features=output_shape)\n",
    "        )\n",
    "\n",
    "    def forward(self, x: torch.Tensor):\n",
    "        x = self.block_1(x)\n",
    "        # print(x.shape)\n",
    "        x = self.block_2(x)\n",
    "        # print(x.shape)\n",
    "        x = self.classifier(x)\n",
    "        # print(x.shape)\n",
    "        return x\n",
    "\n",
    "torch.manual_seed(42)\n",
    "model = MNISTModel(input_shape=1,\n",
    "    hidden_units=10,\n",
    "    output_shape=len(class_names)).to(device)\n",
    "model"
   ],
   "metadata": {
    "id": "5IKNF22XbKYS",
    "ExecuteTime": {
     "end_time": "2025-08-01T13:53:51.458591Z",
     "start_time": "2025-08-01T13:53:51.304422Z"
    }
   },
   "outputs": [
    {
     "data": {
      "text/plain": [
       "MNISTModel(\n",
       "  (block_1): Sequential(\n",
       "    (0): Conv2d(1, 10, kernel_size=(3, 3), stride=(1, 1), padding=(1, 1))\n",
       "    (1): ReLU()\n",
       "    (2): Conv2d(10, 10, kernel_size=(3, 3), stride=(1, 1), padding=(1, 1))\n",
       "    (3): ReLU()\n",
       "    (4): MaxPool2d(kernel_size=2, stride=2, padding=0, dilation=1, ceil_mode=False)\n",
       "  )\n",
       "  (block_2): Sequential(\n",
       "    (0): Conv2d(10, 10, kernel_size=(3, 3), stride=(1, 1), padding=(1, 1))\n",
       "    (1): ReLU()\n",
       "    (2): Conv2d(10, 10, kernel_size=(3, 3), stride=(1, 1), padding=(1, 1))\n",
       "    (3): ReLU()\n",
       "    (4): MaxPool2d(kernel_size=2, stride=2, padding=0, dilation=1, ceil_mode=False)\n",
       "  )\n",
       "  (classifier): Sequential(\n",
       "    (0): Flatten(start_dim=1, end_dim=-1)\n",
       "    (1): Linear(in_features=490, out_features=10, bias=True)\n",
       "  )\n",
       ")"
      ]
     },
     "execution_count": 14,
     "metadata": {},
     "output_type": "execute_result"
    }
   ],
   "execution_count": 14
  },
  {
   "cell_type": "markdown",
   "source": [
    "## 9. Train the model you built in exercise 8. for 5 epochs on CPU and GPU and see how long it takes on each."
   ],
   "metadata": {
    "id": "sf_3zUr7xlhy"
   }
  },
  {
   "cell_type": "code",
   "source": [
    "from PyTorchLearnings_UDEMY.Python.helper_functions import accuracy_fn\n",
    "\n",
    "optimizer = torch.optim.SGD(model.parameters(), lr=0.1)\n",
    "loss_fn = nn.CrossEntropyLoss()"
   ],
   "metadata": {
    "id": "jSo6vVWFbNLD",
    "ExecuteTime": {
     "end_time": "2025-08-01T13:53:51.523557Z",
     "start_time": "2025-08-01T13:53:51.472906Z"
    }
   },
   "outputs": [],
   "execution_count": 15
  },
  {
   "metadata": {
    "ExecuteTime": {
     "end_time": "2025-08-01T13:53:51.541973Z",
     "start_time": "2025-08-01T13:53:51.539365Z"
    }
   },
   "cell_type": "code",
   "source": [
    "from timeit import default_timer as timer\n",
    "\n",
    "def print_train_time(start:float, end:float, device:torch.device=None):\n",
    "    \"\"\"Prints difference between start and end time.\"\"\"\n",
    "    total_time = end - start\n",
    "    print(f\"\\nTrain time on {device}: {total_time:.3f} seconds\")\n",
    "    return total_time"
   ],
   "outputs": [],
   "execution_count": 16
  },
  {
   "metadata": {
    "ExecuteTime": {
     "end_time": "2025-08-01T13:53:51.596865Z",
     "start_time": "2025-08-01T13:53:51.590314Z"
    }
   },
   "cell_type": "code",
   "source": [
    "def train_step(model: torch.nn.Module,\n",
    "               data_loader: torch.utils.data.DataLoader,\n",
    "               loss_fn: torch.nn.Module,\n",
    "               optimizer: torch.optim.Optimizer,\n",
    "               accuracy_fn,\n",
    "               device: torch.device = device):\n",
    "    train_loss, train_acc = 0, 0\n",
    "    model.to(device)\n",
    "    for batch, (X, y) in enumerate(data_loader):\n",
    "        # Send data to GPU\n",
    "        X, y = X.to(device), y.to(device)\n",
    "\n",
    "        # 1. Forward pass\n",
    "        y_pred = model(X)\n",
    "\n",
    "        # 2. Calculate loss\n",
    "        loss = loss_fn(y_pred, y)\n",
    "        train_loss += loss\n",
    "        train_acc += accuracy_fn(y_true=y,\n",
    "                                 y_pred=y_pred.argmax(dim=1)) # Go from logits -> pred labels\n",
    "\n",
    "        # 3. Optimizer zero grad\n",
    "        optimizer.zero_grad()\n",
    "\n",
    "        # 4. Loss backward\n",
    "        loss.backward()\n",
    "\n",
    "        # 5. Optimizer step\n",
    "        optimizer.step()\n",
    "\n",
    "    # Calculate loss and accuracy per epoch and print out what's happening\n",
    "    train_loss /= len(data_loader)\n",
    "    train_acc /= len(data_loader)\n",
    "    print(f\"Train loss: {train_loss:.5f} | Train accuracy: {train_acc:.2f}%\")\n",
    "\n",
    "def test_step(data_loader: torch.utils.data.DataLoader,\n",
    "              model: torch.nn.Module,\n",
    "              loss_fn: torch.nn.Module,\n",
    "              accuracy_fn,\n",
    "              device: torch.device = device):\n",
    "    test_loss, test_acc = 0, 0\n",
    "    model.to(device)\n",
    "    model.eval() # put model in eval mode\n",
    "    # Turn on inference context manager\n",
    "    with torch.inference_mode():\n",
    "        for X, y in data_loader:\n",
    "            # Send data to GPU\n",
    "            X, y = X.to(device), y.to(device)\n",
    "\n",
    "            # 1. Forward pass\n",
    "            test_pred = model(X)\n",
    "\n",
    "            # 2. Calculate loss and accuracy\n",
    "            test_loss += loss_fn(test_pred, y)\n",
    "            test_acc += accuracy_fn(y_true=y,\n",
    "                y_pred=test_pred.argmax(dim=1) # Go from logits -> pred labels\n",
    "            )\n",
    "\n",
    "        # Adjust metrics and print out\n",
    "        test_loss /= len(data_loader)\n",
    "        test_acc /= len(data_loader)\n",
    "        print(f\"Test loss: {test_loss:.5f} | Test accuracy: {test_acc:.2f}%\\n\")"
   ],
   "outputs": [],
   "execution_count": 17
  },
  {
   "metadata": {},
   "cell_type": "markdown",
   "source": "### on cpu"
  },
  {
   "metadata": {
    "ExecuteTime": {
     "end_time": "2025-08-01T13:54:28.974281Z",
     "start_time": "2025-08-01T13:53:51.647034Z"
    }
   },
   "cell_type": "code",
   "source": [
    "torch.manual_seed(42)\n",
    "\n",
    "# meassure the time\n",
    "from tqdm.auto import tqdm\n",
    "from timeit import default_timer as timer\n",
    "train_time_start_on_cpu = timer()\n",
    "\n",
    "# set epochs\n",
    "epochs = 5\n",
    "\n",
    "# create an optimizaton and eval loop using train_step() and test_step()\n",
    "for epoch in tqdm(range(epochs)):\n",
    "    print(f\"Epoch {epoch}\\n---------\")\n",
    "    train_step(model=model,\n",
    "               data_loader=train_loader,\n",
    "               loss_fn=loss_fn,\n",
    "               optimizer=optimizer,\n",
    "               accuracy_fn=accuracy_fn,\n",
    "               device=device)\n",
    "\n",
    "    print(f\"Epoch {epoch}\\n---------\")\n",
    "    test_step(model = model,\n",
    "              data_loader=test_loader,\n",
    "              loss_fn=loss_fn,\n",
    "              accuracy_fn=accuracy_fn,\n",
    "              device=device)\n",
    "\n",
    "train_time_end_on_cpu = timer()\n",
    "\n",
    "total_train_time_model_on_cpu = print_train_time(start=train_time_start_on_cpu, end=train_time_end_on_cpu, device=\"cpu\")"
   ],
   "outputs": [
    {
     "name": "stderr",
     "output_type": "stream",
     "text": [
      "/home/diyrad167/.conda/envs/test/lib/python3.10/site-packages/tqdm/auto.py:21: TqdmWarning: IProgress not found. Please update jupyter and ipywidgets. See https://ipywidgets.readthedocs.io/en/stable/user_install.html\n",
      "  from .autonotebook import tqdm as notebook_tqdm\n",
      "  0%|          | 0/5 [00:00<?, ?it/s]"
     ]
    },
    {
     "name": "stdout",
     "output_type": "stream",
     "text": [
      "Epoch 0\n",
      "---------\n",
      "Train loss: 0.33325 | Train accuracy: 88.78%\n",
      "Epoch 0\n",
      "---------\n"
     ]
    },
    {
     "name": "stderr",
     "output_type": "stream",
     "text": [
      " 20%|██        | 1/5 [00:08<00:32,  8.14s/it]"
     ]
    },
    {
     "name": "stdout",
     "output_type": "stream",
     "text": [
      "Test loss: 0.07441 | Test accuracy: 97.57%\n",
      "\n",
      "Epoch 1\n",
      "---------\n",
      "Train loss: 0.08577 | Train accuracy: 97.39%\n",
      "Epoch 1\n",
      "---------\n"
     ]
    },
    {
     "name": "stderr",
     "output_type": "stream",
     "text": [
      " 40%|████      | 2/5 [00:15<00:22,  7.61s/it]"
     ]
    },
    {
     "name": "stdout",
     "output_type": "stream",
     "text": [
      "Test loss: 0.07874 | Test accuracy: 97.47%\n",
      "\n",
      "Epoch 2\n",
      "---------\n",
      "Train loss: 0.06837 | Train accuracy: 97.86%\n",
      "Epoch 2\n",
      "---------\n"
     ]
    },
    {
     "name": "stderr",
     "output_type": "stream",
     "text": [
      " 60%|██████    | 3/5 [00:22<00:14,  7.37s/it]"
     ]
    },
    {
     "name": "stdout",
     "output_type": "stream",
     "text": [
      "Test loss: 0.06482 | Test accuracy: 97.78%\n",
      "\n",
      "Epoch 3\n",
      "---------\n",
      "Train loss: 0.05988 | Train accuracy: 98.14%\n",
      "Epoch 3\n",
      "---------\n"
     ]
    },
    {
     "name": "stderr",
     "output_type": "stream",
     "text": [
      " 80%|████████  | 4/5 [00:29<00:07,  7.33s/it]"
     ]
    },
    {
     "name": "stdout",
     "output_type": "stream",
     "text": [
      "Test loss: 0.07143 | Test accuracy: 97.67%\n",
      "\n",
      "Epoch 4\n",
      "---------\n",
      "Train loss: 0.05369 | Train accuracy: 98.28%\n",
      "Epoch 4\n",
      "---------\n"
     ]
    },
    {
     "name": "stderr",
     "output_type": "stream",
     "text": [
      "100%|██████████| 5/5 [00:37<00:00,  7.46s/it]"
     ]
    },
    {
     "name": "stdout",
     "output_type": "stream",
     "text": [
      "Test loss: 0.04466 | Test accuracy: 98.40%\n",
      "\n",
      "\n",
      "Train time on cpu: 37.321 seconds\n"
     ]
    },
    {
     "name": "stderr",
     "output_type": "stream",
     "text": [
      "\n"
     ]
    }
   ],
   "execution_count": 18
  },
  {
   "metadata": {},
   "cell_type": "markdown",
   "source": "### on gpu"
  },
  {
   "metadata": {
    "ExecuteTime": {
     "end_time": "2025-08-01T13:55:06.305592Z",
     "start_time": "2025-08-01T13:54:28.989810Z"
    }
   },
   "cell_type": "code",
   "source": [
    "train_time_start_on_gpu = timer()\n",
    "\n",
    "# set epochs\n",
    "epochs = 5\n",
    "\n",
    "# create an optimizaton and eval loop using train_step() and test_step()\n",
    "for epoch in tqdm(range(epochs)):\n",
    "    print(f\"Epoch {epoch}\\n---------\")\n",
    "    train_step(model=model,\n",
    "               data_loader=train_loader,\n",
    "               loss_fn=loss_fn,\n",
    "               optimizer=optimizer,\n",
    "               accuracy_fn=accuracy_fn,\n",
    "               device=device)\n",
    "\n",
    "    print(f\"Epoch {epoch}\\n---------\")\n",
    "    test_step(model = model,\n",
    "              data_loader=test_loader,\n",
    "              loss_fn=loss_fn,\n",
    "              accuracy_fn=accuracy_fn,\n",
    "              device=device)\n",
    "\n",
    "train_time_end_on_gpu = timer()\n",
    "\n",
    "total_train_time_model_on_gpu = print_train_time(start=train_time_start_on_gpu, end=train_time_end_on_gpu, device=device)"
   ],
   "outputs": [
    {
     "name": "stderr",
     "output_type": "stream",
     "text": [
      "  0%|          | 0/5 [00:00<?, ?it/s]"
     ]
    },
    {
     "name": "stdout",
     "output_type": "stream",
     "text": [
      "Epoch 0\n",
      "---------\n",
      "Train loss: 0.04909 | Train accuracy: 98.45%\n",
      "Epoch 0\n",
      "---------\n"
     ]
    },
    {
     "name": "stderr",
     "output_type": "stream",
     "text": [
      " 20%|██        | 1/5 [00:07<00:29,  7.46s/it]"
     ]
    },
    {
     "name": "stdout",
     "output_type": "stream",
     "text": [
      "Test loss: 0.04537 | Test accuracy: 98.42%\n",
      "\n",
      "Epoch 1\n",
      "---------\n",
      "Train loss: 0.04446 | Train accuracy: 98.57%\n",
      "Epoch 1\n",
      "---------\n"
     ]
    },
    {
     "name": "stderr",
     "output_type": "stream",
     "text": [
      " 40%|████      | 2/5 [00:14<00:22,  7.48s/it]"
     ]
    },
    {
     "name": "stdout",
     "output_type": "stream",
     "text": [
      "Test loss: 0.04239 | Test accuracy: 98.56%\n",
      "\n",
      "Epoch 2\n",
      "---------\n",
      "Train loss: 0.04203 | Train accuracy: 98.69%\n",
      "Epoch 2\n",
      "---------\n"
     ]
    },
    {
     "name": "stderr",
     "output_type": "stream",
     "text": [
      " 60%|██████    | 3/5 [00:22<00:14,  7.46s/it]"
     ]
    },
    {
     "name": "stdout",
     "output_type": "stream",
     "text": [
      "Test loss: 0.04081 | Test accuracy: 98.52%\n",
      "\n",
      "Epoch 3\n",
      "---------\n",
      "Train loss: 0.03990 | Train accuracy: 98.72%\n",
      "Epoch 3\n",
      "---------\n"
     ]
    },
    {
     "name": "stderr",
     "output_type": "stream",
     "text": [
      " 80%|████████  | 4/5 [00:29<00:07,  7.49s/it]"
     ]
    },
    {
     "name": "stdout",
     "output_type": "stream",
     "text": [
      "Test loss: 0.05338 | Test accuracy: 98.26%\n",
      "\n",
      "Epoch 4\n",
      "---------\n",
      "Train loss: 0.03766 | Train accuracy: 98.79%\n",
      "Epoch 4\n",
      "---------\n"
     ]
    },
    {
     "name": "stderr",
     "output_type": "stream",
     "text": [
      "100%|██████████| 5/5 [00:37<00:00,  7.46s/it]"
     ]
    },
    {
     "name": "stdout",
     "output_type": "stream",
     "text": [
      "Test loss: 0.03943 | Test accuracy: 98.58%\n",
      "\n",
      "\n",
      "Train time on cuda: 37.313 seconds\n"
     ]
    },
    {
     "name": "stderr",
     "output_type": "stream",
     "text": [
      "\n"
     ]
    }
   ],
   "execution_count": 19
  },
  {
   "cell_type": "markdown",
   "source": [
    "## 10. Make predictions using your trained model and visualize at least 5 of them comparing the prediciton to the target label."
   ],
   "metadata": {
    "id": "w1CsHhPpxp1w"
   }
  },
  {
   "cell_type": "code",
   "source": [
    "def eval_model(model: torch.nn.Module,\n",
    "               data_loader: torch.utils.data.DataLoader,\n",
    "               loss_fn: torch.nn.Module,\n",
    "               accuracy_fn):\n",
    "    \"\"\"\n",
    "    Returns a dictionary containing the results of model predicting on data_loader\n",
    "    \"\"\"\n",
    "    loss, acc = 0, 0\n",
    "    model.eval()\n",
    "    with torch.inference_mode():\n",
    "        for X, y in tqdm(data_loader):\n",
    "            # make predictions\n",
    "            X, y = X.to(device), y.to(device)\n",
    "            y_pred = model(X)\n",
    "\n",
    "            # Accumulate the loss and acc values per batch\n",
    "            loss += loss_fn(y_pred, y)\n",
    "            acc += accuracy_fn(y_true=y, y_pred=y_pred.argmax(dim=1))\n",
    "\n",
    "        # scale loss and acc to find the avg loss/acc per batch\n",
    "        loss /= len(data_loader)\n",
    "        acc /= len(data_loader)\n",
    "    return {\"model name \": model.__class__.__name__, # Only works when model was created with a class\n",
    "            \"model loss \": loss.item(),\n",
    "            \"model acc \": acc\n",
    "            }"
   ],
   "metadata": {
    "id": "_YGgZvSobNxu",
    "ExecuteTime": {
     "end_time": "2025-08-01T13:55:06.324308Z",
     "start_time": "2025-08-01T13:55:06.321016Z"
    }
   },
   "outputs": [],
   "execution_count": 20
  },
  {
   "metadata": {
    "ExecuteTime": {
     "end_time": "2025-08-01T13:55:07.153963Z",
     "start_time": "2025-08-01T13:55:06.371233Z"
    }
   },
   "cell_type": "code",
   "source": [
    "model_results = eval_model(\n",
    "    model=model,\n",
    "    data_loader=test_loader,\n",
    "    loss_fn=loss_fn,\n",
    "    accuracy_fn=accuracy_fn\n",
    "    # device=device\n",
    ")"
   ],
   "outputs": [
    {
     "name": "stderr",
     "output_type": "stream",
     "text": [
      "100%|██████████| 313/313 [00:00<00:00, 401.88it/s]\n"
     ]
    }
   ],
   "execution_count": 21
  },
  {
   "metadata": {
    "ExecuteTime": {
     "end_time": "2025-08-01T13:55:07.210097Z",
     "start_time": "2025-08-01T13:55:07.206826Z"
    }
   },
   "cell_type": "code",
   "source": "model_results",
   "outputs": [
    {
     "data": {
      "text/plain": [
       "{'model name ': 'MNISTModel',\n",
       " 'model loss ': 0.039428748190402985,\n",
       " 'model acc ': 98.58226837060703}"
      ]
     },
     "execution_count": 22,
     "metadata": {},
     "output_type": "execute_result"
    }
   ],
   "execution_count": 22
  },
  {
   "metadata": {
    "ExecuteTime": {
     "end_time": "2025-08-01T13:55:07.926248Z",
     "start_time": "2025-08-01T13:55:07.260970Z"
    }
   },
   "cell_type": "code",
   "source": [
    "import random\n",
    "random.seed(42)\n",
    "test_samples=[]\n",
    "test_labels=[]\n",
    "for sample, label in random.sample(list(test), k=9):\n",
    "    test_samples.append(sample)\n",
    "    test_labels.append(label)\n",
    "\n",
    "# view the first sample shape\n",
    "print(f\"Test sample image shape: {test_samples[0].shape}\\nTest sample label: {test_labels[0]} ({class_names[test_labels[0]]})\")"
   ],
   "outputs": [
    {
     "name": "stdout",
     "output_type": "stream",
     "text": [
      "Test sample image shape: torch.Size([1, 28, 28])\n",
      "Test sample label: 2 (2 - two)\n"
     ]
    }
   ],
   "execution_count": 23
  },
  {
   "metadata": {
    "ExecuteTime": {
     "end_time": "2025-08-01T13:55:07.947654Z",
     "start_time": "2025-08-01T13:55:07.944606Z"
    }
   },
   "cell_type": "code",
   "source": "test_samples[0].shape",
   "outputs": [
    {
     "data": {
      "text/plain": [
       "torch.Size([1, 28, 28])"
      ]
     },
     "execution_count": 24,
     "metadata": {},
     "output_type": "execute_result"
    }
   ],
   "execution_count": 24
  },
  {
   "metadata": {
    "ExecuteTime": {
     "end_time": "2025-08-01T13:55:08.108615Z",
     "start_time": "2025-08-01T13:55:08.006476Z"
    }
   },
   "cell_type": "code",
   "source": [
    "plt.imshow(test_samples[0].squeeze(), cmap=\"gray\")\n",
    "plt.title(class_names[test_labels[0]])"
   ],
   "outputs": [
    {
     "data": {
      "text/plain": [
       "Text(0.5, 1.0, '2 - two')"
      ]
     },
     "execution_count": 25,
     "metadata": {},
     "output_type": "execute_result"
    },
    {
     "data": {
      "text/plain": [
       "<Figure size 640x480 with 1 Axes>"
      ],
      "image/png": "[encoded data removed]"
     },
     "metadata": {},
     "output_type": "display_data"
    }
   ],
   "execution_count": 25
  },
  {
   "metadata": {
    "ExecuteTime": {
     "end_time": "2025-08-01T13:55:08.131815Z",
     "start_time": "2025-08-01T13:55:08.128661Z"
    }
   },
   "cell_type": "code",
   "source": [
    "def make_predictions(model:torch.nn.Module,\n",
    "                   data:list,\n",
    "                   device:torch.device = device):\n",
    "    pred_probs = []\n",
    "    model.eval()\n",
    "    with torch.inference_mode():\n",
    "        for sample in data:\n",
    "            # prepare the sample (add a batch dimension and pass to target device)\n",
    "            sample = torch.unsqueeze(sample, dim=0).to(device)\n",
    "\n",
    "            # forward pass (model outputs raw logits)\n",
    "            pred_logit = model(sample)\n",
    "\n",
    "            # get pred probs (logits -> pred probs)\n",
    "            pred_prob = torch.softmax(pred_logit.squeeze(), dim=0)\n",
    "\n",
    "            # get pred prob off the GPU for further calc\n",
    "            pred_probs.append(pred_prob.cpu())\n",
    "    #stack the pred_probs to turn list into tensor\n",
    "    return torch.stack(pred_probs)"
   ],
   "outputs": [],
   "execution_count": 26
  },
  {
   "metadata": {
    "ExecuteTime": {
     "end_time": "2025-08-01T13:55:08.208513Z",
     "start_time": "2025-08-01T13:55:08.186396Z"
    }
   },
   "cell_type": "code",
   "source": [
    "# make predictions\n",
    "pred_probs = make_predictions(model=model,\n",
    "                              data=test_samples)\n",
    "\n",
    "# view first two pred prob\n",
    "pred_probs[:2]"
   ],
   "outputs": [
    {
     "data": {
      "text/plain": [
       "tensor([[1.0262e-12, 1.5419e-08, 1.0000e+00, 4.1202e-08, 1.9975e-14, 1.5114e-16,\n",
       "         1.0987e-13, 2.2191e-08, 8.3424e-07, 8.4018e-13],\n",
       "        [1.8091e-08, 9.9367e-01, 6.6515e-06, 1.5498e-07, 7.0149e-06, 2.3062e-04,\n",
       "         7.1359e-04, 1.0593e-06, 5.3502e-03, 2.0495e-05]])"
      ]
     },
     "execution_count": 27,
     "metadata": {},
     "output_type": "execute_result"
    }
   ],
   "execution_count": 27
  },
  {
   "metadata": {
    "ExecuteTime": {
     "end_time": "2025-08-01T13:55:08.255197Z",
     "start_time": "2025-08-01T13:55:08.251096Z"
    }
   },
   "cell_type": "code",
   "source": [
    "# convert prediction prob to labels\n",
    "pred_classes = pred_probs.argmax(dim=1)\n",
    "pred_classes"
   ],
   "outputs": [
    {
     "data": {
      "text/plain": [
       "tensor([2, 1, 2, 4, 6, 6, 4, 9, 1])"
      ]
     },
     "execution_count": 28,
     "metadata": {},
     "output_type": "execute_result"
    }
   ],
   "execution_count": 28
  },
  {
   "metadata": {
    "ExecuteTime": {
     "end_time": "2025-08-01T13:55:08.509693Z",
     "start_time": "2025-08-01T13:55:08.506639Z"
    }
   },
   "cell_type": "code",
   "source": "test_labels, pred_classes",
   "outputs": [
    {
     "data": {
      "text/plain": [
       "([2, 1, 2, 4, 6, 6, 4, 9, 1], tensor([2, 1, 2, 4, 6, 6, 4, 9, 1]))"
      ]
     },
     "execution_count": 29,
     "metadata": {},
     "output_type": "execute_result"
    }
   ],
   "execution_count": 29
  },
  {
   "metadata": {
    "ExecuteTime": {
     "end_time": "2025-08-01T13:55:09.183815Z",
     "start_time": "2025-08-01T13:55:08.662938Z"
    }
   },
   "cell_type": "code",
   "source": [
    "# plot pred\n",
    "plt.figure(figsize=(9,9))\n",
    "nrows = 3\n",
    "ncols = 3\n",
    "for i, sample in enumerate(test_samples):\n",
    "    # create subplot\n",
    "    plt.subplot(nrows, ncols, i + 1)\n",
    "\n",
    "    # plot the target image\n",
    "    plt.imshow(sample.squeeze(), cmap=\"gray\")\n",
    "\n",
    "    # find the pred (in text form)\n",
    "    pred_label = class_names[pred_classes[i]]\n",
    "\n",
    "    # get the truth label (in text form)\n",
    "    truth_label = class_names[test_labels[i]]\n",
    "\n",
    "    # create a title for the plot\n",
    "    title_text =f\"Prediction: {pred_label} | Truth : {truth_label}\"\n",
    "\n",
    "    # check for quality between pred and truth and change color of title text\n",
    "    if pred_label == truth_label:\n",
    "        plt.title(title_text, fontsize=10, c=\"g\") # green text if pred = truth\n",
    "    else:\n",
    "        plt.title(title_text, fontsize=10, c=\"r\")\n",
    "\n",
    "    plt.axis('off')"
   ],
   "outputs": [
    {
     "data": {
      "text/plain": [
       "<Figure size 900x900 with 9 Axes>"
      ],
      "image/png": "[encoded data removed]"
     },
     "metadata": {},
     "output_type": "display_data"
    }
   ],
   "execution_count": 30
  },
  {
   "cell_type": "markdown",
   "source": [
    "## 11. Plot a confusion matrix comparing your model's predictions to the truth labels."
   ],
   "metadata": {
    "id": "qQwzqlBWxrpG"
   }
  },
  {
   "cell_type": "code",
   "source": [
    "from torchmetrics import ConfusionMatrix\n",
    "import mlxtend\n",
    "from mlxtend.plotting import plot_confusion_matrix"
   ],
   "metadata": {
    "id": "vSrXiT_AbQ6e",
    "ExecuteTime": {
     "end_time": "2025-08-01T13:55:10.031124Z",
     "start_time": "2025-08-01T13:55:09.215160Z"
    }
   },
   "outputs": [],
   "execution_count": 31
  },
  {
   "metadata": {
    "ExecuteTime": {
     "end_time": "2025-08-01T13:55:10.822153Z",
     "start_time": "2025-08-01T13:55:10.049901Z"
    }
   },
   "cell_type": "code",
   "source": [
    "y_preds=[]\n",
    "model.eval()\n",
    "with torch.inference_mode():\n",
    "  for batch, (X, y) in tqdm(enumerate(test_loader), desc=\"Makin preds\"): ##\n",
    "    # Make sure data on right device\n",
    "    X, y = X.to(device), y.to(device)\n",
    "    # Forward pass\n",
    "    y_pred_logits = model(X)\n",
    "    # Logits -> Pred probs -> Pred label\n",
    "    y_pred_labels = torch.argmax(y_pred_logits, dim=1)\n",
    "    # Append the labels to the preds list\n",
    "    y_preds.append(y_pred_labels)\n",
    "  y_preds=torch.cat(y_preds).cpu()\n",
    "y_preds[:10]"
   ],
   "outputs": [
    {
     "name": "stderr",
     "output_type": "stream",
     "text": [
      "Makin preds: 313it [00:00, 413.74it/s]\n"
     ]
    },
    {
     "data": {
      "text/plain": [
       "tensor([7, 2, 1, 0, 4, 1, 4, 9, 5, 9])"
      ]
     },
     "execution_count": 32,
     "metadata": {},
     "output_type": "execute_result"
    }
   ],
   "execution_count": 32
  },
  {
   "metadata": {
    "ExecuteTime": {
     "end_time": "2025-08-01T13:55:10.915118Z",
     "start_time": "2025-08-01T13:55:10.911768Z"
    }
   },
   "cell_type": "code",
   "source": "test.targets[:10], y_preds[:10]",
   "outputs": [
    {
     "data": {
      "text/plain": [
       "(tensor([7, 2, 1, 0, 4, 1, 4, 9, 5, 9]),\n",
       " tensor([7, 2, 1, 0, 4, 1, 4, 9, 5, 9]))"
      ]
     },
     "execution_count": 33,
     "metadata": {},
     "output_type": "execute_result"
    }
   ],
   "execution_count": 33
  },
  {
   "metadata": {
    "ExecuteTime": {
     "end_time": "2025-08-01T13:55:11.213455Z",
     "start_time": "2025-08-01T13:55:10.979891Z"
    }
   },
   "cell_type": "code",
   "source": [
    "# 2. setup confussion instance and compare predictions to targets\n",
    "confmat = ConfusionMatrix(task=\"multiclass\", num_classes=len(class_names))\n",
    "confmat_tensor = confmat(preds=y_preds, target=test.targets)\n",
    "\n",
    "# 3. plot the confussion matrix\n",
    "fig, ax = plot_confusion_matrix(\n",
    "    conf_mat=confmat_tensor.numpy(),\n",
    "    class_names=class_names,\n",
    "    figsize=(10, 7)\n",
    ")"
   ],
   "outputs": [
    {
     "data": {
      "text/plain": [
       "<Figure size 1000x700 with 1 Axes>"
      ],
      "image/png": "[encoded data removed]"
     },
     "metadata": {},
     "output_type": "display_data"
    }
   ],
   "execution_count": 34
  },
  {
   "cell_type": "markdown",
   "source": [
    "## 12. Create a random tensor of shape `[1, 3, 64, 64]` and pass it through a `nn.Conv2d()` layer with various hyperparameter settings (these can be any settings you choose), what do you notice if the `kernel_size` parameter goes up and down?"
   ],
   "metadata": {
    "id": "lj6bDhoWxt2y"
   }
  },
  {
   "cell_type": "code",
   "source": [
    "kerandoman_tensor = torch.randn([1, 3, 64, 64])\n",
    "kerandoman_tensor"
   ],
   "metadata": {
    "id": "leCTsqtSbR5P",
    "ExecuteTime": {
     "end_time": "2025-08-01T13:55:11.246689Z",
     "start_time": "2025-08-01T13:55:11.242422Z"
    }
   },
   "outputs": [
    {
     "data": {
      "text/plain": [
       "tensor([[[[ 2.2181,  0.5232,  0.3466,  ...,  0.4114, -0.5733,  0.5069],\n",
       "          [-1.4364, -1.1299, -0.1360,  ...,  0.7099, -1.5326, -0.7251],\n",
       "          [ 0.9624, -0.3370, -1.1753,  ...,  0.2225, -0.9143,  1.4840],\n",
       "          ...,\n",
       "          [ 0.0366,  0.5164,  0.9172,  ..., -0.8111, -0.1513,  1.4261],\n",
       "          [-0.7712,  0.6421,  0.6151,  ..., -0.0118,  0.5236, -0.5989],\n",
       "          [ 1.8365,  2.0741, -0.7373,  ..., -0.8515, -0.1488,  0.3166]],\n",
       "\n",
       "         [[-1.4277, -0.3318,  1.7054,  ..., -0.4319,  1.7760,  0.4410],\n",
       "          [-1.9775, -0.0359, -0.7873,  ..., -0.7318, -1.0267, -0.3532],\n",
       "          [ 0.8919,  0.1832,  0.5042,  ..., -0.7219,  0.0573, -1.7442],\n",
       "          ...,\n",
       "          [ 0.0937,  1.6574,  1.1300,  ...,  2.2465, -0.4092, -0.3014],\n",
       "          [ 0.2920, -1.2133,  0.7371,  ...,  1.8563, -0.0200,  0.2229],\n",
       "          [ 1.1465,  0.0088, -0.3035,  ..., -0.0780, -1.7839, -0.7797]],\n",
       "\n",
       "         [[ 0.1017, -0.3441,  1.2445,  ...,  0.7011, -0.8334, -0.8989],\n",
       "          [-1.7191,  0.5333, -1.1904,  ...,  0.3407, -0.0794, -1.0336],\n",
       "          [ 1.3186, -0.2115, -1.0316,  ...,  0.1768,  1.7309, -0.5784],\n",
       "          ...,\n",
       "          [ 0.2347, -0.3713, -1.2516,  ...,  1.3083,  0.4688, -1.0742],\n",
       "          [ 0.2401, -0.0767,  0.1995,  ...,  0.9924,  0.0691, -1.3018],\n",
       "          [ 0.0457,  0.1251, -0.4813,  ..., -0.4588, -2.4687, -0.7786]]]])"
      ]
     },
     "execution_count": 35,
     "metadata": {},
     "output_type": "execute_result"
    }
   ],
   "execution_count": 35
  },
  {
   "metadata": {
    "ExecuteTime": {
     "end_time": "2025-08-01T13:55:11.318336Z",
     "start_time": "2025-08-01T13:55:11.314740Z"
    }
   },
   "cell_type": "code",
   "source": "kerandoman_tensor.shape",
   "outputs": [
    {
     "data": {
      "text/plain": [
       "torch.Size([1, 3, 64, 64])"
      ]
     },
     "execution_count": 36,
     "metadata": {},
     "output_type": "execute_result"
    }
   ],
   "execution_count": 36
  },
  {
   "metadata": {
    "ExecuteTime": {
     "end_time": "2025-08-01T13:55:11.395696Z",
     "start_time": "2025-08-01T13:55:11.390919Z"
    }
   },
   "cell_type": "code",
   "source": "kerandoman_tensor[0]",
   "outputs": [
    {
     "data": {
      "text/plain": [
       "tensor([[[ 2.2181,  0.5232,  0.3466,  ...,  0.4114, -0.5733,  0.5069],\n",
       "         [-1.4364, -1.1299, -0.1360,  ...,  0.7099, -1.5326, -0.7251],\n",
       "         [ 0.9624, -0.3370, -1.1753,  ...,  0.2225, -0.9143,  1.4840],\n",
       "         ...,\n",
       "         [ 0.0366,  0.5164,  0.9172,  ..., -0.8111, -0.1513,  1.4261],\n",
       "         [-0.7712,  0.6421,  0.6151,  ..., -0.0118,  0.5236, -0.5989],\n",
       "         [ 1.8365,  2.0741, -0.7373,  ..., -0.8515, -0.1488,  0.3166]],\n",
       "\n",
       "        [[-1.4277, -0.3318,  1.7054,  ..., -0.4319,  1.7760,  0.4410],\n",
       "         [-1.9775, -0.0359, -0.7873,  ..., -0.7318, -1.0267, -0.3532],\n",
       "         [ 0.8919,  0.1832,  0.5042,  ..., -0.7219,  0.0573, -1.7442],\n",
       "         ...,\n",
       "         [ 0.0937,  1.6574,  1.1300,  ...,  2.2465, -0.4092, -0.3014],\n",
       "         [ 0.2920, -1.2133,  0.7371,  ...,  1.8563, -0.0200,  0.2229],\n",
       "         [ 1.1465,  0.0088, -0.3035,  ..., -0.0780, -1.7839, -0.7797]],\n",
       "\n",
       "        [[ 0.1017, -0.3441,  1.2445,  ...,  0.7011, -0.8334, -0.8989],\n",
       "         [-1.7191,  0.5333, -1.1904,  ...,  0.3407, -0.0794, -1.0336],\n",
       "         [ 1.3186, -0.2115, -1.0316,  ...,  0.1768,  1.7309, -0.5784],\n",
       "         ...,\n",
       "         [ 0.2347, -0.3713, -1.2516,  ...,  1.3083,  0.4688, -1.0742],\n",
       "         [ 0.2401, -0.0767,  0.1995,  ...,  0.9924,  0.0691, -1.3018],\n",
       "         [ 0.0457,  0.1251, -0.4813,  ..., -0.4588, -2.4687, -0.7786]]])"
      ]
     },
     "execution_count": 37,
     "metadata": {},
     "output_type": "execute_result"
    }
   ],
   "execution_count": 37
  },
  {
   "metadata": {
    "ExecuteTime": {
     "end_time": "2025-08-01T13:55:11.467299Z",
     "start_time": "2025-08-01T13:55:11.463991Z"
    }
   },
   "cell_type": "code",
   "source": "len(kerandoman_tensor)",
   "outputs": [
    {
     "data": {
      "text/plain": [
       "1"
      ]
     },
     "execution_count": 38,
     "metadata": {},
     "output_type": "execute_result"
    }
   ],
   "execution_count": 38
  },
  {
   "metadata": {
    "ExecuteTime": {
     "end_time": "2025-08-01T13:55:11.563542Z",
     "start_time": "2025-08-01T13:55:11.537340Z"
    }
   },
   "cell_type": "code",
   "source": [
    "convu_layer = nn.Conv2d(kernel_size=3, in_channels=3, out_channels=10)\n",
    "\n",
    "hasil_1 = convu_layer(kerandoman_tensor)"
   ],
   "outputs": [],
   "execution_count": 39
  },
  {
   "metadata": {
    "ExecuteTime": {
     "end_time": "2025-08-01T13:55:11.612819Z",
     "start_time": "2025-08-01T13:55:11.609813Z"
    }
   },
   "cell_type": "code",
   "source": "hasil_1.shape",
   "outputs": [
    {
     "data": {
      "text/plain": [
       "torch.Size([1, 10, 62, 62])"
      ]
     },
     "execution_count": 40,
     "metadata": {},
     "output_type": "execute_result"
    }
   ],
   "execution_count": 40
  },
  {
   "metadata": {
    "ExecuteTime": {
     "end_time": "2025-08-01T13:55:11.694346Z",
     "start_time": "2025-08-01T13:55:11.689522Z"
    }
   },
   "cell_type": "code",
   "source": [
    "convu_layer = nn.Conv2d(kernel_size=5, in_channels=3, out_channels=10)\n",
    "\n",
    "hasil_2 = convu_layer(kerandoman_tensor)\n",
    "hasil_2.shape\n",
    "\n",
    "# the result after through the conv layer the shape is getting smaller, the greater the kernel size, the smaller the output shape will be"
   ],
   "outputs": [
    {
     "data": {
      "text/plain": [
       "torch.Size([1, 10, 60, 60])"
      ]
     },
     "execution_count": 41,
     "metadata": {},
     "output_type": "execute_result"
    }
   ],
   "execution_count": 41
  },
  {
   "cell_type": "markdown",
   "source": [
    "## 13. Use a model similar to the trained `model_2` from notebook 03 to make predictions on the test [`torchvision.datasets.FashionMNIST`](https://pytorch.org/vision/main/generated/torchvision.datasets.FashionMNIST.html) dataset. \n",
    "* Then plot some predictions where the model was wrong alongside what the label of the image should've been. \n",
    "* After visualing these predictions do you think it's more of a modelling error or a data error? \n",
    "* As in, could the model do better or are the labels of the data too close to each other (e.g. a \"Shirt\" label is too close to \"T-shirt/top\")?"
   ],
   "metadata": {
    "id": "VHS20cNTxwSi"
   }
  },
  {
   "metadata": {
    "ExecuteTime": {
     "end_time": "2025-08-01T13:55:11.855270Z",
     "start_time": "2025-08-01T13:55:11.763294Z"
    }
   },
   "cell_type": "code",
   "source": [
    "# importing the FashionMNIST train dataset\n",
    "train_fashion = torchvision.datasets.FashionMNIST(root=\"../PRAC_fashionMNIST_trainset\",\n",
    "                                                  train=True,\n",
    "                                                  download=True,\n",
    "                                                  transform=torchvision.transforms.ToTensor(),\n",
    "                                                  target_transform=None)"
   ],
   "outputs": [],
   "execution_count": 42
  },
  {
   "metadata": {
    "ExecuteTime": {
     "end_time": "2025-08-01T13:55:11.892548Z",
     "start_time": "2025-08-01T13:55:11.889701Z"
    }
   },
   "cell_type": "code",
   "source": "len(train_fashion)",
   "outputs": [
    {
     "data": {
      "text/plain": [
       "60000"
      ]
     },
     "execution_count": 43,
     "metadata": {},
     "output_type": "execute_result"
    }
   ],
   "execution_count": 43
  },
  {
   "cell_type": "code",
   "source": [
    "# importing the FashionMNIST test dataset\n",
    "\n",
    "test_fashion = torchvision.datasets.FashionMNIST(root=\"../PRAC_fashionMNIST_testset\",\n",
    "                                                 train=False,\n",
    "                                                 download=True,\n",
    "                                                 transform=transforms.ToTensor(),\n",
    "                                                 target_transform=None)"
   ],
   "metadata": {
    "id": "78a8LjtdbSZj",
    "ExecuteTime": {
     "end_time": "2025-08-01T13:55:11.981520Z",
     "start_time": "2025-08-01T13:55:11.964959Z"
    }
   },
   "outputs": [],
   "execution_count": 44
  },
  {
   "metadata": {
    "ExecuteTime": {
     "end_time": "2025-08-01T13:55:12.042320Z",
     "start_time": "2025-08-01T13:55:12.039315Z"
    }
   },
   "cell_type": "code",
   "source": "len(test_fashion)",
   "outputs": [
    {
     "data": {
      "text/plain": [
       "10000"
      ]
     },
     "execution_count": 45,
     "metadata": {},
     "output_type": "execute_result"
    }
   ],
   "execution_count": 45
  },
  {
   "metadata": {
    "ExecuteTime": {
     "end_time": "2025-08-01T13:55:12.116485Z",
     "start_time": "2025-08-01T13:55:12.114048Z"
    }
   },
   "cell_type": "code",
   "source": "train_fashion_daloader = DataLoader(train_fashion, batch_size=32, shuffle=True)",
   "outputs": [],
   "execution_count": 46
  },
  {
   "metadata": {
    "ExecuteTime": {
     "end_time": "2025-08-01T15:05:44.454074Z",
     "start_time": "2025-08-01T15:05:44.383434Z"
    }
   },
   "cell_type": "code",
   "source": "len(train_fashion_daloader)",
   "outputs": [
    {
     "data": {
      "text/plain": [
       "1875"
      ]
     },
     "execution_count": 49,
     "metadata": {},
     "output_type": "execute_result"
    }
   ],
   "execution_count": 49
  },
  {
   "metadata": {
    "ExecuteTime": {
     "end_time": "2025-08-01T13:55:12.187805Z",
     "start_time": "2025-08-01T13:55:12.185536Z"
    }
   },
   "cell_type": "code",
   "source": "test_fashion_daloader = DataLoader(test_fashion, batch_size=32, shuffle=False)",
   "outputs": [],
   "execution_count": 47
  },
  {
   "metadata": {
    "ExecuteTime": {
     "end_time": "2025-08-01T15:05:55.636138Z",
     "start_time": "2025-08-01T15:05:55.632196Z"
    }
   },
   "cell_type": "code",
   "source": "len(test_fashion_daloader)",
   "outputs": [
    {
     "data": {
      "text/plain": [
       "313"
      ]
     },
     "execution_count": 50,
     "metadata": {},
     "output_type": "execute_result"
    }
   ],
   "execution_count": 50
  },
  {
   "metadata": {
    "ExecuteTime": {
     "end_time": "2025-08-01T15:16:45.739010Z",
     "start_time": "2025-08-01T15:16:45.721120Z"
    }
   },
   "cell_type": "code",
   "source": [
    "model987 = MNISTModel(input_shape=1,\n",
    "                   hidden_units=10,\n",
    "                   output_shape=10).to(device)\n",
    "model987"
   ],
   "outputs": [
    {
     "data": {
      "text/plain": [
       "MNISTModel(\n",
       "  (block_1): Sequential(\n",
       "    (0): Conv2d(1, 10, kernel_size=(3, 3), stride=(1, 1), padding=(1, 1))\n",
       "    (1): ReLU()\n",
       "    (2): Conv2d(10, 10, kernel_size=(3, 3), stride=(1, 1), padding=(1, 1))\n",
       "    (3): ReLU()\n",
       "    (4): MaxPool2d(kernel_size=2, stride=2, padding=0, dilation=1, ceil_mode=False)\n",
       "  )\n",
       "  (block_2): Sequential(\n",
       "    (0): Conv2d(10, 10, kernel_size=(3, 3), stride=(1, 1), padding=(1, 1))\n",
       "    (1): ReLU()\n",
       "    (2): Conv2d(10, 10, kernel_size=(3, 3), stride=(1, 1), padding=(1, 1))\n",
       "    (3): ReLU()\n",
       "    (4): MaxPool2d(kernel_size=2, stride=2, padding=0, dilation=1, ceil_mode=False)\n",
       "  )\n",
       "  (classifier): Sequential(\n",
       "    (0): Flatten(start_dim=1, end_dim=-1)\n",
       "    (1): Linear(in_features=490, out_features=10, bias=True)\n",
       "  )\n",
       ")"
      ]
     },
     "execution_count": 51,
     "metadata": {},
     "output_type": "execute_result"
    }
   ],
   "execution_count": 51
  },
  {
   "metadata": {
    "ExecuteTime": {
     "end_time": "2025-08-01T15:59:51.928010Z",
     "start_time": "2025-08-01T15:59:51.925285Z"
    }
   },
   "cell_type": "code",
   "source": [
    "from torch import optim\n",
    "\n",
    "optimizer = optim.Adam(model987.parameters(), lr=0.01)\n",
    "loss_function = nn.CrossEntropyLoss()"
   ],
   "outputs": [],
   "execution_count": 55
  },
  {
   "metadata": {
    "ExecuteTime": {
     "end_time": "2025-08-01T15:59:53.203872Z",
     "start_time": "2025-08-01T15:59:53.200355Z"
    }
   },
   "cell_type": "code",
   "source": [
    "# classes\n",
    "fashion_classes = train_fashion.classes\n",
    "len(fashion_classes)"
   ],
   "outputs": [
    {
     "data": {
      "text/plain": [
       "10"
      ]
     },
     "execution_count": 56,
     "metadata": {},
     "output_type": "execute_result"
    }
   ],
   "execution_count": 56
  },
  {
   "metadata": {
    "ExecuteTime": {
     "end_time": "2025-08-01T16:00:39.203041Z",
     "start_time": "2025-08-01T15:59:54.549659Z"
    }
   },
   "cell_type": "code",
   "source": [
    "# Setup metrics\n",
    "from tqdm.auto import tqdm\n",
    "from torchmetrics import Accuracy\n",
    "\n",
    "acc_fn = Accuracy(task = 'multiclass', num_classes=len(fashion_classes)).to(device)\n",
    "\n",
    "# Setup training/testing loop\n",
    "epochs = 5\n",
    "for epoch in tqdm(range(epochs)):\n",
    "  train_loss, test_loss_total = 0, 0\n",
    "  train_acc, test_acc = 0, 0\n",
    "\n",
    "  ### Training\n",
    "  model987.train()\n",
    "  for batch, (X_train, y_train) in enumerate(train_fashion_daloader):\n",
    "    X_train, y_train = X_train.to(device), y_train.to(device)\n",
    "\n",
    "    # Forward pass and loss\n",
    "    y_pred = model987(X_train)\n",
    "    loss = loss_function(y_pred, y_train)\n",
    "    train_loss += loss\n",
    "    train_acc += acc_fn(y_pred, y_train)\n",
    "\n",
    "    # Backprop and gradient descent\n",
    "    optimizer.zero_grad()\n",
    "    loss.backward()\n",
    "    optimizer.step()\n",
    "\n",
    "  # Adjust the loss/acc (find the loss/acc per epoch)\n",
    "  train_loss /= len(train_fashion_daloader)\n",
    "  train_acc /= len(train_fashion_daloader)\n",
    "\n",
    "  ### Testing\n",
    "  model987.eval()\n",
    "  with torch.inference_mode():\n",
    "    for batch, (X_test, y_test) in enumerate(test_fashion_daloader):\n",
    "      X_test, y_test = X_test.to(device), y_test.to(device)\n",
    "\n",
    "      # Forward pass and loss\n",
    "      y_pred_test = model987(X_test)\n",
    "      test_loss = loss_function(y_pred_test, y_test)\n",
    "      test_loss_total += test_loss\n",
    "\n",
    "      test_acc += acc_fn(y_pred_test, y_test)\n",
    "\n",
    "    # Adjust the loss/acc (find the loss/acc per epoch)\n",
    "    test_loss /= len(test_fashion_daloader)\n",
    "    test_acc /= len(test_fashion_daloader)\n",
    "\n",
    "  # Print out what's happening\n",
    "  print(f\"Epoch: {epoch} | Train loss: {train_loss:.3f} | Train acc: {train_acc:.2f} | Test loss: {test_loss_total:.3f} | Test acc: {test_acc:.2f}\")"
   ],
   "outputs": [
    {
     "name": "stderr",
     "output_type": "stream",
     "text": [
      " 20%|██        | 1/5 [00:09<00:37,  9.26s/it]"
     ]
    },
    {
     "name": "stdout",
     "output_type": "stream",
     "text": [
      "Epoch: 0 | Train loss: 0.597 | Train acc: 0.78 | Test loss: 139.720 | Test acc: 0.83\n"
     ]
    },
    {
     "name": "stderr",
     "output_type": "stream",
     "text": [
      " 40%|████      | 2/5 [00:18<00:27,  9.04s/it]"
     ]
    },
    {
     "name": "stdout",
     "output_type": "stream",
     "text": [
      "Epoch: 1 | Train loss: 0.406 | Train acc: 0.85 | Test loss: 138.608 | Test acc: 0.84\n"
     ]
    },
    {
     "name": "stderr",
     "output_type": "stream",
     "text": [
      " 60%|██████    | 3/5 [00:27<00:17,  8.97s/it]"
     ]
    },
    {
     "name": "stdout",
     "output_type": "stream",
     "text": [
      "Epoch: 2 | Train loss: 0.388 | Train acc: 0.86 | Test loss: 121.816 | Test acc: 0.86\n"
     ]
    },
    {
     "name": "stderr",
     "output_type": "stream",
     "text": [
      " 80%|████████  | 4/5 [00:35<00:08,  8.94s/it]"
     ]
    },
    {
     "name": "stdout",
     "output_type": "stream",
     "text": [
      "Epoch: 3 | Train loss: 0.378 | Train acc: 0.86 | Test loss: 124.874 | Test acc: 0.86\n"
     ]
    },
    {
     "name": "stderr",
     "output_type": "stream",
     "text": [
      "100%|██████████| 5/5 [00:44<00:00,  8.93s/it]"
     ]
    },
    {
     "name": "stdout",
     "output_type": "stream",
     "text": [
      "Epoch: 4 | Train loss: 0.371 | Train acc: 0.87 | Test loss: 118.060 | Test acc: 0.87\n"
     ]
    },
    {
     "name": "stderr",
     "output_type": "stream",
     "text": [
      "\n"
     ]
    }
   ],
   "execution_count": 57
  },
  {
   "metadata": {
    "ExecuteTime": {
     "end_time": "2025-08-01T16:09:52.720543Z",
     "start_time": "2025-08-01T16:09:51.901096Z"
    }
   },
   "cell_type": "code",
   "source": [
    "# eval model\n",
    "test_preds = []\n",
    "model987.eval()\n",
    "with torch.inference_mode():\n",
    "  for X_test, y_test in tqdm(test_fashion_daloader):\n",
    "    y_logits = model987(X_test.to(device))\n",
    "    y_pred_probs = torch.softmax(y_logits, dim=1)\n",
    "    y_pred_labels = torch.argmax(y_pred_probs, dim=1)\n",
    "    test_preds.append(y_pred_labels)\n",
    "test_preds = torch.cat(test_preds).cpu() # matplotlib likes CPU\n",
    "test_preds[:10], len(test_preds)"
   ],
   "outputs": [
    {
     "name": "stderr",
     "output_type": "stream",
     "text": [
      "100%|██████████| 313/313 [00:00<00:00, 386.77it/s]\n"
     ]
    },
    {
     "data": {
      "text/plain": [
       "(tensor([9, 2, 1, 1, 6, 1, 2, 6, 5, 7]), 10000)"
      ]
     },
     "execution_count": 58,
     "metadata": {},
     "output_type": "execute_result"
    }
   ],
   "execution_count": 58
  }
 ]
}
