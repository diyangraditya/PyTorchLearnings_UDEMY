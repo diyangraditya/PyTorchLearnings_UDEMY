{
 "nbformat": 4,
 "nbformat_minor": 0,
 "metadata": {
  "colab": {
   "name": "03_pytorch_computer_vision_exercises.ipynb",
   "provenance": [],
   "collapsed_sections": [],
   "authorship_tag": "ABX9TyMUsDcN/+FAm9Pf7Ifqs6AZ",
   "include_colab_link": true
  },
  "kernelspec": {
   "name": "python3",
   "display_name": "Python 3"
  },
  "language_info": {
   "name": "python"
  },
  "accelerator": "GPU"
 },
 "cells": [
  {
   "cell_type": "markdown",
   "metadata": {
    "id": "view-in-github",
    "colab_type": "text"
   },
   "source": [
    "<a href=\"https://colab.research.google.com/github/mrdbourke/pytorch-deep-learning/blob/main/extras/exercises/03_pytorch_computer_vision_exercises.ipynb\" target=\"_parent\"><img src=\"https://colab.research.google.com/assets/colab-badge.svg\" alt=\"Open In Colab\"/></a>"
   ]
  },
  {
   "cell_type": "markdown",
   "source": [
    "# 03. PyTorch Computer Vision Exercises\n",
    "\n",
    "The following is a collection of exercises based on computer vision fundamentals in PyTorch.\n",
    "\n",
    "They're a bunch of fun.\n",
    "\n",
    "You're going to get to write plenty of code!\n",
    "\n",
    "## Resources\n",
    "\n",
    "1. These exercises are based on [notebook 03 of the Learn PyTorch for Deep Learning course](https://www.learnpytorch.io/03_pytorch_computer_vision/). \n",
    "2. See a live [walkthrough of the solutions (errors and all) on YouTube](https://youtu.be/_PibmqpEyhA). \n",
    "  * **Note:** Going through these exercises took me just over 3 hours of solid coding, so you should expect around the same.\n",
    "3. See [other solutions on the course GitHub](https://github.com/mrdbourke/pytorch-deep-learning/tree/main/extras/solutions)."
   ],
   "metadata": {
    "id": "Vex99np2wFVt"
   }
  },
  {
   "cell_type": "code",
   "source": [
    "# Check for GPU\n",
    "!nvidia-smi"
   ],
   "metadata": {
    "colab": {
     "base_uri": "https://localhost:8080/"
    },
    "id": "GaeYzOTLwWh2",
    "outputId": "17dd5453-9639-4b01-aa18-7ddbfd5c3253",
    "ExecuteTime": {
     "end_time": "2025-07-05T05:26:19.952617Z",
     "start_time": "2025-07-05T05:26:19.676577Z"
    }
   },
   "outputs": [
    {
     "name": "stdout",
     "output_type": "stream",
     "text": [
      "Sat Jul  5 12:26:19 2025       \r\n",
      "+-----------------------------------------------------------------------------------------+\r\n",
      "| NVIDIA-SMI 570.153.02             Driver Version: 570.153.02     CUDA Version: 12.8     |\r\n",
      "|-----------------------------------------+------------------------+----------------------+\r\n",
      "| GPU  Name                 Persistence-M | Bus-Id          Disp.A | Volatile Uncorr. ECC |\r\n",
      "| Fan  Temp   Perf          Pwr:Usage/Cap |           Memory-Usage | GPU-Util  Compute M. |\r\n",
      "|                                         |                        |               MIG M. |\r\n",
      "|=========================================+========================+======================|\r\n",
      "|   0  NVIDIA GeForce RTX 3050 ...    Off |   00000000:01:00.0 Off |                  N/A |\r\n",
      "| N/A   49C    P8              9W /   35W |      80MiB /   4096MiB |      0%      Default |\r\n",
      "|                                         |                        |                  N/A |\r\n",
      "+-----------------------------------------+------------------------+----------------------+\r\n",
      "                                                                                         \r\n",
      "+-----------------------------------------------------------------------------------------+\r\n",
      "| Processes:                                                                              |\r\n",
      "|  GPU   GI   CI              PID   Type   Process name                        GPU Memory |\r\n",
      "|        ID   ID                                                               Usage      |\r\n",
      "|=========================================================================================|\r\n",
      "|    0   N/A  N/A           56757      G   ...ess --variations-seed-version         67MiB |\r\n",
      "+-----------------------------------------------------------------------------------------+\r\n"
     ]
    }
   ],
   "execution_count": 1
  },
  {
   "cell_type": "code",
   "source": [
    "# Import torch\n",
    "import torch\n",
    "\n",
    "# Exercises require PyTorch > 1.10.0\n",
    "print(torch.__version__)\n",
    "\n",
    "# TODO: Setup device agnostic code\n",
    "device = \"cuda\" if torch.cuda.is_available() else \"cpu\"\n",
    "print(device)"
   ],
   "metadata": {
    "colab": {
     "base_uri": "https://localhost:8080/",
     "height": 53
    },
    "id": "DNwZLMbCzJLk",
    "outputId": "9c150c50-a092-4f34-9d33-b45247fb080d",
    "ExecuteTime": {
     "end_time": "2025-07-05T05:26:21.863327Z",
     "start_time": "2025-07-05T05:26:19.969060Z"
    }
   },
   "outputs": [
    {
     "name": "stdout",
     "output_type": "stream",
     "text": [
      "2.5.1+cu124\n",
      "cuda\n"
     ]
    }
   ],
   "execution_count": 2
  },
  {
   "cell_type": "markdown",
   "source": [
    "## 1. What are 3 areas in industry where computer vision is currently being used?"
   ],
   "metadata": {
    "id": "FSFX7tc1w-en"
   }
  },
  {
   "cell_type": "code",
   "source": [
    "# health\n",
    "# robotics\n",
    "# vehicles"
   ],
   "metadata": {
    "id": "VyWRkvWGbCXj",
    "ExecuteTime": {
     "end_time": "2025-07-05T05:26:21.960509Z",
     "start_time": "2025-07-05T05:26:21.958884Z"
    }
   },
   "outputs": [],
   "execution_count": 3
  },
  {
   "cell_type": "markdown",
   "source": [
    "## 2. Search \"what is overfitting in machine learning\" and write down a sentence about what you find. "
   ],
   "metadata": {
    "id": "oBK-WI6YxDYa"
   }
  },
  {
   "cell_type": "code",
   "source": "# overfitting is a situation that a machine learning model fits too well to the training data and performs bad (low accuracy) on the test data",
   "metadata": {
    "id": "d1rxD6GObCqh",
    "ExecuteTime": {
     "end_time": "2025-07-05T05:26:22.009832Z",
     "start_time": "2025-07-05T05:26:22.007793Z"
    }
   },
   "outputs": [],
   "execution_count": 4
  },
  {
   "cell_type": "markdown",
   "source": [
    "## 3. Search \"ways to prevent overfitting in machine learning\", write down 3 of the things you find and a sentence about each. \n",
    "> **Note:** there are lots of these, so don't worry too much about all of them, just pick 3 and start with those."
   ],
   "metadata": {
    "id": "XeYFEqw8xK26"
   }
  },
  {
   "cell_type": "code",
   "source": [
    "# feature selection\n",
    "# use more/less complex models\n",
    "# feature engineering\n",
    "# oversampling\n",
    "# dimensionality resuction\n",
    "# cross val\n",
    "# early stopping"
   ],
   "metadata": {
    "id": "ocvOdWKcbEKr",
    "ExecuteTime": {
     "end_time": "2025-07-05T05:26:22.080276Z",
     "start_time": "2025-07-05T05:26:22.077659Z"
    }
   },
   "outputs": [],
   "execution_count": 5
  },
  {
   "cell_type": "markdown",
   "source": [
    "## 4. Spend 20-minutes reading and clicking through the [CNN Explainer website](https://poloclub.github.io/cnn-explainer/).\n",
    "\n",
    "* Upload your own example image using the \"upload\" button on the website and see what happens in each layer of a CNN as your image passes through it."
   ],
   "metadata": {
    "id": "DKdEEFEqxM-8"
   }
  },
  {
   "cell_type": "code",
   "source": "# done",
   "metadata": {
    "id": "TqZaJIRMbFtS",
    "ExecuteTime": {
     "end_time": "2025-07-05T05:26:22.127186Z",
     "start_time": "2025-07-05T05:26:22.125413Z"
    }
   },
   "outputs": [],
   "execution_count": 6
  },
  {
   "cell_type": "markdown",
   "source": [
    "## 5. Load the [`torchvision.datasets.MNIST()`](https://pytorch.org/vision/stable/generated/torchvision.datasets.MNIST.html#torchvision.datasets.MNIST) train and test datasets."
   ],
   "metadata": {
    "id": "lvf-3pODxXYI"
   }
  },
  {
   "cell_type": "code",
   "source": [
    "import torchvision\n",
    "from torchvision import transforms\n",
    "\n",
    "train = torchvision.datasets.MNIST(\n",
    "    root=\"../CV_Practice/train\", # where to download data to?\n",
    "    train=True, # do we want the training dataset?\n",
    "    download=True, # do we want to download yes/no?\n",
    "    transform=transforms.ToTensor(), # how do we want to transform the data?\n",
    "    target_transform=None # how do we want to transform the target\n",
    ")\n",
    "\n",
    "test = torchvision.datasets.MNIST(\n",
    "    root=\"../CV_Practice/test\", # where to download data to?\n",
    "    train=False, # do we want the training dataset?\n",
    "    download=True, # do we want to download yes/no?\n",
    "    transform=transforms.ToTensor(), # how do we want to transform the data?\n",
    "    target_transform=None # how do we want to transform the target\n",
    ")"
   ],
   "metadata": {
    "id": "SHjeuN81bHza",
    "ExecuteTime": {
     "end_time": "2025-07-05T05:26:23.376891Z",
     "start_time": "2025-07-05T05:26:22.175631Z"
    }
   },
   "outputs": [],
   "execution_count": 7
  },
  {
   "metadata": {
    "ExecuteTime": {
     "end_time": "2025-07-05T05:26:23.392529Z",
     "start_time": "2025-07-05T05:26:23.387517Z"
    }
   },
   "cell_type": "code",
   "source": "len(train)",
   "outputs": [
    {
     "data": {
      "text/plain": [
       "60000"
      ]
     },
     "execution_count": 8,
     "metadata": {},
     "output_type": "execute_result"
    }
   ],
   "execution_count": 8
  },
  {
   "metadata": {
    "ExecuteTime": {
     "end_time": "2025-07-05T05:26:23.450033Z",
     "start_time": "2025-07-05T05:26:23.445752Z"
    }
   },
   "cell_type": "code",
   "source": "len(test)",
   "outputs": [
    {
     "data": {
      "text/plain": [
       "10000"
      ]
     },
     "execution_count": 9,
     "metadata": {},
     "output_type": "execute_result"
    }
   ],
   "execution_count": 9
  },
  {
   "cell_type": "markdown",
   "source": [
    "## 6. Visualize at least 5 different samples of the MNIST training dataset."
   ],
   "metadata": {
    "id": "qxZW-uAbxe_F"
   }
  },
  {
   "metadata": {
    "ExecuteTime": {
     "end_time": "2025-07-05T05:26:23.500667Z",
     "start_time": "2025-07-05T05:26:23.498530Z"
    }
   },
   "cell_type": "code",
   "source": [
    "class_names = train.classes\n",
    "train_idx = train.class_to_idx"
   ],
   "outputs": [],
   "execution_count": 10
  },
  {
   "cell_type": "code",
   "source": [
    "import matplotlib.pyplot as plt\n",
    "\n",
    "torch.manual_seed(42)\n",
    "\n",
    "fig = plt.figure(figsize=(6, 6))\n",
    "rows, cols = 5, 1\n",
    "\n",
    "for i in range(1, rows*cols+1):\n",
    "    random_idx = torch.randint(0, len(train), size=[1]).item()\n",
    "    # print(random_idx)\n",
    "    img, label = train[random_idx]\n",
    "    fig.add_subplot(cols, rows, i)\n",
    "    plt.imshow(img.squeeze(), cmap=\"gray\")\n",
    "    plt.title(class_names[label])\n",
    "    plt.axis(False)"
   ],
   "metadata": {
    "id": "QVFsYi1PbItE",
    "ExecuteTime": {
     "end_time": "2025-07-05T05:26:24.049655Z",
     "start_time": "2025-07-05T05:26:23.549200Z"
    }
   },
   "outputs": [
    {
     "data": {
      "text/plain": [
       "<Figure size 600x600 with 5 Axes>"
      ],
      "image/png": "[encoded data removed]"
     },
     "metadata": {},
     "output_type": "display_data"
    }
   ],
   "execution_count": 11
  },
  {
   "cell_type": "markdown",
   "source": [
    "## 7. Turn the MNIST train and test datasets into dataloaders using `torch.utils.data.DataLoader`, set the `batch_size=32`."
   ],
   "metadata": {
    "id": "JAPDzW0wxhi3"
   }
  },
  {
   "metadata": {
    "ExecuteTime": {
     "end_time": "2025-07-05T05:26:24.076429Z",
     "start_time": "2025-07-05T05:26:24.072869Z"
    }
   },
   "cell_type": "code",
   "source": "train, test",
   "outputs": [
    {
     "data": {
      "text/plain": [
       "(Dataset MNIST\n",
       "     Number of datapoints: 60000\n",
       "     Root location: ../CV_Practice/train\n",
       "     Split: Train\n",
       "     StandardTransform\n",
       " Transform: ToTensor(),\n",
       " Dataset MNIST\n",
       "     Number of datapoints: 10000\n",
       "     Root location: ../CV_Practice/test\n",
       "     Split: Test\n",
       "     StandardTransform\n",
       " Transform: ToTensor())"
      ]
     },
     "execution_count": 12,
     "metadata": {},
     "output_type": "execute_result"
    }
   ],
   "execution_count": 12
  },
  {
   "cell_type": "code",
   "source": [
    "BATCH_SIZE = 32\n",
    "\n",
    "from torch.utils.data import DataLoader\n",
    "\n",
    "train_loader = DataLoader(dataset=train, batch_size=BATCH_SIZE, shuffle=True)\n",
    "\n",
    "test_loader = DataLoader(dataset=test, batch_size=BATCH_SIZE, shuffle=False)"
   ],
   "metadata": {
    "id": "ALA6MPcFbJXQ",
    "ExecuteTime": {
     "end_time": "2025-07-05T05:26:24.129761Z",
     "start_time": "2025-07-05T05:26:24.126314Z"
    }
   },
   "outputs": [],
   "execution_count": 13
  },
  {
   "cell_type": "markdown",
   "source": [
    "## 8. Recreate `model_2` used in notebook 03 (the same model from the [CNN Explainer website](https://poloclub.github.io/cnn-explainer/), also known as TinyVGG) capable of fitting on the MNIST dataset."
   ],
   "metadata": {
    "id": "bCCVfXk5xjYS"
   }
  },
  {
   "cell_type": "code",
   "source": [
    "from torch import nn\n",
    "\n",
    "class MNISTModel(nn.Module):\n",
    "    \"\"\"\n",
    "    Model architecture copying TinyVGG from:\n",
    "    https://poloclub.github.io/cnn-explainer/\n",
    "    \"\"\"\n",
    "    def __init__(self, input_shape: int, hidden_units: int, output_shape: int):\n",
    "        super().__init__()\n",
    "        self.block_1 = nn.Sequential(\n",
    "            nn.Conv2d(in_channels=input_shape,\n",
    "                      out_channels=hidden_units,\n",
    "                      kernel_size=3, # how big is the square that's going over the image?\n",
    "                      stride=1, # default\n",
    "                      padding=1),# options = \"valid\" (no padding) or \"same\" (output has same shape as input) or int for specific number\n",
    "            nn.ReLU(),\n",
    "            nn.Conv2d(in_channels=hidden_units,\n",
    "                      out_channels=hidden_units,\n",
    "                      kernel_size=3,\n",
    "                      stride=1,\n",
    "                      padding=1),\n",
    "            nn.ReLU(),\n",
    "            nn.MaxPool2d(kernel_size=2) # default stride value is same as kernel_size\n",
    "        )\n",
    "        self.block_2 = nn.Sequential(\n",
    "            nn.Conv2d(hidden_units, hidden_units, 3, padding=1),\n",
    "            nn.ReLU(),\n",
    "            nn.Conv2d(hidden_units, hidden_units, 3, padding=1),\n",
    "            nn.ReLU(),\n",
    "            nn.MaxPool2d(kernel_size=2)\n",
    "        )\n",
    "        self.classifier = nn.Sequential(\n",
    "            nn.Flatten(),\n",
    "            # Where did this in_features shape come from?\n",
    "            # It's because each layer of our network compresses and changes the shape of our input data.\n",
    "            nn.Linear(in_features=hidden_units*7*7,\n",
    "                      out_features=output_shape)\n",
    "        )\n",
    "\n",
    "    def forward(self, x: torch.Tensor):\n",
    "        x = self.block_1(x)\n",
    "        # print(x.shape)\n",
    "        x = self.block_2(x)\n",
    "        # print(x.shape)\n",
    "        x = self.classifier(x)\n",
    "        # print(x.shape)\n",
    "        return x\n",
    "\n",
    "torch.manual_seed(42)\n",
    "model = MNISTModel(input_shape=1,\n",
    "    hidden_units=10,\n",
    "    output_shape=len(class_names)).to(device)\n",
    "model"
   ],
   "metadata": {
    "id": "5IKNF22XbKYS",
    "ExecuteTime": {
     "end_time": "2025-07-05T05:26:24.356950Z",
     "start_time": "2025-07-05T05:26:24.176886Z"
    }
   },
   "outputs": [
    {
     "data": {
      "text/plain": [
       "MNISTModel(\n",
       "  (block_1): Sequential(\n",
       "    (0): Conv2d(1, 10, kernel_size=(3, 3), stride=(1, 1), padding=(1, 1))\n",
       "    (1): ReLU()\n",
       "    (2): Conv2d(10, 10, kernel_size=(3, 3), stride=(1, 1), padding=(1, 1))\n",
       "    (3): ReLU()\n",
       "    (4): MaxPool2d(kernel_size=2, stride=2, padding=0, dilation=1, ceil_mode=False)\n",
       "  )\n",
       "  (block_2): Sequential(\n",
       "    (0): Conv2d(10, 10, kernel_size=(3, 3), stride=(1, 1), padding=(1, 1))\n",
       "    (1): ReLU()\n",
       "    (2): Conv2d(10, 10, kernel_size=(3, 3), stride=(1, 1), padding=(1, 1))\n",
       "    (3): ReLU()\n",
       "    (4): MaxPool2d(kernel_size=2, stride=2, padding=0, dilation=1, ceil_mode=False)\n",
       "  )\n",
       "  (classifier): Sequential(\n",
       "    (0): Flatten(start_dim=1, end_dim=-1)\n",
       "    (1): Linear(in_features=490, out_features=10, bias=True)\n",
       "  )\n",
       ")"
      ]
     },
     "execution_count": 14,
     "metadata": {},
     "output_type": "execute_result"
    }
   ],
   "execution_count": 14
  },
  {
   "cell_type": "markdown",
   "source": [
    "## 9. Train the model you built in exercise 8. for 5 epochs on CPU and GPU and see how long it takes on each."
   ],
   "metadata": {
    "id": "sf_3zUr7xlhy"
   }
  },
  {
   "cell_type": "code",
   "source": [
    "from PyTorchLearnings_UDEMY.Python.helper_functions import accuracy_fn\n",
    "\n",
    "optimizer = torch.optim.SGD(model.parameters(), lr=0.1)\n",
    "loss_fn = nn.CrossEntropyLoss()"
   ],
   "metadata": {
    "id": "jSo6vVWFbNLD",
    "ExecuteTime": {
     "end_time": "2025-07-05T05:26:24.422233Z",
     "start_time": "2025-07-05T05:26:24.371226Z"
    }
   },
   "outputs": [],
   "execution_count": 15
  },
  {
   "metadata": {
    "ExecuteTime": {
     "end_time": "2025-07-05T05:26:24.438944Z",
     "start_time": "2025-07-05T05:26:24.436056Z"
    }
   },
   "cell_type": "code",
   "source": [
    "from timeit import default_timer as timer\n",
    "\n",
    "def print_train_time(start:float, end:float, device:torch.device=None):\n",
    "    \"\"\"Prints difference between start and end time.\"\"\"\n",
    "    total_time = end - start\n",
    "    print(f\"\\nTrain time on {device}: {total_time:.3f} seconds\")\n",
    "    return total_time"
   ],
   "outputs": [],
   "execution_count": 16
  },
  {
   "metadata": {
    "ExecuteTime": {
     "end_time": "2025-07-05T05:26:24.492733Z",
     "start_time": "2025-07-05T05:26:24.487362Z"
    }
   },
   "cell_type": "code",
   "source": [
    "def train_step(model: torch.nn.Module,\n",
    "               data_loader: torch.utils.data.DataLoader,\n",
    "               loss_fn: torch.nn.Module,\n",
    "               optimizer: torch.optim.Optimizer,\n",
    "               accuracy_fn,\n",
    "               device: torch.device = device):\n",
    "    train_loss, train_acc = 0, 0\n",
    "    model.to(device)\n",
    "    for batch, (X, y) in enumerate(data_loader):\n",
    "        # Send data to GPU\n",
    "        X, y = X.to(device), y.to(device)\n",
    "\n",
    "        # 1. Forward pass\n",
    "        y_pred = model(X)\n",
    "\n",
    "        # 2. Calculate loss\n",
    "        loss = loss_fn(y_pred, y)\n",
    "        train_loss += loss\n",
    "        train_acc += accuracy_fn(y_true=y,\n",
    "                                 y_pred=y_pred.argmax(dim=1)) # Go from logits -> pred labels\n",
    "\n",
    "        # 3. Optimizer zero grad\n",
    "        optimizer.zero_grad()\n",
    "\n",
    "        # 4. Loss backward\n",
    "        loss.backward()\n",
    "\n",
    "        # 5. Optimizer step\n",
    "        optimizer.step()\n",
    "\n",
    "    # Calculate loss and accuracy per epoch and print out what's happening\n",
    "    train_loss /= len(data_loader)\n",
    "    train_acc /= len(data_loader)\n",
    "    print(f\"Train loss: {train_loss:.5f} | Train accuracy: {train_acc:.2f}%\")\n",
    "\n",
    "def test_step(data_loader: torch.utils.data.DataLoader,\n",
    "              model: torch.nn.Module,\n",
    "              loss_fn: torch.nn.Module,\n",
    "              accuracy_fn,\n",
    "              device: torch.device = device):\n",
    "    test_loss, test_acc = 0, 0\n",
    "    model.to(device)\n",
    "    model.eval() # put model in eval mode\n",
    "    # Turn on inference context manager\n",
    "    with torch.inference_mode():\n",
    "        for X, y in data_loader:\n",
    "            # Send data to GPU\n",
    "            X, y = X.to(device), y.to(device)\n",
    "\n",
    "            # 1. Forward pass\n",
    "            test_pred = model(X)\n",
    "\n",
    "            # 2. Calculate loss and accuracy\n",
    "            test_loss += loss_fn(test_pred, y)\n",
    "            test_acc += accuracy_fn(y_true=y,\n",
    "                y_pred=test_pred.argmax(dim=1) # Go from logits -> pred labels\n",
    "            )\n",
    "\n",
    "        # Adjust metrics and print out\n",
    "        test_loss /= len(data_loader)\n",
    "        test_acc /= len(data_loader)\n",
    "        print(f\"Test loss: {test_loss:.5f} | Test accuracy: {test_acc:.2f}%\\n\")"
   ],
   "outputs": [],
   "execution_count": 17
  },
  {
   "metadata": {},
   "cell_type": "markdown",
   "source": "### on cpu"
  },
  {
   "metadata": {
    "ExecuteTime": {
     "end_time": "2025-07-05T05:27:02.670687Z",
     "start_time": "2025-07-05T05:26:24.546747Z"
    }
   },
   "cell_type": "code",
   "source": [
    "torch.manual_seed(42)\n",
    "\n",
    "# meassure the time\n",
    "from tqdm.auto import tqdm\n",
    "from timeit import default_timer as timer\n",
    "train_time_start_on_cpu = timer()\n",
    "\n",
    "# set epochs\n",
    "epochs = 5\n",
    "\n",
    "# create an optimizaton and eval loop using train_step() and test_step()\n",
    "for epoch in tqdm(range(epochs)):\n",
    "    print(f\"Epoch {epoch}\\n---------\")\n",
    "    train_step(model=model,\n",
    "               data_loader=train_loader,\n",
    "               loss_fn=loss_fn,\n",
    "               optimizer=optimizer,\n",
    "               accuracy_fn=accuracy_fn,\n",
    "               device=device)\n",
    "\n",
    "    print(f\"Epoch {epoch}\\n---------\")\n",
    "    test_step(model = model,\n",
    "              data_loader=test_loader,\n",
    "              loss_fn=loss_fn,\n",
    "              accuracy_fn=accuracy_fn,\n",
    "              device=device)\n",
    "\n",
    "train_time_end_on_cpu = timer()\n",
    "\n",
    "total_train_time_model_on_cpu = print_train_time(start=train_time_start_on_cpu, end=train_time_end_on_cpu, device=\"cpu\")"
   ],
   "outputs": [
    {
     "name": "stderr",
     "output_type": "stream",
     "text": [
      "/home/diyrad167/.conda/envs/test/lib/python3.10/site-packages/tqdm/auto.py:21: TqdmWarning: IProgress not found. Please update jupyter and ipywidgets. See https://ipywidgets.readthedocs.io/en/stable/user_install.html\n",
      "  from .autonotebook import tqdm as notebook_tqdm\n",
      "  0%|          | 0/5 [00:00<?, ?it/s]"
     ]
    },
    {
     "name": "stdout",
     "output_type": "stream",
     "text": [
      "Epoch 0\n",
      "---------\n",
      "Train loss: 0.29028 | Train accuracy: 90.41%\n",
      "Epoch 0\n",
      "---------\n"
     ]
    },
    {
     "name": "stderr",
     "output_type": "stream",
     "text": [
      " 20%|██        | 1/5 [00:08<00:32,  8.10s/it]"
     ]
    },
    {
     "name": "stdout",
     "output_type": "stream",
     "text": [
      "Test loss: 0.07027 | Test accuracy: 97.91%\n",
      "\n",
      "Epoch 1\n",
      "---------\n",
      "Train loss: 0.07982 | Train accuracy: 97.49%\n",
      "Epoch 1\n",
      "---------\n"
     ]
    },
    {
     "name": "stderr",
     "output_type": "stream",
     "text": [
      " 40%|████      | 2/5 [00:15<00:23,  7.75s/it]"
     ]
    },
    {
     "name": "stdout",
     "output_type": "stream",
     "text": [
      "Test loss: 0.05719 | Test accuracy: 98.04%\n",
      "\n",
      "Epoch 2\n",
      "---------\n",
      "Train loss: 0.05976 | Train accuracy: 98.11%\n",
      "Epoch 2\n",
      "---------\n"
     ]
    },
    {
     "name": "stderr",
     "output_type": "stream",
     "text": [
      " 60%|██████    | 3/5 [00:23<00:15,  7.61s/it]"
     ]
    },
    {
     "name": "stdout",
     "output_type": "stream",
     "text": [
      "Test loss: 0.06031 | Test accuracy: 98.01%\n",
      "\n",
      "Epoch 3\n",
      "---------\n",
      "Train loss: 0.04979 | Train accuracy: 98.41%\n",
      "Epoch 3\n",
      "---------\n"
     ]
    },
    {
     "name": "stderr",
     "output_type": "stream",
     "text": [
      " 80%|████████  | 4/5 [00:30<00:07,  7.59s/it]"
     ]
    },
    {
     "name": "stdout",
     "output_type": "stream",
     "text": [
      "Test loss: 0.04907 | Test accuracy: 98.36%\n",
      "\n",
      "Epoch 4\n",
      "---------\n",
      "Train loss: 0.04466 | Train accuracy: 98.58%\n",
      "Epoch 4\n",
      "---------\n"
     ]
    },
    {
     "name": "stderr",
     "output_type": "stream",
     "text": [
      "100%|██████████| 5/5 [00:38<00:00,  7.62s/it]"
     ]
    },
    {
     "name": "stdout",
     "output_type": "stream",
     "text": [
      "Test loss: 0.05046 | Test accuracy: 98.34%\n",
      "\n",
      "\n",
      "Train time on cpu: 38.116 seconds\n"
     ]
    },
    {
     "name": "stderr",
     "output_type": "stream",
     "text": [
      "\n"
     ]
    }
   ],
   "execution_count": 18
  },
  {
   "metadata": {},
   "cell_type": "markdown",
   "source": "### on gpu"
  },
  {
   "metadata": {
    "ExecuteTime": {
     "end_time": "2025-07-05T05:27:39.895457Z",
     "start_time": "2025-07-05T05:27:02.693245Z"
    }
   },
   "cell_type": "code",
   "source": [
    "train_time_start_on_gpu = timer()\n",
    "\n",
    "# set epochs\n",
    "epochs = 5\n",
    "\n",
    "# create an optimizaton and eval loop using train_step() and test_step()\n",
    "for epoch in tqdm(range(epochs)):\n",
    "    print(f\"Epoch {epoch}\\n---------\")\n",
    "    train_step(model=model,\n",
    "               data_loader=train_loader,\n",
    "               loss_fn=loss_fn,\n",
    "               optimizer=optimizer,\n",
    "               accuracy_fn=accuracy_fn,\n",
    "               device=device)\n",
    "\n",
    "    print(f\"Epoch {epoch}\\n---------\")\n",
    "    test_step(model = model,\n",
    "              data_loader=test_loader,\n",
    "              loss_fn=loss_fn,\n",
    "              accuracy_fn=accuracy_fn,\n",
    "              device=device)\n",
    "\n",
    "train_time_end_on_gpu = timer()\n",
    "\n",
    "total_train_time_model_on_gpu = print_train_time(start=train_time_start_on_gpu, end=train_time_end_on_gpu, device=device)"
   ],
   "outputs": [
    {
     "name": "stderr",
     "output_type": "stream",
     "text": [
      "  0%|          | 0/5 [00:00<?, ?it/s]"
     ]
    },
    {
     "name": "stdout",
     "output_type": "stream",
     "text": [
      "Epoch 0\n",
      "---------\n",
      "Train loss: 0.03959 | Train accuracy: 98.78%\n",
      "Epoch 0\n",
      "---------\n"
     ]
    },
    {
     "name": "stderr",
     "output_type": "stream",
     "text": [
      " 20%|██        | 1/5 [00:07<00:30,  7.53s/it]"
     ]
    },
    {
     "name": "stdout",
     "output_type": "stream",
     "text": [
      "Test loss: 0.04286 | Test accuracy: 98.62%\n",
      "\n",
      "Epoch 1\n",
      "---------\n",
      "Train loss: 0.03670 | Train accuracy: 98.88%\n",
      "Epoch 1\n",
      "---------\n"
     ]
    },
    {
     "name": "stderr",
     "output_type": "stream",
     "text": [
      " 40%|████      | 2/5 [00:15<00:22,  7.51s/it]"
     ]
    },
    {
     "name": "stdout",
     "output_type": "stream",
     "text": [
      "Test loss: 0.04074 | Test accuracy: 98.64%\n",
      "\n",
      "Epoch 2\n",
      "---------\n",
      "Train loss: 0.03411 | Train accuracy: 98.88%\n",
      "Epoch 2\n",
      "---------\n"
     ]
    },
    {
     "name": "stderr",
     "output_type": "stream",
     "text": [
      " 60%|██████    | 3/5 [00:22<00:14,  7.43s/it]"
     ]
    },
    {
     "name": "stdout",
     "output_type": "stream",
     "text": [
      "Test loss: 0.05084 | Test accuracy: 98.42%\n",
      "\n",
      "Epoch 3\n",
      "---------\n",
      "Train loss: 0.03172 | Train accuracy: 98.99%\n",
      "Epoch 3\n",
      "---------\n"
     ]
    },
    {
     "name": "stderr",
     "output_type": "stream",
     "text": [
      " 80%|████████  | 4/5 [00:29<00:07,  7.44s/it]"
     ]
    },
    {
     "name": "stdout",
     "output_type": "stream",
     "text": [
      "Test loss: 0.03819 | Test accuracy: 98.63%\n",
      "\n",
      "Epoch 4\n",
      "---------\n",
      "Train loss: 0.02857 | Train accuracy: 99.09%\n",
      "Epoch 4\n",
      "---------\n"
     ]
    },
    {
     "name": "stderr",
     "output_type": "stream",
     "text": [
      "100%|██████████| 5/5 [00:37<00:00,  7.44s/it]"
     ]
    },
    {
     "name": "stdout",
     "output_type": "stream",
     "text": [
      "Test loss: 0.04372 | Test accuracy: 98.69%\n",
      "\n",
      "\n",
      "Train time on cuda: 37.199 seconds\n"
     ]
    },
    {
     "name": "stderr",
     "output_type": "stream",
     "text": [
      "\n"
     ]
    }
   ],
   "execution_count": 19
  },
  {
   "cell_type": "markdown",
   "source": [
    "## 10. Make predictions using your trained model and visualize at least 5 of them comparing the prediciton to the target label."
   ],
   "metadata": {
    "id": "w1CsHhPpxp1w"
   }
  },
  {
   "cell_type": "code",
   "source": [
    "def eval_model(model: torch.nn.Module,\n",
    "               data_loader: torch.utils.data.DataLoader,\n",
    "               loss_fn: torch.nn.Module,\n",
    "               accuracy_fn):\n",
    "    \"\"\"\n",
    "    Returns a dictionary containing the results of model predicting on data_loader\n",
    "    \"\"\"\n",
    "    loss, acc = 0, 0\n",
    "    model.eval()\n",
    "    with torch.inference_mode():\n",
    "        for X, y in tqdm(data_loader):\n",
    "            # make predictions\n",
    "            X, y = X.to(device), y.to(device)\n",
    "            y_pred = model(X)\n",
    "\n",
    "            # Accumulate the loss and acc values per batch\n",
    "            loss += loss_fn(y_pred, y)\n",
    "            acc += accuracy_fn(y_true=y, y_pred=y_pred.argmax(dim=1))\n",
    "\n",
    "        # scale loss and acc to find the avg loss/acc per batch\n",
    "        loss /= len(data_loader)\n",
    "        acc /= len(data_loader)\n",
    "    return {\"model name \": model.__class__.__name__, # Only works when model was created with a class\n",
    "            \"model loss \": loss.item(),\n",
    "            \"model acc \": acc\n",
    "            }"
   ],
   "metadata": {
    "id": "_YGgZvSobNxu",
    "ExecuteTime": {
     "end_time": "2025-07-05T05:27:39.914725Z",
     "start_time": "2025-07-05T05:27:39.911027Z"
    }
   },
   "outputs": [],
   "execution_count": 20
  },
  {
   "metadata": {
    "ExecuteTime": {
     "end_time": "2025-07-05T05:27:40.796033Z",
     "start_time": "2025-07-05T05:27:39.965618Z"
    }
   },
   "cell_type": "code",
   "source": [
    "model_results = eval_model(\n",
    "    model=model,\n",
    "    data_loader=test_loader,\n",
    "    loss_fn=loss_fn,\n",
    "    accuracy_fn=accuracy_fn\n",
    "    # device=device\n",
    ")"
   ],
   "outputs": [
    {
     "name": "stderr",
     "output_type": "stream",
     "text": [
      "100%|██████████| 313/313 [00:00<00:00, 379.16it/s]\n"
     ]
    }
   ],
   "execution_count": 21
  },
  {
   "metadata": {
    "ExecuteTime": {
     "end_time": "2025-07-05T05:27:40.854963Z",
     "start_time": "2025-07-05T05:27:40.851257Z"
    }
   },
   "cell_type": "code",
   "source": "model_results",
   "outputs": [
    {
     "data": {
      "text/plain": [
       "{'model name ': 'MNISTModel',\n",
       " 'model loss ': 0.04372148588299751,\n",
       " 'model acc ': 98.69209265175719}"
      ]
     },
     "execution_count": 22,
     "metadata": {},
     "output_type": "execute_result"
    }
   ],
   "execution_count": 22
  },
  {
   "metadata": {
    "ExecuteTime": {
     "end_time": "2025-07-05T05:27:41.578523Z",
     "start_time": "2025-07-05T05:27:40.907821Z"
    }
   },
   "cell_type": "code",
   "source": [
    "import random\n",
    "random.seed(42)\n",
    "test_samples=[]\n",
    "test_labels=[]\n",
    "for sample, label in random.sample(list(test), k=9):\n",
    "    test_samples.append(sample)\n",
    "    test_labels.append(label)\n",
    "\n",
    "# view the first sample shape\n",
    "print(f\"Test sample image shape: {test_samples[0].shape}\\nTest sample label: {test_labels[0]} ({class_names[test_labels[0]]})\")"
   ],
   "outputs": [
    {
     "name": "stdout",
     "output_type": "stream",
     "text": [
      "Test sample image shape: torch.Size([1, 28, 28])\n",
      "Test sample label: 2 (2 - two)\n"
     ]
    }
   ],
   "execution_count": 23
  },
  {
   "metadata": {
    "ExecuteTime": {
     "end_time": "2025-07-05T05:27:41.603842Z",
     "start_time": "2025-07-05T05:27:41.599877Z"
    }
   },
   "cell_type": "code",
   "source": "test_samples[0].shape",
   "outputs": [
    {
     "data": {
      "text/plain": [
       "torch.Size([1, 28, 28])"
      ]
     },
     "execution_count": 24,
     "metadata": {},
     "output_type": "execute_result"
    }
   ],
   "execution_count": 24
  },
  {
   "metadata": {
    "ExecuteTime": {
     "end_time": "2025-07-05T05:27:41.772228Z",
     "start_time": "2025-07-05T05:27:41.661320Z"
    }
   },
   "cell_type": "code",
   "source": [
    "plt.imshow(test_samples[0].squeeze(), cmap=\"gray\")\n",
    "plt.title(class_names[test_labels[0]])"
   ],
   "outputs": [
    {
     "data": {
      "text/plain": [
       "Text(0.5, 1.0, '2 - two')"
      ]
     },
     "execution_count": 25,
     "metadata": {},
     "output_type": "execute_result"
    },
    {
     "data": {
      "text/plain": [
       "<Figure size 640x480 with 1 Axes>"
      ],
      "image/png": "[encoded data removed]"
     },
     "metadata": {},
     "output_type": "display_data"
    }
   ],
   "execution_count": 25
  },
  {
   "metadata": {
    "ExecuteTime": {
     "end_time": "2025-07-05T05:27:41.794615Z",
     "start_time": "2025-07-05T05:27:41.791338Z"
    }
   },
   "cell_type": "code",
   "source": [
    "def make_predictions(model:torch.nn.Module,\n",
    "                   data:list,\n",
    "                   device:torch.device = device):\n",
    "    pred_probs = []\n",
    "    model.eval()\n",
    "    with torch.inference_mode():\n",
    "        for sample in data:\n",
    "            # prepare the sample (add a batch dimension and pass to target device)\n",
    "            sample = torch.unsqueeze(sample, dim=0).to(device)\n",
    "\n",
    "            # forward pass (model outputs raw logits)\n",
    "            pred_logit = model(sample)\n",
    "\n",
    "            # get pred probs (logits -> pred probs)\n",
    "            pred_prob = torch.softmax(pred_logit.squeeze(), dim=0)\n",
    "\n",
    "            # get pred prob off the GPU for further calc\n",
    "            pred_probs.append(pred_prob.cpu())\n",
    "    #stack the pred_probs to turn list into tensor\n",
    "    return torch.stack(pred_probs)"
   ],
   "outputs": [],
   "execution_count": 26
  },
  {
   "metadata": {
    "ExecuteTime": {
     "end_time": "2025-07-05T05:27:41.871932Z",
     "start_time": "2025-07-05T05:27:41.854324Z"
    }
   },
   "cell_type": "code",
   "source": [
    "# make predictions\n",
    "pred_probs = make_predictions(model=model,\n",
    "                              data=test_samples)\n",
    "\n",
    "# view first two pred prob\n",
    "pred_probs[:2]"
   ],
   "outputs": [
    {
     "data": {
      "text/plain": [
       "tensor([[2.2221e-11, 1.0978e-07, 1.0000e+00, 1.3673e-06, 3.9091e-15, 2.9083e-15,\n",
       "         2.3676e-15, 1.5522e-07, 4.4064e-07, 1.4992e-12],\n",
       "        [1.4046e-08, 9.9572e-01, 2.1657e-05, 2.3297e-07, 5.5351e-05, 1.2622e-04,\n",
       "         1.6511e-03, 3.4867e-05, 1.2431e-03, 1.1521e-03]])"
      ]
     },
     "execution_count": 27,
     "metadata": {},
     "output_type": "execute_result"
    }
   ],
   "execution_count": 27
  },
  {
   "metadata": {
    "ExecuteTime": {
     "end_time": "2025-07-05T05:27:41.925839Z",
     "start_time": "2025-07-05T05:27:41.921128Z"
    }
   },
   "cell_type": "code",
   "source": [
    "# convert prediction prob to labels\n",
    "pred_classes = pred_probs.argmax(dim=1)\n",
    "pred_classes"
   ],
   "outputs": [
    {
     "data": {
      "text/plain": [
       "tensor([2, 1, 2, 4, 6, 6, 4, 9, 1])"
      ]
     },
     "execution_count": 28,
     "metadata": {},
     "output_type": "execute_result"
    }
   ],
   "execution_count": 28
  },
  {
   "metadata": {
    "ExecuteTime": {
     "end_time": "2025-07-05T05:27:42.179930Z",
     "start_time": "2025-07-05T05:27:42.177216Z"
    }
   },
   "cell_type": "code",
   "source": "test_labels, pred_classes",
   "outputs": [
    {
     "data": {
      "text/plain": [
       "([2, 1, 2, 4, 6, 6, 4, 9, 1], tensor([2, 1, 2, 4, 6, 6, 4, 9, 1]))"
      ]
     },
     "execution_count": 29,
     "metadata": {},
     "output_type": "execute_result"
    }
   ],
   "execution_count": 29
  },
  {
   "metadata": {
    "ExecuteTime": {
     "end_time": "2025-07-05T05:27:42.858548Z",
     "start_time": "2025-07-05T05:27:42.347119Z"
    }
   },
   "cell_type": "code",
   "source": [
    "# plot pred\n",
    "plt.figure(figsize=(9,9))\n",
    "nrows = 3\n",
    "ncols = 3\n",
    "for i, sample in enumerate(test_samples):\n",
    "    # create subplot\n",
    "    plt.subplot(nrows, ncols, i + 1)\n",
    "\n",
    "    # plot the target image\n",
    "    plt.imshow(sample.squeeze(), cmap=\"gray\")\n",
    "\n",
    "    # find the pred (in text form)\n",
    "    pred_label = class_names[pred_classes[i]]\n",
    "\n",
    "    # get the truth label (in text form)\n",
    "    truth_label = class_names[test_labels[i]]\n",
    "\n",
    "    # create a title for the plot\n",
    "    title_text =f\"Prediction: {pred_label} | Truth : {truth_label}\"\n",
    "\n",
    "    # check for quality between pred and truth and change color of title text\n",
    "    if pred_label == truth_label:\n",
    "        plt.title(title_text, fontsize=10, c=\"g\") # green text if pred = truth\n",
    "    else:\n",
    "        plt.title(title_text, fontsize=10, c=\"r\")\n",
    "\n",
    "    plt.axis('off')"
   ],
   "outputs": [
    {
     "data": {
      "text/plain": [
       "<Figure size 900x900 with 9 Axes>"
      ],
      "image/png": "[encoded data removed]"
     },
     "metadata": {},
     "output_type": "display_data"
    }
   ],
   "execution_count": 30
  },
  {
   "cell_type": "markdown",
   "source": [
    "## 11. Plot a confusion matrix comparing your model's predictions to the truth labels."
   ],
   "metadata": {
    "id": "qQwzqlBWxrpG"
   }
  },
  {
   "cell_type": "code",
   "source": [
    "from torchmetrics import ConfusionMatrix\n",
    "import mlxtend\n",
    "from mlxtend.plotting import plot_confusion_matrix"
   ],
   "metadata": {
    "id": "vSrXiT_AbQ6e",
    "ExecuteTime": {
     "end_time": "2025-07-05T05:27:43.667615Z",
     "start_time": "2025-07-05T05:27:42.917484Z"
    }
   },
   "outputs": [],
   "execution_count": 31
  },
  {
   "metadata": {
    "ExecuteTime": {
     "end_time": "2025-07-05T05:53:09.665250Z",
     "start_time": "2025-07-05T05:53:08.804709Z"
    }
   },
   "cell_type": "code",
   "source": [
    "y_preds=[]\n",
    "model.eval()\n",
    "with torch.inference_mode():\n",
    "  for batch, (X, y) in tqdm(enumerate(test_loader), desc=\"Makin preds\"): ##\n",
    "    # Make sure data on right device\n",
    "    X, y = X.to(device), y.to(device)\n",
    "    # Forward pass\n",
    "    y_pred_logits = model(X)\n",
    "    # Logits -> Pred probs -> Pred label\n",
    "    y_pred_labels = torch.argmax(y_pred_logits, dim=1)\n",
    "    # Append the labels to the preds list\n",
    "    y_preds.append(y_pred_labels)\n",
    "  y_preds=torch.cat(y_preds).cpu()\n",
    "y_pred_tensor[:10]"
   ],
   "outputs": [
    {
     "name": "stderr",
     "output_type": "stream",
     "text": [
      "Makin preds: 313it [00:00, 367.10it/s]\n"
     ]
    },
    {
     "data": {
      "text/plain": [
       "tensor([7, 2, 1, 0, 4, 1, 4, 9, 5, 9])"
      ]
     },
     "execution_count": 45,
     "metadata": {},
     "output_type": "execute_result"
    }
   ],
   "execution_count": 45
  },
  {
   "metadata": {
    "ExecuteTime": {
     "end_time": "2025-07-05T05:53:09.704931Z",
     "start_time": "2025-07-05T05:53:09.700991Z"
    }
   },
   "cell_type": "code",
   "source": "test.targets[:10], y_preds[:10]",
   "outputs": [
    {
     "data": {
      "text/plain": [
       "(tensor([7, 2, 1, 0, 4, 1, 4, 9, 5, 9]),\n",
       " tensor([7, 2, 1, 0, 4, 1, 4, 9, 5, 9]))"
      ]
     },
     "execution_count": 46,
     "metadata": {},
     "output_type": "execute_result"
    }
   ],
   "execution_count": 46
  },
  {
   "metadata": {
    "ExecuteTime": {
     "end_time": "2025-07-05T05:53:09.970745Z",
     "start_time": "2025-07-05T05:53:09.772751Z"
    }
   },
   "cell_type": "code",
   "source": [
    "# 2. setup confussion instance and compare predictions to targets\n",
    "confmat = ConfusionMatrix(task=\"multiclass\", num_classes=len(class_names))\n",
    "confmat_tensor = confmat(preds=y_pred_tensor, target=test.targets)\n",
    "\n",
    "# 3. plot the confussion matrix\n",
    "fig, ax = plot_confusion_matrix(\n",
    "    conf_mat=confmat_tensor.numpy(),\n",
    "    class_names=class_names,\n",
    "    figsize=(10, 7)\n",
    ")"
   ],
   "outputs": [
    {
     "data": {
      "text/plain": [
       "<Figure size 1000x700 with 1 Axes>"
      ],
      "image/png": "[encoded data removed]"
     },
     "metadata": {},
     "output_type": "display_data"
    }
   ],
   "execution_count": 47
  },
  {
   "cell_type": "markdown",
   "source": [
    "## 12. Create a random tensor of shape `[1, 3, 64, 64]` and pass it through a `nn.Conv2d()` layer with various hyperparameter settings (these can be any settings you choose), what do you notice if the `kernel_size` parameter goes up and down?"
   ],
   "metadata": {
    "id": "lj6bDhoWxt2y"
   }
  },
  {
   "cell_type": "code",
   "source": [
    "kerandoman_tensor = torch.randn([1, 3, 64, 64])\n",
    "kerandoman_tensor"
   ],
   "metadata": {
    "id": "leCTsqtSbR5P",
    "ExecuteTime": {
     "end_time": "2025-07-05T05:55:23.515638Z",
     "start_time": "2025-07-05T05:55:23.510475Z"
    }
   },
   "outputs": [
    {
     "data": {
      "text/plain": [
       "tensor([[[[-1.3407, -0.5854,  0.5362,  ...,  0.6368,  0.2176, -0.0467],\n",
       "          [ 1.6192,  1.4506,  0.2695,  ...,  0.4598,  0.2618, -0.7599],\n",
       "          [-0.4949, -0.5923,  0.1543,  ...,  0.0179, -1.4129, -1.8791],\n",
       "          ...,\n",
       "          [-0.8283, -0.3439, -0.7324,  ..., -0.3857,  1.3663, -1.4047],\n",
       "          [-1.3283, -1.2493, -0.1002,  ..., -0.2429,  0.8781, -0.3691],\n",
       "          [ 0.3143, -1.0053, -1.3435,  ..., -0.6343,  0.5639, -0.2297]],\n",
       "\n",
       "         [[ 0.9753,  1.9774, -1.2741,  ...,  0.4083, -1.5780,  0.7804],\n",
       "          [ 0.8971, -1.1392, -1.3100,  ..., -0.1495,  1.1932, -0.8364],\n",
       "          [ 0.9811, -0.5399, -0.4206,  ..., -0.1027,  0.5707,  0.5692],\n",
       "          ...,\n",
       "          [-0.4152, -0.5613, -1.5220,  ..., -2.0355,  0.8406, -1.2986],\n",
       "          [-0.6696, -0.0830,  0.0692,  ...,  0.8036, -1.4121,  0.1979],\n",
       "          [-0.9858, -0.6834, -0.3269,  ..., -0.9968, -0.4342,  1.0244]],\n",
       "\n",
       "         [[-1.7776,  0.0298,  0.3639,  ..., -0.8086, -0.7178,  0.4815],\n",
       "          [ 0.8880, -1.5327, -0.4972,  ..., -0.6243, -0.6996, -0.2183],\n",
       "          [-0.7383, -0.7052,  0.4542,  ...,  0.7931, -0.8574,  0.1375],\n",
       "          ...,\n",
       "          [-0.4209,  1.8381, -0.7435,  ...,  0.8486,  1.3714, -0.4906],\n",
       "          [-0.3600, -0.2979, -0.0787,  ...,  0.5712, -0.1464, -0.2644],\n",
       "          [ 0.2195,  0.6951,  1.2316,  ..., -0.4548, -1.6779, -2.8081]]]])"
      ]
     },
     "execution_count": 48,
     "metadata": {},
     "output_type": "execute_result"
    }
   ],
   "execution_count": 48
  },
  {
   "metadata": {
    "ExecuteTime": {
     "end_time": "2025-07-05T05:55:33.469743Z",
     "start_time": "2025-07-05T05:55:33.466581Z"
    }
   },
   "cell_type": "code",
   "source": "kerandoman_tensor.shape",
   "outputs": [
    {
     "data": {
      "text/plain": [
       "torch.Size([1, 3, 64, 64])"
      ]
     },
     "execution_count": 49,
     "metadata": {},
     "output_type": "execute_result"
    }
   ],
   "execution_count": 49
  },
  {
   "metadata": {
    "ExecuteTime": {
     "end_time": "2025-07-05T06:57:55.725111Z",
     "start_time": "2025-07-05T06:57:55.718422Z"
    }
   },
   "cell_type": "code",
   "source": "kerandoman_tensor[0]",
   "outputs": [
    {
     "data": {
      "text/plain": [
       "tensor([[[-1.3407, -0.5854,  0.5362,  ...,  0.6368,  0.2176, -0.0467],\n",
       "         [ 1.6192,  1.4506,  0.2695,  ...,  0.4598,  0.2618, -0.7599],\n",
       "         [-0.4949, -0.5923,  0.1543,  ...,  0.0179, -1.4129, -1.8791],\n",
       "         ...,\n",
       "         [-0.8283, -0.3439, -0.7324,  ..., -0.3857,  1.3663, -1.4047],\n",
       "         [-1.3283, -1.2493, -0.1002,  ..., -0.2429,  0.8781, -0.3691],\n",
       "         [ 0.3143, -1.0053, -1.3435,  ..., -0.6343,  0.5639, -0.2297]],\n",
       "\n",
       "        [[ 0.9753,  1.9774, -1.2741,  ...,  0.4083, -1.5780,  0.7804],\n",
       "         [ 0.8971, -1.1392, -1.3100,  ..., -0.1495,  1.1932, -0.8364],\n",
       "         [ 0.9811, -0.5399, -0.4206,  ..., -0.1027,  0.5707,  0.5692],\n",
       "         ...,\n",
       "         [-0.4152, -0.5613, -1.5220,  ..., -2.0355,  0.8406, -1.2986],\n",
       "         [-0.6696, -0.0830,  0.0692,  ...,  0.8036, -1.4121,  0.1979],\n",
       "         [-0.9858, -0.6834, -0.3269,  ..., -0.9968, -0.4342,  1.0244]],\n",
       "\n",
       "        [[-1.7776,  0.0298,  0.3639,  ..., -0.8086, -0.7178,  0.4815],\n",
       "         [ 0.8880, -1.5327, -0.4972,  ..., -0.6243, -0.6996, -0.2183],\n",
       "         [-0.7383, -0.7052,  0.4542,  ...,  0.7931, -0.8574,  0.1375],\n",
       "         ...,\n",
       "         [-0.4209,  1.8381, -0.7435,  ...,  0.8486,  1.3714, -0.4906],\n",
       "         [-0.3600, -0.2979, -0.0787,  ...,  0.5712, -0.1464, -0.2644],\n",
       "         [ 0.2195,  0.6951,  1.2316,  ..., -0.4548, -1.6779, -2.8081]]])"
      ]
     },
     "execution_count": 50,
     "metadata": {},
     "output_type": "execute_result"
    }
   ],
   "execution_count": 50
  },
  {
   "metadata": {
    "ExecuteTime": {
     "end_time": "2025-07-05T06:58:10.823025Z",
     "start_time": "2025-07-05T06:58:10.817188Z"
    }
   },
   "cell_type": "code",
   "source": "len(kerandoman_tensor)",
   "outputs": [
    {
     "data": {
      "text/plain": [
       "1"
      ]
     },
     "execution_count": 51,
     "metadata": {},
     "output_type": "execute_result"
    }
   ],
   "execution_count": 51
  },
  {
   "metadata": {
    "ExecuteTime": {
     "end_time": "2025-07-05T07:02:01.056180Z",
     "start_time": "2025-07-05T07:02:00.967403Z"
    }
   },
   "cell_type": "code",
   "source": [
    "convu_layer = nn.Conv2d(kernel_size=3, in_channels=3, out_channels=10)\n",
    "\n",
    "hasil_1 = convu_layer(kerandoman_tensor)"
   ],
   "outputs": [],
   "execution_count": 52
  },
  {
   "metadata": {
    "ExecuteTime": {
     "end_time": "2025-07-05T07:02:08.517071Z",
     "start_time": "2025-07-05T07:02:08.513541Z"
    }
   },
   "cell_type": "code",
   "source": "hasil_1.shape",
   "outputs": [
    {
     "data": {
      "text/plain": [
       "torch.Size([1, 10, 62, 62])"
      ]
     },
     "execution_count": 54,
     "metadata": {},
     "output_type": "execute_result"
    }
   ],
   "execution_count": 54
  },
  {
   "metadata": {
    "ExecuteTime": {
     "end_time": "2025-07-05T07:02:40.930531Z",
     "start_time": "2025-07-05T07:02:40.892794Z"
    }
   },
   "cell_type": "code",
   "source": [
    "convu_layer = nn.Conv2d(kernel_size=5, in_channels=3, out_channels=10)\n",
    "\n",
    "hasil_2 = convu_layer(kerandoman_tensor)\n",
    "hasil_2.shape\n",
    "\n",
    "# the result after through the conv layer the shape is getting smaller, the greater the kernel size, the smaller the output shape will be"
   ],
   "outputs": [
    {
     "data": {
      "text/plain": [
       "torch.Size([1, 10, 60, 60])"
      ]
     },
     "execution_count": 55,
     "metadata": {},
     "output_type": "execute_result"
    }
   ],
   "execution_count": 55
  },
  {
   "cell_type": "markdown",
   "source": [
    "## 13. Use a model similar to the trained `model_2` from notebook 03 to make predictions on the test [`torchvision.datasets.FashionMNIST`](https://pytorch.org/vision/main/generated/torchvision.datasets.FashionMNIST.html) dataset. \n",
    "* Then plot some predictions where the model was wrong alongside what the label of the image should've been. \n",
    "* After visualing these predictions do you think it's more of a modelling error or a data error? \n",
    "* As in, could the model do better or are the labels of the data too close to each other (e.g. a \"Shirt\" label is too close to \"T-shirt/top\")?"
   ],
   "metadata": {
    "id": "VHS20cNTxwSi"
   }
  },
  {
   "metadata": {
    "ExecuteTime": {
     "end_time": "2025-07-05T07:50:51.105009Z",
     "start_time": "2025-07-05T07:50:23.283977Z"
    }
   },
   "cell_type": "code",
   "source": [
    "# importing the FashionMNIST train dataset\n",
    "train_fashion = torchvision.datasets.FashionMNIST(root=\"../PRAC_fashionMNIST_trainset\",\n",
    "                                                  train=True,\n",
    "                                                  download=True,\n",
    "                                                  transform=torchvision.transforms.ToTensor(),\n",
    "                                                  target_transform=None)"
   ],
   "outputs": [
    {
     "name": "stdout",
     "output_type": "stream",
     "text": [
      "Downloading http://fashion-mnist.s3-website.eu-central-1.amazonaws.com/train-images-idx3-ubyte.gz\n",
      "Downloading http://fashion-mnist.s3-website.eu-central-1.amazonaws.com/train-images-idx3-ubyte.gz to ../PRAC_fashionMNIST_trainset/FashionMNIST/raw/train-images-idx3-ubyte.gz\n"
     ]
    },
    {
     "name": "stderr",
     "output_type": "stream",
     "text": [
      "100%|██████████| 26.4M/26.4M [00:19<00:00, 1.35MB/s]\n"
     ]
    },
    {
     "name": "stdout",
     "output_type": "stream",
     "text": [
      "Extracting ../PRAC_fashionMNIST_trainset/FashionMNIST/raw/train-images-idx3-ubyte.gz to ../PRAC_fashionMNIST_trainset/FashionMNIST/raw\n",
      "\n",
      "Downloading http://fashion-mnist.s3-website.eu-central-1.amazonaws.com/train-labels-idx1-ubyte.gz\n",
      "Downloading http://fashion-mnist.s3-website.eu-central-1.amazonaws.com/train-labels-idx1-ubyte.gz to ../PRAC_fashionMNIST_trainset/FashionMNIST/raw/train-labels-idx1-ubyte.gz\n"
     ]
    },
    {
     "name": "stderr",
     "output_type": "stream",
     "text": [
      "100%|██████████| 29.5k/29.5k [00:00<00:00, 146kB/s]\n"
     ]
    },
    {
     "name": "stdout",
     "output_type": "stream",
     "text": [
      "Extracting ../PRAC_fashionMNIST_trainset/FashionMNIST/raw/train-labels-idx1-ubyte.gz to ../PRAC_fashionMNIST_trainset/FashionMNIST/raw\n",
      "\n",
      "Downloading http://fashion-mnist.s3-website.eu-central-1.amazonaws.com/t10k-images-idx3-ubyte.gz\n",
      "Downloading http://fashion-mnist.s3-website.eu-central-1.amazonaws.com/t10k-images-idx3-ubyte.gz to ../PRAC_fashionMNIST_trainset/FashionMNIST/raw/t10k-images-idx3-ubyte.gz\n"
     ]
    },
    {
     "name": "stderr",
     "output_type": "stream",
     "text": [
      "100%|██████████| 4.42M/4.42M [00:03<00:00, 1.36MB/s]\n"
     ]
    },
    {
     "name": "stdout",
     "output_type": "stream",
     "text": [
      "Extracting ../PRAC_fashionMNIST_trainset/FashionMNIST/raw/t10k-images-idx3-ubyte.gz to ../PRAC_fashionMNIST_trainset/FashionMNIST/raw\n",
      "\n",
      "Downloading http://fashion-mnist.s3-website.eu-central-1.amazonaws.com/t10k-labels-idx1-ubyte.gz\n",
      "Downloading http://fashion-mnist.s3-website.eu-central-1.amazonaws.com/t10k-labels-idx1-ubyte.gz to ../PRAC_fashionMNIST_trainset/FashionMNIST/raw/t10k-labels-idx1-ubyte.gz\n"
     ]
    },
    {
     "name": "stderr",
     "output_type": "stream",
     "text": [
      "100%|██████████| 5.15k/5.15k [00:00<00:00, 13.1MB/s]"
     ]
    },
    {
     "name": "stdout",
     "output_type": "stream",
     "text": [
      "Extracting ../PRAC_fashionMNIST_trainset/FashionMNIST/raw/t10k-labels-idx1-ubyte.gz to ../PRAC_fashionMNIST_trainset/FashionMNIST/raw\n",
      "\n"
     ]
    },
    {
     "name": "stderr",
     "output_type": "stream",
     "text": [
      "\n"
     ]
    }
   ],
   "execution_count": 67
  },
  {
   "metadata": {
    "ExecuteTime": {
     "end_time": "2025-07-05T07:51:29.299478Z",
     "start_time": "2025-07-05T07:51:29.295996Z"
    }
   },
   "cell_type": "code",
   "source": "len(train_fashion)",
   "outputs": [
    {
     "data": {
      "text/plain": [
       "60000"
      ]
     },
     "execution_count": 68,
     "metadata": {},
     "output_type": "execute_result"
    }
   ],
   "execution_count": 68
  },
  {
   "cell_type": "code",
   "source": [
    "# importing the FashionMNIST test dataset\n",
    "\n",
    "test_fashion = torchvision.datasets.FashionMNIST(root=\"../PRAC_fashionMNIST_testset\",\n",
    "                                                 train=False,\n",
    "                                                 download=True,\n",
    "                                                 transform=transforms.ToTensor(),\n",
    "                                                 target_transform=None)"
   ],
   "metadata": {
    "id": "78a8LjtdbSZj",
    "ExecuteTime": {
     "end_time": "2025-07-05T07:26:13.292772Z",
     "start_time": "2025-07-05T07:25:48.627048Z"
    }
   },
   "outputs": [
    {
     "name": "stdout",
     "output_type": "stream",
     "text": [
      "Downloading http://fashion-mnist.s3-website.eu-central-1.amazonaws.com/train-images-idx3-ubyte.gz\n",
      "Downloading http://fashion-mnist.s3-website.eu-central-1.amazonaws.com/train-images-idx3-ubyte.gz to ../PRAC_fashionMNIST_testset/FashionMNIST/raw/train-images-idx3-ubyte.gz\n"
     ]
    },
    {
     "name": "stderr",
     "output_type": "stream",
     "text": [
      "100%|██████████| 26.4M/26.4M [00:18<00:00, 1.45MB/s]\n"
     ]
    },
    {
     "name": "stdout",
     "output_type": "stream",
     "text": [
      "Extracting ../PRAC_fashionMNIST_testset/FashionMNIST/raw/train-images-idx3-ubyte.gz to ../PRAC_fashionMNIST_testset/FashionMNIST/raw\n",
      "\n",
      "Downloading http://fashion-mnist.s3-website.eu-central-1.amazonaws.com/train-labels-idx1-ubyte.gz\n",
      "Downloading http://fashion-mnist.s3-website.eu-central-1.amazonaws.com/train-labels-idx1-ubyte.gz to ../PRAC_fashionMNIST_testset/FashionMNIST/raw/train-labels-idx1-ubyte.gz\n"
     ]
    },
    {
     "name": "stderr",
     "output_type": "stream",
     "text": [
      "100%|██████████| 29.5k/29.5k [00:00<00:00, 149kB/s]\n"
     ]
    },
    {
     "name": "stdout",
     "output_type": "stream",
     "text": [
      "Extracting ../PRAC_fashionMNIST_testset/FashionMNIST/raw/train-labels-idx1-ubyte.gz to ../PRAC_fashionMNIST_testset/FashionMNIST/raw\n",
      "\n",
      "Downloading http://fashion-mnist.s3-website.eu-central-1.amazonaws.com/t10k-images-idx3-ubyte.gz\n",
      "Downloading http://fashion-mnist.s3-website.eu-central-1.amazonaws.com/t10k-images-idx3-ubyte.gz to ../PRAC_fashionMNIST_testset/FashionMNIST/raw/t10k-images-idx3-ubyte.gz\n"
     ]
    },
    {
     "name": "stderr",
     "output_type": "stream",
     "text": [
      "100%|██████████| 4.42M/4.42M [00:02<00:00, 1.97MB/s]\n"
     ]
    },
    {
     "name": "stdout",
     "output_type": "stream",
     "text": [
      "Extracting ../PRAC_fashionMNIST_testset/FashionMNIST/raw/t10k-images-idx3-ubyte.gz to ../PRAC_fashionMNIST_testset/FashionMNIST/raw\n",
      "\n",
      "Downloading http://fashion-mnist.s3-website.eu-central-1.amazonaws.com/t10k-labels-idx1-ubyte.gz\n",
      "Downloading http://fashion-mnist.s3-website.eu-central-1.amazonaws.com/t10k-labels-idx1-ubyte.gz to ../PRAC_fashionMNIST_testset/FashionMNIST/raw/t10k-labels-idx1-ubyte.gz\n"
     ]
    },
    {
     "name": "stderr",
     "output_type": "stream",
     "text": [
      "100%|██████████| 5.15k/5.15k [00:00<00:00, 15.4MB/s]"
     ]
    },
    {
     "name": "stdout",
     "output_type": "stream",
     "text": [
      "Extracting ../PRAC_fashionMNIST_testset/FashionMNIST/raw/t10k-labels-idx1-ubyte.gz to ../PRAC_fashionMNIST_testset/FashionMNIST/raw\n",
      "\n"
     ]
    },
    {
     "name": "stderr",
     "output_type": "stream",
     "text": [
      "\n"
     ]
    }
   ],
   "execution_count": 60
  },
  {
   "metadata": {
    "ExecuteTime": {
     "end_time": "2025-07-05T07:29:06.511274Z",
     "start_time": "2025-07-05T07:29:06.506988Z"
    }
   },
   "cell_type": "code",
   "source": "len(test_fashion)",
   "outputs": [
    {
     "data": {
      "text/plain": [
       "10000"
      ]
     },
     "execution_count": 61,
     "metadata": {},
     "output_type": "execute_result"
    }
   ],
   "execution_count": 61
  },
  {
   "metadata": {
    "ExecuteTime": {
     "end_time": "2025-07-05T07:52:07.342222Z",
     "start_time": "2025-07-05T07:52:07.339573Z"
    }
   },
   "cell_type": "code",
   "source": "train_fashion_daloader = DataLoader(train_fashion, batch_size=32, shuffle=True)",
   "outputs": [],
   "execution_count": 69
  },
  {
   "metadata": {
    "ExecuteTime": {
     "end_time": "2025-07-05T07:32:48.158078Z",
     "start_time": "2025-07-05T07:32:48.150081Z"
    }
   },
   "cell_type": "code",
   "source": "test_fashion_daloader = DataLoader(test_fashion, batch_size=32, shuffle=False)",
   "outputs": [],
   "execution_count": 62
  },
  {
   "metadata": {
    "ExecuteTime": {
     "end_time": "2025-07-05T07:41:26.704826Z",
     "start_time": "2025-07-05T07:41:26.701132Z"
    }
   },
   "cell_type": "code",
   "source": [
    "def make_predictions2(model:torch.nn.Module,\n",
    "                   data:list,\n",
    "                   device:torch.device = device):\n",
    "    pred_probs = []\n",
    "    model.eval()\n",
    "    with torch.inference_mode():\n",
    "        for sample in data:\n",
    "            # prepare the sample (add a batch dimension and pass to target device)\n",
    "            # sample = torch.unsqueeze(sample, dim=0).to(device)\n",
    "\n",
    "            # forward pass (model outputs raw logits)\n",
    "            pred_logit = model(sample).to(device)\n",
    "\n",
    "            # get pred probs (logits -> pred probs)\n",
    "            pred_prob = torch.softmax(pred_logit.squeeze(), dim=0)\n",
    "\n",
    "            # get pred prob off the GPU for further calc\n",
    "            pred_probs.append(pred_prob.cpu())\n",
    "    #stack the pred_probs to turn list into tensor\n",
    "    return torch.stack(pred_probs)"
   ],
   "outputs": [],
   "execution_count": 64
  },
  {
   "metadata": {
    "ExecuteTime": {
     "end_time": "2025-07-05T07:47:56.320275Z",
     "start_time": "2025-07-05T07:47:56.317751Z"
    }
   },
   "cell_type": "code",
   "source": [
    "# pred_probs_fashionMNIST_test = make_predictions2(model=model,\n",
    "#                               data=test_fashion_daloader)\n",
    "#\n",
    "# # view first two pred prob\n",
    "# pred_probs_fashionMNIST_test[:2]"
   ],
   "outputs": [],
   "execution_count": 66
  }
 ]
}
