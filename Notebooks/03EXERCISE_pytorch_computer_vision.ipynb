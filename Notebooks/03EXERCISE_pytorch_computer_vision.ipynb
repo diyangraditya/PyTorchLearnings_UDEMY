{
 "nbformat": 4,
 "nbformat_minor": 0,
 "metadata": {
  "colab": {
   "name": "03_pytorch_computer_vision_exercises.ipynb",
   "provenance": [],
   "collapsed_sections": [],
   "authorship_tag": "ABX9TyMUsDcN/+FAm9Pf7Ifqs6AZ",
   "include_colab_link": true
  },
  "kernelspec": {
   "name": "python3",
   "display_name": "Python 3"
  },
  "language_info": {
   "name": "python"
  },
  "accelerator": "GPU"
 },
 "cells": [
  {
   "cell_type": "markdown",
   "metadata": {
    "id": "view-in-github",
    "colab_type": "text"
   },
   "source": [
    "<a href=\"https://colab.research.google.com/github/mrdbourke/pytorch-deep-learning/blob/main/extras/exercises/03_pytorch_computer_vision_exercises.ipynb\" target=\"_parent\"><img src=\"https://colab.research.google.com/assets/colab-badge.svg\" alt=\"Open In Colab\"/></a>"
   ]
  },
  {
   "cell_type": "markdown",
   "source": [
    "# 03. PyTorch Computer Vision Exercises\n",
    "\n",
    "The following is a collection of exercises based on computer vision fundamentals in PyTorch.\n",
    "\n",
    "They're a bunch of fun.\n",
    "\n",
    "You're going to get to write plenty of code!\n",
    "\n",
    "## Resources\n",
    "\n",
    "1. These exercises are based on [notebook 03 of the Learn PyTorch for Deep Learning course](https://www.learnpytorch.io/03_pytorch_computer_vision/). \n",
    "2. See a live [walkthrough of the solutions (errors and all) on YouTube](https://youtu.be/_PibmqpEyhA). \n",
    "  * **Note:** Going through these exercises took me just over 3 hours of solid coding, so you should expect around the same.\n",
    "3. See [other solutions on the course GitHub](https://github.com/mrdbourke/pytorch-deep-learning/tree/main/extras/solutions)."
   ],
   "metadata": {
    "id": "Vex99np2wFVt"
   }
  },
  {
   "cell_type": "code",
   "source": [
    "# Check for GPU\n",
    "!nvidia-smi"
   ],
   "metadata": {
    "colab": {
     "base_uri": "https://localhost:8080/"
    },
    "id": "GaeYzOTLwWh2",
    "outputId": "17dd5453-9639-4b01-aa18-7ddbfd5c3253",
    "ExecuteTime": {
     "end_time": "2025-07-04T09:12:46.148163Z",
     "start_time": "2025-07-04T09:12:45.679390Z"
    }
   },
   "outputs": [
    {
     "name": "stdout",
     "output_type": "stream",
     "text": [
      "Fri Jul  4 16:12:46 2025       \r\n",
      "+-----------------------------------------------------------------------------------------+\r\n",
      "| NVIDIA-SMI 570.153.02             Driver Version: 570.153.02     CUDA Version: 12.8     |\r\n",
      "|-----------------------------------------+------------------------+----------------------+\r\n",
      "| GPU  Name                 Persistence-M | Bus-Id          Disp.A | Volatile Uncorr. ECC |\r\n",
      "| Fan  Temp   Perf          Pwr:Usage/Cap |           Memory-Usage | GPU-Util  Compute M. |\r\n",
      "|                                         |                        |               MIG M. |\r\n",
      "|=========================================+========================+======================|\r\n",
      "|   0  NVIDIA GeForce RTX 3050 ...    Off |   00000000:01:00.0 Off |                  N/A |\r\n",
      "| N/A   51C    P8              9W /   35W |     414MiB /   4096MiB |      0%      Default |\r\n",
      "|                                         |                        |                  N/A |\r\n",
      "+-----------------------------------------+------------------------+----------------------+\r\n",
      "                                                                                         \r\n",
      "+-----------------------------------------------------------------------------------------+\r\n",
      "| Processes:                                                                              |\r\n",
      "|  GPU   GI   CI              PID   Type   Process name                        GPU Memory |\r\n",
      "|        ID   ID                                                               Usage      |\r\n",
      "|=========================================================================================|\r\n",
      "|    0   N/A  N/A           30422      G   ...ess --variations-seed-version        131MiB |\r\n",
      "|    0   N/A  N/A           34217      C   ...7/.conda/envs/test/bin/python        130MiB |\r\n",
      "|    0   N/A  N/A           42415      C   ...7/.conda/envs/test/bin/python        130MiB |\r\n",
      "+-----------------------------------------------------------------------------------------+\r\n"
     ]
    }
   ],
   "execution_count": 59
  },
  {
   "cell_type": "code",
   "source": [
    "# Import torch\n",
    "import torch\n",
    "\n",
    "# Exercises require PyTorch > 1.10.0\n",
    "print(torch.__version__)\n",
    "\n",
    "# TODO: Setup device agnostic code\n",
    "device = \"cuda\" if torch.cuda.is_available() else \"cpu\"\n",
    "print(device)"
   ],
   "metadata": {
    "colab": {
     "base_uri": "https://localhost:8080/",
     "height": 53
    },
    "id": "DNwZLMbCzJLk",
    "outputId": "9c150c50-a092-4f34-9d33-b45247fb080d",
    "ExecuteTime": {
     "end_time": "2025-07-04T09:12:46.213627Z",
     "start_time": "2025-07-04T09:12:46.210774Z"
    }
   },
   "outputs": [
    {
     "name": "stdout",
     "output_type": "stream",
     "text": [
      "2.5.1+cu124\n",
      "cuda\n"
     ]
    }
   ],
   "execution_count": 60
  },
  {
   "cell_type": "markdown",
   "source": [
    "## 1. What are 3 areas in industry where computer vision is currently being used?"
   ],
   "metadata": {
    "id": "FSFX7tc1w-en"
   }
  },
  {
   "cell_type": "code",
   "source": [
    "# health\n",
    "# robotics\n",
    "# vehicles"
   ],
   "metadata": {
    "id": "VyWRkvWGbCXj",
    "ExecuteTime": {
     "end_time": "2025-07-04T09:12:46.287535Z",
     "start_time": "2025-07-04T09:12:46.285766Z"
    }
   },
   "outputs": [],
   "execution_count": 61
  },
  {
   "cell_type": "markdown",
   "source": [
    "## 2. Search \"what is overfitting in machine learning\" and write down a sentence about what you find. "
   ],
   "metadata": {
    "id": "oBK-WI6YxDYa"
   }
  },
  {
   "cell_type": "code",
   "source": "# overfitting is a situation that a machine learning model fits too well to the training data and performs bad (low accuracy) on the test data",
   "metadata": {
    "id": "d1rxD6GObCqh",
    "ExecuteTime": {
     "end_time": "2025-07-04T09:12:46.360229Z",
     "start_time": "2025-07-04T09:12:46.358086Z"
    }
   },
   "outputs": [],
   "execution_count": 62
  },
  {
   "cell_type": "markdown",
   "source": [
    "## 3. Search \"ways to prevent overfitting in machine learning\", write down 3 of the things you find and a sentence about each. \n",
    "> **Note:** there are lots of these, so don't worry too much about all of them, just pick 3 and start with those."
   ],
   "metadata": {
    "id": "XeYFEqw8xK26"
   }
  },
  {
   "cell_type": "code",
   "source": [
    "# feature selection\n",
    "# use more/less complex models\n",
    "# feature engineering\n",
    "# oversampling\n",
    "# dimensionality resuction\n",
    "# cross val\n",
    "# early stopping"
   ],
   "metadata": {
    "id": "ocvOdWKcbEKr",
    "ExecuteTime": {
     "end_time": "2025-07-04T09:12:46.434149Z",
     "start_time": "2025-07-04T09:12:46.432445Z"
    }
   },
   "outputs": [],
   "execution_count": 63
  },
  {
   "cell_type": "markdown",
   "source": [
    "## 4. Spend 20-minutes reading and clicking through the [CNN Explainer website](https://poloclub.github.io/cnn-explainer/).\n",
    "\n",
    "* Upload your own example image using the \"upload\" button on the website and see what happens in each layer of a CNN as your image passes through it."
   ],
   "metadata": {
    "id": "DKdEEFEqxM-8"
   }
  },
  {
   "cell_type": "code",
   "source": "# done",
   "metadata": {
    "id": "TqZaJIRMbFtS",
    "ExecuteTime": {
     "end_time": "2025-07-04T09:12:46.509570Z",
     "start_time": "2025-07-04T09:12:46.507306Z"
    }
   },
   "outputs": [],
   "execution_count": 64
  },
  {
   "cell_type": "markdown",
   "source": [
    "## 5. Load the [`torchvision.datasets.MNIST()`](https://pytorch.org/vision/stable/generated/torchvision.datasets.MNIST.html#torchvision.datasets.MNIST) train and test datasets."
   ],
   "metadata": {
    "id": "lvf-3pODxXYI"
   }
  },
  {
   "cell_type": "code",
   "source": [
    "import torchvision\n",
    "from torchvision import transforms\n",
    "\n",
    "train = torchvision.datasets.MNIST(\n",
    "    root=\"../CV_Practice/train\", # where to download data to?\n",
    "    train=True, # do we want the training dataset?\n",
    "    download=True, # do we want to download yes/no?\n",
    "    transform=transforms.ToTensor(), # how do we want to transform the data?\n",
    "    target_transform=None # how do we want to transform the target\n",
    ")\n",
    "\n",
    "test = torchvision.datasets.MNIST(\n",
    "    root=\"../CV_Practice/test\", # where to download data to?\n",
    "    train=False, # do we want the training dataset?\n",
    "    download=True, # do we want to download yes/no?\n",
    "    transform=transforms.ToTensor(), # how do we want to transform the data?\n",
    "    target_transform=None # how do we want to transform the target\n",
    ")"
   ],
   "metadata": {
    "id": "SHjeuN81bHza",
    "ExecuteTime": {
     "end_time": "2025-07-04T09:12:46.662870Z",
     "start_time": "2025-07-04T09:12:46.578811Z"
    }
   },
   "outputs": [],
   "execution_count": 65
  },
  {
   "metadata": {
    "ExecuteTime": {
     "end_time": "2025-07-04T09:12:46.699845Z",
     "start_time": "2025-07-04T09:12:46.697092Z"
    }
   },
   "cell_type": "code",
   "source": "len(train)",
   "outputs": [
    {
     "data": {
      "text/plain": [
       "60000"
      ]
     },
     "execution_count": 66,
     "metadata": {},
     "output_type": "execute_result"
    }
   ],
   "execution_count": 66
  },
  {
   "metadata": {
    "ExecuteTime": {
     "end_time": "2025-07-04T09:12:46.781677Z",
     "start_time": "2025-07-04T09:12:46.778742Z"
    }
   },
   "cell_type": "code",
   "source": "len(test)",
   "outputs": [
    {
     "data": {
      "text/plain": [
       "10000"
      ]
     },
     "execution_count": 67,
     "metadata": {},
     "output_type": "execute_result"
    }
   ],
   "execution_count": 67
  },
  {
   "cell_type": "markdown",
   "source": [
    "## 6. Visualize at least 5 different samples of the MNIST training dataset."
   ],
   "metadata": {
    "id": "qxZW-uAbxe_F"
   }
  },
  {
   "metadata": {
    "ExecuteTime": {
     "end_time": "2025-07-04T09:12:46.863045Z",
     "start_time": "2025-07-04T09:12:46.861077Z"
    }
   },
   "cell_type": "code",
   "source": [
    "class_names = train.classes\n",
    "train_idx = train.class_to_idx"
   ],
   "outputs": [],
   "execution_count": 68
  },
  {
   "cell_type": "code",
   "source": [
    "import matplotlib.pyplot as plt\n",
    "\n",
    "torch.manual_seed(42)\n",
    "\n",
    "fig = plt.figure(figsize=(6, 6))\n",
    "rows, cols = 5, 1\n",
    "\n",
    "for i in range(1, rows*cols+1):\n",
    "    random_idx = torch.randint(0, len(train), size=[1]).item()\n",
    "    # print(random_idx)\n",
    "    img, label = train[random_idx]\n",
    "    fig.add_subplot(cols, rows, i)\n",
    "    plt.imshow(img.squeeze(), cmap=\"gray\")\n",
    "    plt.title(class_names[label])\n",
    "    plt.axis(False)"
   ],
   "metadata": {
    "id": "QVFsYi1PbItE",
    "ExecuteTime": {
     "end_time": "2025-07-04T09:12:47.087989Z",
     "start_time": "2025-07-04T09:12:46.936208Z"
    }
   },
   "outputs": [
    {
     "data": {
      "text/plain": [
       "<Figure size 600x600 with 5 Axes>"
      ],
      "image/png": "[encoded data removed]"
     },
     "metadata": {},
     "output_type": "display_data"
    }
   ],
   "execution_count": 69
  },
  {
   "cell_type": "markdown",
   "source": [
    "## 7. Turn the MNIST train and test datasets into dataloaders using `torch.utils.data.DataLoader`, set the `batch_size=32`."
   ],
   "metadata": {
    "id": "JAPDzW0wxhi3"
   }
  },
  {
   "metadata": {
    "ExecuteTime": {
     "end_time": "2025-07-04T09:12:47.127577Z",
     "start_time": "2025-07-04T09:12:47.124625Z"
    }
   },
   "cell_type": "code",
   "source": "train, test",
   "outputs": [
    {
     "data": {
      "text/plain": [
       "(Dataset MNIST\n",
       "     Number of datapoints: 60000\n",
       "     Root location: ../CV_Practice/train\n",
       "     Split: Train\n",
       "     StandardTransform\n",
       " Transform: ToTensor(),\n",
       " Dataset MNIST\n",
       "     Number of datapoints: 10000\n",
       "     Root location: ../CV_Practice/test\n",
       "     Split: Test\n",
       "     StandardTransform\n",
       " Transform: ToTensor())"
      ]
     },
     "execution_count": 70,
     "metadata": {},
     "output_type": "execute_result"
    }
   ],
   "execution_count": 70
  },
  {
   "cell_type": "code",
   "source": [
    "BATCH_SIZE = 32\n",
    "\n",
    "from torch.utils.data import DataLoader\n",
    "\n",
    "train_loader = DataLoader(dataset=train, batch_size=BATCH_SIZE, shuffle=True)\n",
    "\n",
    "test_loader = DataLoader(dataset=test, batch_size=BATCH_SIZE, shuffle=False)"
   ],
   "metadata": {
    "id": "ALA6MPcFbJXQ",
    "ExecuteTime": {
     "end_time": "2025-07-04T09:15:31.826576Z",
     "start_time": "2025-07-04T09:15:31.824076Z"
    }
   },
   "outputs": [],
   "execution_count": 94
  },
  {
   "cell_type": "markdown",
   "source": [
    "## 8. Recreate `model_2` used in notebook 03 (the same model from the [CNN Explainer website](https://poloclub.github.io/cnn-explainer/), also known as TinyVGG) capable of fitting on the MNIST dataset."
   ],
   "metadata": {
    "id": "bCCVfXk5xjYS"
   }
  },
  {
   "cell_type": "code",
   "source": [
    "from torch import nn\n",
    "\n",
    "class MNISTModel(nn.Module):\n",
    "    \"\"\"\n",
    "    Model architecture copying TinyVGG from:\n",
    "    https://poloclub.github.io/cnn-explainer/\n",
    "    \"\"\"\n",
    "    def __init__(self, input_shape: int, hidden_units: int, output_shape: int):\n",
    "        super().__init__()\n",
    "        self.block_1 = nn.Sequential(\n",
    "            nn.Conv2d(in_channels=input_shape,\n",
    "                      out_channels=hidden_units,\n",
    "                      kernel_size=3, # how big is the square that's going over the image?\n",
    "                      stride=1, # default\n",
    "                      padding=1),# options = \"valid\" (no padding) or \"same\" (output has same shape as input) or int for specific number\n",
    "            nn.ReLU(),\n",
    "            nn.Conv2d(in_channels=hidden_units,\n",
    "                      out_channels=hidden_units,\n",
    "                      kernel_size=3,\n",
    "                      stride=1,\n",
    "                      padding=1),\n",
    "            nn.ReLU(),\n",
    "            nn.MaxPool2d(kernel_size=2) # default stride value is same as kernel_size\n",
    "        )\n",
    "        self.block_2 = nn.Sequential(\n",
    "            nn.Conv2d(hidden_units, hidden_units, 3, padding=1),\n",
    "            nn.ReLU(),\n",
    "            nn.Conv2d(hidden_units, hidden_units, 3, padding=1),\n",
    "            nn.ReLU(),\n",
    "            nn.MaxPool2d(kernel_size=2)\n",
    "        )\n",
    "        self.classifier = nn.Sequential(\n",
    "            nn.Flatten(),\n",
    "            # Where did this in_features shape come from?\n",
    "            # It's because each layer of our network compresses and changes the shape of our input data.\n",
    "            nn.Linear(in_features=hidden_units*7*7,\n",
    "                      out_features=output_shape)\n",
    "        )\n",
    "\n",
    "    def forward(self, x: torch.Tensor):\n",
    "        x = self.block_1(x)\n",
    "        # print(x.shape)\n",
    "        x = self.block_2(x)\n",
    "        # print(x.shape)\n",
    "        x = self.classifier(x)\n",
    "        # print(x.shape)\n",
    "        return x\n",
    "\n",
    "torch.manual_seed(42)\n",
    "model = MNISTModel(input_shape=1,\n",
    "    hidden_units=10,\n",
    "    output_shape=len(class_names)).to(device)\n",
    "model"
   ],
   "metadata": {
    "id": "5IKNF22XbKYS",
    "ExecuteTime": {
     "end_time": "2025-07-04T09:15:31.884060Z",
     "start_time": "2025-07-04T09:15:31.869498Z"
    }
   },
   "outputs": [
    {
     "data": {
      "text/plain": [
       "MNISTModel(\n",
       "  (block_1): Sequential(\n",
       "    (0): Conv2d(1, 10, kernel_size=(3, 3), stride=(1, 1), padding=(1, 1))\n",
       "    (1): ReLU()\n",
       "    (2): Conv2d(10, 10, kernel_size=(3, 3), stride=(1, 1), padding=(1, 1))\n",
       "    (3): ReLU()\n",
       "    (4): MaxPool2d(kernel_size=2, stride=2, padding=0, dilation=1, ceil_mode=False)\n",
       "  )\n",
       "  (block_2): Sequential(\n",
       "    (0): Conv2d(10, 10, kernel_size=(3, 3), stride=(1, 1), padding=(1, 1))\n",
       "    (1): ReLU()\n",
       "    (2): Conv2d(10, 10, kernel_size=(3, 3), stride=(1, 1), padding=(1, 1))\n",
       "    (3): ReLU()\n",
       "    (4): MaxPool2d(kernel_size=2, stride=2, padding=0, dilation=1, ceil_mode=False)\n",
       "  )\n",
       "  (classifier): Sequential(\n",
       "    (0): Flatten(start_dim=1, end_dim=-1)\n",
       "    (1): Linear(in_features=490, out_features=10, bias=True)\n",
       "  )\n",
       ")"
      ]
     },
     "execution_count": 95,
     "metadata": {},
     "output_type": "execute_result"
    }
   ],
   "execution_count": 95
  },
  {
   "cell_type": "markdown",
   "source": [
    "## 9. Train the model you built in exercise 8. for 5 epochs on CPU and GPU and see how long it takes on each."
   ],
   "metadata": {
    "id": "sf_3zUr7xlhy"
   }
  },
  {
   "cell_type": "code",
   "source": [
    "from PyTorchLearnings_UDEMY.Python.helper_functions import accuracy_fn\n",
    "\n",
    "optimizer = torch.optim.SGD(model.parameters(), lr=0.1)\n",
    "loss_fn = nn.CrossEntropyLoss()"
   ],
   "metadata": {
    "id": "jSo6vVWFbNLD",
    "ExecuteTime": {
     "end_time": "2025-07-04T09:15:31.953396Z",
     "start_time": "2025-07-04T09:15:31.950722Z"
    }
   },
   "outputs": [],
   "execution_count": 96
  },
  {
   "metadata": {
    "ExecuteTime": {
     "end_time": "2025-07-04T09:15:32.024038Z",
     "start_time": "2025-07-04T09:15:32.021764Z"
    }
   },
   "cell_type": "code",
   "source": [
    "from timeit import default_timer as timer\n",
    "\n",
    "def print_train_time(start:float, end:float, device:torch.device=None):\n",
    "    \"\"\"Prints difference between start and end time.\"\"\"\n",
    "    total_time = end - start\n",
    "    print(f\"\\nTrain time on {device}: {total_time:.3f} seconds\")\n",
    "    return total_time"
   ],
   "outputs": [],
   "execution_count": 97
  },
  {
   "metadata": {
    "ExecuteTime": {
     "end_time": "2025-07-04T09:15:32.106071Z",
     "start_time": "2025-07-04T09:15:32.099939Z"
    }
   },
   "cell_type": "code",
   "source": [
    "def train_step(model: torch.nn.Module,\n",
    "               data_loader: torch.utils.data.DataLoader,\n",
    "               loss_fn: torch.nn.Module,\n",
    "               optimizer: torch.optim.Optimizer,\n",
    "               accuracy_fn,\n",
    "               device: torch.device = device):\n",
    "    train_loss, train_acc = 0, 0\n",
    "    model.to(device)\n",
    "    for batch, (X, y) in enumerate(data_loader):\n",
    "        # Send data to GPU\n",
    "        X, y = X.to(device), y.to(device)\n",
    "\n",
    "        # 1. Forward pass\n",
    "        y_pred = model(X)\n",
    "\n",
    "        # 2. Calculate loss\n",
    "        loss = loss_fn(y_pred, y)\n",
    "        train_loss += loss\n",
    "        train_acc += accuracy_fn(y_true=y,\n",
    "                                 y_pred=y_pred.argmax(dim=1)) # Go from logits -> pred labels\n",
    "\n",
    "        # 3. Optimizer zero grad\n",
    "        optimizer.zero_grad()\n",
    "\n",
    "        # 4. Loss backward\n",
    "        loss.backward()\n",
    "\n",
    "        # 5. Optimizer step\n",
    "        optimizer.step()\n",
    "\n",
    "    # Calculate loss and accuracy per epoch and print out what's happening\n",
    "    train_loss /= len(data_loader)\n",
    "    train_acc /= len(data_loader)\n",
    "    print(f\"Train loss: {train_loss:.5f} | Train accuracy: {train_acc:.2f}%\")\n",
    "\n",
    "def test_step(data_loader: torch.utils.data.DataLoader,\n",
    "              model: torch.nn.Module,\n",
    "              loss_fn: torch.nn.Module,\n",
    "              accuracy_fn,\n",
    "              device: torch.device = device):\n",
    "    test_loss, test_acc = 0, 0\n",
    "    model.to(device)\n",
    "    model.eval() # put model in eval mode\n",
    "    # Turn on inference context manager\n",
    "    with torch.inference_mode():\n",
    "        for X, y in data_loader:\n",
    "            # Send data to GPU\n",
    "            X, y = X.to(device), y.to(device)\n",
    "\n",
    "            # 1. Forward pass\n",
    "            test_pred = model(X)\n",
    "\n",
    "            # 2. Calculate loss and accuracy\n",
    "            test_loss += loss_fn(test_pred, y)\n",
    "            test_acc += accuracy_fn(y_true=y,\n",
    "                y_pred=test_pred.argmax(dim=1) # Go from logits -> pred labels\n",
    "            )\n",
    "\n",
    "        # Adjust metrics and print out\n",
    "        test_loss /= len(data_loader)\n",
    "        test_acc /= len(data_loader)\n",
    "        print(f\"Test loss: {test_loss:.5f} | Test accuracy: {test_acc:.2f}%\\n\")"
   ],
   "outputs": [],
   "execution_count": 98
  },
  {
   "metadata": {},
   "cell_type": "markdown",
   "source": "### on cpu"
  },
  {
   "metadata": {
    "ExecuteTime": {
     "end_time": "2025-07-04T09:16:08.391686Z",
     "start_time": "2025-07-04T09:15:32.186920Z"
    }
   },
   "cell_type": "code",
   "source": [
    "torch.manual_seed(42)\n",
    "\n",
    "# meassure the time\n",
    "from tqdm.auto import tqdm\n",
    "from timeit import default_timer as timer\n",
    "train_time_start_on_cpu = timer()\n",
    "\n",
    "# set epochs\n",
    "epochs = 5\n",
    "\n",
    "# create an optimizaton and eval loop using train_step() and test_step()\n",
    "for epoch in tqdm(range(epochs)):\n",
    "    print(f\"Epoch {epoch}\\n---------\")\n",
    "    train_step(model=model,\n",
    "               data_loader=train_loader,\n",
    "               loss_fn=loss_fn,\n",
    "               optimizer=optimizer,\n",
    "               accuracy_fn=accuracy_fn,\n",
    "               device=device)\n",
    "\n",
    "    print(f\"Epoch {epoch}\\n---------\")\n",
    "    test_step(model = model,\n",
    "              data_loader=test_loader,\n",
    "              loss_fn=loss_fn,\n",
    "              accuracy_fn=accuracy_fn,\n",
    "              device=device)\n",
    "\n",
    "train_time_end_on_cpu = timer()\n",
    "\n",
    "total_train_time_model_on_cpu = print_train_time(start=train_time_start_on_cpu, end=train_time_end_on_cpu, device=\"cpu\")"
   ],
   "outputs": [
    {
     "name": "stderr",
     "output_type": "stream",
     "text": [
      "  0%|          | 0/5 [00:00<?, ?it/s]"
     ]
    },
    {
     "name": "stdout",
     "output_type": "stream",
     "text": [
      "Epoch 0\n",
      "---------\n",
      "Train loss: 0.32868 | Train accuracy: 89.20%\n",
      "Epoch 0\n",
      "---------\n"
     ]
    },
    {
     "name": "stderr",
     "output_type": "stream",
     "text": [
      " 20%|██        | 1/5 [00:07<00:29,  7.42s/it]"
     ]
    },
    {
     "name": "stdout",
     "output_type": "stream",
     "text": [
      "Test loss: 0.07907 | Test accuracy: 97.52%\n",
      "\n",
      "Epoch 1\n",
      "---------\n",
      "Train loss: 0.08573 | Train accuracy: 97.30%\n",
      "Epoch 1\n",
      "---------\n"
     ]
    },
    {
     "name": "stderr",
     "output_type": "stream",
     "text": [
      " 40%|████      | 2/5 [00:14<00:21,  7.27s/it]"
     ]
    },
    {
     "name": "stdout",
     "output_type": "stream",
     "text": [
      "Test loss: 0.06934 | Test accuracy: 97.83%\n",
      "\n",
      "Epoch 2\n",
      "---------\n",
      "Train loss: 0.06756 | Train accuracy: 97.87%\n",
      "Epoch 2\n",
      "---------\n"
     ]
    },
    {
     "name": "stderr",
     "output_type": "stream",
     "text": [
      " 60%|██████    | 3/5 [00:21<00:14,  7.23s/it]"
     ]
    },
    {
     "name": "stdout",
     "output_type": "stream",
     "text": [
      "Test loss: 0.05517 | Test accuracy: 98.17%\n",
      "\n",
      "Epoch 3\n",
      "---------\n",
      "Train loss: 0.05914 | Train accuracy: 98.18%\n",
      "Epoch 3\n",
      "---------\n"
     ]
    },
    {
     "name": "stderr",
     "output_type": "stream",
     "text": [
      " 80%|████████  | 4/5 [00:29<00:07,  7.31s/it]"
     ]
    },
    {
     "name": "stdout",
     "output_type": "stream",
     "text": [
      "Test loss: 0.05508 | Test accuracy: 98.31%\n",
      "\n",
      "Epoch 4\n",
      "---------\n",
      "Train loss: 0.05214 | Train accuracy: 98.37%\n",
      "Epoch 4\n",
      "---------\n"
     ]
    },
    {
     "name": "stderr",
     "output_type": "stream",
     "text": [
      "100%|██████████| 5/5 [00:36<00:00,  7.24s/it]"
     ]
    },
    {
     "name": "stdout",
     "output_type": "stream",
     "text": [
      "Test loss: 0.04699 | Test accuracy: 98.30%\n",
      "\n",
      "\n",
      "Train time on cpu: 36.201 seconds\n"
     ]
    },
    {
     "name": "stderr",
     "output_type": "stream",
     "text": [
      "\n"
     ]
    }
   ],
   "execution_count": 99
  },
  {
   "metadata": {},
   "cell_type": "markdown",
   "source": "### on gpu"
  },
  {
   "metadata": {
    "ExecuteTime": {
     "end_time": "2025-07-04T09:16:44.950671Z",
     "start_time": "2025-07-04T09:16:08.425374Z"
    }
   },
   "cell_type": "code",
   "source": [
    "train_time_start_on_gpu = timer()\n",
    "\n",
    "# set epochs\n",
    "epochs = 5\n",
    "\n",
    "# create an optimizaton and eval loop using train_step() and test_step()\n",
    "for epoch in tqdm(range(epochs)):\n",
    "    print(f\"Epoch {epoch}\\n---------\")\n",
    "    train_step(model=model,\n",
    "               data_loader=train_loader,\n",
    "               loss_fn=loss_fn,\n",
    "               optimizer=optimizer,\n",
    "               accuracy_fn=accuracy_fn,\n",
    "               device=device)\n",
    "\n",
    "    print(f\"Epoch {epoch}\\n---------\")\n",
    "    test_step(model = model,\n",
    "              data_loader=test_loader,\n",
    "              loss_fn=loss_fn,\n",
    "              accuracy_fn=accuracy_fn,\n",
    "              device=device)\n",
    "\n",
    "train_time_end_on_gpu = timer()\n",
    "\n",
    "total_train_time_model_on_gpu = print_train_time(start=train_time_start_on_gpu, end=train_time_end_on_gpu, device=device)"
   ],
   "outputs": [
    {
     "name": "stderr",
     "output_type": "stream",
     "text": [
      "  0%|          | 0/5 [00:00<?, ?it/s]"
     ]
    },
    {
     "name": "stdout",
     "output_type": "stream",
     "text": [
      "Epoch 0\n",
      "---------\n",
      "Train loss: 0.04709 | Train accuracy: 98.56%\n",
      "Epoch 0\n",
      "---------\n"
     ]
    },
    {
     "name": "stderr",
     "output_type": "stream",
     "text": [
      " 20%|██        | 1/5 [00:07<00:28,  7.19s/it]"
     ]
    },
    {
     "name": "stdout",
     "output_type": "stream",
     "text": [
      "Test loss: 0.04427 | Test accuracy: 98.58%\n",
      "\n",
      "Epoch 1\n",
      "---------\n",
      "Train loss: 0.04179 | Train accuracy: 98.67%\n",
      "Epoch 1\n",
      "---------\n"
     ]
    },
    {
     "name": "stderr",
     "output_type": "stream",
     "text": [
      " 40%|████      | 2/5 [00:14<00:21,  7.27s/it]"
     ]
    },
    {
     "name": "stdout",
     "output_type": "stream",
     "text": [
      "Test loss: 0.04369 | Test accuracy: 98.53%\n",
      "\n",
      "Epoch 2\n",
      "---------\n",
      "Train loss: 0.03934 | Train accuracy: 98.74%\n",
      "Epoch 2\n",
      "---------\n"
     ]
    },
    {
     "name": "stderr",
     "output_type": "stream",
     "text": [
      " 60%|██████    | 3/5 [00:21<00:14,  7.25s/it]"
     ]
    },
    {
     "name": "stdout",
     "output_type": "stream",
     "text": [
      "Test loss: 0.04005 | Test accuracy: 98.72%\n",
      "\n",
      "Epoch 3\n",
      "---------\n",
      "Train loss: 0.03570 | Train accuracy: 98.91%\n",
      "Epoch 3\n",
      "---------\n"
     ]
    },
    {
     "name": "stderr",
     "output_type": "stream",
     "text": [
      " 80%|████████  | 4/5 [00:29<00:07,  7.28s/it]"
     ]
    },
    {
     "name": "stdout",
     "output_type": "stream",
     "text": [
      "Test loss: 0.04474 | Test accuracy: 98.56%\n",
      "\n",
      "Epoch 4\n",
      "---------\n",
      "Train loss: 0.03377 | Train accuracy: 98.94%\n",
      "Epoch 4\n",
      "---------\n"
     ]
    },
    {
     "name": "stderr",
     "output_type": "stream",
     "text": [
      "100%|██████████| 5/5 [00:36<00:00,  7.30s/it]"
     ]
    },
    {
     "name": "stdout",
     "output_type": "stream",
     "text": [
      "Test loss: 0.03463 | Test accuracy: 98.90%\n",
      "\n",
      "\n",
      "Train time on cuda: 36.523 seconds\n"
     ]
    },
    {
     "name": "stderr",
     "output_type": "stream",
     "text": [
      "\n"
     ]
    }
   ],
   "execution_count": 100
  },
  {
   "cell_type": "markdown",
   "source": [
    "## 10. Make predictions using your trained model and visualize at least 5 of them comparing the prediciton to the target label."
   ],
   "metadata": {
    "id": "w1CsHhPpxp1w"
   }
  },
  {
   "cell_type": "code",
   "source": [
    "def eval_model(model: torch.nn.Module,\n",
    "               data_loader: torch.utils.data.DataLoader,\n",
    "               loss_fn: torch.nn.Module,\n",
    "               accuracy_fn):\n",
    "    \"\"\"\n",
    "    Returns a dictionary containing the results of model predicting on data_loader\n",
    "    \"\"\"\n",
    "    loss, acc = 0, 0\n",
    "    model.eval()\n",
    "    with torch.inference_mode():\n",
    "        for X, y in tqdm(data_loader):\n",
    "            # make predictions\n",
    "            X, y = X.to(device), y.to(device)\n",
    "            y_pred = model(X)\n",
    "\n",
    "            # Accumulate the loss and acc values per batch\n",
    "            loss += loss_fn(y_pred, y)\n",
    "            acc += accuracy_fn(y_true=y, y_pred=y_pred.argmax(dim=1))\n",
    "\n",
    "        # scale loss and acc to find the avg loss/acc per batch\n",
    "        loss /= len(data_loader)\n",
    "        acc /= len(data_loader)\n",
    "    return {\"model name \": model.__class__.__name__, # Only works when model was created with a class\n",
    "            \"model loss \": loss.item(),\n",
    "            \"model acc \": acc\n",
    "            }"
   ],
   "metadata": {
    "id": "_YGgZvSobNxu",
    "ExecuteTime": {
     "end_time": "2025-07-04T09:16:44.990592Z",
     "start_time": "2025-07-04T09:16:44.987019Z"
    }
   },
   "outputs": [],
   "execution_count": 101
  },
  {
   "metadata": {
    "ExecuteTime": {
     "end_time": "2025-07-04T09:16:45.871208Z",
     "start_time": "2025-07-04T09:16:45.066754Z"
    }
   },
   "cell_type": "code",
   "source": [
    "model_results = eval_model(\n",
    "    model=model,\n",
    "    data_loader=test_loader,\n",
    "    loss_fn=loss_fn,\n",
    "    accuracy_fn=accuracy_fn\n",
    "    # device=device\n",
    ")"
   ],
   "outputs": [
    {
     "name": "stderr",
     "output_type": "stream",
     "text": [
      "100%|██████████| 313/313 [00:00<00:00, 390.93it/s]\n"
     ]
    }
   ],
   "execution_count": 102
  },
  {
   "metadata": {
    "ExecuteTime": {
     "end_time": "2025-07-04T09:16:45.907355Z",
     "start_time": "2025-07-04T09:16:45.904667Z"
    }
   },
   "cell_type": "code",
   "source": "model_results",
   "outputs": [
    {
     "data": {
      "text/plain": [
       "{'model name ': 'MNISTModel',\n",
       " 'model loss ': 0.03463390842080116,\n",
       " 'model acc ': 98.90175718849841}"
      ]
     },
     "execution_count": 103,
     "metadata": {},
     "output_type": "execute_result"
    }
   ],
   "execution_count": 103
  },
  {
   "metadata": {
    "ExecuteTime": {
     "end_time": "2025-07-04T09:16:46.634068Z",
     "start_time": "2025-07-04T09:16:45.982288Z"
    }
   },
   "cell_type": "code",
   "source": [
    "import random\n",
    "random.seed(42)\n",
    "test_samples=[]\n",
    "test_labels=[]\n",
    "for sample, label in random.sample(list(test), k=9):\n",
    "    test_samples.append(sample)\n",
    "    test_labels.append(label)\n",
    "\n",
    "# view the first sample shape\n",
    "print(f\"Test sample image shape: {test_samples[0].shape}\\nTest sample label: {test_labels[0]} ({class_names[test_labels[0]]})\")"
   ],
   "outputs": [
    {
     "name": "stdout",
     "output_type": "stream",
     "text": [
      "Test sample image shape: torch.Size([1, 28, 28])\n",
      "Test sample label: 2 (2 - two)\n"
     ]
    }
   ],
   "execution_count": 104
  },
  {
   "metadata": {
    "ExecuteTime": {
     "end_time": "2025-07-04T09:16:46.673799Z",
     "start_time": "2025-07-04T09:16:46.670672Z"
    }
   },
   "cell_type": "code",
   "source": "test_samples[0].shape",
   "outputs": [
    {
     "data": {
      "text/plain": [
       "torch.Size([1, 28, 28])"
      ]
     },
     "execution_count": 105,
     "metadata": {},
     "output_type": "execute_result"
    }
   ],
   "execution_count": 105
  },
  {
   "metadata": {
    "ExecuteTime": {
     "end_time": "2025-07-04T09:16:46.846430Z",
     "start_time": "2025-07-04T09:16:46.748017Z"
    }
   },
   "cell_type": "code",
   "source": [
    "plt.imshow(test_samples[0].squeeze(), cmap=\"gray\")\n",
    "plt.title(class_names[test_labels[0]])"
   ],
   "outputs": [
    {
     "data": {
      "text/plain": [
       "Text(0.5, 1.0, '2 - two')"
      ]
     },
     "execution_count": 106,
     "metadata": {},
     "output_type": "execute_result"
    },
    {
     "data": {
      "text/plain": [
       "<Figure size 640x480 with 1 Axes>"
      ],
      "image/png": "[encoded data removed]"
     },
     "metadata": {},
     "output_type": "display_data"
    }
   ],
   "execution_count": 106
  },
  {
   "metadata": {
    "ExecuteTime": {
     "end_time": "2025-07-04T09:16:46.884485Z",
     "start_time": "2025-07-04T09:16:46.881352Z"
    }
   },
   "cell_type": "code",
   "source": [
    "def make_predictions(model:torch.nn.Module,\n",
    "                   data:list,\n",
    "                   device:torch.device = device):\n",
    "    pred_probs = []\n",
    "    model.eval()\n",
    "    with torch.inference_mode():\n",
    "        for sample in data:\n",
    "            # prepare the sample (add a batch dimension and pass to target device)\n",
    "            sample = torch.unsqueeze(sample, dim=0).to(device)\n",
    "\n",
    "            # forward pass (model outputs raw logits)\n",
    "            pred_logit = model(sample)\n",
    "\n",
    "            # get pred probs (logits -> pred probs)\n",
    "            pred_prob = torch.softmax(pred_logit.squeeze(), dim=0)\n",
    "\n",
    "            # get pred prob off the GPU for further calc\n",
    "            pred_probs.append(pred_prob.cpu())\n",
    "    #stack the pred_probs to turn list into tensor\n",
    "    return torch.stack(pred_probs)"
   ],
   "outputs": [],
   "execution_count": 107
  },
  {
   "metadata": {
    "ExecuteTime": {
     "end_time": "2025-07-04T09:16:46.963218Z",
     "start_time": "2025-07-04T09:16:46.956334Z"
    }
   },
   "cell_type": "code",
   "source": [
    "# make predictions\n",
    "pred_probs = make_predictions(model=model,\n",
    "                              data=test_samples)\n",
    "\n",
    "# view first two pred prob\n",
    "pred_probs[:2]"
   ],
   "outputs": [
    {
     "data": {
      "text/plain": [
       "tensor([[7.2453e-13, 9.2737e-09, 1.0000e+00, 1.4094e-08, 4.1631e-16, 2.3512e-15,\n",
       "         5.1330e-15, 1.8710e-09, 6.0713e-08, 4.6415e-13],\n",
       "        [1.7039e-10, 9.9528e-01, 1.1623e-05, 2.6435e-07, 1.3304e-05, 1.8438e-04,\n",
       "         4.8157e-04, 1.7635e-04, 3.7612e-03, 9.5559e-05]])"
      ]
     },
     "execution_count": 108,
     "metadata": {},
     "output_type": "execute_result"
    }
   ],
   "execution_count": 108
  },
  {
   "metadata": {
    "ExecuteTime": {
     "end_time": "2025-07-04T09:16:47.063275Z",
     "start_time": "2025-07-04T09:16:47.060495Z"
    }
   },
   "cell_type": "code",
   "source": [
    "# convert prediction prob to labels\n",
    "pred_classes = pred_probs.argmax(dim=1)\n",
    "pred_classes"
   ],
   "outputs": [
    {
     "data": {
      "text/plain": [
       "tensor([2, 1, 2, 4, 6, 6, 4, 9, 1])"
      ]
     },
     "execution_count": 109,
     "metadata": {},
     "output_type": "execute_result"
    }
   ],
   "execution_count": 109
  },
  {
   "metadata": {
    "ExecuteTime": {
     "end_time": "2025-07-04T09:16:47.148929Z",
     "start_time": "2025-07-04T09:16:47.144987Z"
    }
   },
   "cell_type": "code",
   "source": "test_labels, pred_classes",
   "outputs": [
    {
     "data": {
      "text/plain": [
       "([2, 1, 2, 4, 6, 6, 4, 9, 1], tensor([2, 1, 2, 4, 6, 6, 4, 9, 1]))"
      ]
     },
     "execution_count": 110,
     "metadata": {},
     "output_type": "execute_result"
    }
   ],
   "execution_count": 110
  },
  {
   "metadata": {
    "ExecuteTime": {
     "end_time": "2025-07-04T09:16:47.763042Z",
     "start_time": "2025-07-04T09:16:47.239666Z"
    }
   },
   "cell_type": "code",
   "source": [
    "# plot pred\n",
    "plt.figure(figsize=(9,9))\n",
    "nrows = 3\n",
    "ncols = 3\n",
    "for i, sample in enumerate(test_samples):\n",
    "    # create subplot\n",
    "    plt.subplot(nrows, ncols, i + 1)\n",
    "\n",
    "    # plot the target image\n",
    "    plt.imshow(sample.squeeze(), cmap=\"gray\")\n",
    "\n",
    "    # find the pred (in text form)\n",
    "    pred_label = class_names[pred_classes[i]]\n",
    "\n",
    "    # get the truth label (in text form)\n",
    "    truth_label = class_names[test_labels[i]]\n",
    "\n",
    "    # create a title for the plot\n",
    "    title_text =f\"Prediction: {pred_label} | Truth : {truth_label}\"\n",
    "\n",
    "    # check for quality between pred and truth and change color of title text\n",
    "    if pred_label == truth_label:\n",
    "        plt.title(title_text, fontsize=10, c=\"g\") # green text if pred = truth\n",
    "    else:\n",
    "        plt.title(title_text, fontsize=10, c=\"r\")\n",
    "\n",
    "    plt.axis('off')"
   ],
   "outputs": [
    {
     "data": {
      "text/plain": [
       "<Figure size 900x900 with 9 Axes>"
      ],
      "image/png": "[encoded data removed]"
     },
     "metadata": {},
     "output_type": "display_data"
    }
   ],
   "execution_count": 111
  },
  {
   "cell_type": "markdown",
   "source": [
    "## 11. Plot a confusion matrix comparing your model's predictions to the truth labels."
   ],
   "metadata": {
    "id": "qQwzqlBWxrpG"
   }
  },
  {
   "cell_type": "code",
   "source": [
    "from torchmetrics import ConfusionMatrix\n",
    "import mlxtend\n",
    "from mlxtend.plotting import plot_confusion_matrix"
   ],
   "metadata": {
    "id": "vSrXiT_AbQ6e",
    "ExecuteTime": {
     "end_time": "2025-07-04T09:16:47.799569Z",
     "start_time": "2025-07-04T09:16:47.797544Z"
    }
   },
   "outputs": [],
   "execution_count": 112
  },
  {
   "metadata": {
    "ExecuteTime": {
     "end_time": "2025-07-04T09:20:31.371012Z",
     "start_time": "2025-07-04T09:20:30.563182Z"
    }
   },
   "cell_type": "code",
   "source": [
    "# y_preds=[]\n",
    "# model.eval()\n",
    "# with torch.inference_mode():\n",
    "#   for batch, (X, y) in tqdm(enumerate(test_loader)):\n",
    "#     # Make sure data on right device\n",
    "#     X, y = X.to(device), y.to(device)\n",
    "#     # Forward pass\n",
    "#     y_pred_logits = model(X)\n",
    "#     # Logits -> Pred probs -> Pred label\n",
    "#     y_pred_labels = torch.argmax(y_pred_logits, dim=1)\n",
    "#     # Append the labels to the preds list\n",
    "#     y_preds.append(y_pred_labels)\n",
    "#   y_preds=torch.cat(y_preds).cpu()\n",
    "# y_pred_tensor[:10]\n",
    "\n",
    "y_preds = []\n",
    "model.eval()\n",
    "with torch.inference_mode():\n",
    "  for X, y in tqdm(test_loader, desc=\"Making predictions...\"):\n",
    "    # Make sure data on right device\n",
    "    X, y = X.to(device), y.to(device)\n",
    "\n",
    "    # 1. Forward pass (logits)\n",
    "    y_pred_logits = model(X)\n",
    "\n",
    "    # 2. Logits -> Pred label (take the argmax of the logits)\n",
    "    y_pred_labels = torch.argmax(y_pred_logits, dim=1)\n",
    "\n",
    "    # Append the labels to the preds list\n",
    "    y_preds.append(y_pred_labels.cpu())\n",
    "\n",
    "y_pred_tensor = torch.cat(y_preds)\n",
    "\n",
    "# still need to understand this part"
   ],
   "outputs": [
    {
     "name": "stderr",
     "output_type": "stream",
     "text": [
      "Making predictions...: 100%|██████████| 313/313 [00:00<00:00, 390.94it/s]\n"
     ]
    }
   ],
   "execution_count": 121
  },
  {
   "metadata": {
    "ExecuteTime": {
     "end_time": "2025-07-04T09:20:31.410795Z",
     "start_time": "2025-07-04T09:20:31.406279Z"
    }
   },
   "cell_type": "code",
   "source": "test.targets[:10], y_preds[:10]",
   "outputs": [
    {
     "data": {
      "text/plain": [
       "(tensor([7, 2, 1, 0, 4, 1, 4, 9, 5, 9]),\n",
       " [tensor([7, 2, 1, 0, 4, 1, 4, 9, 5, 9, 0, 6, 9, 0, 1, 5, 9, 7, 3, 4, 9, 6, 6, 5,\n",
       "          4, 0, 7, 4, 0, 1, 3, 1]),\n",
       "  tensor([3, 4, 7, 2, 7, 1, 2, 1, 1, 7, 4, 2, 3, 5, 1, 2, 4, 4, 6, 3, 5, 5, 6, 0,\n",
       "          4, 1, 9, 5, 7, 8, 9, 3]),\n",
       "  tensor([7, 4, 6, 4, 3, 0, 7, 0, 2, 9, 1, 7, 3, 2, 9, 7, 7, 6, 2, 7, 8, 4, 7, 3,\n",
       "          6, 1, 3, 6, 9, 3, 1, 4]),\n",
       "  tensor([1, 7, 6, 9, 6, 0, 5, 4, 9, 9, 2, 1, 9, 4, 8, 7, 3, 9, 7, 4, 4, 4, 9, 2,\n",
       "          5, 4, 7, 6, 7, 9, 0, 5]),\n",
       "  tensor([8, 5, 6, 6, 5, 7, 8, 1, 0, 1, 6, 4, 6, 7, 3, 1, 7, 1, 8, 2, 0, 2, 9, 9,\n",
       "          5, 5, 1, 5, 6, 0, 3, 4]),\n",
       "  tensor([8, 6, 5, 4, 6, 5, 4, 5, 1, 4, 4, 7, 2, 3, 2, 7, 1, 8, 1, 8, 1, 8, 5, 0,\n",
       "          8, 9, 2, 5, 0, 1, 1, 1]),\n",
       "  tensor([0, 9, 0, 3, 1, 6, 4, 2, 3, 6, 1, 1, 1, 3, 9, 5, 2, 9, 4, 8, 9, 3, 9, 0,\n",
       "          3, 6, 5, 5, 7, 2, 2, 7]),\n",
       "  tensor([1, 2, 8, 4, 1, 7, 3, 3, 8, 8, 7, 9, 2, 2, 4, 1, 5, 9, 8, 7, 2, 3, 0, 2,\n",
       "          4, 2, 4, 1, 9, 5, 7, 7]),\n",
       "  tensor([2, 8, 2, 6, 8, 5, 7, 7, 9, 1, 8, 1, 8, 0, 3, 0, 1, 9, 9, 4, 1, 8, 2, 1,\n",
       "          2, 9, 7, 5, 9, 2, 6, 4]),\n",
       "  tensor([1, 5, 8, 2, 9, 2, 0, 4, 0, 0, 2, 8, 4, 7, 1, 2, 4, 0, 2, 7, 4, 3, 3, 0,\n",
       "          0, 3, 1, 9, 6, 5, 2, 5])])"
      ]
     },
     "execution_count": 122,
     "metadata": {},
     "output_type": "execute_result"
    }
   ],
   "execution_count": 122
  },
  {
   "metadata": {
    "ExecuteTime": {
     "end_time": "2025-07-04T09:20:31.693752Z",
     "start_time": "2025-07-04T09:20:31.484206Z"
    }
   },
   "cell_type": "code",
   "source": [
    "# 2. setup confussion instance and compare predictions to targets\n",
    "confmat = ConfusionMatrix(task=\"multiclass\", num_classes=len(class_names))\n",
    "confmat_tensor = confmat(preds=y_pred_tensor, target=test.targets)\n",
    "\n",
    "# 3. plot the confussion matrix\n",
    "fig, ax = plot_confusion_matrix(\n",
    "    conf_mat=confmat_tensor.numpy(),\n",
    "    class_names=class_names,\n",
    "    figsize=(10, 7)\n",
    ")"
   ],
   "outputs": [
    {
     "data": {
      "text/plain": [
       "<Figure size 1000x700 with 1 Axes>"
      ],
      "image/png": "[encoded data removed]"
     },
     "metadata": {},
     "output_type": "display_data"
    }
   ],
   "execution_count": 123
  },
  {
   "cell_type": "markdown",
   "source": [
    "## 12. Create a random tensor of shape `[1, 3, 64, 64]` and pass it through a `nn.Conv2d()` layer with various hyperparameter settings (these can be any settings you choose), what do you notice if the `kernel_size` parameter goes up and down?"
   ],
   "metadata": {
    "id": "lj6bDhoWxt2y"
   }
  },
  {
   "cell_type": "code",
   "source": [
    ""
   ],
   "metadata": {
    "id": "leCTsqtSbR5P",
    "ExecuteTime": {
     "end_time": "2025-07-04T09:20:31.735848Z",
     "start_time": "2025-07-04T09:20:31.734098Z"
    }
   },
   "outputs": [],
   "execution_count": null
  },
  {
   "cell_type": "markdown",
   "source": [
    "## 13. Use a model similar to the trained `model_2` from notebook 03 to make predictions on the test [`torchvision.datasets.FashionMNIST`](https://pytorch.org/vision/main/generated/torchvision.datasets.FashionMNIST.html) dataset. \n",
    "* Then plot some predictions where the model was wrong alongside what the label of the image should've been. \n",
    "* After visualing these predictions do you think it's more of a modelling error or a data error? \n",
    "* As in, could the model do better or are the labels of the data too close to each other (e.g. a \"Shirt\" label is too close to \"T-shirt/top\")?"
   ],
   "metadata": {
    "id": "VHS20cNTxwSi"
   }
  },
  {
   "cell_type": "code",
   "source": [
    ""
   ],
   "metadata": {
    "id": "78a8LjtdbSZj",
    "ExecuteTime": {
     "end_time": "2025-07-04T09:20:31.812256Z",
     "start_time": "2025-07-04T09:20:31.810388Z"
    }
   },
   "outputs": [],
   "execution_count": null
  }
 ]
}
